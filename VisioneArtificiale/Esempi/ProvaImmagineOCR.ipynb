{
 "cells": [
  {
   "cell_type": "code",
   "execution_count": 19,
   "id": "5f289003",
   "metadata": {
    "scrolled": false
   },
   "outputs": [],
   "source": [
    "from ipycanvas import Canvas\n",
    "from ipywidgets import Output\n",
    "import numpy as np\n",
    "from ipywidgets import interact\n",
    "import cv2 as cv\n",
    "import va\n",
    "import ipywidgets as widgets\n",
    "from IPython.display import display"
   ]
  },
  {
   "cell_type": "code",
   "execution_count": 20,
   "id": "b262faa7",
   "metadata": {},
   "outputs": [
    {
     "data": {
      "application/vnd.jupyter.widget-view+json": {
       "model_id": "eba3a6153927419bb4f159dcc3bac529",
       "version_major": 2,
       "version_minor": 0
      },
      "text/plain": [
       "interactive(children=(IntSlider(value=32, description='brush_size', max=32, min=2), IntSlider(value=256, descr…"
      ]
     },
     "metadata": {},
     "output_type": "display_data"
    }
   ],
   "source": [
    "w,h,bs = 0,0,0\n",
    "mtx = np.zeros((w,h),dtype=np.uint8)\n",
    "\n",
    "@interact(brush_size=(2,32),width=(100,1024),height=(100,1024))\n",
    "def set_param(brush_size=32,width=256,height=256):\n",
    "    global w,h,bs,mtx\n",
    "    bs = brush_size\n",
    "    w = width\n",
    "    h = height\n",
    "    mtx = np.zeros((w,h),dtype=np.uint8)"
   ]
  },
  {
   "cell_type": "code",
   "execution_count": 26,
   "id": "0d26b277",
   "metadata": {
    "scrolled": false
   },
   "outputs": [
    {
     "data": {
      "application/vnd.jupyter.widget-view+json": {
       "model_id": "133ecb88e1d84c0c9e70ceb7e739c95b",
       "version_major": 2,
       "version_minor": 0
      },
      "text/plain": [
       "Output()"
      ]
     },
     "metadata": {},
     "output_type": "display_data"
    },
    {
     "data": {
      "application/vnd.jupyter.widget-view+json": {
       "model_id": "22aadd6bd01a4e9cb93274a063e618f6",
       "version_major": 2,
       "version_minor": 0
      },
      "text/plain": [
       "Canvas(height=412, width=412)"
      ]
     },
     "metadata": {},
     "output_type": "display_data"
    }
   ],
   "source": [
    "canvas = Canvas(width=w, height=h)\n",
    "canvas.put_image_data(mtx, 0, 0)\n",
    "mtx = np.zeros((w,h),dtype=np.uint16)\n",
    "out = Output()\n",
    "reg = False\n",
    "\n",
    "@out.capture()\n",
    "def handle_mouse_move(x, y):\n",
    "    global reg\n",
    "    if reg :\n",
    "        y, x = int(y), int(x)\n",
    "        bs2 = bs//2\n",
    "        mtx[y-bs2:y+bs2+1,x-bs2:x+bs2+1] = 255\n",
    "        canvas.put_image_data(mtx, 0, 0)\n",
    "\n",
    "@out.capture()\n",
    "def handle_mouse_down(x, y):\n",
    "    global reg\n",
    "    reg = True\n",
    "\n",
    "@out.capture()\n",
    "def handle_mouse_up(x, y):\n",
    "    global reg\n",
    "    reg = False\n",
    "    \n",
    "def btn_run_nn(arg):\n",
    "    global mtx\n",
    "    net = cv.dnn.readNet('minst/model.onnx')\n",
    "    mtx_resized = cv.resize(mtx, (28, 28), interpolation=cv.INTER_LINEAR).astype(np.uint8)\n",
    "    v = cv.dnn.blobFromImage(mtx_resized)\n",
    "    net.setInput(v)\n",
    "    nn_out = net.forward()\n",
    "    classe = np.argmax(nn_out)\n",
    "    print(f\"classe predetta = {classe}\")\n",
    "    mtx = np.zeros((w,h),dtype=np.uint8)\n",
    "    canvas.put_image_data(mtx, 0, 0)\n",
    "\n",
    "canvas.on_mouse_move(handle_mouse_move)\n",
    "canvas.on_mouse_down(handle_mouse_down)\n",
    "canvas.on_mouse_up(handle_mouse_up)\n",
    "\n",
    "display(out)\n",
    "canvas"
   ]
  },
  {
   "cell_type": "code",
   "execution_count": 25,
   "id": "46aa9270",
   "metadata": {},
   "outputs": [
    {
     "data": {
      "application/vnd.jupyter.widget-view+json": {
       "model_id": "0a646f15727946cb9a5c302ab7e23efb",
       "version_major": 2,
       "version_minor": 0
      },
      "text/plain": [
       "Button(description='Run Neural Network', style=ButtonStyle())"
      ]
     },
     "metadata": {},
     "output_type": "display_data"
    }
   ],
   "source": [
    "button_run_nn = widgets.Button(description = 'Run Neural Network')   \n",
    "button_run_nn.on_click(btn_run_nn)\n",
    "display(button_run_nn)"
   ]
  }
 ],
 "metadata": {
  "kernelspec": {
   "display_name": "Python 3 (ipykernel)",
   "language": "python",
   "name": "python3"
  },
  "language_info": {
   "codemirror_mode": {
    "name": "ipython",
    "version": 3
   },
   "file_extension": ".py",
   "mimetype": "text/x-python",
   "name": "python",
   "nbconvert_exporter": "python",
   "pygments_lexer": "ipython3",
   "version": "3.10.4"
  }
 },
 "nbformat": 4,
 "nbformat_minor": 5
}
