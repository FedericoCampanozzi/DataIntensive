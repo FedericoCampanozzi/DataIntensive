{
 "cells": [
  {
   "cell_type": "code",
   "execution_count": 11,
   "id": "5f289003",
   "metadata": {
    "scrolled": false
   },
   "outputs": [
    {
     "data": {
      "application/vnd.jupyter.widget-view+json": {
       "model_id": "96dda7a17b5c46faab57a09fbd18995d",
       "version_major": 2,
       "version_minor": 0
      },
      "text/plain": [
       "interactive(children=(IntSlider(value=17, description='brush_size', max=32, min=2), IntSlider(value=562, descr…"
      ]
     },
     "metadata": {},
     "output_type": "display_data"
    },
    {
     "data": {
      "application/vnd.jupyter.widget-view+json": {
       "model_id": "9783aa6c6c3c474688fd9cea908d4255",
       "version_major": 2,
       "version_minor": 0
      },
      "text/plain": [
       "Output()"
      ]
     },
     "metadata": {},
     "output_type": "display_data"
    },
    {
     "data": {
      "application/vnd.jupyter.widget-view+json": {
       "model_id": "903954c0d7f9493ba486adc4c0a68384",
       "version_major": 2,
       "version_minor": 0
      },
      "text/plain": [
       "Canvas(height=400, width=400)"
      ]
     },
     "metadata": {},
     "output_type": "display_data"
    }
   ],
   "source": [
    "from ipycanvas import Canvas\n",
    "from ipywidgets import Output\n",
    "import numpy as np\n",
    "from ipywidgets import interact\n",
    "\n",
    "w,h = 400, 400\n",
    "bs = 24\n",
    "\n",
    "@interact(brush_size=(2,32), width=(100,1024), height=(100,1024)) # non funziona\n",
    "def set_param(brush_size,width,height):\n",
    "    bs = brush_size\n",
    "    w = width\n",
    "    h = height\n",
    "    \n",
    "canvas = Canvas(width=w, height=h)\n",
    "mtx = np.zeros((w,h),dtype=np.uint16)\n",
    "canvas.put_image_data(mtx, 0, 0)\n",
    "    \n",
    "out = Output()\n",
    "reg = False # reg deve essere globale\n",
    "\n",
    "@out.capture()\n",
    "def handle_mouse_move(x, y):\n",
    "    #if reg :\n",
    "        y, x = int(y), int(x)\n",
    "        bs2 = bs//2\n",
    "        mtx[y-bs2:y+bs2+1,x-bs2:x+bs2+1] = 255\n",
    "        canvas.put_image_data(mtx, 0, 0)\n",
    "\n",
    "@out.capture()\n",
    "def handle_mouse_down(x, y):\n",
    "    #print(reg) # da errore : reg non è definita\n",
    "    reg = True\n",
    "    #print(\"MD\")\n",
    "    #print(reg)\n",
    "\n",
    "@out.capture()\n",
    "def handle_mouse_up(x, y):\n",
    "    #print(reg)\n",
    "    reg = False\n",
    "    #print(\"MU\")\n",
    "    #print(reg)\n",
    "    \n",
    "canvas.on_mouse_move(handle_mouse_move)\n",
    "canvas.on_mouse_down(handle_mouse_down)\n",
    "canvas.on_mouse_up(handle_mouse_up)\n",
    "\n",
    "display(out)\n",
    "canvas"
   ]
  }
 ],
 "metadata": {
  "kernelspec": {
   "display_name": "Python 3 (ipykernel)",
   "language": "python",
   "name": "python3"
  },
  "language_info": {
   "codemirror_mode": {
    "name": "ipython",
    "version": 3
   },
   "file_extension": ".py",
   "mimetype": "text/x-python",
   "name": "python",
   "nbconvert_exporter": "python",
   "pygments_lexer": "ipython3",
   "version": "3.10.4"
  }
 },
 "nbformat": 4,
 "nbformat_minor": 5
}
