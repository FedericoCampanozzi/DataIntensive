{
 "cells": [
  {
   "cell_type": "code",
   "execution_count": 98,
   "id": "5f289003",
   "metadata": {
    "scrolled": false
   },
   "outputs": [],
   "source": [
    "from ipycanvas import Canvas\n",
    "from ipywidgets import Output\n",
    "import numpy as np\n",
    "from ipywidgets import interact\n",
    "import cv2 as cv\n",
    "import va"
   ]
  },
  {
   "cell_type": "code",
   "execution_count": 108,
   "id": "b262faa7",
   "metadata": {},
   "outputs": [
    {
     "data": {
      "application/vnd.jupyter.widget-view+json": {
       "model_id": "4dcfcd595a624eb696c9e40ab587f963",
       "version_major": 2,
       "version_minor": 0
      },
      "text/plain": [
       "interactive(children=(IntSlider(value=17, description='brush_size', max=32, min=2), IntSlider(value=562, descr…"
      ]
     },
     "metadata": {},
     "output_type": "display_data"
    }
   ],
   "source": [
    "w,h,bs = 562,562,12\n",
    "mtx = np.zeros((w,h),dtype=int)\n",
    "\n",
    "@interact(brush_size=(2,32),width=(100,1024),height=(100,1024),RunNeutalNet=False)\n",
    "def set_param(brush_size,width,height,RunNeutalNet):\n",
    "    global w,h,bs\n",
    "    bs = brush_size\n",
    "    w = width\n",
    "    h = height\n",
    "    if RunNeutalNet :        \n",
    "        net = cv.dnn.readNet('minst/model.onnx')\n",
    "        net.setInput(cv.dnn.blobFromImage(mtx)) # image.depth() != blob_.depth() DOMANDA\n",
    "        out = net.forward()\n",
    "        classe = np.argmax(out)\n",
    "        va.show(mtx)\n",
    "        print(f\"classe = {classe}\")"
   ]
  },
  {
   "cell_type": "code",
   "execution_count": 109,
   "id": "0d26b277",
   "metadata": {},
   "outputs": [
    {
     "data": {
      "application/vnd.jupyter.widget-view+json": {
       "model_id": "be4426bfa69d4cc7a272885b1ff44261",
       "version_major": 2,
       "version_minor": 0
      },
      "text/plain": [
       "Output()"
      ]
     },
     "metadata": {},
     "output_type": "display_data"
    },
    {
     "data": {
      "application/vnd.jupyter.widget-view+json": {
       "model_id": "ca3729c572fa492f85484f6f26526c8f",
       "version_major": 2,
       "version_minor": 0
      },
      "text/plain": [
       "Canvas(height=562, width=562)"
      ]
     },
     "metadata": {},
     "output_type": "display_data"
    }
   ],
   "source": [
    "canvas = Canvas(width=w, height=h)\n",
    "canvas.put_image_data(mtx, 0, 0)\n",
    "mtx = np.zeros((w,h),dtype=np.uint16)\n",
    "out = Output()\n",
    "reg = False\n",
    "\n",
    "@out.capture()\n",
    "def handle_mouse_move(x, y):\n",
    "    global reg\n",
    "    if reg :\n",
    "        y, x = int(y), int(x)\n",
    "        bs2 = bs//2\n",
    "        mtx[y-bs2:y+bs2+1,x-bs2:x+bs2+1] = 255\n",
    "        canvas.put_image_data(mtx, 0, 0)\n",
    "\n",
    "@out.capture()\n",
    "def handle_mouse_down(x, y):\n",
    "    global reg\n",
    "    reg = True\n",
    "\n",
    "@out.capture()\n",
    "def handle_mouse_up(x, y):\n",
    "    global reg\n",
    "    reg = False\n",
    "    \n",
    "canvas.on_mouse_move(handle_mouse_move)\n",
    "canvas.on_mouse_down(handle_mouse_down)\n",
    "canvas.on_mouse_up(handle_mouse_up)\n",
    "\n",
    "display(out)\n",
    "canvas"
   ]
  }
 ],
 "metadata": {
  "kernelspec": {
   "display_name": "Python 3 (ipykernel)",
   "language": "python",
   "name": "python3"
  },
  "language_info": {
   "codemirror_mode": {
    "name": "ipython",
    "version": 3
   },
   "file_extension": ".py",
   "mimetype": "text/x-python",
   "name": "python",
   "nbconvert_exporter": "python",
   "pygments_lexer": "ipython3",
   "version": "3.8.8"
  }
 },
 "nbformat": 4,
 "nbformat_minor": 5
}
