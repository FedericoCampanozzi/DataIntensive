{
 "cells": [
  {
   "cell_type": "markdown",
   "id": "58a61177",
   "metadata": {},
   "source": [
    "https://www.markdownguide.org/basic-syntax/\n",
    "\n",
    "*conda install -y -c conda-forge = comando base*\n",
    "\n",
    "*conda install -y -c conda-forge opencv notebook ipywidgets* = esempio"
   ]
  },
  {
   "cell_type": "markdown",
   "id": "f505bbf6",
   "metadata": {},
   "source": [
    "## Numpy\n"
   ]
  },
  {
   "cell_type": "markdown",
   "id": "a21bac4d",
   "metadata": {},
   "source": [
    "## Presentazione Dati con Pandas\n",
    "- è un processo fondamentale (circa 50% del tempo totale del progetto).\n",
    "- deep learning limiti di spiegabilità => è una \"black box\"\n",
    "- in modelli più semplici invece sono in grado di fornire il perchè => questa tipologia sono preferibile in quanto da più sicurezza e \"appaiono più robusti\"\n",
    "- modello semplice => Regressione Logistica perchè una progressione da 0 o 1 perchè si sceglie una classe oppure l'altra\n",
    "    - ex. è stata fondamentale per l'identificazione dei pazienti covid\n",
    "- machine learning = è inteso + machine learning\n",
    "\n",
    "Bisogna capire i dati :\n",
    "1. raccolta dei dati => i dati vanno analizzati e capiti\n",
    "2. comprensione => bisogna diventare un minimo esperti del dominio applicativo che si sta modellando\n",
    "3. trasformazione e pulizia => quali dati sono sicuri e affidabili e quali no\n",
    "4. trasformazione significa come strutturare i dati\n",
    "    1. ex. si possono convertire in un formato tabellare (matrice)\n",
    "    2. si possono sempre riarrangiare (si possono aggiungere anche dati intermedi)\n",
    "    3. transfer learning => (libreria yolo) = layer finale dopo l'output layer mappa le vecchie classi sulle nuove se ci sono similarità\n",
    "    4. questo trasform learning usa un dataset molto più piccolo del dataset sulla quale è stato addestrata le prima rete neurale\n",
    "5. dai dati estraggo il modello e le statistiche\n",
    "6. interpretazione della conoscenza (è il discorso dell'affidabilità)\n",
    "7. deployment (web-application, mobile-application)"
   ]
  },
  {
   "cell_type": "markdown",
   "id": "23547652",
   "metadata": {},
   "source": [
    "## Dati tabulari\n",
    "ex. DBMS SQL o NOSQL\n",
    "Nel campo dell'IA i **testi arbitrario** sono sono di solito ignorate nell’analisi.\n",
    "1. **nominal** contiene valori a scelta in un insieme finito \n",
    "2. **ordinale** è simile ma possiamo stabile una relazione d'ordine\n",
    "3. **intervallo** è come ordinal e in più possiamo quantificare la differenza tra valori \n",
    "4. **ratio** è come intervallo ma si definisce uno **zero assoluto** \n",
    "\n",
    "slide 7 riassunto attributi e proprietà numeriche.\n",
    "\n",
    "lettura CSV => forzatura dei tipi di dati"
   ]
  },
  {
   "cell_type": "markdown",
   "id": "b9b97cce",
   "metadata": {},
   "source": [
    "## Pandas\n",
    "dato strutturato = se c'è un ordine\n",
    "dato non strutturato = campo varchar tipo Descrizione, Riassunto ecc...\n",
    "\n",
    "serie \n",
    "indice\n",
    "\n",
    "le variabile calcolate aggiungono complessità ma portano numerosi benefici tra cui maggior accuratezza del risultato"
   ]
  },
  {
   "cell_type": "markdown",
   "id": "c1a57913",
   "metadata": {},
   "source": [
    "## Dati Mancanti\n",
    "sono da limitare e da fare un'analisi **MOLTO** accurata\n",
    "\n",
    "aumenting = aumento di dati, riduce il carico di lavoro \"umano\" nel caricamento dati\n",
    "\n",
    "- **tensorflow lite** = applicazioni mobile\n",
    "- **flak** = web app\n",
    "\n",
    "- ffill\n",
    "- bfill"
   ]
  },
  {
   "cell_type": "code",
   "execution_count": 31,
   "id": "746d0542",
   "metadata": {
    "scrolled": false
   },
   "outputs": [
    {
     "name": "stdout",
     "output_type": "stream",
     "text": [
      "0    Lun\n",
      "1    Mar\n",
      "2    Mer\n",
      "3    Gio\n",
      "4    Ven\n",
      "5    Sab\n",
      "6    Dom\n",
      "dtype: category\n",
      "Categories (7, object): ['Dom', 'Gio', 'Lun', 'Mar', 'Mer', 'Sab', 'Ven']\n",
      "{3.4: 'Lun', 5.4: 'Mer'}\n"
     ]
    }
   ],
   "source": [
    "# Esempio di una serie\n",
    "import pandas as pd\n",
    "import numpy as  np\n",
    "\n",
    "gg_set = pd.Series([\"Lun\", \"Mar\", \"Mer\", \"Gio\", \"Ven\", \"Sab\", \"Dom\"], dtype=\"category\")\n",
    "temp_x_gg = { 3.4: gg_set[0], 5.4: gg_set[2] }\n",
    "print(gg_set)\n",
    "print(temp_x_gg)"
   ]
  },
  {
   "cell_type": "markdown",
   "id": "71c5c211",
   "metadata": {},
   "source": [
    "## Binning\n",
    "\n",
    "- suddividere i dati in categorie\n",
    "- creare fascie\n",
    "\n",
    "algoritmi di Machine Learning fanno fondamentalmente statistica"
   ]
  },
  {
   "cell_type": "markdown",
   "id": "a2ea4ea0",
   "metadata": {},
   "source": [
    "## Regressione non polinomiale"
   ]
  }
 ],
 "metadata": {
  "kernelspec": {
   "display_name": "Python 3 (ipykernel)",
   "language": "python",
   "name": "python3"
  },
  "language_info": {
   "codemirror_mode": {
    "name": "ipython",
    "version": 3
   },
   "file_extension": ".py",
   "mimetype": "text/x-python",
   "name": "python",
   "nbconvert_exporter": "python",
   "pygments_lexer": "ipython3",
   "version": "3.8.8"
  }
 },
 "nbformat": 4,
 "nbformat_minor": 5
}
