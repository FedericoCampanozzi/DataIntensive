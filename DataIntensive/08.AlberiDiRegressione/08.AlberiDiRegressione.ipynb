{
 "cells": [
  {
   "cell_type": "markdown",
   "metadata": {
    "id": "GFGX77jIMSA1"
   },
   "source": [
    "# Laboratorio: Trattamento Variabili Categoriche e Alberi di Regressione\n",
    "\n",
    "**Programmazione di Applicazioni Data Intensive**  \n",
    "Laurea in Ingegneria e Scienze Informatiche  \n",
    "DISI - Università di Bologna, Cesena\n",
    "\n",
    "Proff. Gianluca Moro, Roberto Pasolini  \n",
    "`nome.cognome@unibo.it`"
   ]
  },
  {
   "cell_type": "markdown",
   "metadata": {
    "id": "aMjOrcfMMSA5"
   },
   "source": [
    "## Setup"
   ]
  },
  {
   "cell_type": "markdown",
   "metadata": {
    "id": "EqnvjpjAMSA8"
   },
   "source": [
    "- Importiamo le librerie di uso comune"
   ]
  },
  {
   "cell_type": "code",
   "execution_count": 1,
   "metadata": {
    "id": "Qjzm5g4FMSA9"
   },
   "outputs": [],
   "source": [
    "import numpy as np\n",
    "import pandas as pd\n",
    "import matplotlib.pyplot as plt\n",
    "%matplotlib inline\n",
    "import sklearn\n",
    "import warnings\n",
    "warnings.filterwarnings('once')"
   ]
  },
  {
   "cell_type": "markdown",
   "metadata": {
    "id": "pkVcH-6YMSA9"
   },
   "source": [
    "- Definiamo la seguente funzione di supporto per scaricare i file di dati necessari"
   ]
  },
  {
   "cell_type": "code",
   "execution_count": 2,
   "metadata": {
    "id": "vDOn2VmSMSA9"
   },
   "outputs": [],
   "source": [
    "import os\n",
    "from urllib.request import urlretrieve\n",
    "def download(file, url):\n",
    "    if not os.path.isfile(file):\n",
    "        urlretrieve(url, file)"
   ]
  },
  {
   "cell_type": "markdown",
   "metadata": {},
   "source": [
    "- Installeremo e testeremo altre librerie nella parte finale dell'esercitazione"
   ]
  },
  {
   "cell_type": "markdown",
   "metadata": {
    "id": "4dAQTDbxEgT2"
   },
   "source": [
    "## Caso di studio: Predizione vendite\n",
    "\n",
    "- I negozi sono interessati a prevedere quanto più accuratamente possibile le vendite giornaliere\n",
    "  - per ottimizzare le scorte di magazzino, il personale da impiegare, ecc.\n",
    "- Le vendite sono influenzate da diversi fattori\n",
    "  - giorno della settimana, festività, promozioni, ...\n",
    "- In questo caso di studio analizziamo dati relativi a più di 1.000 negozi della catena europea Rossmann\n",
    "- La predizione su questi dati è stata oggetto di una competizione su Kaggle: https://www.kaggle.com/c/rossmann-store-sales\n",
    "  - i dati che forniamo sono versioni già parzialmente preprocessate di quelli originali su Kaggle"
   ]
  },
  {
   "cell_type": "markdown",
   "metadata": {
    "id": "E3adNbfQEgT3"
   },
   "source": [
    "### Dataset\n",
    "\n",
    "- I dati sono forniti divisi in due file, per addestramento e validazione"
   ]
  },
  {
   "cell_type": "code",
   "execution_count": 3,
   "metadata": {
    "id": "1McGCq6FEgT4"
   },
   "outputs": [],
   "source": [
    "download(\"rossmann_train.csv.gz\", \"https://github.com/datascienceunibo/dialab2019/raw/master/Deep_Learning/rossmann_train.csv.gz\")\n",
    "download(\"rossmann_valid.csv.gz\", \"https://github.com/datascienceunibo/dialab2019/raw/master/Deep_Learning/rossmann_valid.csv.gz\")"
   ]
  },
  {
   "cell_type": "markdown",
   "metadata": {
    "id": "oXftE3iuEgT4"
   },
   "source": [
    "- Carichiamo i due file e vediamone la quantità di osservazioni\n",
    "  - con `parse_dates=[\"Date\"]` ci accertiamo che la colonna della data sia trattata come tale\n",
    "  - i file CSV sono compressi col formato GZIP, lo esplicitiam con `compression=\"gzip\"`"
   ]
  },
  {
   "cell_type": "code",
   "execution_count": 4,
   "metadata": {
    "id": "Fuas3r9BEgT4"
   },
   "outputs": [],
   "source": [
    "data_train = pd.read_csv(\n",
    "    \"rossmann_train.csv.gz\",\n",
    "    parse_dates=[\"Date\"],\n",
    "    compression=\"gzip\",\n",
    ")"
   ]
  },
  {
   "cell_type": "code",
   "execution_count": 5,
   "metadata": {
    "id": "YU6dscz3EgT5"
   },
   "outputs": [],
   "source": [
    "data_val = pd.read_csv(\n",
    "    \"rossmann_valid.csv.gz\",\n",
    "    parse_dates=[\"Date\"],\n",
    "    compression=\"gzip\",\n",
    ")"
   ]
  },
  {
   "cell_type": "code",
   "execution_count": 6,
   "metadata": {
    "colab": {
     "base_uri": "https://localhost:8080/"
    },
    "id": "rPFoZEW8EgT5",
    "outputId": "0d0aa0ec-9f29-4919-fc7a-b35e7b4346d5"
   },
   "outputs": [
    {
     "data": {
      "text/plain": [
       "(804056, 40282)"
      ]
     },
     "execution_count": 6,
     "metadata": {},
     "output_type": "execute_result"
    }
   ],
   "source": [
    "len(data_train), len(data_val)"
   ]
  },
  {
   "cell_type": "markdown",
   "metadata": {
    "id": "ywFW7uUWEgT6"
   },
   "source": [
    "- Vediamo un estratto dei due frame"
   ]
  },
  {
   "cell_type": "code",
   "execution_count": 7,
   "metadata": {
    "colab": {
     "base_uri": "https://localhost:8080/",
     "height": 0
    },
    "id": "G_plpwA9EgT7",
    "outputId": "8a3ced88-0384-4be9-8eb7-bd0b886650b7"
   },
   "outputs": [
    {
     "data": {
      "text/html": [
       "<div>\n",
       "<style scoped>\n",
       "    .dataframe tbody tr th:only-of-type {\n",
       "        vertical-align: middle;\n",
       "    }\n",
       "\n",
       "    .dataframe tbody tr th {\n",
       "        vertical-align: top;\n",
       "    }\n",
       "\n",
       "    .dataframe thead th {\n",
       "        text-align: right;\n",
       "    }\n",
       "</style>\n",
       "<table border=\"1\" class=\"dataframe\">\n",
       "  <thead>\n",
       "    <tr style=\"text-align: right;\">\n",
       "      <th></th>\n",
       "      <th>Store</th>\n",
       "      <th>Date</th>\n",
       "      <th>Promo</th>\n",
       "      <th>StateHoliday</th>\n",
       "      <th>SchoolHoliday</th>\n",
       "      <th>StoreType</th>\n",
       "      <th>Assortment</th>\n",
       "      <th>CompetitionDistance</th>\n",
       "      <th>CompetitionOpenSinceMonth</th>\n",
       "      <th>CompetitionOpenSinceYear</th>\n",
       "      <th>Promo2</th>\n",
       "      <th>Promo2SinceWeek</th>\n",
       "      <th>Promo2SinceYear</th>\n",
       "      <th>CompetitionOpen</th>\n",
       "      <th>PromoOpen</th>\n",
       "      <th>IsPromoMonth</th>\n",
       "      <th>Customers</th>\n",
       "      <th>Sales</th>\n",
       "    </tr>\n",
       "  </thead>\n",
       "  <tbody>\n",
       "    <tr>\n",
       "      <th>0</th>\n",
       "      <td>314</td>\n",
       "      <td>2015-06-19</td>\n",
       "      <td>1</td>\n",
       "      <td>0</td>\n",
       "      <td>0</td>\n",
       "      <td>1</td>\n",
       "      <td>1</td>\n",
       "      <td>3560.0</td>\n",
       "      <td>10.0</td>\n",
       "      <td>2001.0</td>\n",
       "      <td>1</td>\n",
       "      <td>31.0</td>\n",
       "      <td>2013.0</td>\n",
       "      <td>164.0</td>\n",
       "      <td>22.50</td>\n",
       "      <td>0</td>\n",
       "      <td>562</td>\n",
       "      <td>5032</td>\n",
       "    </tr>\n",
       "    <tr>\n",
       "      <th>1</th>\n",
       "      <td>458</td>\n",
       "      <td>2015-06-19</td>\n",
       "      <td>1</td>\n",
       "      <td>0</td>\n",
       "      <td>0</td>\n",
       "      <td>3</td>\n",
       "      <td>1</td>\n",
       "      <td>3390.0</td>\n",
       "      <td>0.0</td>\n",
       "      <td>0.0</td>\n",
       "      <td>0</td>\n",
       "      <td>0.0</td>\n",
       "      <td>0.0</td>\n",
       "      <td>24186.0</td>\n",
       "      <td>24186.25</td>\n",
       "      <td>0</td>\n",
       "      <td>688</td>\n",
       "      <td>7362</td>\n",
       "    </tr>\n",
       "    <tr>\n",
       "      <th>2</th>\n",
       "      <td>961</td>\n",
       "      <td>2015-06-19</td>\n",
       "      <td>1</td>\n",
       "      <td>0</td>\n",
       "      <td>0</td>\n",
       "      <td>4</td>\n",
       "      <td>3</td>\n",
       "      <td>9430.0</td>\n",
       "      <td>0.0</td>\n",
       "      <td>0.0</td>\n",
       "      <td>0</td>\n",
       "      <td>0.0</td>\n",
       "      <td>0.0</td>\n",
       "      <td>24186.0</td>\n",
       "      <td>24186.25</td>\n",
       "      <td>0</td>\n",
       "      <td>768</td>\n",
       "      <td>7764</td>\n",
       "    </tr>\n",
       "    <tr>\n",
       "      <th>3</th>\n",
       "      <td>132</td>\n",
       "      <td>2015-06-19</td>\n",
       "      <td>1</td>\n",
       "      <td>0</td>\n",
       "      <td>0</td>\n",
       "      <td>4</td>\n",
       "      <td>3</td>\n",
       "      <td>1040.0</td>\n",
       "      <td>0.0</td>\n",
       "      <td>0.0</td>\n",
       "      <td>1</td>\n",
       "      <td>27.0</td>\n",
       "      <td>2012.0</td>\n",
       "      <td>24186.0</td>\n",
       "      <td>35.50</td>\n",
       "      <td>0</td>\n",
       "      <td>692</td>\n",
       "      <td>7964</td>\n",
       "    </tr>\n",
       "  </tbody>\n",
       "</table>\n",
       "</div>"
      ],
      "text/plain": [
       "   Store       Date  Promo  StateHoliday  SchoolHoliday  StoreType  \\\n",
       "0    314 2015-06-19      1             0              0          1   \n",
       "1    458 2015-06-19      1             0              0          3   \n",
       "2    961 2015-06-19      1             0              0          4   \n",
       "3    132 2015-06-19      1             0              0          4   \n",
       "\n",
       "   Assortment  CompetitionDistance  CompetitionOpenSinceMonth  \\\n",
       "0           1               3560.0                       10.0   \n",
       "1           1               3390.0                        0.0   \n",
       "2           3               9430.0                        0.0   \n",
       "3           3               1040.0                        0.0   \n",
       "\n",
       "   CompetitionOpenSinceYear  Promo2  Promo2SinceWeek  Promo2SinceYear  \\\n",
       "0                    2001.0       1             31.0           2013.0   \n",
       "1                       0.0       0              0.0              0.0   \n",
       "2                       0.0       0              0.0              0.0   \n",
       "3                       0.0       1             27.0           2012.0   \n",
       "\n",
       "   CompetitionOpen  PromoOpen  IsPromoMonth  Customers  Sales  \n",
       "0            164.0      22.50             0        562   5032  \n",
       "1          24186.0   24186.25             0        688   7362  \n",
       "2          24186.0   24186.25             0        768   7764  \n",
       "3          24186.0      35.50             0        692   7964  "
      ]
     },
     "execution_count": 7,
     "metadata": {},
     "output_type": "execute_result"
    }
   ],
   "source": [
    "data_train.head(4)"
   ]
  },
  {
   "cell_type": "code",
   "execution_count": 8,
   "metadata": {
    "colab": {
     "base_uri": "https://localhost:8080/",
     "height": 0
    },
    "id": "t20mKXEqEgT7",
    "outputId": "aa0b6dfd-8871-4364-fdc0-0c55f6339f5e"
   },
   "outputs": [
    {
     "data": {
      "text/html": [
       "<div>\n",
       "<style scoped>\n",
       "    .dataframe tbody tr th:only-of-type {\n",
       "        vertical-align: middle;\n",
       "    }\n",
       "\n",
       "    .dataframe tbody tr th {\n",
       "        vertical-align: top;\n",
       "    }\n",
       "\n",
       "    .dataframe thead th {\n",
       "        text-align: right;\n",
       "    }\n",
       "</style>\n",
       "<table border=\"1\" class=\"dataframe\">\n",
       "  <thead>\n",
       "    <tr style=\"text-align: right;\">\n",
       "      <th></th>\n",
       "      <th>Store</th>\n",
       "      <th>Date</th>\n",
       "      <th>Promo</th>\n",
       "      <th>StateHoliday</th>\n",
       "      <th>SchoolHoliday</th>\n",
       "      <th>StoreType</th>\n",
       "      <th>Assortment</th>\n",
       "      <th>CompetitionDistance</th>\n",
       "      <th>CompetitionOpenSinceMonth</th>\n",
       "      <th>CompetitionOpenSinceYear</th>\n",
       "      <th>Promo2</th>\n",
       "      <th>Promo2SinceWeek</th>\n",
       "      <th>Promo2SinceYear</th>\n",
       "      <th>CompetitionOpen</th>\n",
       "      <th>PromoOpen</th>\n",
       "      <th>IsPromoMonth</th>\n",
       "      <th>Customers</th>\n",
       "      <th>Sales</th>\n",
       "    </tr>\n",
       "  </thead>\n",
       "  <tbody>\n",
       "    <tr>\n",
       "      <th>0</th>\n",
       "      <td>1</td>\n",
       "      <td>2015-07-31</td>\n",
       "      <td>1</td>\n",
       "      <td>0</td>\n",
       "      <td>1</td>\n",
       "      <td>3</td>\n",
       "      <td>1</td>\n",
       "      <td>1270.0</td>\n",
       "      <td>9.0</td>\n",
       "      <td>2008.0</td>\n",
       "      <td>0</td>\n",
       "      <td>0.0</td>\n",
       "      <td>0.0</td>\n",
       "      <td>82.0</td>\n",
       "      <td>24187.75</td>\n",
       "      <td>0</td>\n",
       "      <td>555</td>\n",
       "      <td>5263</td>\n",
       "    </tr>\n",
       "    <tr>\n",
       "      <th>1</th>\n",
       "      <td>747</td>\n",
       "      <td>2015-07-31</td>\n",
       "      <td>1</td>\n",
       "      <td>0</td>\n",
       "      <td>1</td>\n",
       "      <td>3</td>\n",
       "      <td>3</td>\n",
       "      <td>45740.0</td>\n",
       "      <td>8.0</td>\n",
       "      <td>2008.0</td>\n",
       "      <td>0</td>\n",
       "      <td>0.0</td>\n",
       "      <td>0.0</td>\n",
       "      <td>83.0</td>\n",
       "      <td>24187.75</td>\n",
       "      <td>0</td>\n",
       "      <td>826</td>\n",
       "      <td>10708</td>\n",
       "    </tr>\n",
       "    <tr>\n",
       "      <th>2</th>\n",
       "      <td>772</td>\n",
       "      <td>2015-07-31</td>\n",
       "      <td>1</td>\n",
       "      <td>0</td>\n",
       "      <td>1</td>\n",
       "      <td>4</td>\n",
       "      <td>3</td>\n",
       "      <td>1850.0</td>\n",
       "      <td>0.0</td>\n",
       "      <td>0.0</td>\n",
       "      <td>0</td>\n",
       "      <td>0.0</td>\n",
       "      <td>0.0</td>\n",
       "      <td>24187.0</td>\n",
       "      <td>24187.75</td>\n",
       "      <td>0</td>\n",
       "      <td>635</td>\n",
       "      <td>5224</td>\n",
       "    </tr>\n",
       "    <tr>\n",
       "      <th>3</th>\n",
       "      <td>752</td>\n",
       "      <td>2015-07-31</td>\n",
       "      <td>1</td>\n",
       "      <td>0</td>\n",
       "      <td>1</td>\n",
       "      <td>1</td>\n",
       "      <td>1</td>\n",
       "      <td>970.0</td>\n",
       "      <td>3.0</td>\n",
       "      <td>2013.0</td>\n",
       "      <td>1</td>\n",
       "      <td>31.0</td>\n",
       "      <td>2013.0</td>\n",
       "      <td>28.0</td>\n",
       "      <td>24.00</td>\n",
       "      <td>0</td>\n",
       "      <td>565</td>\n",
       "      <td>7763</td>\n",
       "    </tr>\n",
       "  </tbody>\n",
       "</table>\n",
       "</div>"
      ],
      "text/plain": [
       "   Store       Date  Promo  StateHoliday  SchoolHoliday  StoreType  \\\n",
       "0      1 2015-07-31      1             0              1          3   \n",
       "1    747 2015-07-31      1             0              1          3   \n",
       "2    772 2015-07-31      1             0              1          4   \n",
       "3    752 2015-07-31      1             0              1          1   \n",
       "\n",
       "   Assortment  CompetitionDistance  CompetitionOpenSinceMonth  \\\n",
       "0           1               1270.0                        9.0   \n",
       "1           3              45740.0                        8.0   \n",
       "2           3               1850.0                        0.0   \n",
       "3           1                970.0                        3.0   \n",
       "\n",
       "   CompetitionOpenSinceYear  Promo2  Promo2SinceWeek  Promo2SinceYear  \\\n",
       "0                    2008.0       0              0.0              0.0   \n",
       "1                    2008.0       0              0.0              0.0   \n",
       "2                       0.0       0              0.0              0.0   \n",
       "3                    2013.0       1             31.0           2013.0   \n",
       "\n",
       "   CompetitionOpen  PromoOpen  IsPromoMonth  Customers  Sales  \n",
       "0             82.0   24187.75             0        555   5263  \n",
       "1             83.0   24187.75             0        826  10708  \n",
       "2          24187.0   24187.75             0        635   5224  \n",
       "3             28.0      24.00             0        565   7763  "
      ]
     },
     "execution_count": 8,
     "metadata": {},
     "output_type": "execute_result"
    }
   ],
   "source": [
    "data_val.head(4)"
   ]
  },
  {
   "cell_type": "markdown",
   "metadata": {
    "id": "-B5j2DDHEgT7"
   },
   "source": [
    "### Descrizione variabili\n",
    "\n",
    "- Ogni riga è un'osservazione relativa ad un singolo negozio in una certa data, indicati dalle colonne `Store` e `Date`\n",
    "- Le ultime due colonne `Customers` and `Sales` indicano rispettivamente il numero di clienti e il ricavo totale delle vendite per quel giorno in quel negozio\n",
    "- Le altre colonne riportano informazioni note a priori relative a negozio e giorno\n",
    "  - applicazione di promozioni (`Promo*`, `IsPromoMonth`)\n",
    "  - festività (`StateHoliday`, `SchoolHoliday`)\n",
    "  - tipologia di negozio (`StoreType`, `Assortment`)\n",
    "  - distanza da negozi concorrenti e loro data di apertura (`Competition*`)\n",
    "- L'obiettivo è prevedere da queste informazioni il ricavo totale (`Sales`)\n",
    "- Definiamo le serie `y_*` con i valori di `Sales` per training e validation set"
   ]
  },
  {
   "cell_type": "code",
   "execution_count": 9,
   "metadata": {
    "id": "CHDQz9PoEgT8"
   },
   "outputs": [],
   "source": [
    "y_train = data_train[\"Sales\"]\n",
    "y_val = data_val[\"Sales\"]"
   ]
  },
  {
   "cell_type": "markdown",
   "metadata": {
    "id": "y4xgQk_AEgT8"
   },
   "source": [
    "- Il ricavo totale `Sales` è ovviamente strettamente proporzionale al numero di clienti `Customers`\n",
    "  - usiamo il metodo `sample` per selezionare un numero dato di campioni casuali per creare il grafico con più efficienza"
   ]
  },
  {
   "cell_type": "code",
   "execution_count": 10,
   "metadata": {
    "colab": {
     "base_uri": "https://localhost:8080/",
     "height": 0
    },
    "id": "rYWhNwa0EgT9",
    "outputId": "65c90d68-b805-4546-e888-0c11f4745800"
   },
   "outputs": [
    {
     "data": {
      "image/png": "[encoded data removed]",
      "text/plain": [
       "<Figure size 432x288 with 1 Axes>"
      ]
     },
     "metadata": {
      "needs_background": "light"
     },
     "output_type": "display_data"
    }
   ],
   "source": [
    "data_train.sample(10000, random_state=42).plot.scatter(\"Customers\", \"Sales\");"
   ]
  },
  {
   "cell_type": "markdown",
   "metadata": {
    "id": "RgVlrThtEgT9"
   },
   "source": [
    "- Non possiamo però usare la variabile `Customers` nella predizione, in quanto proprio come `Sales` non è un'informazione nota a priori\n",
    "  - _Quando si utilizza un dataset per addestrare un modello di predizione, verificare sempre attentamente quali informazioni è lecito utilizzare!_"
   ]
  },
  {
   "cell_type": "markdown",
   "metadata": {
    "id": "1OiRsTcQEgT9"
   },
   "source": [
    "## Tipi di variabili\n",
    "\n",
    "- Le altre colonne contengono variabili utilizzabili per la predizione, tra le quali possiamo distinguere\n",
    "  - variabili _numeriche_ (es. `CompetitionDistance`) simili a quelle viste nelle esercitazioni precedenti\n",
    "  - variabili _categoriche_ (es. `StoreType`), ciascuna delle quali può assumere un insieme finito di valori\n",
    "- Definiamo una lista di variabili numeriche e una di variabili categoriche, che utilizzeremo in seguito"
   ]
  },
  {
   "cell_type": "markdown",
   "metadata": {
    "id": "6gnkuJE7EgT9"
   },
   "source": [
    "- Le altre colonne contengono variabili utilizzabili per la predizione\n",
    "- Tutte le variabili hanno valori numerici, ma di diversa natura:\n",
    "  1. alcune variabili (es. `CompetitionDistance`) esprimono effettivamente una quantità o una grandezza (sono di tipo \"intervallo\" o \"ratio\")\n",
    "  2. altre variabili (es. `SchoolHoliday`) sono binarie, valgono 1 dove una condizione è verificata e 0 dove non si verifica\n",
    "  3. altre variabili (es. `StoreType`) esprimono dei \"codici\", i numeri servono solamente da identificatori univoci (sono di tipo \"nominale\")\n",
    "- Creiamo tre liste con i nomi delle variabili presenti nei rispettivi gruppi"
   ]
  },
  {
   "cell_type": "code",
   "execution_count": 11,
   "metadata": {
    "id": "_xCe0U8iEgT-"
   },
   "outputs": [],
   "source": [
    "numeric_vars = [\n",
    "    \"CompetitionOpen\", \"CompetitionDistance\",\n",
    "    \"CompetitionOpenSinceMonth\", \"CompetitionOpenSinceYear\",\n",
    "    \"Promo2SinceWeek\", \"Promo2SinceYear\", \"PromoOpen\"\n",
    "]\n",
    "binary_vars = [\"Promo\", \"SchoolHoliday\", \"Promo2\", \"IsPromoMonth\"]\n",
    "categorical_vars = [\"StateHoliday\", \"StoreType\", \"Assortment\"]"
   ]
  },
  {
   "cell_type": "markdown",
   "metadata": {
    "id": "19PqfpcUEgT-"
   },
   "source": [
    "- I metodi di regressione e classificazione visti finora funzionano con variabili predittive numeriche\n",
    "  - di queste viene ad es. calcolata una combinazione lineare secondo i coefficienti appresi dal modello\n",
    "- Questi modelli **non funzionano** in presenza di variabili categoriche\n",
    "  - le variabili categoriche sono spesso codificate in modo non numerico (es. strighe): se si provasse ad addestrare un modello di regressione su di esse avremmo un errore\n",
    "  - anche se codificate numericamente, gli algoritmi dedurrebbero erroneamente ad es. che lo `StoreType` 1 è più simile al 2 che al 4, in realtà ognuno può avere un peso diverso e indipendente dagli altri nella predizione"
   ]
  },
  {
   "cell_type": "markdown",
   "metadata": {
    "id": "P5V5CcLTEgT-"
   },
   "source": [
    "## Esercizio 1: Classificazione sulle sole variabili numeriche\n",
    "\n",
    "- **(1a)** Definire `X_train_num` e `X_val_num` come proiezioni dei frame `X_train` e `X_val` contenenti le soli variabili numeriche e binarie del dataset\n",
    "  - usare `+` per concatenare le due relative liste di variabili\n",
    "- **(1b)** Addestrare un modello di regressione Ridge con $\\alpha=1$ (default) su `X_train_num` e verificarne l'accuratezza su `X_val_num`\n",
    "- **(1c)** Addestrare e verificare lo stesso modello sugli stessi dati, ma utilizzando una pipeline per standardizzare i dati"
   ]
  },
  {
   "cell_type": "code",
   "execution_count": 12,
   "metadata": {
    "id": "WYQXUQuLEgT-"
   },
   "outputs": [],
   "source": [
    "# import necessari\n",
    "from sklearn.linear_model import Ridge\n",
    "from sklearn.preprocessing import StandardScaler\n",
    "from sklearn.pipeline import Pipeline"
   ]
  },
  {
   "cell_type": "code",
   "execution_count": 13,
   "metadata": {},
   "outputs": [],
   "source": [
    "X_train_num, X_val_num = data_train[numeric_vars + binary_vars], data_val[numeric_vars + binary_vars]"
   ]
  },
  {
   "cell_type": "code",
   "execution_count": 14,
   "metadata": {},
   "outputs": [
    {
     "name": "stdout",
     "output_type": "stream",
     "text": [
      "R^2 :  0.18368590092846326\n"
     ]
    }
   ],
   "source": [
    "r_model = Ridge(alpha=1) # alpha=1 è di default\n",
    "r_model.fit(X_train_num, y_train)\n",
    "print(\"R^2 : \", r_model.score(X_val_num, y_val))"
   ]
  },
  {
   "cell_type": "code",
   "execution_count": 15,
   "metadata": {},
   "outputs": [
    {
     "name": "stdout",
     "output_type": "stream",
     "text": [
      "R^2 :  0.1917773276900372\n"
     ]
    }
   ],
   "source": [
    "model = Pipeline([\n",
    "    (\"scaler\", StandardScaler()),\n",
    "    (\"ridge\", Ridge(alpha=1))\n",
    "])\n",
    "model.fit(X_train_num, y_train)\n",
    "print(\"R^2 : \", model.score(X_val_num,y_val))"
   ]
  },
  {
   "cell_type": "markdown",
   "metadata": {
    "id": "ECg7Ryb7EgT_"
   },
   "source": [
    "## Trattamento delle variabili categoriche: one-hot encoding\n",
    "\n",
    "- Come si possono utilizzare le variabili categoriche in modelli di regressione?\n",
    "- La soluzione tipica consiste nel convertire le variabili categoriche in numeriche\n",
    "- Data una variabile categorica X con N valori possibili $a, b, c, \\ldots$, il _one-hot encoding_ consiste nel convertirla in N variabili numeriche binarie $X_a, X_b, X_c, \\ldots$\n",
    "- Ciascuna variabile $X_v$\n",
    "  - vale 1 nei casi in cui $X = v$\n",
    "  - vale 0 negli altri casi\n",
    "- Ogni valore di X è in pratica convertito ad un vettore in $\\mathbf{R}^N$ con un elemento a 1 e gli altri a 0\n",
    "  - $a \\rightarrow [1,0,0,\\ldots]$\n",
    "  - $b \\rightarrow [0,1,0,\\ldots]$\n",
    "  - $c \\rightarrow [0,0,1,\\ldots]$\n",
    "  - ..."
   ]
  },
  {
   "cell_type": "markdown",
   "metadata": {
    "id": "Da2P7QexEgUA"
   },
   "source": [
    "- scikit-learn fornisce un filtro `OneHotEncoder` per effettuare questa operazione su tutte le variabili di un dataset\n",
    "- Analizziamone il funzionamento su una variabile binaria e una categorica del dataset"
   ]
  },
  {
   "cell_type": "code",
   "execution_count": 16,
   "metadata": {
    "colab": {
     "base_uri": "https://localhost:8080/",
     "height": 0
    },
    "id": "SRlJQDBDEgUA",
    "outputId": "dba4e763-cba3-444f-a9f9-6647e633188b"
   },
   "outputs": [
    {
     "data": {
      "text/html": [
       "<div>\n",
       "<style scoped>\n",
       "    .dataframe tbody tr th:only-of-type {\n",
       "        vertical-align: middle;\n",
       "    }\n",
       "\n",
       "    .dataframe tbody tr th {\n",
       "        vertical-align: top;\n",
       "    }\n",
       "\n",
       "    .dataframe thead th {\n",
       "        text-align: right;\n",
       "    }\n",
       "</style>\n",
       "<table border=\"1\" class=\"dataframe\">\n",
       "  <thead>\n",
       "    <tr style=\"text-align: right;\">\n",
       "      <th></th>\n",
       "      <th>SchoolHoliday</th>\n",
       "      <th>StateHoliday</th>\n",
       "    </tr>\n",
       "  </thead>\n",
       "  <tbody>\n",
       "    <tr>\n",
       "      <th>0</th>\n",
       "      <td>0</td>\n",
       "      <td>0</td>\n",
       "    </tr>\n",
       "    <tr>\n",
       "      <th>1</th>\n",
       "      <td>0</td>\n",
       "      <td>0</td>\n",
       "    </tr>\n",
       "    <tr>\n",
       "      <th>2</th>\n",
       "      <td>0</td>\n",
       "      <td>0</td>\n",
       "    </tr>\n",
       "    <tr>\n",
       "      <th>3</th>\n",
       "      <td>0</td>\n",
       "      <td>0</td>\n",
       "    </tr>\n",
       "    <tr>\n",
       "      <th>4</th>\n",
       "      <td>0</td>\n",
       "      <td>0</td>\n",
       "    </tr>\n",
       "  </tbody>\n",
       "</table>\n",
       "</div>"
      ],
      "text/plain": [
       "   SchoolHoliday  StateHoliday\n",
       "0              0             0\n",
       "1              0             0\n",
       "2              0             0\n",
       "3              0             0\n",
       "4              0             0"
      ]
     },
     "execution_count": 16,
     "metadata": {},
     "output_type": "execute_result"
    }
   ],
   "source": [
    "X_sample = data_train[[\"SchoolHoliday\", \"StateHoliday\"]]\n",
    "X_sample.head(5)"
   ]
  },
  {
   "cell_type": "markdown",
   "metadata": {
    "id": "WCn1QkccEgUA"
   },
   "source": [
    "- I valori possibili di queste variabili sono:\n",
    "- unique() restituisce i valori diversi per la colonna (serie) selezionata"
   ]
  },
  {
   "cell_type": "code",
   "execution_count": 17,
   "metadata": {
    "colab": {
     "base_uri": "https://localhost:8080/"
    },
    "id": "KNHu8_3REgUA",
    "outputId": "32d351a8-aaa3-47ae-bdab-2a35fdda98cf"
   },
   "outputs": [
    {
     "data": {
      "text/plain": [
       "array([0, 1], dtype=int64)"
      ]
     },
     "execution_count": 17,
     "metadata": {},
     "output_type": "execute_result"
    }
   ],
   "source": [
    "X_sample[\"SchoolHoliday\"].unique()"
   ]
  },
  {
   "cell_type": "code",
   "execution_count": 18,
   "metadata": {
    "colab": {
     "base_uri": "https://localhost:8080/"
    },
    "id": "jsVsLfpxEgUB",
    "outputId": "1f8bdad8-742c-4a72-bf65-126f954a773f"
   },
   "outputs": [
    {
     "data": {
      "text/plain": [
       "array([0, 1, 2, 3], dtype=int64)"
      ]
     },
     "execution_count": 18,
     "metadata": {},
     "output_type": "execute_result"
    }
   ],
   "source": [
    "X_sample[\"StateHoliday\"].unique()"
   ]
  },
  {
   "cell_type": "markdown",
   "metadata": {
    "id": "lFA-lSWqEgUB"
   },
   "source": [
    "- Creiamo un'istanza del filtro specificandone i parametri\n",
    "  - normalmente il filtro fornisce in uscita matrici sparse, come `CountVectorizer` e `TfidfVectorizer`\n",
    "  - `sparse=False` indica di generare dei normali array NumPy, lo usiamo per fini dimostrativi"
   ]
  },
  {
   "cell_type": "code",
   "execution_count": 19,
   "metadata": {
    "id": "2Y8ERVvWEgUB"
   },
   "outputs": [],
   "source": [
    "from sklearn.preprocessing import OneHotEncoder\n",
    "encoder = OneHotEncoder(sparse=False)"
   ]
  },
  {
   "cell_type": "markdown",
   "metadata": {
    "id": "ogV9e1OrEgUC"
   },
   "source": [
    "- Come per gli altri filtri, passiamo il primo set di dati a `fit_transform` in modo che il formato dei dati venga appreso"
   ]
  },
  {
   "cell_type": "code",
   "execution_count": 20,
   "metadata": {
    "colab": {
     "base_uri": "https://localhost:8080/"
    },
    "id": "NGjxKjObEgUC",
    "outputId": "e30e9e54-8e35-4416-a9d6-d0364e5aa254"
   },
   "outputs": [
    {
     "data": {
      "text/plain": [
       "array([[1., 0., 1., 0., 0., 0.],\n",
       "       [1., 0., 1., 0., 0., 0.],\n",
       "       [1., 0., 1., 0., 0., 0.],\n",
       "       ...,\n",
       "       [0., 1., 0., 1., 0., 0.],\n",
       "       [0., 1., 0., 1., 0., 0.],\n",
       "       [0., 1., 0., 1., 0., 0.]])"
      ]
     },
     "execution_count": 20,
     "metadata": {},
     "output_type": "execute_result"
    }
   ],
   "source": [
    "encoder.fit_transform(X_sample)"
   ]
  },
  {
   "cell_type": "markdown",
   "metadata": {
    "id": "2bln10_qEgUC"
   },
   "source": [
    "- Il filtro ha generato 6 variabili: una per ogni valore possibile per ogni variabile\n",
    "- In ogni riga è presente un 1 nelle prime 2 colonne (`SchoolHoliday`) e un altro 1 nelle ultime 4 (`StateHoliday`)\n",
    "- Col metodo `get_feature_names` (`get_feature_names_out` in versioni recenti di scikit-learn) è possibile vedere a quale valore corrisponde ciascuna colonna"
   ]
  },
  {
   "cell_type": "code",
   "execution_count": 21,
   "metadata": {
    "colab": {
     "base_uri": "https://localhost:8080/"
    },
    "id": "9WaHNSGQEgUC",
    "outputId": "85c4c9d0-abd6-4acf-87f5-1a2a50b47e0e"
   },
   "outputs": [
    {
     "data": {
      "text/plain": [
       "array(['x0_0', 'x0_1', 'x1_0', 'x1_1', 'x1_2', 'x1_3'], dtype=object)"
      ]
     },
     "execution_count": 21,
     "metadata": {},
     "output_type": "execute_result"
    }
   ],
   "source": [
    "encoder.get_feature_names()"
   ]
  },
  {
   "cell_type": "code",
   "execution_count": 22,
   "metadata": {},
   "outputs": [
    {
     "data": {
      "text/plain": [
       "array(['SH_0', 'SH_1', 'SH_0', 'SH_1', 'SH_2', 'SH_3'], dtype=object)"
      ]
     },
     "execution_count": 22,
     "metadata": {},
     "output_type": "execute_result"
    }
   ],
   "source": [
    "encoder.get_feature_names([\"SH\",\"SH\"])"
   ]
  },
  {
   "cell_type": "markdown",
   "metadata": {
    "id": "bkvW3vKAEgUC"
   },
   "source": [
    "- Passiamo i nomi delle colonne al metodo per utilizzarli al posto di `x0` e `x1`"
   ]
  },
  {
   "cell_type": "code",
   "execution_count": 23,
   "metadata": {
    "colab": {
     "base_uri": "https://localhost:8080/"
    },
    "id": "cQO7rvvnEgUD",
    "outputId": "aa49dc88-0ae8-447e-d6ca-4d7407b298d1"
   },
   "outputs": [
    {
     "data": {
      "text/plain": [
       "array(['SchoolHoliday_0', 'SchoolHoliday_1', 'StateHoliday_0',\n",
       "       'StateHoliday_1', 'StateHoliday_2', 'StateHoliday_3'], dtype=object)"
      ]
     },
     "execution_count": 23,
     "metadata": {},
     "output_type": "execute_result"
    }
   ],
   "source": [
    "encoder.get_feature_names(X_sample.columns)"
   ]
  },
  {
   "cell_type": "markdown",
   "metadata": {
    "id": "p-ZYHGwGEgUD"
   },
   "source": [
    "- Usiamo i nomi per visualizzare la matrice ottenuta sopra in un frame"
   ]
  },
  {
   "cell_type": "code",
   "execution_count": 24,
   "metadata": {
    "colab": {
     "base_uri": "https://localhost:8080/",
     "height": 0
    },
    "id": "V_pLG7mbEgUD",
    "outputId": "edff4ec6-dd54-46bc-e361-0efa4b50401a"
   },
   "outputs": [
    {
     "data": {
      "text/html": [
       "<div>\n",
       "<style scoped>\n",
       "    .dataframe tbody tr th:only-of-type {\n",
       "        vertical-align: middle;\n",
       "    }\n",
       "\n",
       "    .dataframe tbody tr th {\n",
       "        vertical-align: top;\n",
       "    }\n",
       "\n",
       "    .dataframe thead th {\n",
       "        text-align: right;\n",
       "    }\n",
       "</style>\n",
       "<table border=\"1\" class=\"dataframe\">\n",
       "  <thead>\n",
       "    <tr style=\"text-align: right;\">\n",
       "      <th></th>\n",
       "      <th>SchoolHoliday_0</th>\n",
       "      <th>SchoolHoliday_1</th>\n",
       "      <th>StateHoliday_0</th>\n",
       "      <th>StateHoliday_1</th>\n",
       "      <th>StateHoliday_2</th>\n",
       "      <th>StateHoliday_3</th>\n",
       "    </tr>\n",
       "  </thead>\n",
       "  <tbody>\n",
       "    <tr>\n",
       "      <th>0</th>\n",
       "      <td>1.0</td>\n",
       "      <td>0.0</td>\n",
       "      <td>1.0</td>\n",
       "      <td>0.0</td>\n",
       "      <td>0.0</td>\n",
       "      <td>0.0</td>\n",
       "    </tr>\n",
       "    <tr>\n",
       "      <th>1</th>\n",
       "      <td>1.0</td>\n",
       "      <td>0.0</td>\n",
       "      <td>1.0</td>\n",
       "      <td>0.0</td>\n",
       "      <td>0.0</td>\n",
       "      <td>0.0</td>\n",
       "    </tr>\n",
       "    <tr>\n",
       "      <th>2</th>\n",
       "      <td>1.0</td>\n",
       "      <td>0.0</td>\n",
       "      <td>1.0</td>\n",
       "      <td>0.0</td>\n",
       "      <td>0.0</td>\n",
       "      <td>0.0</td>\n",
       "    </tr>\n",
       "    <tr>\n",
       "      <th>3</th>\n",
       "      <td>1.0</td>\n",
       "      <td>0.0</td>\n",
       "      <td>1.0</td>\n",
       "      <td>0.0</td>\n",
       "      <td>0.0</td>\n",
       "      <td>0.0</td>\n",
       "    </tr>\n",
       "    <tr>\n",
       "      <th>4</th>\n",
       "      <td>1.0</td>\n",
       "      <td>0.0</td>\n",
       "      <td>1.0</td>\n",
       "      <td>0.0</td>\n",
       "      <td>0.0</td>\n",
       "      <td>0.0</td>\n",
       "    </tr>\n",
       "  </tbody>\n",
       "</table>\n",
       "</div>"
      ],
      "text/plain": [
       "   SchoolHoliday_0  SchoolHoliday_1  StateHoliday_0  StateHoliday_1  \\\n",
       "0              1.0              0.0             1.0             0.0   \n",
       "1              1.0              0.0             1.0             0.0   \n",
       "2              1.0              0.0             1.0             0.0   \n",
       "3              1.0              0.0             1.0             0.0   \n",
       "4              1.0              0.0             1.0             0.0   \n",
       "\n",
       "   StateHoliday_2  StateHoliday_3  \n",
       "0             0.0             0.0  \n",
       "1             0.0             0.0  \n",
       "2             0.0             0.0  \n",
       "3             0.0             0.0  \n",
       "4             0.0             0.0  "
      ]
     },
     "execution_count": 24,
     "metadata": {},
     "output_type": "execute_result"
    }
   ],
   "source": [
    "pd.DataFrame(\n",
    "    encoder.transform(X_sample),\n",
    "    columns=encoder.get_feature_names(X_sample.columns)\n",
    ").head(5)"
   ]
  },
  {
   "cell_type": "markdown",
   "metadata": {
    "id": "xyRoikUSEgUD"
   },
   "source": [
    "- Specificando `drop=\"first\"` nei parametri, `OneHotEncoder` genera una variabile binaria in meno per ogni variabile categorica, rappresentando uno dei valori possibili come un vettore di soli zero\n",
    "- Il vantaggio è che per i modelli dove non c'è regolarizzazione dei dati una colonna che deriva da altre possono dare problemi"
   ]
  },
  {
   "cell_type": "code",
   "execution_count": 25,
   "metadata": {
    "colab": {
     "base_uri": "https://localhost:8080/",
     "height": 0
    },
    "id": "HOwRCBcREgUE",
    "outputId": "19af7223-9728-4213-f706-1c196ff441ef"
   },
   "outputs": [
    {
     "data": {
      "text/html": [
       "<div>\n",
       "<style scoped>\n",
       "    .dataframe tbody tr th:only-of-type {\n",
       "        vertical-align: middle;\n",
       "    }\n",
       "\n",
       "    .dataframe tbody tr th {\n",
       "        vertical-align: top;\n",
       "    }\n",
       "\n",
       "    .dataframe thead th {\n",
       "        text-align: right;\n",
       "    }\n",
       "</style>\n",
       "<table border=\"1\" class=\"dataframe\">\n",
       "  <thead>\n",
       "    <tr style=\"text-align: right;\">\n",
       "      <th></th>\n",
       "      <th>SchoolHoliday_1</th>\n",
       "      <th>StateHoliday_1</th>\n",
       "      <th>StateHoliday_2</th>\n",
       "      <th>StateHoliday_3</th>\n",
       "    </tr>\n",
       "  </thead>\n",
       "  <tbody>\n",
       "    <tr>\n",
       "      <th>0</th>\n",
       "      <td>0.0</td>\n",
       "      <td>0.0</td>\n",
       "      <td>0.0</td>\n",
       "      <td>0.0</td>\n",
       "    </tr>\n",
       "    <tr>\n",
       "      <th>1</th>\n",
       "      <td>0.0</td>\n",
       "      <td>0.0</td>\n",
       "      <td>0.0</td>\n",
       "      <td>0.0</td>\n",
       "    </tr>\n",
       "    <tr>\n",
       "      <th>2</th>\n",
       "      <td>0.0</td>\n",
       "      <td>0.0</td>\n",
       "      <td>0.0</td>\n",
       "      <td>0.0</td>\n",
       "    </tr>\n",
       "    <tr>\n",
       "      <th>3</th>\n",
       "      <td>0.0</td>\n",
       "      <td>0.0</td>\n",
       "      <td>0.0</td>\n",
       "      <td>0.0</td>\n",
       "    </tr>\n",
       "    <tr>\n",
       "      <th>4</th>\n",
       "      <td>0.0</td>\n",
       "      <td>0.0</td>\n",
       "      <td>0.0</td>\n",
       "      <td>0.0</td>\n",
       "    </tr>\n",
       "  </tbody>\n",
       "</table>\n",
       "</div>"
      ],
      "text/plain": [
       "   SchoolHoliday_1  StateHoliday_1  StateHoliday_2  StateHoliday_3\n",
       "0              0.0             0.0             0.0             0.0\n",
       "1              0.0             0.0             0.0             0.0\n",
       "2              0.0             0.0             0.0             0.0\n",
       "3              0.0             0.0             0.0             0.0\n",
       "4              0.0             0.0             0.0             0.0"
      ]
     },
     "execution_count": 25,
     "metadata": {},
     "output_type": "execute_result"
    }
   ],
   "source": [
    "encoder = OneHotEncoder(drop=\"first\", sparse=False)\n",
    "pd.DataFrame(\n",
    "    encoder.fit_transform(X_sample),\n",
    "    columns=encoder.get_feature_names(X_sample.columns)\n",
    ").head(5)"
   ]
  },
  {
   "cell_type": "markdown",
   "metadata": {
    "id": "lNW3DlHfEgUE"
   },
   "source": [
    "- In questo esempio sono state scartate le variabili `SchoolHoliday_0` e `StateHoliday_0`\n",
    "  - i casi `SchoolHoliday_0` si riconoscono implicitamente da `SchoolHoliday_1 = 0`\n",
    "  - i casi `StateHoliday_0` si riconoscono da tutte le colonne `StateHoliday` a 0\n",
    "- Il vantaggio di questo accorgimento è che si evita di introdurre variabili collineari che possono causare problemi in alcuni modelli (es. modelli lineari senza regolarizzazione)\n",
    "- Lo svantaggio è che si introduce un'asimmetria nella rappresentazione dei dati che può causare bias in altri modelli (es. modelli lineari con regolarizzazione)"
   ]
  },
  {
   "cell_type": "markdown",
   "metadata": {
    "id": "levmJTnREgUE"
   },
   "source": [
    "- Usiamo ora il filtro `OneHotEncoder` per addestrare e validare un classificatore basato su tutte le variabili categoriche non binarie\n",
    "- Creiamo delle proiezioni delle matrici `data_train` e `data_val` contenenti le sole variabili categoriche"
   ]
  },
  {
   "cell_type": "code",
   "execution_count": 26,
   "metadata": {
    "id": "xQdByycwEgUE"
   },
   "outputs": [],
   "source": [
    "X_train_cat = data_train[categorical_vars]\n",
    "X_val_cat = data_val[categorical_vars]"
   ]
  },
  {
   "cell_type": "markdown",
   "metadata": {
    "id": "iRhzdhFbEgUE"
   },
   "source": [
    "- Creiamo un nuovo encoder\n",
    "  - questa volta lasciamo le impostazioni di default, per cui vengono restituite matrici sparse (convertibili a normali array col metodo `toarray()`)"
   ]
  },
  {
   "cell_type": "code",
   "execution_count": 27,
   "metadata": {
    "id": "ZPImU8FBEgUF"
   },
   "outputs": [],
   "source": [
    "encoder = OneHotEncoder()"
   ]
  },
  {
   "cell_type": "markdown",
   "metadata": {
    "id": "APoXSgEVEgUF"
   },
   "source": [
    "- Addestriamo un semplice modello di regressione ridge sul training set, addestrando ed applicando (`fit_transform`) l'encoder su di esso"
   ]
  },
  {
   "cell_type": "code",
   "execution_count": 28,
   "metadata": {
    "colab": {
     "base_uri": "https://localhost:8080/"
    },
    "id": "AKez5AzUEgUF",
    "outputId": "f2f01110-7620-40d8-ac1b-6ce00dc441bc"
   },
   "outputs": [],
   "source": [
    "model = Ridge()\n",
    "model.fit(encoder.fit_transform(X_train_cat), y_train);"
   ]
  },
  {
   "cell_type": "markdown",
   "metadata": {
    "id": "hga06F22EgUF"
   },
   "source": [
    "- Calcoliamo quindi l'accuratezza del modello sul validation set, che viene preprocessato usando lo stesso encoder"
   ]
  },
  {
   "cell_type": "code",
   "execution_count": 29,
   "metadata": {
    "colab": {
     "base_uri": "https://localhost:8080/"
    },
    "id": "Qzb7KUBPEgUF",
    "outputId": "212b81b8-a21b-4a6a-8a6f-811d6a43adf2"
   },
   "outputs": [
    {
     "data": {
      "text/plain": [
       "0.05517909425317136"
      ]
     },
     "execution_count": 29,
     "metadata": {},
     "output_type": "execute_result"
    }
   ],
   "source": [
    "model.score(encoder.transform(X_val_cat), y_val)"
   ]
  },
  {
   "cell_type": "markdown",
   "metadata": {
    "id": "8bwUSUQoEgUG",
    "tags": []
   },
   "source": [
    "## Esercizio 2: One-hot encoding in una pipeline\n",
    "\n",
    "- Utilizzando l'interfaccia standard dei filtri di scikit-learn, il one-hot encoder può essere utilizzato in una pipeline\n",
    "- Definire un modello di regressione ridge come quello addestrato sopra in una pipeline che applichi l'encoding delle variabili categoriche, addestrarlo su `X_train_cat` e validarlo su `X_val_cat`"
   ]
  },
  {
   "cell_type": "code",
   "execution_count": 30,
   "metadata": {},
   "outputs": [
    {
     "data": {
      "text/plain": [
       "0.05517909425317136"
      ]
     },
     "execution_count": 30,
     "metadata": {},
     "output_type": "execute_result"
    }
   ],
   "source": [
    "model = Pipeline([\n",
    "    (\"encoder\", OneHotEncoder()),\n",
    "    (\"ridge\", Ridge())\n",
    "])\n",
    "model.fit(X_train_cat, y_train)\n",
    "model.score(X_val_cat, y_val)"
   ]
  },
  {
   "cell_type": "markdown",
   "metadata": {
    "id": "ffvR0MDrEgUG"
   },
   "source": [
    "## Preprocessing differenziato delle colonne\n",
    "\n",
    "- Abbiamo visto come addestrare modelli basati su variabili numeriche oppure su variabili categoriche\n",
    "- È possibile utilizzare tutte le variabili (numeriche e categoriche) in un unico modello?\n",
    "- Il one-hot encoder converte le variabili categoriche in numeriche, queste possono essere combinate a quelle che sono già numeriche\n",
    "- Vediamo come eseguire questa procedura manualmente, applicando anche la standardizzazione alle variabili numeriche\n",
    "- Per prima cosa, creiamo uno `StandardScaler` per le variabili già numeriche e un `OneHotEncoder` per quelle categoriche"
   ]
  },
  {
   "cell_type": "code",
   "execution_count": 31,
   "metadata": {
    "id": "37MyxFR9EgUG"
   },
   "outputs": [],
   "source": [
    "scaler = StandardScaler()\n",
    "encoder = OneHotEncoder(sparse=False)"
   ]
  },
  {
   "cell_type": "markdown",
   "metadata": {
    "id": "kJB-2VX_EgUH"
   },
   "source": [
    "- Quindi applichiamo i filtri alle rispettive colonne del training set e concateno per colonne le matrici ottenute\n",
    "  - `np.c_[A, B, C, ...]` costruisce un array concatenendo per colonne (orizzontalmente) gli array A, B, C, ...\n",
    "  - si può eseguire la stessa operazione per righe (verticalmente) con `np.r_`"
   ]
  },
  {
   "cell_type": "code",
   "execution_count": 32,
   "metadata": {
    "id": "jVfpmhy_EgUH"
   },
   "outputs": [],
   "source": [
    "X_train_combo = np.c_[\n",
    "    scaler.fit_transform(X_train_num),\n",
    "    encoder.fit_transform(X_train_cat)\n",
    "]"
   ]
  },
  {
   "cell_type": "markdown",
   "metadata": {
    "id": "rT-lpG8bEgUH"
   },
   "source": [
    "- Eseguiamo la stessa operazione sul validation set usando i filtri già addestrati"
   ]
  },
  {
   "cell_type": "code",
   "execution_count": 33,
   "metadata": {
    "id": "HMS-MLS4EgUH"
   },
   "outputs": [],
   "source": [
    "X_val_combo = np.c_[\n",
    "    scaler.transform(X_val_num),\n",
    "    encoder.transform(X_val_cat)\n",
    "]"
   ]
  },
  {
   "cell_type": "markdown",
   "metadata": {
    "id": "cT1fZhlmEgUH"
   },
   "source": [
    "- Infine addestriamo e validiamo un modello utilizzando le matrici combinate"
   ]
  },
  {
   "cell_type": "code",
   "execution_count": 34,
   "metadata": {
    "colab": {
     "base_uri": "https://localhost:8080/"
    },
    "id": "mKaKjuNbEgUI",
    "outputId": "f667a8a9-65dd-4156-a747-05ac3b5e5206"
   },
   "outputs": [
    {
     "data": {
      "text/plain": [
       "0.24806857504695334"
      ]
     },
     "execution_count": 34,
     "metadata": {},
     "output_type": "execute_result"
    }
   ],
   "source": [
    "model = Ridge()\n",
    "model.fit(X_train_combo, y_train)\n",
    "model.score(X_val_combo, y_val)"
   ]
  },
  {
   "cell_type": "markdown",
   "metadata": {
    "id": "R87Q47hfEgUI"
   },
   "source": [
    "- In questo modo abbiamo costruito un modello combinando insieme matrici numeriche e categoriche\n",
    "- Abbiamo però svolto operazioni diverse dalle solite che definiamo in una pipeline\n",
    "  - suddivisione del dataset in gruppi di colonne\n",
    "  - applicazione di filtri diversi a ciascun gruppo\n",
    "  - concatenazione delle colonne risultanti da ciascun gruppo"
   ]
  },
  {
   "cell_type": "markdown",
   "metadata": {
    "id": "RrHdcLDUEgUI"
   },
   "source": [
    "- Per questi casi, scikit-learn fornisce un filtro composito `ColumnTransformer`\n",
    "- Un oggetto `ColumnTransformer` è definito da una lista di gruppi, ciascuno dei quali è definito da una tupla contenente:\n",
    "  - un nome da dare al gruppo, usato per riferirsi ad esso, simile ai nomi in una `Pipeline`\n",
    "  - un filtro da applicare al gruppo\n",
    "    - può essere una `Pipeline` con una sequenza di filtri\n",
    "  - una lista di nomi di colonne che fanno parte del gruppo\n",
    "    - se le colonne non hanno nome (es. array NumPy), usare gli indici\n",
    "- Definiamo ad esempio un `ColumnTransformer` che applichi `StandardScaler` e `OneHotEncoder` sui due gruppi di colonne come sopra"
   ]
  },
  {
   "cell_type": "code",
   "execution_count": 35,
   "metadata": {
    "id": "4kCQg0UwEgUI"
   },
   "outputs": [],
   "source": [
    "from sklearn.compose import ColumnTransformer\n",
    "preprocessor = ColumnTransformer([\n",
    "    # nome           filtro              colonne\n",
    "    # stringa        classe di sklearn   lista\n",
    "    #                per fare filtri\n",
    "    ( \"numeric\"    , StandardScaler(), numeric_vars + binary_vars ),\n",
    "    ( \"categorical\", OneHotEncoder() , categorical_vars           )\n",
    "])"
   ]
  },
  {
   "cell_type": "markdown",
   "metadata": {
    "id": "BS0Ny7WoEgUI"
   },
   "source": [
    "- Il trasformatore ha la stessa interfaccia di un filtro, possiamo quindi usarlo come sempre per trasformare il training set e il validation set\n",
    "  - passiamo i due set per intero: il trasformatore li suddividerà in gruppi da trattare separatamente secondo la definizione sopra"
   ]
  },
  {
   "cell_type": "code",
   "execution_count": 36,
   "metadata": {
    "id": "yuhla5uHEgUI"
   },
   "outputs": [],
   "source": [
    "X_train_proc = preprocessor.fit_transform(data_train)\n",
    "X_val_proc = preprocessor.transform(data_val)"
   ]
  },
  {
   "cell_type": "markdown",
   "metadata": {
    "id": "y_OWZGImEgUJ"
   },
   "source": [
    "- Il risultato è esattamente uguale a quello ottenuto sopra concatenando gli array risultanti dalle applicazioni dei filtri sui dati separati manualmente"
   ]
  },
  {
   "cell_type": "code",
   "execution_count": 37,
   "metadata": {
    "colab": {
     "base_uri": "https://localhost:8080/"
    },
    "id": "zlctNIWpEgUJ",
    "outputId": "b258448f-b30b-4f25-e4e9-44ee509e7053"
   },
   "outputs": [
    {
     "data": {
      "text/plain": [
       "True"
      ]
     },
     "execution_count": 37,
     "metadata": {},
     "output_type": "execute_result"
    }
   ],
   "source": [
    "np.array_equal(X_train_combo, X_train_proc)"
   ]
  },
  {
   "cell_type": "code",
   "execution_count": 38,
   "metadata": {
    "colab": {
     "base_uri": "https://localhost:8080/"
    },
    "id": "NUHObUR6EgUJ",
    "outputId": "b6d4a2bb-860a-4970-d235-ff9862272261"
   },
   "outputs": [
    {
     "data": {
      "text/plain": [
       "True"
      ]
     },
     "execution_count": 38,
     "metadata": {},
     "output_type": "execute_result"
    }
   ],
   "source": [
    "np.array_equal(X_val_combo, X_val_proc)"
   ]
  },
  {
   "cell_type": "code",
   "execution_count": 39,
   "metadata": {
    "colab": {
     "base_uri": "https://localhost:8080/"
    },
    "id": "TFvMwdvlEgUJ",
    "outputId": "f83da299-cff6-4773-ce7a-85223ab947f0"
   },
   "outputs": [
    {
     "data": {
      "text/plain": [
       "0.24806857504695334"
      ]
     },
     "execution_count": 39,
     "metadata": {},
     "output_type": "execute_result"
    }
   ],
   "source": [
    "model = Ridge()\n",
    "model.fit(X_train_proc, y_train)\n",
    "model.score(X_val_proc, y_val)"
   ]
  },
  {
   "cell_type": "markdown",
   "metadata": {
    "id": "N3M9wJd9EgUJ"
   },
   "source": [
    "- Anche il `ColumnTransformer`, essendo un filtro, può essere usato all'interno di una pipeline\n",
    "- Otteniamo così anche in questo caso un unico oggetto composito che contiene il modello di classificazione insieme a tutti i filtri da applicare ai dati"
   ]
  },
  {
   "cell_type": "code",
   "execution_count": 40,
   "metadata": {
    "colab": {
     "base_uri": "https://localhost:8080/"
    },
    "id": "mfQcABa0EgUK",
    "outputId": "768cba03-d49d-41cb-99b6-f2f770b02e2e"
   },
   "outputs": [
    {
     "data": {
      "text/plain": [
       "0.24806857504695334"
      ]
     },
     "execution_count": 40,
     "metadata": {},
     "output_type": "execute_result"
    }
   ],
   "source": [
    "# definizione con transformer definito a parte\n",
    "transformer = ColumnTransformer([\n",
    "    (\"numeric\"    , StandardScaler(), numeric_vars + binary_vars),\n",
    "    (\"categorical\", OneHotEncoder() , categorical_vars)\n",
    "])\n",
    "model = Pipeline([\n",
    "    (\"preproc\", transformer),\n",
    "    (\"regr\"   , Ridge())\n",
    "])\n",
    "\n",
    "# definizione equivalente con transformer innestato\n",
    "model = Pipeline([\n",
    "    (\"preproc\", ColumnTransformer([\n",
    "        (\"numeric\", StandardScaler(), numeric_vars + binary_vars),\n",
    "        (\"categorical\", OneHotEncoder(), categorical_vars)\n",
    "    ])),\n",
    "    (\"regr\", Ridge())\n",
    "])\n",
    "model.fit(data_train, y_train)\n",
    "model.score(data_val, y_val)"
   ]
  },
  {
   "cell_type": "markdown",
   "metadata": {
    "id": "NXPiZ1iDEgUK"
   },
   "source": [
    "- Analogamente a `Pipeline.named_steps`, `ColumnTranformers` permette di accedere ai singoli filtri tramite il dizionario `named_transformers_`\n",
    "- Ad esempio, per ispezionare le medie rilevate sul training set dallo `StandardScaler` sulle variabili numeriche:"
   ]
  },
  {
   "cell_type": "code",
   "execution_count": 41,
   "metadata": {
    "colab": {
     "base_uri": "https://localhost:8080/"
    },
    "id": "wZJa0Eu0EgUK",
    "outputId": "c70f4cfb-e67c-4854-89b7-0969dd624af4"
   },
   "outputs": [
    {
     "data": {
      "text/plain": [
       "CompetitionOpen               7731.256875\n",
       "CompetitionDistance           5445.036515\n",
       "CompetitionOpenSinceMonth        4.926207\n",
       "CompetitionOpenSinceYear      1369.652314\n",
       "Promo2SinceWeek                 11.573756\n",
       "Promo2SinceYear               1001.963511\n",
       "PromoOpen                    12145.351147\n",
       "Promo                            0.447946\n",
       "SchoolHoliday                    0.186730\n",
       "Promo2                           0.498055\n",
       "IsPromoMonth                     0.168130\n",
       "dtype: float64"
      ]
     },
     "execution_count": 41,
     "metadata": {},
     "output_type": "execute_result"
    }
   ],
   "source": [
    "pd.Series(\n",
    "    model.named_steps[\"preproc\"].named_transformers_[\"numeric\"].mean_,\n",
    "    index=numeric_vars + binary_vars\n",
    ")"
   ]
  },
  {
   "cell_type": "markdown",
   "metadata": {
    "id": "lgwDqYdlEgUK"
   },
   "source": [
    "- Nella definizione del `ColumnTransformer` si può usare la stringa `\"passthrough\"` al posto di un filtro per utilizzare i dati senza applicare filtri\n",
    "- Come ulteriore opzione, si può utilizzare la stringa `\"drop\"` per scartare completamente i dati\n",
    "- Ad esempio, modifichiamo la pipeline sopra per suddividere le variabili numeriche da quelle binarie e non applicare la standardizzazione (non necessaria) a queste ultime"
   ]
  },
  {
   "cell_type": "code",
   "execution_count": 42,
   "metadata": {
    "colab": {
     "base_uri": "https://localhost:8080/"
    },
    "id": "qFkTvDT3EgUK",
    "outputId": "a8d0c5b4-7218-4a5f-9a5b-ca92401b2fcd"
   },
   "outputs": [
    {
     "data": {
      "text/plain": [
       "0.2483045167103518"
      ]
     },
     "execution_count": 42,
     "metadata": {},
     "output_type": "execute_result"
    }
   ],
   "source": [
    "model = Pipeline([\n",
    "    (\"preproc\", ColumnTransformer([\n",
    "        (\"numeric\",     StandardScaler(), numeric_vars),\n",
    "        (\"binary\",      \"passthrough\",    binary_vars),       # <---\n",
    "        (\"categorical\", OneHotEncoder(),  categorical_vars)\n",
    "    ])),\n",
    "    (\"regr\", Ridge())\n",
    "])\n",
    "model.fit(data_train, y_train)\n",
    "model.score(data_val, y_val)"
   ]
  },
  {
   "cell_type": "markdown",
   "metadata": {
    "id": "srs_kcHPEgUL"
   },
   "source": [
    "- Si può anche usare l'opzione `remainder` per indicare un filtro o un comportamento di default da applicare alle colonne che non fanno parte di alcun gruppo\n",
    "- Riscriviamo l'esempio sopra definendo esplicitamente il gruppo di variabili categoriche e quello di variabili del dataset da NON usare come X e definendo il comportamento per tutte le altre\n",
    "  - di default `remainder=\"drop\"`, ovvero tutte le variabili non processate sono scartate"
   ]
  },
  {
   "cell_type": "code",
   "execution_count": 43,
   "metadata": {
    "colab": {
     "base_uri": "https://localhost:8080/"
    },
    "id": "6NdNBDH4EgUL",
    "outputId": "3d8009fd-06bb-4ce8-e278-5d535587967e"
   },
   "outputs": [
    {
     "data": {
      "text/plain": [
       "0.23989956065358742"
      ]
     },
     "execution_count": 43,
     "metadata": {},
     "output_type": "execute_result"
    }
   ],
   "source": [
    "model = Pipeline([\n",
    "    (\"preproc\", ColumnTransformer([\n",
    "        (\"categorical\", OneHotEncoder(), categorical_vars),\n",
    "        (\"unused\",      \"drop\",          [\"Store\", \"Date\", \"Customers\", \"Sales\"])\n",
    "    ], remainder=\"passthrough\")),                          # <---\n",
    "    (\"regr\", Ridge())\n",
    "])\n",
    "model.fit(data_train, y_train)\n",
    "model.score(data_val, y_val)"
   ]
  },
  {
   "cell_type": "markdown",
   "metadata": {
    "id": "ec8fkvruEgUL"
   },
   "source": [
    "- In una grid search, possiamo riferirci ai singoli filtri del transformer e ai loro parametri con modalità analoghe a quelle viste nelle pipeline più semplici\n",
    "  - si ipotizzi di avere un transformer come componente di una pipeline con nome `preproc`, come negli esempi sopra\n",
    "  - per riferirsi al filtro di un gruppo `group`, si indica `preproc__group`\n",
    "  - per riferirsi al parametro `par` di tale filtro, si indica `preproc__group__par`\n",
    "- Definiamo ad esempio una grid search con modello simile a quello sopra in cui\n",
    "  - alle variabili numeriche può essere applicato o meno `StandardScaler`\n",
    "  - il one-hot encoding delle variabili categoriche può essere applicato con `drop=\"first\"` o `drop=None` (default)"
   ]
  },
  {
   "cell_type": "code",
   "execution_count": 44,
   "metadata": {
    "id": "R7jQrka0EgUL"
   },
   "outputs": [],
   "source": [
    "model = Pipeline([\n",
    "    (\"preproc\", ColumnTransformer([\n",
    "        (\"numeric\", ..., numeric_vars),  # possiamo usare un valore arbitrario al posto di \"...\"\n",
    "        (\"binary\", \"passthrough\", binary_vars),\n",
    "        (\"categorical\", OneHotEncoder(), categorical_vars)\n",
    "    ])),\n",
    "    (\"regr\", Ridge())\n",
    "])\n",
    "grid = {\n",
    "    # variazione dell'intero filtro da usare\n",
    "    \"preproc__numeric\": [\"passthrough\", StandardScaler()],\n",
    "    # variazione di un singolo parametro di un filtro\n",
    "    \"preproc__categorical__drop\": [None, \"first\"]\n",
    "}"
   ]
  },
  {
   "cell_type": "markdown",
   "metadata": {
    "id": "1EZsxYwjEgUL"
   },
   "source": [
    "- Eseguiamo la grid search, usando ad esempio la cross validation a 3 fold"
   ]
  },
  {
   "cell_type": "code",
   "execution_count": 45,
   "metadata": {
    "id": "cD7SADd0EgUM"
   },
   "outputs": [],
   "source": [
    "from sklearn.model_selection import GridSearchCV, KFold\n",
    "kf = KFold(3, shuffle=True, random_state=42)\n",
    "gs = GridSearchCV(model, grid, cv=kf)\n",
    "gs.fit(data_train, y_train);"
   ]
  },
  {
   "cell_type": "markdown",
   "metadata": {
    "id": "uf9OqHkeEgUM"
   },
   "source": [
    "- Vediamo la configurazione migliore individuata e il confronto tra tutte quelle testate"
   ]
  },
  {
   "cell_type": "code",
   "execution_count": 46,
   "metadata": {
    "colab": {
     "base_uri": "https://localhost:8080/"
    },
    "id": "ZqeI8qGmEgUM",
    "outputId": "cc3010a1-bc0e-4daf-d474-5888c7e7f5cf"
   },
   "outputs": [
    {
     "data": {
      "text/plain": [
       "{'preproc__categorical__drop': None, 'preproc__numeric': 'passthrough'}"
      ]
     },
     "execution_count": 46,
     "metadata": {},
     "output_type": "execute_result"
    }
   ],
   "source": [
    "gs.best_params_"
   ]
  },
  {
   "cell_type": "code",
   "execution_count": 47,
   "metadata": {
    "colab": {
     "base_uri": "https://localhost:8080/",
     "height": 308
    },
    "id": "AEHGmymTEgUM",
    "outputId": "4172ebab-cd66-412c-d610-b09eaa5b9714"
   },
   "outputs": [
    {
     "data": {
      "text/html": [
       "<div>\n",
       "<style scoped>\n",
       "    .dataframe tbody tr th:only-of-type {\n",
       "        vertical-align: middle;\n",
       "    }\n",
       "\n",
       "    .dataframe tbody tr th {\n",
       "        vertical-align: top;\n",
       "    }\n",
       "\n",
       "    .dataframe thead th {\n",
       "        text-align: right;\n",
       "    }\n",
       "</style>\n",
       "<table border=\"1\" class=\"dataframe\">\n",
       "  <thead>\n",
       "    <tr style=\"text-align: right;\">\n",
       "      <th></th>\n",
       "      <th>mean_fit_time</th>\n",
       "      <th>std_fit_time</th>\n",
       "      <th>mean_score_time</th>\n",
       "      <th>std_score_time</th>\n",
       "      <th>param_preproc__categorical__drop</th>\n",
       "      <th>param_preproc__numeric</th>\n",
       "      <th>params</th>\n",
       "      <th>split0_test_score</th>\n",
       "      <th>split1_test_score</th>\n",
       "      <th>split2_test_score</th>\n",
       "      <th>mean_test_score</th>\n",
       "      <th>std_test_score</th>\n",
       "      <th>rank_test_score</th>\n",
       "    </tr>\n",
       "  </thead>\n",
       "  <tbody>\n",
       "    <tr>\n",
       "      <th>0</th>\n",
       "      <td>0.519951</td>\n",
       "      <td>0.012433</td>\n",
       "      <td>0.149249</td>\n",
       "      <td>0.009292</td>\n",
       "      <td>None</td>\n",
       "      <td>passthrough</td>\n",
       "      <td>{'preproc__categorical__drop': None, 'preproc_...</td>\n",
       "      <td>0.203672</td>\n",
       "      <td>0.205190</td>\n",
       "      <td>0.204515</td>\n",
       "      <td>0.204459</td>\n",
       "      <td>0.000621</td>\n",
       "      <td>1</td>\n",
       "    </tr>\n",
       "    <tr>\n",
       "      <th>2</th>\n",
       "      <td>0.552557</td>\n",
       "      <td>0.012640</td>\n",
       "      <td>0.178642</td>\n",
       "      <td>0.004261</td>\n",
       "      <td>first</td>\n",
       "      <td>passthrough</td>\n",
       "      <td>{'preproc__categorical__drop': 'first', 'prepr...</td>\n",
       "      <td>0.203672</td>\n",
       "      <td>0.205190</td>\n",
       "      <td>0.204515</td>\n",
       "      <td>0.204459</td>\n",
       "      <td>0.000621</td>\n",
       "      <td>2</td>\n",
       "    </tr>\n",
       "    <tr>\n",
       "      <th>1</th>\n",
       "      <td>0.644412</td>\n",
       "      <td>0.007778</td>\n",
       "      <td>0.169534</td>\n",
       "      <td>0.002951</td>\n",
       "      <td>None</td>\n",
       "      <td>StandardScaler()</td>\n",
       "      <td>{'preproc__categorical__drop': None, 'preproc_...</td>\n",
       "      <td>0.200944</td>\n",
       "      <td>0.202868</td>\n",
       "      <td>0.202179</td>\n",
       "      <td>0.201997</td>\n",
       "      <td>0.000796</td>\n",
       "      <td>3</td>\n",
       "    </tr>\n",
       "    <tr>\n",
       "      <th>3</th>\n",
       "      <td>0.675843</td>\n",
       "      <td>0.014720</td>\n",
       "      <td>0.199612</td>\n",
       "      <td>0.006602</td>\n",
       "      <td>first</td>\n",
       "      <td>StandardScaler()</td>\n",
       "      <td>{'preproc__categorical__drop': 'first', 'prepr...</td>\n",
       "      <td>0.200944</td>\n",
       "      <td>0.202868</td>\n",
       "      <td>0.202179</td>\n",
       "      <td>0.201997</td>\n",
       "      <td>0.000796</td>\n",
       "      <td>4</td>\n",
       "    </tr>\n",
       "  </tbody>\n",
       "</table>\n",
       "</div>"
      ],
      "text/plain": [
       "   mean_fit_time  std_fit_time  mean_score_time  std_score_time  \\\n",
       "0       0.519951      0.012433         0.149249        0.009292   \n",
       "2       0.552557      0.012640         0.178642        0.004261   \n",
       "1       0.644412      0.007778         0.169534        0.002951   \n",
       "3       0.675843      0.014720         0.199612        0.006602   \n",
       "\n",
       "  param_preproc__categorical__drop param_preproc__numeric  \\\n",
       "0                             None            passthrough   \n",
       "2                            first            passthrough   \n",
       "1                             None       StandardScaler()   \n",
       "3                            first       StandardScaler()   \n",
       "\n",
       "                                              params  split0_test_score  \\\n",
       "0  {'preproc__categorical__drop': None, 'preproc_...           0.203672   \n",
       "2  {'preproc__categorical__drop': 'first', 'prepr...           0.203672   \n",
       "1  {'preproc__categorical__drop': None, 'preproc_...           0.200944   \n",
       "3  {'preproc__categorical__drop': 'first', 'prepr...           0.200944   \n",
       "\n",
       "   split1_test_score  split2_test_score  mean_test_score  std_test_score  \\\n",
       "0           0.205190           0.204515         0.204459        0.000621   \n",
       "2           0.205190           0.204515         0.204459        0.000621   \n",
       "1           0.202868           0.202179         0.201997        0.000796   \n",
       "3           0.202868           0.202179         0.201997        0.000796   \n",
       "\n",
       "   rank_test_score  \n",
       "0                1  \n",
       "2                2  \n",
       "1                3  \n",
       "3                4  "
      ]
     },
     "execution_count": 47,
     "metadata": {},
     "output_type": "execute_result"
    }
   ],
   "source": [
    "pd.DataFrame(gs.cv_results_).sort_values(\"rank_test_score\")"
   ]
  },
  {
   "cell_type": "markdown",
   "metadata": {
    "id": "ohbamPZkEgUM"
   },
   "source": [
    "## Esercizio 3: Grid search su pipeline complessa\n",
    "\n",
    "- Effettuare la grid search con cross validation come sopra (`kf`) ed estrarre la configurazione migliore e l'accuratezza sul validation set su\n",
    "  - **(3a)** un modello di regressione ridge su tutte le variabili con\n",
    "    - one-hot encoding delle variabili categoriche con tutte le impostazioni di default\n",
    "    - generazione di feature polinomiali dalle variabili numeriche e binarie con grado da 1 a 3\n",
    "    - parametro `alpha` della regressione ridge pari a 0.01 o 1\n",
    "  - **(3b)** un modello simile, ma con standardizzazione delle variabili numeriche e binarie prima di generare le feature polinomiali\n",
    "    - utilizzare una pipeline per concatenare i due filtri\n",
    "- Per ridurre i tempi di calcolo, utilizzare il dataset `data_train_sample` + `y_train_sample` creato sotto, composto da 60000 istanze prese casualmente del training set"
   ]
  },
  {
   "cell_type": "code",
   "execution_count": 48,
   "metadata": {
    "id": "cHapTUPGEgUN"
   },
   "outputs": [],
   "source": [
    "# il metodo sample seleziona casualmente un sottoinsieme di righe del DataFrame\n",
    "data_train_sample = data_train.sample(60000, random_state=42)\n",
    "# il metodo reindex_like seleziona dalla serie le istanze corrispondenti\n",
    "y_train_sample = y_train.reindex_like(data_train_sample)"
   ]
  },
  {
   "cell_type": "code",
   "execution_count": 49,
   "metadata": {
    "id": "6597bZ8-EgUN",
    "scrolled": false
   },
   "outputs": [],
   "source": [
    "from sklearn.preprocessing import PolynomialFeatures"
   ]
  },
  {
   "cell_type": "code",
   "execution_count": 50,
   "metadata": {
    "scrolled": false
   },
   "outputs": [
    {
     "name": "stderr",
     "output_type": "stream",
     "text": [
      "C:\\Users\\Federico\\anaconda3\\lib\\site-packages\\sklearn\\linear_model\\_ridge.py:147: LinAlgWarning: Ill-conditioned matrix (rcond=1.00675e-24): result may not be accurate.\n",
      "  return linalg.solve(A, Xy, sym_pos=True,\n",
      "C:\\Users\\Federico\\anaconda3\\lib\\site-packages\\sklearn\\linear_model\\_ridge.py:147: LinAlgWarning: Ill-conditioned matrix (rcond=1.10634e-24): result may not be accurate.\n",
      "  return linalg.solve(A, Xy, sym_pos=True,\n",
      "C:\\Users\\Federico\\anaconda3\\lib\\site-packages\\sklearn\\linear_model\\_ridge.py:147: LinAlgWarning: Ill-conditioned matrix (rcond=1.05383e-24): result may not be accurate.\n",
      "  return linalg.solve(A, Xy, sym_pos=True,\n",
      "C:\\Users\\Federico\\anaconda3\\lib\\site-packages\\sklearn\\linear_model\\_ridge.py:147: LinAlgWarning: Ill-conditioned matrix (rcond=1.09632e-22): result may not be accurate.\n",
      "  return linalg.solve(A, Xy, sym_pos=True,\n",
      "C:\\Users\\Federico\\anaconda3\\lib\\site-packages\\sklearn\\linear_model\\_ridge.py:147: LinAlgWarning: Ill-conditioned matrix (rcond=1.20538e-22): result may not be accurate.\n",
      "  return linalg.solve(A, Xy, sym_pos=True,\n",
      "C:\\Users\\Federico\\anaconda3\\lib\\site-packages\\sklearn\\linear_model\\_ridge.py:147: LinAlgWarning: Ill-conditioned matrix (rcond=1.09305e-22): result may not be accurate.\n",
      "  return linalg.solve(A, Xy, sym_pos=True,\n"
     ]
    },
    {
     "name": "stdout",
     "output_type": "stream",
     "text": [
      "{'preproc__num__degree': 3, 'ridgle__alpha': 1}\n",
      "0.27430283128068667\n"
     ]
    }
   ],
   "source": [
    "r_model = Pipeline([\n",
    "    (\"preproc\", ColumnTransformer([\n",
    "        (\"num\", PolynomialFeatures(include_bias=False), numeric_vars + binary_vars),\n",
    "        (\"cat\", OneHotEncoder(), categorical_vars)\n",
    "    ])),\n",
    "    (\"ridgle\", Ridge())\n",
    "])\n",
    "grid = {\n",
    "    \"preproc__num__degree\" : [1,2,3],\n",
    "    \"ridgle__alpha\" : [0.01, 1]\n",
    "}\n",
    "gs = GridSearchCV(r_model, grid, cv=kf)\n",
    "gs.fit(data_train_sample, y_train_sample)\n",
    "print(gs.best_params_)\n",
    "print(gs.score(data_val, y_val))"
   ]
  },
  {
   "cell_type": "code",
   "execution_count": 51,
   "metadata": {},
   "outputs": [
    {
     "name": "stdout",
     "output_type": "stream",
     "text": [
      "{'preproc__num__poly__degree': 3, 'ridgle__alpha': 0.01}\n",
      "0.2650812083365226\n"
     ]
    }
   ],
   "source": [
    "r_model = Pipeline([\n",
    "    (\"preproc\", ColumnTransformer([\n",
    "        (\"num\", Pipeline([\n",
    "            (\"scaler\", StandardScaler()),\n",
    "            (\"poly\", PolynomialFeatures(include_bias=False))\n",
    "        ]), numeric_vars + binary_vars),\n",
    "        (\"cat\", OneHotEncoder(), categorical_vars),\n",
    "    ])),\n",
    "    (\"ridgle\", Ridge())\n",
    "])\n",
    "grid = {\n",
    "    \"preproc__num__poly__degree\" : [1,2,3],\n",
    "    \"ridgle__alpha\" : [0.01, 1]\n",
    "}\n",
    "gs = GridSearchCV(r_model, grid, cv=kf)\n",
    "gs.fit(data_train_sample, y_train_sample)\n",
    "print(gs.best_params_)\n",
    "print(gs.score(data_val, y_val))"
   ]
  },
  {
   "cell_type": "markdown",
   "metadata": {
    "tags": []
   },
   "source": [
    "## Trasformazioni arbitrarie di variabili\n",
    "\n",
    "- I filtri predefiniti di scikit-learn permettono di applicare trasformazioni di uso comune (standardizzazione, one-hot encoding, ...)\n",
    "- In alcuni casi può essere utile applicare traasformazioni ad hoc sui dati a disposizione\n",
    "- Consideriamo ad esempio una colonna che indica la data a cui si riferiscono i dati, presente nel dataset Rossman e in molti altri\n",
    "- Non possiamo utilizzarla direttamente come variabile: al modello sarà richiesto di effettuare predizioni in date future rispetto a quelle su cui è addestrato il modello\n",
    "  - training e validation set sono già suddivisi in questo modo\n",
    "- Possiamo però usare come variabili dei campi dalla data, quali il mese o il giorno della settimana\n",
    "  - così il modello può apprendere ad es. ricorrenze settimanali o annuali\n",
    "- Creiamo una funzione `extract_date_fields` che, dato in ingresso un DataFrame con delle date, ne restituisce uno con i componenti di nostro interesse"
   ]
  },
  {
   "cell_type": "code",
   "execution_count": 52,
   "metadata": {
    "id": "wu83U3xQMSBg"
   },
   "outputs": [],
   "source": [
    "def extract_date_fields(X):\n",
    "    result = {}\n",
    "    for col in X.columns:\n",
    "        result[f\"{col}_day\"]       = X[col].dt.day        # giorno del mese (1-31)\n",
    "        result[f\"{col}_month\"]     = X[col].dt.month      # mese (1-12)\n",
    "        result[f\"{col}_dayofweek\"] = X[col].dt.dayofweek  # giorno della settimana (0-6)\n",
    "    return pd.DataFrame(result)"
   ]
  },
  {
   "cell_type": "markdown",
   "metadata": {
    "id": "BQzFR8GFMSBg"
   },
   "source": [
    "- Vediamo un esempio di applicazione"
   ]
  },
  {
   "cell_type": "code",
   "execution_count": 53,
   "metadata": {
    "colab": {
     "base_uri": "https://localhost:8080/",
     "height": 143
    },
    "id": "L3vn_G1QMSBh",
    "outputId": "2505e4a4-0c95-44fd-cdf4-0d47f445c1fd"
   },
   "outputs": [
    {
     "data": {
      "text/html": [
       "<div>\n",
       "<style scoped>\n",
       "    .dataframe tbody tr th:only-of-type {\n",
       "        vertical-align: middle;\n",
       "    }\n",
       "\n",
       "    .dataframe tbody tr th {\n",
       "        vertical-align: top;\n",
       "    }\n",
       "\n",
       "    .dataframe thead th {\n",
       "        text-align: right;\n",
       "    }\n",
       "</style>\n",
       "<table border=\"1\" class=\"dataframe\">\n",
       "  <thead>\n",
       "    <tr style=\"text-align: right;\">\n",
       "      <th></th>\n",
       "      <th>Date</th>\n",
       "    </tr>\n",
       "  </thead>\n",
       "  <tbody>\n",
       "    <tr>\n",
       "      <th>176169</th>\n",
       "      <td>2014-12-04</td>\n",
       "    </tr>\n",
       "    <tr>\n",
       "      <th>419473</th>\n",
       "      <td>2014-02-20</td>\n",
       "    </tr>\n",
       "    <tr>\n",
       "      <th>647413</th>\n",
       "      <td>2013-06-21</td>\n",
       "    </tr>\n",
       "    <tr>\n",
       "      <th>377659</th>\n",
       "      <td>2014-04-04</td>\n",
       "    </tr>\n",
       "    <tr>\n",
       "      <th>202662</th>\n",
       "      <td>2014-10-31</td>\n",
       "    </tr>\n",
       "  </tbody>\n",
       "</table>\n",
       "</div>"
      ],
      "text/plain": [
       "             Date\n",
       "176169 2014-12-04\n",
       "419473 2014-02-20\n",
       "647413 2013-06-21\n",
       "377659 2014-04-04\n",
       "202662 2014-10-31"
      ]
     },
     "execution_count": 53,
     "metadata": {},
     "output_type": "execute_result"
    }
   ],
   "source": [
    "data_train[[\"Date\"]].sample(5, random_state=42)"
   ]
  },
  {
   "cell_type": "code",
   "execution_count": 54,
   "metadata": {
    "colab": {
     "base_uri": "https://localhost:8080/",
     "height": 143
    },
    "id": "zF-dYNi7MSBh",
    "outputId": "fbb99402-ef9f-4db3-96e5-d03ea57a1f78"
   },
   "outputs": [
    {
     "data": {
      "text/html": [
       "<div>\n",
       "<style scoped>\n",
       "    .dataframe tbody tr th:only-of-type {\n",
       "        vertical-align: middle;\n",
       "    }\n",
       "\n",
       "    .dataframe tbody tr th {\n",
       "        vertical-align: top;\n",
       "    }\n",
       "\n",
       "    .dataframe thead th {\n",
       "        text-align: right;\n",
       "    }\n",
       "</style>\n",
       "<table border=\"1\" class=\"dataframe\">\n",
       "  <thead>\n",
       "    <tr style=\"text-align: right;\">\n",
       "      <th></th>\n",
       "      <th>Date_day</th>\n",
       "      <th>Date_month</th>\n",
       "      <th>Date_dayofweek</th>\n",
       "    </tr>\n",
       "  </thead>\n",
       "  <tbody>\n",
       "    <tr>\n",
       "      <th>176169</th>\n",
       "      <td>4</td>\n",
       "      <td>12</td>\n",
       "      <td>3</td>\n",
       "    </tr>\n",
       "    <tr>\n",
       "      <th>419473</th>\n",
       "      <td>20</td>\n",
       "      <td>2</td>\n",
       "      <td>3</td>\n",
       "    </tr>\n",
       "    <tr>\n",
       "      <th>647413</th>\n",
       "      <td>21</td>\n",
       "      <td>6</td>\n",
       "      <td>4</td>\n",
       "    </tr>\n",
       "    <tr>\n",
       "      <th>377659</th>\n",
       "      <td>4</td>\n",
       "      <td>4</td>\n",
       "      <td>4</td>\n",
       "    </tr>\n",
       "    <tr>\n",
       "      <th>202662</th>\n",
       "      <td>31</td>\n",
       "      <td>10</td>\n",
       "      <td>4</td>\n",
       "    </tr>\n",
       "  </tbody>\n",
       "</table>\n",
       "</div>"
      ],
      "text/plain": [
       "        Date_day  Date_month  Date_dayofweek\n",
       "176169         4          12               3\n",
       "419473        20           2               3\n",
       "647413        21           6               4\n",
       "377659         4           4               4\n",
       "202662        31          10               4"
      ]
     },
     "execution_count": 54,
     "metadata": {},
     "output_type": "execute_result"
    }
   ],
   "source": [
    "extract_date_fields(data_train[[\"Date\"]])   .sample(5, random_state=42)"
   ]
  },
  {
   "cell_type": "markdown",
   "metadata": {
    "id": "pos8Vo76MSBh"
   },
   "source": [
    "- Per comporre questa trasformazione con le altre necessarie, la incapsuliamo in un filtro compatibile con gli altri di scikit-learn\n",
    "- Utilizziamo la classe `FunctionTransformer`, che permette di creare filtri basati su funzioni stateless (non viene salvata nessuna informazione in fase di `fit`)\n",
    "- Creiamo ad esempio un filtro passando la funzione da applicare"
   ]
  },
  {
   "cell_type": "code",
   "execution_count": 55,
   "metadata": {
    "id": "dKc3dVXoMSBh"
   },
   "outputs": [],
   "source": [
    "from sklearn.preprocessing import FunctionTransformer\n",
    "date_transformer = FunctionTransformer(extract_date_fields)"
   ]
  },
  {
   "cell_type": "markdown",
   "metadata": {
    "id": "1zQYOvvpMSBh"
   },
   "source": [
    "- Possiamo quindi utilizzarlo allo stesso modo degli altri filtri"
   ]
  },
  {
   "cell_type": "code",
   "execution_count": 56,
   "metadata": {
    "colab": {
     "base_uri": "https://localhost:8080/",
     "height": 143
    },
    "id": "XPpBoD4uMSBh",
    "outputId": "2e8b2fe0-c0b4-4f65-8020-847f629e3b0b"
   },
   "outputs": [
    {
     "data": {
      "text/html": [
       "<div>\n",
       "<style scoped>\n",
       "    .dataframe tbody tr th:only-of-type {\n",
       "        vertical-align: middle;\n",
       "    }\n",
       "\n",
       "    .dataframe tbody tr th {\n",
       "        vertical-align: top;\n",
       "    }\n",
       "\n",
       "    .dataframe thead th {\n",
       "        text-align: right;\n",
       "    }\n",
       "</style>\n",
       "<table border=\"1\" class=\"dataframe\">\n",
       "  <thead>\n",
       "    <tr style=\"text-align: right;\">\n",
       "      <th></th>\n",
       "      <th>Date_day</th>\n",
       "      <th>Date_month</th>\n",
       "      <th>Date_dayofweek</th>\n",
       "    </tr>\n",
       "  </thead>\n",
       "  <tbody>\n",
       "    <tr>\n",
       "      <th>176169</th>\n",
       "      <td>4</td>\n",
       "      <td>12</td>\n",
       "      <td>3</td>\n",
       "    </tr>\n",
       "    <tr>\n",
       "      <th>419473</th>\n",
       "      <td>20</td>\n",
       "      <td>2</td>\n",
       "      <td>3</td>\n",
       "    </tr>\n",
       "    <tr>\n",
       "      <th>647413</th>\n",
       "      <td>21</td>\n",
       "      <td>6</td>\n",
       "      <td>4</td>\n",
       "    </tr>\n",
       "    <tr>\n",
       "      <th>377659</th>\n",
       "      <td>4</td>\n",
       "      <td>4</td>\n",
       "      <td>4</td>\n",
       "    </tr>\n",
       "    <tr>\n",
       "      <th>202662</th>\n",
       "      <td>31</td>\n",
       "      <td>10</td>\n",
       "      <td>4</td>\n",
       "    </tr>\n",
       "  </tbody>\n",
       "</table>\n",
       "</div>"
      ],
      "text/plain": [
       "        Date_day  Date_month  Date_dayofweek\n",
       "176169         4          12               3\n",
       "419473        20           2               3\n",
       "647413        21           6               4\n",
       "377659         4           4               4\n",
       "202662        31          10               4"
      ]
     },
     "execution_count": 56,
     "metadata": {},
     "output_type": "execute_result"
    }
   ],
   "source": [
    "date_transformer.fit_transform(data_train[[\"Date\"]])   .sample(5, random_state=42)"
   ]
  },
  {
   "cell_type": "markdown",
   "metadata": {
    "id": "3mVtRwvDMSBh"
   },
   "source": [
    "- Utilizziamo quindi un `ColumnTransformer` per combinare insieme tutte le colonne pre-elaborate opportunamente\n",
    "  - le colonne numeriche e binarie sono prese così come sono (_passthrough_)\n",
    "  - alle colonne categoriche è applicato il one-hot encoding\n",
    "  - dalla colonna `Date` sono estratti i componenti della data\n",
    "- Mettiamo questo filtro in pipeline con uno `StandardScaler` per standardizzare tutte le variabili"
   ]
  },
  {
   "cell_type": "code",
   "execution_count": 57,
   "metadata": {
    "id": "IwYD_AHHMSBi"
   },
   "outputs": [],
   "source": [
    "date_transformer = FunctionTransformer(extract_date_fields)\n",
    "transformer = Pipeline([\n",
    "    (\"cols\", ColumnTransformer([\n",
    "        (\"num\" , \"passthrough\",    numeric_vars + binary_vars),\n",
    "        (\"cat\" , OneHotEncoder(),  categorical_vars),\n",
    "        (\"date\", date_transformer, [\"Date\"]),\n",
    "    ])),\n",
    "    (\"scaler\", StandardScaler()),\n",
    "])"
   ]
  },
  {
   "cell_type": "markdown",
   "metadata": {},
   "source": [
    "- Nel resto dell'esercitazione useremo sempre i dati preprocessati in questo modo e li testeremo su algoritmi di learning diversi\n",
    "- Per concentrarsi su di essi, estraiamo già versioni preprocessate di training e validation set da utilizzare in seguito senza pipeline"
   ]
  },
  {
   "cell_type": "code",
   "execution_count": 59,
   "metadata": {},
   "outputs": [],
   "source": [
    "X_train = transformer.fit_transform(data_train)\n",
    "X_val = transformer.transform(data_val)"
   ]
  },
  {
   "cell_type": "markdown",
   "metadata": {},
   "source": [
    "- Estraiamo una lista con i nomi delle feature processate"
   ]
  },
  {
   "cell_type": "code",
   "execution_count": 60,
   "metadata": {
    "colab": {
     "base_uri": "https://localhost:8080/"
    },
    "id": "kraC_oWeEgUT",
    "outputId": "c4278aeb-bb7b-4519-eff5-e11c1976c8ec"
   },
   "outputs": [],
   "source": [
    "X_names = np.r_[\n",
    "    numeric_vars,\n",
    "    binary_vars,\n",
    "    transformer.named_steps[\"cols\"].named_transformers_[\"cat\"].get_feature_names(categorical_vars),\n",
    "    [\"Date_day\", \"Date_month\", \"Date_dayofweek\"],\n",
    "].tolist()"
   ]
  },
  {
   "cell_type": "code",
   "execution_count": 61,
   "metadata": {},
   "outputs": [
    {
     "name": "stdout",
     "output_type": "stream",
     "text": [
      "CompetitionOpen, CompetitionDistance, CompetitionOpenSinceMonth, CompetitionOpenSinceYear, Promo2SinceWeek, Promo2SinceYear, PromoOpen, Promo, SchoolHoliday, Promo2, IsPromoMonth, StateHoliday_0, StateHoliday_1, StateHoliday_2, StateHoliday_3, StoreType_1, StoreType_2, StoreType_3, StoreType_4, Assortment_1, Assortment_2, Assortment_3, Date_day, Date_month, Date_dayofweek\n"
     ]
    }
   ],
   "source": [
    "# stampo i nomi di tutte le feature\n",
    "print(\", \".join(X_names))"
   ]
  },
  {
   "cell_type": "markdown",
   "metadata": {
    "id": "w2dDwlb8EgUO"
   },
   "source": [
    "## Regressione con alberi decisionali\n",
    "\n",
    "- I modelli di regressione visti finora si basano su equazioni (lineari o non) su tutte le variabili\n",
    "- Gli alberi decisionali costituiscono un approccio differente: la regressione avviene in base ad una serie di decisioni \"semplici\", basate ciascuna su una sola variabile\n",
    "  - ciascuna decisione porta ad un ramo diverso dell'albero\n",
    "  - geometricamente è come se suddividessimo tramite degli iperpiani (ciascuno basato su una singola variabile) lo spazio delle variabili indipendenti tramite degli iperpiani ciascuno basato su una singola variabile e assegnassimo un valore predetto di y a ciascuna regione che si crea\n",
    "- I modelli ad alberi decisionali hanno alcuni vantaggi:\n",
    "  - un albero decisionale (se di piccole dimensioni) è spesso più facilmente interpretabile da una persona rispetto ad un insieme di coefficienti numerici\n",
    "  - è concettualmente possibile trattare variabili categoriche (ma in scikit-learn ne è necessario comunque il one-hot encoding)"
   ]
  },
  {
   "cell_type": "markdown",
   "metadata": {
    "id": "4REIdIpFEgUO"
   },
   "source": [
    "- Per visualizzare geometricamente come funziona un albero, riprendiamo l'esempio di regressione univariata per la predizione dei consumi di elettricità sulla temperatura\n",
    "- Carichiamo il dataset, suddividiamolo in training e validation e definiamo la funzione per tracciare il grafico del modello addestrato sui dati come nelle occasioni precedenti"
   ]
  },
  {
   "cell_type": "code",
   "execution_count": 62,
   "metadata": {
    "id": "HBjzya9OMSBF"
   },
   "outputs": [],
   "source": [
    "download(\"power.csv\", \"https://git.io/vpaM1\")\n",
    "power = pd.read_csv(\"power.csv\", index_col=\"date\", parse_dates=[\"date\"])\n",
    "is_train = power.index.year < 2016\n",
    "power_X_train = power.loc[is_train, [\"temp\"]]\n",
    "power_y_train = power.loc[is_train, \"demand\"]\n",
    "power_X_val = power.loc[~is_train, [\"temp\"]]\n",
    "power_y_val = power.loc[~is_train, \"demand\"]\n",
    "\n",
    "def plot_model_on_data(X, y, model=None):\n",
    "    plt.figure(figsize=(10, 7))\n",
    "    plt.scatter(X, y)\n",
    "    if model is not None:\n",
    "        xlim, ylim = plt.xlim(), plt.ylim()\n",
    "        line_x = np.linspace(xlim[0], xlim[1], 100)\n",
    "        line_y = model.predict(line_x[:, None])\n",
    "        plt.plot(line_x, line_y, c=\"red\", lw=3)\n",
    "        plt.xlim(xlim); plt.ylim(ylim)\n",
    "    plt.grid()\n",
    "    plt.xlabel(\"Temperatura (normalizzata)\"); plt.ylabel(\"Consumi (normalizzati)\")"
   ]
  },
  {
   "cell_type": "markdown",
   "metadata": {
    "id": "fb84aHOYEgUP"
   },
   "source": [
    "- Addestriamo un modello di regressione polinomiale di terzo grado, che abbiamo già visto dare buoni risultati\n",
    "  - per semplicità, addestriamo il modello su tutti i dati\n",
    "- Il modello consiste essenzialmente in una funzione "
   ]
  },
  {
   "cell_type": "code",
   "execution_count": 63,
   "metadata": {
    "colab": {
     "base_uri": "https://localhost:8080/",
     "height": 515
    },
    "id": "gF6oWCuGEgUP",
    "outputId": "36450a33-5058-49f6-9bf0-53dc907474e1"
   },
   "outputs": [
    {
     "data": {
      "text/plain": [
       "0.7587355234819237"
      ]
     },
     "execution_count": 63,
     "metadata": {},
     "output_type": "execute_result"
    },
    {
     "data": {
      "image/png": "[encoded data removed]",
      "text/plain": [
       "<Figure size 720x504 with 1 Axes>"
      ]
     },
     "metadata": {
      "needs_background": "light"
     },
     "output_type": "display_data"
    }
   ],
   "source": [
    "from sklearn.linear_model import LinearRegression\n",
    "model = Pipeline([\n",
    "    (\"poly\", PolynomialFeatures(degree=3, include_bias=False)),\n",
    "    (\"regr\", LinearRegression())\n",
    "])\n",
    "model.fit(power_X_train, power_y_train)\n",
    "plot_model_on_data(power_X_val, power_y_val, model)\n",
    "model.score(power_X_val, power_y_val)"
   ]
  },
  {
   "cell_type": "markdown",
   "metadata": {
    "id": "LWaJQToYEgUP"
   },
   "source": [
    "- Vediamo ora per confronto cosa accade con un modello di regressione ad albero decisionale\n",
    "- Tale tipo di modello è rappresentato da un oggetto `DecisionTreeRegressor`\n",
    "- Gli iperparametri del modello consentono di regolare la complessità dell'albero risultante\n",
    "- Ad esempio tramite il parametro `max_depth` possiamo controllare la profondità massima dell'albero\n",
    "  - per ora la limitiamo a 2 per facilitare la lettura dell'albero stesso"
   ]
  },
  {
   "cell_type": "code",
   "execution_count": 64,
   "metadata": {
    "id": "odEC30SdEgUP"
   },
   "outputs": [],
   "source": [
    "from sklearn.tree import DecisionTreeRegressor\n",
    "model = DecisionTreeRegressor(max_depth=2, random_state=42)"
   ]
  },
  {
   "cell_type": "markdown",
   "metadata": {
    "id": "7MNi1UPjEgUP"
   },
   "source": [
    "- Addestriamo il modello sulle variabili numeriche del dataset"
   ]
  },
  {
   "cell_type": "code",
   "execution_count": 65,
   "metadata": {
    "colab": {
     "base_uri": "https://localhost:8080/"
    },
    "id": "Jylj_0MmEgUQ",
    "outputId": "2ef3fc3c-3ca1-4c24-cf6b-201ef8c36697"
   },
   "outputs": [
    {
     "data": {
      "text/plain": [
       "DecisionTreeRegressor(max_depth=2, random_state=42)"
      ]
     },
     "execution_count": 65,
     "metadata": {},
     "output_type": "execute_result"
    }
   ],
   "source": [
    "model.fit(power_X_train, power_y_train)"
   ]
  },
  {
   "cell_type": "markdown",
   "metadata": {
    "id": "NaTtgL9WEgUQ"
   },
   "source": [
    "- È stato così costruito un albero decisionale in base ai dati del training set\n",
    "- L'albero può essere ispezionato per verificare quali variabili sono ritenute significative\n",
    "- Per ottenere una rappresentazione testuale dell'albero, viene fornita la funzione `export_text`"
   ]
  },
  {
   "cell_type": "code",
   "execution_count": 66,
   "metadata": {
    "colab": {
     "base_uri": "https://localhost:8080/"
    },
    "id": "trUr8e1vEgUQ",
    "outputId": "8dba83b1-af82-42e5-b3f5-e4482f2b2a8f"
   },
   "outputs": [
    {
     "name": "stdout",
     "output_type": "stream",
     "text": [
      "|--- feature_0 <= 25.30\n",
      "|   |--- feature_0 <= 4.15\n",
      "|   |   |--- value: [1.98]\n",
      "|   |--- feature_0 >  4.15\n",
      "|   |   |--- value: [1.66]\n",
      "|--- feature_0 >  25.30\n",
      "|   |--- feature_0 <= 29.15\n",
      "|   |   |--- value: [2.13]\n",
      "|   |--- feature_0 >  29.15\n",
      "|   |   |--- value: [2.48]\n",
      "\n"
     ]
    }
   ],
   "source": [
    "from sklearn.tree import export_text\n",
    "print(export_text(model))"
   ]
  },
  {
   "cell_type": "markdown",
   "metadata": {
    "id": "qOx9t76NEgUQ"
   },
   "source": [
    "La rappresentazione mostra intuitivamente come il modello classifichi ciascun valore di temperatura (`feature_0`, l'unica presente)\n",
    "\n",
    "- Se la temperatura è inferiore o uguale a 25,3 °C...\n",
    "  - ...e inferiore o uguale a 4,15 °C, predici un consumo di 1,98 GW\n",
    "  - ...e superiore a 4,15 °C, predici un consumo di 1,66 GW\n",
    "- Se la temperatura è superiore a 25,3 °C...\n",
    "  - ...e inferiore o uguale a 29,15 °C, predici un consumo di 2,13 GW\n",
    "  - ...e superiore a 29,15 °C, predici un consumo di 2,48 GW"
   ]
  },
  {
   "cell_type": "markdown",
   "metadata": {
    "id": "VjDUMJsIEgUQ"
   },
   "source": [
    "- In pratica sono stati delineati 4 intervalli di valori della temperatura e a ciascuno è stato assegnato un valore costante di consumi previsti\n",
    "- Questo è evidente anche dal grafico del modello..."
   ]
  },
  {
   "cell_type": "code",
   "execution_count": 67,
   "metadata": {
    "colab": {
     "base_uri": "https://localhost:8080/",
     "height": 497
    },
    "id": "nO16YClTEgUR",
    "outputId": "9eacd9c4-dc77-4f47-cdec-4093766580c9"
   },
   "outputs": [
    {
     "data": {
      "image/png": "[encoded data removed]",
      "text/plain": [
       "<Figure size 720x504 with 1 Axes>"
      ]
     },
     "metadata": {
      "needs_background": "light"
     },
     "output_type": "display_data"
    }
   ],
   "source": [
    "plot_model_on_data(power_X_val, power_y_val, model)"
   ]
  },
  {
   "cell_type": "markdown",
   "metadata": {
    "id": "06VmnT8xEgUR"
   },
   "source": [
    "- Per visualizzare invece graficamente l'albero di un modello, viene fornita la funzione `plot_tree`"
   ]
  },
  {
   "cell_type": "code",
   "execution_count": 68,
   "metadata": {
    "colab": {
     "base_uri": "https://localhost:8080/",
     "height": 357
    },
    "id": "6QaxoI25EgUR",
    "outputId": "37a344d2-37d5-4a26-c9ba-8c0bfa21676a"
   },
   "outputs": [
    {
     "data": {
      "image/png": "[encoded data removed]",
      "text/plain": [
       "<Figure size 720x432 with 1 Axes>"
      ]
     },
     "metadata": {
      "needs_background": "light"
     },
     "output_type": "display_data"
    }
   ],
   "source": [
    "from sklearn.tree import plot_tree\n",
    "plt.figure(figsize=(10, 6))\n",
    "plot_tree(model);"
   ]
  },
  {
   "cell_type": "markdown",
   "metadata": {
    "id": "VyWUOd5CEgUR"
   },
   "source": [
    "- Ogni blocco rappresenta un nodo dell'albero\n",
    "  - in cima alla figura viene mostrata la _radice_, il primo nodo valutato per classificare un'istanza\n",
    "  - nella riga sotto si possono vedere i due nodi intermedi dell'albero\n",
    "  - in fondo si possono vedere le quattro _foglie_, in cui viene deciso il valore predetto di y\n",
    "- Il numero totale di foglie di un albero può essere ottenuto dal metodo `get_n_leaves`"
   ]
  },
  {
   "cell_type": "code",
   "execution_count": 69,
   "metadata": {
    "colab": {
     "base_uri": "https://localhost:8080/"
    },
    "id": "VX2PDjYYEgUR",
    "outputId": "2c96f1f8-6777-4e21-f710-cd14242d8a82"
   },
   "outputs": [
    {
     "data": {
      "text/plain": [
       "4"
      ]
     },
     "execution_count": 69,
     "metadata": {},
     "output_type": "execute_result"
    }
   ],
   "source": [
    "model.get_n_leaves()"
   ]
  },
  {
   "cell_type": "markdown",
   "metadata": {
    "id": "JRPP9-U1EgUS"
   },
   "source": [
    "- Ad ogni nodo dell'albero sono mostrati in ordine\n",
    "  - il criterio in base alla quale i dati sono suddivisi (assente nelle foglie)\n",
    "    - se soddisfatta, viene seguito il ramo a sinistra del nodo\n",
    "    - altrimenti, viene seguito il ramo a destra\n",
    "  - l'errore quadratico, usato per definire la \"qualità\" della suddivisione\n",
    "  - il numero totale di istanze del training set considerate (`samples`)\n",
    "  - il valore medio della y per tali istanze, utilizzato come valore predetto nelle foglie (`value`)"
   ]
  },
  {
   "cell_type": "markdown",
   "metadata": {
    "id": "MPprh8QmEgUS"
   },
   "source": [
    "- Per valutare l'accuratezza dell'albero decisionale in termini di coefficiente R² usiamo come al solito il metodo `score`\n",
    "- Come si può dedurre anche dai grafici, questo albero poco profondo è meno accurato del modello polinomiale"
   ]
  },
  {
   "cell_type": "code",
   "execution_count": 70,
   "metadata": {
    "colab": {
     "base_uri": "https://localhost:8080/"
    },
    "id": "nS_-5bU0EgUS",
    "outputId": "c89ec9b4-b081-434d-9843-1cfcd96967c4"
   },
   "outputs": [
    {
     "data": {
      "text/plain": [
       "0.6756230654023873"
      ]
     },
     "execution_count": 70,
     "metadata": {},
     "output_type": "execute_result"
    }
   ],
   "source": [
    "model.score(power_X_val, power_y_val)"
   ]
  },
  {
   "cell_type": "markdown",
   "metadata": {
    "id": "scf465TdEgUS"
   },
   "source": [
    "- La situazione migliora aumentando la profondità massima dell'albero\n",
    "- Ad es., passando da 2 a 3 il numero di foglie raddoppia e il modello è notevolmente più accurato"
   ]
  },
  {
   "cell_type": "code",
   "execution_count": 71,
   "metadata": {
    "colab": {
     "base_uri": "https://localhost:8080/",
     "height": 515
    },
    "id": "WyLOmNghEgUS",
    "outputId": "f394d728-f157-439d-d438-5db7d6b9141d"
   },
   "outputs": [
    {
     "data": {
      "text/plain": [
       "0.7233079538000284"
      ]
     },
     "execution_count": 71,
     "metadata": {},
     "output_type": "execute_result"
    },
    {
     "data": {
      "image/png": "[encoded data removed]",
      "text/plain": [
       "<Figure size 720x504 with 1 Axes>"
      ]
     },
     "metadata": {
      "needs_background": "light"
     },
     "output_type": "display_data"
    }
   ],
   "source": [
    "model = DecisionTreeRegressor(max_depth=3, random_state=42)\n",
    "model.fit(power_X_train, power_y_train);\n",
    "plot_model_on_data(power_X_val, power_y_val, model)\n",
    "model.score(power_X_val, power_y_val)"
   ]
  },
  {
   "cell_type": "markdown",
   "metadata": {
    "id": "H8h75yX4EgUT"
   },
   "source": [
    "- Torniamo ora sul problema di predizione delle vendite sui dati Rossman\n",
    "- Addestriamo un albero con profondità massima 2"
   ]
  },
  {
   "cell_type": "code",
   "execution_count": 72,
   "metadata": {
    "colab": {
     "base_uri": "https://localhost:8080/"
    },
    "id": "szZZfxpMEgUT",
    "outputId": "6034ab28-c72d-4103-980b-167609cc1c29"
   },
   "outputs": [
    {
     "data": {
      "text/plain": [
       "DecisionTreeRegressor(max_depth=2, random_state=42)"
      ]
     },
     "execution_count": 72,
     "metadata": {},
     "output_type": "execute_result"
    }
   ],
   "source": [
    "model = DecisionTreeRegressor(max_depth=2, random_state=42)\n",
    "model.fit(X_train, y_train)"
   ]
  },
  {
   "cell_type": "markdown",
   "metadata": {
    "id": "yz0LNmETEgUU"
   },
   "source": [
    "- Usiamo la funzione `export_text` per visualizzare l'albero in forma testuale\n",
    "  - specificare i nomi delle variabili come `feature_names` per usarle come etichette nell'albero"
   ]
  },
  {
   "cell_type": "code",
   "execution_count": 73,
   "metadata": {
    "colab": {
     "base_uri": "https://localhost:8080/"
    },
    "id": "TM01s7ESEgUU",
    "outputId": "10406bcd-3bba-4042-a7bb-bb7bfe23dcdf"
   },
   "outputs": [
    {
     "name": "stdout",
     "output_type": "stream",
     "text": [
      "|--- Promo <= 0.10\n",
      "|   |--- StoreType_2 <= 3.58\n",
      "|   |   |--- value: [5855.05]\n",
      "|   |--- StoreType_2 >  3.58\n",
      "|   |   |--- value: [9540.35]\n",
      "|--- Promo >  0.10\n",
      "|   |--- Date_dayofweek <= -1.17\n",
      "|   |   |--- value: [9761.90]\n",
      "|   |--- Date_dayofweek >  -1.17\n",
      "|   |   |--- value: [7817.48]\n",
      "\n"
     ]
    }
   ],
   "source": [
    "print(export_text(model, feature_names=X_names))"
   ]
  },
  {
   "cell_type": "markdown",
   "metadata": {
    "id": "zk_MgTOmEgUU"
   },
   "source": [
    "La rappresentazione mostra intuitivamente che:\n",
    "- Per prima cosa si verifica se è in corso la promozione \"primaria\" (`Promo`)\n",
    "  - se no, si verifica se il tipo di negozio (`StoreType`) è 2\n",
    "    - se no, le vendite previste sono 5855,05 \\$\n",
    "    - se sì, le vendite previste sono 9540,35 \\$\n",
    "  - se sì, si verifica se è lunedì (la variabile `Date_dayofweek` standardizzata è inferiore a -1,17 solo se il suo valore originale è 0, corrispondente al lunedì)\n",
    "    - se sì, le vendite previste sono 9761,90 \\$\n",
    "    - se no, le vendite previste sono 7817,48 \\$"
   ]
  },
  {
   "cell_type": "markdown",
   "metadata": {
    "id": "sPOc06TfEgUU"
   },
   "source": [
    "- Vediamo le stesse informazioni anche nella rappresentazione grafica (anche quì si può usare `feature_names`)"
   ]
  },
  {
   "cell_type": "code",
   "execution_count": 74,
   "metadata": {
    "colab": {
     "base_uri": "https://localhost:8080/",
     "height": 357
    },
    "id": "4sw805gGEgUU",
    "outputId": "de142079-fd9e-470a-ed95-3587433a4652"
   },
   "outputs": [
    {
     "data": {
      "image/png": "[encoded data removed]",
      "text/plain": [
       "<Figure size 864x432 with 1 Axes>"
      ]
     },
     "metadata": {
      "needs_background": "light"
     },
     "output_type": "display_data"
    }
   ],
   "source": [
    "plt.figure(figsize=(12, 6))\n",
    "plot_tree(model, feature_names=X_names);"
   ]
  },
  {
   "cell_type": "markdown",
   "metadata": {
    "id": "3L_YRq4yEgUV"
   },
   "source": [
    "- Con questo albero poco profondo, l'accuratezza della predizione è scarsa"
   ]
  },
  {
   "cell_type": "code",
   "execution_count": 75,
   "metadata": {
    "colab": {
     "base_uri": "https://localhost:8080/"
    },
    "id": "SJxD3zHxEgUV",
    "outputId": "ea7450f3-7f0a-4ed8-c4c6-f6d201abbda1"
   },
   "outputs": [
    {
     "data": {
      "text/plain": [
       "0.17818636020062428"
      ]
     },
     "execution_count": 75,
     "metadata": {},
     "output_type": "execute_result"
    }
   ],
   "source": [
    "model.score(X_train, y_train)"
   ]
  },
  {
   "cell_type": "code",
   "execution_count": 76,
   "metadata": {
    "colab": {
     "base_uri": "https://localhost:8080/"
    },
    "id": "AwO0CSJoEgUV",
    "outputId": "a02560ac-d27b-4671-86f0-2483a8731152"
   },
   "outputs": [
    {
     "data": {
      "text/plain": [
       "0.2179877444865257"
      ]
     },
     "execution_count": 76,
     "metadata": {},
     "output_type": "execute_result"
    }
   ],
   "source": [
    "model.score(X_val, y_val)"
   ]
  },
  {
   "cell_type": "markdown",
   "metadata": {
    "id": "PMZ1m3TmEgUV"
   },
   "source": [
    "- Proviamo ora ad addestrare un nuovo modello aumentando la profondità massima dell'albero da 2 a 5"
   ]
  },
  {
   "cell_type": "code",
   "execution_count": 77,
   "metadata": {
    "id": "TnPjUtXEEgUV"
   },
   "outputs": [],
   "source": [
    "model = DecisionTreeRegressor(max_depth=5, random_state=42)\n",
    "model.fit(X_train, y_train);"
   ]
  },
  {
   "cell_type": "markdown",
   "metadata": {
    "id": "Dkn4irtsEgUW"
   },
   "source": [
    "- Stampando la rappresentazione testuale dell'albero, vediamo che è molto più complesso di quello sopra"
   ]
  },
  {
   "cell_type": "code",
   "execution_count": 78,
   "metadata": {
    "colab": {
     "base_uri": "https://localhost:8080/"
    },
    "id": "6qi3PKJnEgUW",
    "outputId": "ce8015e2-6241-4f45-956f-696097156b61",
    "scrolled": true
   },
   "outputs": [
    {
     "name": "stdout",
     "output_type": "stream",
     "text": [
      "|--- Promo <= 0.10\n",
      "|   |--- StoreType_2 <= 3.58\n",
      "|   |   |--- Assortment_1 <= -0.05\n",
      "|   |   |   |--- CompetitionDistance <= -0.65\n",
      "|   |   |   |   |--- Promo2SinceYear <= 1.00\n",
      "|   |   |   |   |   |--- value: [8976.36]\n",
      "|   |   |   |   |--- Promo2SinceYear >  1.00\n",
      "|   |   |   |   |   |--- value: [6647.14]\n",
      "|   |   |   |--- CompetitionDistance >  -0.65\n",
      "|   |   |   |   |--- PromoOpen <= -1.00\n",
      "|   |   |   |   |   |--- value: [5547.81]\n",
      "|   |   |   |   |--- PromoOpen >  -1.00\n",
      "|   |   |   |   |   |--- value: [6441.43]\n",
      "|   |   |--- Assortment_1 >  -0.05\n",
      "|   |   |   |--- Date_month <= 1.68\n",
      "|   |   |   |   |--- Promo2SinceWeek <= -0.00\n",
      "|   |   |   |   |   |--- value: [5636.34]\n",
      "|   |   |   |   |--- Promo2SinceWeek >  -0.00\n",
      "|   |   |   |   |   |--- value: [5083.80]\n",
      "|   |   |   |--- Date_month >  1.68\n",
      "|   |   |   |   |--- Date_dayofweek <= -1.17\n",
      "|   |   |   |   |   |--- value: [8614.71]\n",
      "|   |   |   |   |--- Date_dayofweek >  -1.17\n",
      "|   |   |   |   |   |--- value: [6204.81]\n",
      "|   |--- StoreType_2 >  3.58\n",
      "|   |   |--- CompetitionOpenSinceYear <= 0.69\n",
      "|   |   |   |--- Assortment_3 <= 0.07\n",
      "|   |   |   |   |--- CompetitionDistance <= -0.58\n",
      "|   |   |   |   |   |--- value: [9585.11]\n",
      "|   |   |   |   |--- CompetitionDistance >  -0.58\n",
      "|   |   |   |   |   |--- value: [6282.38]\n",
      "|   |   |   |--- Assortment_3 >  0.07\n",
      "|   |   |   |   |--- Date_dayofweek <= 1.73\n",
      "|   |   |   |   |   |--- value: [16012.01]\n",
      "|   |   |   |   |--- Date_dayofweek >  1.73\n",
      "|   |   |   |   |   |--- value: [18922.28]\n",
      "|   |   |--- CompetitionOpenSinceYear >  0.69\n",
      "|   |   |   |--- CompetitionDistance <= -0.54\n",
      "|   |   |   |   |--- Date_dayofweek <= 1.73\n",
      "|   |   |   |   |   |--- value: [18200.68]\n",
      "|   |   |   |   |--- Date_dayofweek >  1.73\n",
      "|   |   |   |   |   |--- value: [28348.45]\n",
      "|   |   |   |--- CompetitionDistance >  -0.54\n",
      "|   |   |   |   |--- Date_dayofweek <= 1.73\n",
      "|   |   |   |   |   |--- value: [9504.27]\n",
      "|   |   |   |   |--- Date_dayofweek >  1.73\n",
      "|   |   |   |   |   |--- value: [13363.36]\n",
      "|--- Promo >  0.10\n",
      "|   |--- Date_dayofweek <= -1.17\n",
      "|   |   |--- Date_month <= 1.68\n",
      "|   |   |   |--- PromoOpen <= -1.00\n",
      "|   |   |   |   |--- CompetitionDistance <= -0.66\n",
      "|   |   |   |   |   |--- value: [10591.12]\n",
      "|   |   |   |   |--- CompetitionDistance >  -0.66\n",
      "|   |   |   |   |   |--- value: [8629.85]\n",
      "|   |   |   |--- PromoOpen >  -1.00\n",
      "|   |   |   |   |--- Assortment_1 <= -0.05\n",
      "|   |   |   |   |   |--- value: [10516.70]\n",
      "|   |   |   |   |--- Assortment_1 >  -0.05\n",
      "|   |   |   |   |   |--- value: [9544.80]\n",
      "|   |   |--- Date_month >  1.68\n",
      "|   |   |   |--- Date_day <= -0.83\n",
      "|   |   |   |   |--- CompetitionDistance <= -0.64\n",
      "|   |   |   |   |   |--- value: [12851.73]\n",
      "|   |   |   |   |--- CompetitionDistance >  -0.64\n",
      "|   |   |   |   |   |--- value: [11002.99]\n",
      "|   |   |   |--- Date_day >  -0.83\n",
      "|   |   |   |   |--- CompetitionDistance <= -0.64\n",
      "|   |   |   |   |   |--- value: [15258.21]\n",
      "|   |   |   |   |--- CompetitionDistance >  -0.64\n",
      "|   |   |   |   |   |--- value: [13155.28]\n",
      "|   |--- Date_dayofweek >  -1.17\n",
      "|   |   |--- Date_month <= 1.68\n",
      "|   |   |   |--- Promo2SinceYear <= 1.00\n",
      "|   |   |   |   |--- StoreType_2 <= 3.58\n",
      "|   |   |   |   |   |--- value: [7972.76]\n",
      "|   |   |   |   |--- StoreType_2 >  3.58\n",
      "|   |   |   |   |   |--- value: [11810.97]\n",
      "|   |   |   |--- Promo2SinceYear >  1.00\n",
      "|   |   |   |   |--- CompetitionDistance <= -0.66\n",
      "|   |   |   |   |   |--- value: [8450.06]\n",
      "|   |   |   |   |--- CompetitionDistance >  -0.66\n",
      "|   |   |   |   |   |--- value: [6979.18]\n",
      "|   |   |--- Date_month >  1.68\n",
      "|   |   |   |--- Date_day <= -0.54\n",
      "|   |   |   |   |--- Date_day <= -1.18\n",
      "|   |   |   |   |   |--- value: [9438.79]\n",
      "|   |   |   |   |--- Date_day >  -1.18\n",
      "|   |   |   |   |   |--- value: [7561.86]\n",
      "|   |   |   |--- Date_day >  -0.54\n",
      "|   |   |   |   |--- Assortment_3 <= 0.07\n",
      "|   |   |   |   |   |--- value: [10242.75]\n",
      "|   |   |   |   |--- Assortment_3 >  0.07\n",
      "|   |   |   |   |   |--- value: [11479.51]\n",
      "\n"
     ]
    }
   ],
   "source": [
    "print(export_text(model, feature_names=X_names))"
   ]
  },
  {
   "cell_type": "markdown",
   "metadata": {
    "id": "wjEIg-69EgUW"
   },
   "source": [
    "- Il numero totale di foglie ora è:"
   ]
  },
  {
   "cell_type": "code",
   "execution_count": 79,
   "metadata": {
    "colab": {
     "base_uri": "https://localhost:8080/"
    },
    "id": "RLznthrHEgUW",
    "outputId": "d6f32527-d681-4f67-d3ae-2ccf49120e36"
   },
   "outputs": [
    {
     "data": {
      "text/plain": [
       "32"
      ]
     },
     "execution_count": 79,
     "metadata": {},
     "output_type": "execute_result"
    }
   ],
   "source": [
    "model.get_n_leaves()"
   ]
  },
  {
   "cell_type": "markdown",
   "metadata": {
    "id": "NwitNy3zEgUW"
   },
   "source": [
    "- Per rendere la stampa più compatta, possiamo indicare una `max_depth` in `export_text` per stampare i nodi solamente fino ad una profondità data\n",
    "  - sono indicati i punti in cui la rappresentazione è stata tagliata, con la loro profondità"
   ]
  },
  {
   "cell_type": "code",
   "execution_count": 80,
   "metadata": {
    "colab": {
     "base_uri": "https://localhost:8080/"
    },
    "id": "pd0e3WvfEgUW",
    "outputId": "3fb8755b-8272-418b-a99b-afe8c2bf391e"
   },
   "outputs": [
    {
     "name": "stdout",
     "output_type": "stream",
     "text": [
      "|--- Promo <= 0.10\n",
      "|   |--- StoreType_2 <= 3.58\n",
      "|   |   |--- Assortment_1 <= -0.05\n",
      "|   |   |   |--- truncated branch of depth 3\n",
      "|   |   |--- Assortment_1 >  -0.05\n",
      "|   |   |   |--- truncated branch of depth 3\n",
      "|   |--- StoreType_2 >  3.58\n",
      "|   |   |--- CompetitionOpenSinceYear <= 0.69\n",
      "|   |   |   |--- truncated branch of depth 3\n",
      "|   |   |--- CompetitionOpenSinceYear >  0.69\n",
      "|   |   |   |--- truncated branch of depth 3\n",
      "|--- Promo >  0.10\n",
      "|   |--- Date_dayofweek <= -1.17\n",
      "|   |   |--- Date_month <= 1.68\n",
      "|   |   |   |--- truncated branch of depth 3\n",
      "|   |   |--- Date_month >  1.68\n",
      "|   |   |   |--- truncated branch of depth 3\n",
      "|   |--- Date_dayofweek >  -1.17\n",
      "|   |   |--- Date_month <= 1.68\n",
      "|   |   |   |--- truncated branch of depth 3\n",
      "|   |   |--- Date_month >  1.68\n",
      "|   |   |   |--- truncated branch of depth 3\n",
      "\n"
     ]
    }
   ],
   "source": [
    "print(export_text(model, feature_names=X_names, max_depth=2))"
   ]
  },
  {
   "cell_type": "markdown",
   "metadata": {
    "id": "cerJ5-0oEgUX"
   },
   "source": [
    "- Il parametro `max_depth` può essere utilizzato anche in `plot_tree`\n",
    "  - si consiglia di utilizzarlo sempre, per evitare di generare figure \"pesanti\"\n",
    "  - usare `fontsize` per regolare le dimensioni dei caratteri"
   ]
  },
  {
   "cell_type": "code",
   "execution_count": 81,
   "metadata": {
    "colab": {
     "base_uri": "https://localhost:8080/",
     "height": 357
    },
    "id": "ayruQgrqEgUX",
    "outputId": "3603d10e-64e8-40ce-e5b1-b6b6070f8904"
   },
   "outputs": [
    {
     "data": {
      "image/png": "[encoded data removed]",
      "text/plain": [
       "<Figure size 1584x432 with 1 Axes>"
      ]
     },
     "metadata": {
      "needs_background": "light"
     },
     "output_type": "display_data"
    }
   ],
   "source": [
    "plt.figure(figsize=(22, 6))\n",
    "plot_tree(model, feature_names=X_names, max_depth=3, fontsize=8);"
   ]
  },
  {
   "cell_type": "markdown",
   "metadata": {
    "id": "NPRYU6oDEgUX"
   },
   "source": [
    "- I riquadri grigi nella figura indicano le porzioni tagliate dell'albero\n",
    "- Specificando `filled=True` in `plot_tree`, è possibile colorare i nodi in base alla \"purezza\", ovvero all'errore compiuto in essi\n",
    "  - il colore è tanto più intenso quanto più è la purezza, ovvero quanto più la varianza della y è contenuta"
   ]
  },
  {
   "cell_type": "code",
   "execution_count": 82,
   "metadata": {
    "colab": {
     "base_uri": "https://localhost:8080/",
     "height": 357
    },
    "id": "UDNeC5B5EgUX",
    "outputId": "683372ab-2338-4708-cc21-e827e29b2a3b"
   },
   "outputs": [
    {
     "data": {
      "image/png": "[encoded data removed]",
      "text/plain": [
       "<Figure size 1584x432 with 1 Axes>"
      ]
     },
     "metadata": {
      "needs_background": "light"
     },
     "output_type": "display_data"
    }
   ],
   "source": [
    "plt.figure(figsize=(22, 6))\n",
    "plot_tree(model, feature_names=X_names, max_depth=3, filled=True, fontsize=8);"
   ]
  },
  {
   "cell_type": "markdown",
   "metadata": {
    "id": "TrqSjgMyEgUY"
   },
   "source": [
    "- L'accuratezza del modello è aumentata"
   ]
  },
  {
   "cell_type": "code",
   "execution_count": 83,
   "metadata": {
    "colab": {
     "base_uri": "https://localhost:8080/"
    },
    "id": "RXV6LVjfEgUY",
    "outputId": "e800b37d-d5e1-4d29-d84a-fcdfc515d649"
   },
   "outputs": [
    {
     "data": {
      "text/plain": [
       "0.26636431825380036"
      ]
     },
     "execution_count": 83,
     "metadata": {},
     "output_type": "execute_result"
    }
   ],
   "source": [
    "model.score(X_train, y_train)"
   ]
  },
  {
   "cell_type": "code",
   "execution_count": 84,
   "metadata": {
    "colab": {
     "base_uri": "https://localhost:8080/"
    },
    "id": "bEXHz6Y9EgUY",
    "outputId": "4bd33a29-997e-49d1-c189-8f4c36ceef1e"
   },
   "outputs": [
    {
     "data": {
      "text/plain": [
       "0.27675527247040177"
      ]
     },
     "execution_count": 84,
     "metadata": {},
     "output_type": "execute_result"
    }
   ],
   "source": [
    "model.score(X_val, y_val)"
   ]
  },
  {
   "cell_type": "markdown",
   "metadata": {
    "id": "4J8wUUCuEgUY"
   },
   "source": [
    "- Oltre alla profondità massima, è possibile impostare altri criteri per limitare la complessità di un albero\n",
    "- Ad esempio con `min_samples_split` viene impostato il numero minimo di casi di training (`samples`) contenuti in un nodo intermedio: nodi con un numero inferiore di casi non possono essere ulteriormente suddivisi\n",
    "  - è possibile impostare sia un numero intero assoluto che una frazione rispetto ai casi di training\n",
    "- Costruiamo ad esempio un albero decisionale impostando che i nodi devono contenere almeno 60.000 casi di training per essere suddivisi"
   ]
  },
  {
   "cell_type": "code",
   "execution_count": 85,
   "metadata": {
    "id": "OsZ9xIaSEgUY"
   },
   "outputs": [],
   "source": [
    "model = DecisionTreeRegressor(min_samples_split=70000, random_state=42)\n",
    "model.fit(X_train, y_train);"
   ]
  },
  {
   "cell_type": "markdown",
   "metadata": {
    "id": "3e7hi-e2EgUZ"
   },
   "source": [
    "- Otteniamo un albero con un numero di foglie simile a quello con `max_depth=5`, ma più profondo"
   ]
  },
  {
   "cell_type": "code",
   "execution_count": 86,
   "metadata": {
    "colab": {
     "base_uri": "https://localhost:8080/"
    },
    "id": "P2NlI4GGEgUZ",
    "outputId": "a140bbb3-7fae-445d-943f-3971e7fa8b82"
   },
   "outputs": [
    {
     "data": {
      "text/plain": [
       "10"
      ]
     },
     "execution_count": 86,
     "metadata": {},
     "output_type": "execute_result"
    }
   ],
   "source": [
    "model.get_depth()"
   ]
  },
  {
   "cell_type": "code",
   "execution_count": 87,
   "metadata": {
    "colab": {
     "base_uri": "https://localhost:8080/"
    },
    "id": "pA-argL2EgUZ",
    "outputId": "8e5daa7b-6ec1-43f8-d3c7-0d14ea840f80"
   },
   "outputs": [
    {
     "data": {
      "text/plain": [
       "30"
      ]
     },
     "execution_count": 87,
     "metadata": {},
     "output_type": "execute_result"
    }
   ],
   "source": [
    "model.get_n_leaves()"
   ]
  },
  {
   "cell_type": "markdown",
   "metadata": {
    "id": "QmKUUlI4EgUZ"
   },
   "source": [
    "- Questo perché col criterio `min_samples_split` otteniamo suddivisioni più profonde nei rami in cui ricadono molte istanze di training\n",
    "- Questo si può osservare anche dalle rappresentazioni testuale e grafica dell'albero"
   ]
  },
  {
   "cell_type": "code",
   "execution_count": 88,
   "metadata": {
    "colab": {
     "base_uri": "https://localhost:8080/"
    },
    "id": "gd-t5-KKEgUZ",
    "outputId": "1f0218a4-57aa-4014-d6c3-706c661610cc"
   },
   "outputs": [
    {
     "name": "stdout",
     "output_type": "stream",
     "text": [
      "|--- Promo <= 0.10\n",
      "|   |--- StoreType_2 <= 3.58\n",
      "|   |   |--- Assortment_1 <= -0.05\n",
      "|   |   |   |--- truncated branch of depth 8\n",
      "|   |   |--- Assortment_1 >  -0.05\n",
      "|   |   |   |--- truncated branch of depth 6\n",
      "|   |--- StoreType_2 >  3.58\n",
      "|   |   |--- value: [9540.35]\n",
      "|--- Promo >  0.10\n",
      "|   |--- Date_dayofweek <= -1.17\n",
      "|   |   |--- Date_month <= 1.68\n",
      "|   |   |   |--- value: [9604.56]\n",
      "|   |   |--- Date_month >  1.68\n",
      "|   |   |   |--- value: [12440.57]\n",
      "|   |--- Date_dayofweek >  -1.17\n",
      "|   |   |--- Date_month <= 1.68\n",
      "|   |   |   |--- truncated branch of depth 6\n",
      "|   |   |--- Date_month >  1.68\n",
      "|   |   |   |--- value: [10003.35]\n",
      "\n"
     ]
    }
   ],
   "source": [
    "print(export_text(model, feature_names=X_names, max_depth=2))"
   ]
  },
  {
   "cell_type": "code",
   "execution_count": 89,
   "metadata": {
    "colab": {
     "base_uri": "https://localhost:8080/",
     "height": 357
    },
    "id": "JztKsKPUEgUa",
    "outputId": "519b00ee-ffb6-4c38-c3ee-7e8ead3a13cc"
   },
   "outputs": [
    {
     "data": {
      "image/png": "[encoded data removed]",
      "text/plain": [
       "<Figure size 1296x432 with 1 Axes>"
      ]
     },
     "metadata": {
      "needs_background": "light"
     },
     "output_type": "display_data"
    }
   ],
   "source": [
    "plt.figure(figsize=(18, 6))\n",
    "plot_tree(model, feature_names=X_names, max_depth=5, filled=True);"
   ]
  },
  {
   "cell_type": "markdown",
   "metadata": {
    "id": "4kwnFLC5EgUa"
   },
   "source": [
    "- Si noti come la profondità massima dell'albero è 9, ma si trovano delle foglie già ai livelli superiori"
   ]
  },
  {
   "cell_type": "code",
   "execution_count": 90,
   "metadata": {
    "colab": {
     "base_uri": "https://localhost:8080/"
    },
    "id": "LE2K9EySEgUa",
    "outputId": "7bdc682b-2d0f-4adb-e6cd-edeca9827279"
   },
   "outputs": [
    {
     "data": {
      "text/plain": [
       "0.26050149948713064"
      ]
     },
     "execution_count": 90,
     "metadata": {},
     "output_type": "execute_result"
    }
   ],
   "source": [
    "model.score(X_train, y_train)"
   ]
  },
  {
   "cell_type": "code",
   "execution_count": 91,
   "metadata": {
    "colab": {
     "base_uri": "https://localhost:8080/"
    },
    "id": "Gp_nRclCEgUa",
    "outputId": "f7d1199d-007d-43eb-d925-03725bb9efc2"
   },
   "outputs": [
    {
     "data": {
      "text/plain": [
       "0.2774351131060361"
      ]
     },
     "execution_count": 91,
     "metadata": {},
     "output_type": "execute_result"
    }
   ],
   "source": [
    "model.score(X_val, y_val)"
   ]
  },
  {
   "cell_type": "markdown",
   "metadata": {
    "id": "tR50Y2b4MSBj"
   },
   "source": [
    "- Come ulteriore misura di performance oltre a R² introduciamo il _Root Mean Squared Percentage Error_ (RMSPE), usato nella competizione Kaggle viene usata come misura di riferimento\n",
    "$$ \\textrm{RMSPE} = \\sqrt{\\frac{1}{n} \\sum_{i=1}^{n} \\left(\\frac{y_i - \\hat{y}_i}{y_i}\\right)^2} $$\n",
    "- Definiamo una funzione `rmspe` per calcolare tale metrica dati i valori attesi e le predizioni"
   ]
  },
  {
   "cell_type": "code",
   "execution_count": 92,
   "metadata": {
    "id": "8m7ix2pqMSBk"
   },
   "outputs": [],
   "source": [
    "def rmspe(y_real, y_pred):\n",
    "    #return np.sqrt((1/len(y_real))*np.sum(((y_real - y_pred) / y_real) ** 2))\n",
    "    return np.sqrt(np.mean((y_pred /y_real - 1) ** 2))"
   ]
  },
  {
   "cell_type": "markdown",
   "metadata": {},
   "source": [
    "- Creiamo una funzione `print_eval` per stampare MSE, R² e RMSPE di un modello"
   ]
  },
  {
   "cell_type": "code",
   "execution_count": 93,
   "metadata": {},
   "outputs": [],
   "source": [
    "from sklearn.metrics import mean_squared_error, r2_score\n",
    "\n",
    "def print_eval(X, y, model):\n",
    "    y_pred = model.predict(X)\n",
    "    print(f\"      MSE: {mean_squared_error(y, y_pred):12.4f}\")\n",
    "    print(f\"R-squared: {r2_score(y, y_pred):12.4f}\")\n",
    "    print(f\"    RMSPE: {rmspe(y, y_pred):12.4f}\")"
   ]
  },
  {
   "cell_type": "code",
   "execution_count": 94,
   "metadata": {},
   "outputs": [
    {
     "name": "stdout",
     "output_type": "stream",
     "text": [
      "      MSE: 6742281.3245\n",
      "R-squared:       0.2774\n",
      "    RMSPE:       0.4380\n"
     ]
    }
   ],
   "source": [
    "print_eval(X_val, y_val, model)"
   ]
  },
  {
   "cell_type": "markdown",
   "metadata": {
    "id": "__ODijdO54iX",
    "tags": []
   },
   "source": [
    "## Random Forest\n",
    "\n",
    "- Random Forest è un algoritmo di tipo _bagging_: vengono creati numerosi alberi decisionali in parallelo, ognuno da un sottoinsieme del dataset di training in generale non disgiunto dagli altri\n",
    "- Il bagging è uno tra i metodi di ensemble più efficaci perché ogni albero di regressione è generato da un subset leggermente diverso con prestazioni diverse\n",
    "- A differenza dei modelli base di albero di regressione (e.g. CART), gli alberi di Random Forest non vengono potati, il che può renderli meno generali e più specifici per il relativo subset di dati di training\n",
    "- Tuttavia, in questo caso, ciò è positivo perché rende ogni albero diverso con previsioni ed errori di previsione meno correlati\n",
    "- Ogni previsione di Random Forest è data dalla media delle previsioni di tutti gli alberi decisionali e l'efficacia è migliore di qualsiasi singolo albero della propria foresta\n",
    "- Random Forest è tra gli algoritmi più efficaci ed efficienti per dati tabulari"
   ]
  },
  {
   "cell_type": "code",
   "execution_count": 95,
   "metadata": {
    "id": "ovonkJQ06CQD"
   },
   "outputs": [],
   "source": [
    "from sklearn.ensemble import RandomForestRegressor"
   ]
  },
  {
   "cell_type": "markdown",
   "metadata": {
    "id": "jXS4Y0oj_FIy"
   },
   "source": [
    "- L'iperparametro `max_samples` è il numero (se intero) o la percentuale (se reale tra 0 e 1) di istanze del training set usate per addestrare ogni singolo albero\n",
    "- Più la dimensione di `max_samples` è piccola, più gli alberi saranno diversi\n",
    "  - il valore predefinito è 1 perciò occorre ridurlo\n",
    "- Altri iperparametri importanti sono\n",
    "  - il numero di feature casuali che deve avere ogni albero come sottoinsieme casuale di tutte le feature del training set `max_features`, usiamo \"sqrt\" per indicare la radice quadrata del numero totale di feature\n",
    "  - la profondità massima di ogni albero `max_depth`\n",
    "  - il numero di alberi `n_estimators`\n",
    "- L'iperparametro `n_jobs=-1` (presente anche in altri algoritmi) indica di utilizzare tutte le CPU della macchina in parallelo"
   ]
  },
  {
   "cell_type": "code",
   "execution_count": 96,
   "metadata": {
    "colab": {
     "base_uri": "https://localhost:8080/"
    },
    "id": "12ZGP4SQ9x8Y",
    "outputId": "1872081f-5237-4f77-95f5-11a4aa714fe9"
   },
   "outputs": [
    {
     "name": "stdout",
     "output_type": "stream",
     "text": [
      "Wall time: 25.3 s\n"
     ]
    },
    {
     "data": {
      "text/plain": [
       "RandomForestRegressor(max_features='sqrt', max_samples=0.2, n_estimators=200,\n",
       "                      n_jobs=-1)"
      ]
     },
     "execution_count": 96,
     "metadata": {},
     "output_type": "execute_result"
    }
   ],
   "source": [
    "%%time\n",
    "rfm = RandomForestRegressor(max_samples=0.2, max_features=\"sqrt\", n_estimators=200, max_depth=None, n_jobs=-1)\n",
    "rfm.fit(X_train, y_train)"
   ]
  },
  {
   "cell_type": "code",
   "execution_count": 97,
   "metadata": {
    "colab": {
     "base_uri": "https://localhost:8080/"
    },
    "id": "Dnyvsrxm-P6n",
    "outputId": "dc1a726e-ffd3-4557-b5e0-9e87e91d948a"
   },
   "outputs": [
    {
     "name": "stdout",
     "output_type": "stream",
     "text": [
      "      MSE: 1833092.9444\n",
      "R-squared:       0.8035\n",
      "    RMSPE:       0.2299\n"
     ]
    }
   ],
   "source": [
    "print_eval(X_val, y_val, rfm)"
   ]
  },
  {
   "cell_type": "markdown",
   "metadata": {},
   "source": [
    "- L'accuratezza è molto migliore rispetto all'albero singolo"
   ]
  },
  {
   "cell_type": "markdown",
   "metadata": {
    "id": "ux2ZWQlkHGC5"
   },
   "source": [
    "### Selezione di feature con Random Forest\n",
    "\n",
    "- Dai modelli ad albero è possibile ottenere l'importanza delle feature, calcolata in base a quante volte ciascuna feature è usata come discriminante\n",
    "- I coefficienti di importanza sono ottenibili dall'attributo `feature_importances_`"
   ]
  },
  {
   "cell_type": "code",
   "execution_count": 98,
   "metadata": {},
   "outputs": [
    {
     "data": {
      "text/plain": [
       "array([8.01819068e-02, 2.40468269e-01, 8.02315054e-02, 7.21772966e-02,\n",
       "       3.45528643e-02, 2.57579543e-02, 5.79945365e-02, 1.26516349e-01,\n",
       "       8.47589120e-03, 4.48967297e-03, 3.51629061e-03, 7.54152826e-04,\n",
       "       4.57098271e-04, 2.05259833e-04, 4.20516228e-05, 1.53921544e-02,\n",
       "       2.22599246e-02, 1.15355612e-02, 1.14690616e-02, 1.35936747e-02,\n",
       "       2.75000374e-03, 1.32720969e-02, 6.14236285e-02, 4.59182148e-02,\n",
       "       6.65645804e-02])"
      ]
     },
     "execution_count": 98,
     "metadata": {},
     "output_type": "execute_result"
    }
   ],
   "source": [
    "rfm.feature_importances_"
   ]
  },
  {
   "cell_type": "markdown",
   "metadata": {},
   "source": [
    "- Come per i coefficienti dei modelli di regressione lineare, possiamo usare una serie per associare i valori ai nomi e vedere quali sono le feature più importanti"
   ]
  },
  {
   "cell_type": "code",
   "execution_count": 99,
   "metadata": {},
   "outputs": [
    {
     "data": {
      "text/plain": [
       "CompetitionDistance          0.240468\n",
       "Promo                        0.126516\n",
       "CompetitionOpenSinceMonth    0.080232\n",
       "CompetitionOpen              0.080182\n",
       "CompetitionOpenSinceYear     0.072177\n",
       "Date_dayofweek               0.066565\n",
       "Date_day                     0.061424\n",
       "PromoOpen                    0.057995\n",
       "Date_month                   0.045918\n",
       "Promo2SinceWeek              0.034553\n",
       "Promo2SinceYear              0.025758\n",
       "StoreType_2                  0.022260\n",
       "StoreType_1                  0.015392\n",
       "Assortment_1                 0.013594\n",
       "Assortment_3                 0.013272\n",
       "StoreType_3                  0.011536\n",
       "StoreType_4                  0.011469\n",
       "SchoolHoliday                0.008476\n",
       "Promo2                       0.004490\n",
       "IsPromoMonth                 0.003516\n",
       "Assortment_2                 0.002750\n",
       "StateHoliday_0               0.000754\n",
       "StateHoliday_1               0.000457\n",
       "StateHoliday_2               0.000205\n",
       "StateHoliday_3               0.000042\n",
       "dtype: float64"
      ]
     },
     "execution_count": 99,
     "metadata": {},
     "output_type": "execute_result"
    }
   ],
   "source": [
    "pd.Series(rfm.feature_importances_, index=X_names).sort_values(ascending=False)"
   ]
  },
  {
   "cell_type": "markdown",
   "metadata": {
    "id": "T1gL0cyRpXFO"
   },
   "source": [
    "## LightGBM: \n",
    "- LightGBM, abbreviazione di Light Gradient Boosted Machine, è una libreria sviluppata da Microsoft che fornisce un'implementazione efficiente dell'algoritmo di gradient boosting spiegato [a lezione](https://www.dropbox.com/s/4o8dg87274x0yae/08_bis_Aula_Introduzione_regression_decision_tree_e_xgboost.pdf?dl=0)\n",
    "- Il vantaggio principale di LightGBM sono alcune variazioni all'algoritmo di addestramento che rendono il processo molto più veloce e spesso ottenendo modelloi più efficaci\n",
    "- Per ulteriori dettagli tecnici sull'algoritmo LightGBM è disponibile il sito https://github.com/microsoft/LightGBM ed il paper https://arxiv.org/abs/1810.11363"
   ]
  },
  {
   "cell_type": "code",
   "execution_count": 100,
   "metadata": {},
   "outputs": [],
   "source": [
    "#%conda install lightgbm"
   ]
  },
  {
   "cell_type": "code",
   "execution_count": 101,
   "metadata": {
    "colab": {
     "base_uri": "https://localhost:8080/"
    },
    "id": "xVtUQzkOpU4q",
    "outputId": "e2227592-bc72-48b4-ea4f-4767a525de97"
   },
   "outputs": [],
   "source": [
    "from lightgbm import LGBMRegressor"
   ]
  },
  {
   "cell_type": "code",
   "execution_count": 102,
   "metadata": {
    "colab": {
     "base_uri": "https://localhost:8080/"
    },
    "id": "NwhBDVMypkD0",
    "outputId": "9946a183-5928-4979-adf1-48b9b8a01ed1"
   },
   "outputs": [
    {
     "name": "stdout",
     "output_type": "stream",
     "text": [
      "Wall time: 4.1 s\n"
     ]
    },
    {
     "data": {
      "text/plain": [
       "LGBMRegressor()"
      ]
     },
     "execution_count": 102,
     "metadata": {},
     "output_type": "execute_result"
    }
   ],
   "source": [
    "%%time\n",
    "lgbm = LGBMRegressor()\n",
    "lgbm.fit(X_train, y_train)"
   ]
  },
  {
   "cell_type": "markdown",
   "metadata": {},
   "source": [
    "- L'addestramento è relativamente rapido ma il modello è meno efficace di Random Forest"
   ]
  },
  {
   "cell_type": "code",
   "execution_count": 103,
   "metadata": {
    "colab": {
     "base_uri": "https://localhost:8080/"
    },
    "id": "5g549c2Tq-H2",
    "outputId": "9b83e857-e6cf-4eb2-f9e2-158791a6e875"
   },
   "outputs": [
    {
     "name": "stdout",
     "output_type": "stream",
     "text": [
      "      MSE: 3559708.4347\n",
      "R-squared:       0.6185\n",
      "    RMSPE:       0.3503\n"
     ]
    }
   ],
   "source": [
    "print_eval(X_val, y_val, lgbm)"
   ]
  },
  {
   "cell_type": "markdown",
   "metadata": {},
   "source": [
    "## XGBoost\n",
    "\n",
    "- La libreria `xgboost` fornisce un'implementazione dell'omonimo algoritmo (_eXtreme Gradient Boosting_)"
   ]
  },
  {
   "cell_type": "code",
   "execution_count": 104,
   "metadata": {
    "colab": {
     "base_uri": "https://localhost:8080/"
    },
    "id": "rzUj11Dqatx_",
    "outputId": "1185a316-e838-44c6-d720-252c519345ee"
   },
   "outputs": [],
   "source": [
    "#%conda install xgboost"
   ]
  },
  {
   "cell_type": "code",
   "execution_count": 105,
   "metadata": {
    "colab": {
     "base_uri": "https://localhost:8080/"
    },
    "id": "5u0z1ObeQIpi",
    "outputId": "a9c78b17-5d1f-4258-b652-09c419890386"
   },
   "outputs": [
    {
     "name": "stdout",
     "output_type": "stream",
     "text": [
      "1.5.0\n"
     ]
    }
   ],
   "source": [
    "import xgboost\n",
    "print(xgboost.__version__)"
   ]
  },
  {
   "cell_type": "code",
   "execution_count": 106,
   "metadata": {},
   "outputs": [],
   "source": [
    "from xgboost import XGBRegressor"
   ]
  },
  {
   "cell_type": "code",
   "execution_count": 107,
   "metadata": {},
   "outputs": [],
   "source": [
    "scaler_y = StandardScaler()\n",
    "y_train = scaler_y.fit_transform(data_train[\"Sales\"].values[:, None]).ravel()\n",
    "y_val = scaler_y.transform(data_val[\"Sales\"].values[:, None]).ravel()"
   ]
  },
  {
   "cell_type": "code",
   "execution_count": 108,
   "metadata": {
    "colab": {
     "base_uri": "https://localhost:8080/"
    },
    "id": "_FP7NRRXb2Ih",
    "outputId": "43c0066a-361e-46eb-e666-5e01d6a5a6cf"
   },
   "outputs": [
    {
     "name": "stdout",
     "output_type": "stream",
     "text": [
      "Wall time: 45.9 s\n"
     ]
    },
    {
     "data": {
      "text/plain": [
       "XGBRegressor(base_score=0.5, booster='gbtree', colsample_bylevel=1,\n",
       "             colsample_bynode=1, colsample_bytree=1, enable_categorical=False,\n",
       "             gamma=0, gpu_id=-1, importance_type=None,\n",
       "             interaction_constraints='', learning_rate=0.300000012,\n",
       "             max_delta_step=0, max_depth=6, min_child_weight=1, missing=nan,\n",
       "             monotone_constraints='()', n_estimators=200, n_jobs=12,\n",
       "             num_parallel_tree=1, predictor='auto', random_state=0,\n",
       "             reg_alpha=0.0, reg_lambda=1.0, scale_pos_weight=1, subsample=1,\n",
       "             tree_method='exact', validate_parameters=1, verbosity=None)"
      ]
     },
     "execution_count": 108,
     "metadata": {},
     "output_type": "execute_result"
    }
   ],
   "source": [
    "%%time\n",
    "xgbm = XGBRegressor(objective='reg:squarederror', reg_alpha=0.0, reg_lambda=1.0, n_estimators=200)\n",
    "xgbm.fit(X_train, y_train)"
   ]
  },
  {
   "cell_type": "code",
   "execution_count": 109,
   "metadata": {},
   "outputs": [
    {
     "name": "stdout",
     "output_type": "stream",
     "text": [
      "      MSE:       0.1273\n",
      "R-squared:       0.8684\n",
      "    RMSPE:      61.7137\n"
     ]
    }
   ],
   "source": [
    "print_eval(X_val, y_val, xgbm)"
   ]
  },
  {
   "cell_type": "markdown",
   "metadata": {
    "id": "8GANhtc6MSBk"
   },
   "source": [
    "- Il modello di regressione lineare ottiene un RMSPE pari a 0.4672, mentre xgboost senza tuning degli iperparametri 0.2235. Il miglior risultato nella competion kaggle è 0.13. XGBoost con 200 alberi ottiene 0.18 e con 400 alberi 0.1671."
   ]
  },
  {
   "cell_type": "code",
   "execution_count": 110,
   "metadata": {},
   "outputs": [
    {
     "data": {
      "text/plain": [
       "StoreType_2                  0.177456\n",
       "Promo                        0.103103\n",
       "Promo2SinceYear              0.082462\n",
       "CompetitionOpenSinceYear     0.077235\n",
       "Assortment_3                 0.063858\n",
       "CompetitionOpenSinceMonth    0.062137\n",
       "Assortment_1                 0.058634\n",
       "CompetitionDistance          0.053881\n",
       "Promo2SinceWeek              0.051699\n",
       "StoreType_4                  0.043286\n",
       "StoreType_1                  0.041262\n",
       "StoreType_3                  0.039349\n",
       "Date_month                   0.025888\n",
       "Date_dayofweek               0.023566\n",
       "Date_day                     0.021533\n",
       "CompetitionOpen              0.017456\n",
       "PromoOpen                    0.014422\n",
       "SchoolHoliday                0.014399\n",
       "StateHoliday_0               0.009955\n",
       "IsPromoMonth                 0.006929\n",
       "Assortment_2                 0.005116\n",
       "StateHoliday_2               0.003625\n",
       "StateHoliday_1               0.001623\n",
       "StateHoliday_3               0.001125\n",
       "Promo2                       0.000000\n",
       "dtype: float32"
      ]
     },
     "execution_count": 110,
     "metadata": {},
     "output_type": "execute_result"
    }
   ],
   "source": [
    "pd.Series(xgbm.feature_importances_, index=X_names).sort_values(ascending=False)"
   ]
  },
  {
   "cell_type": "markdown",
   "metadata": {
    "id": "blN4BY2zwwSi"
   },
   "source": [
    "## CatBoost: Category Gradient Boosting\n",
    "\n",
    "- Supporta nativamente variabili categoriche ossia nominal.\n",
    "- https://catboost.ai/"
   ]
  },
  {
   "cell_type": "code",
   "execution_count": 111,
   "metadata": {
    "colab": {
     "base_uri": "https://localhost:8080/"
    },
    "id": "dPQcJgESrCwP",
    "outputId": "71d89437-f700-4995-fd46-3244533a255f"
   },
   "outputs": [],
   "source": [
    "#%conda install catboost"
   ]
  },
  {
   "cell_type": "code",
   "execution_count": 112,
   "metadata": {
    "colab": {
     "base_uri": "https://localhost:8080/"
    },
    "id": "dPQcJgESrCwP",
    "outputId": "71d89437-f700-4995-fd46-3244533a255f"
   },
   "outputs": [
    {
     "name": "stdout",
     "output_type": "stream",
     "text": [
      "0.26.1\n"
     ]
    }
   ],
   "source": [
    "import catboost\n",
    "print(catboost.__version__)\n",
    "from catboost import CatBoostRegressor"
   ]
  },
  {
   "cell_type": "code",
   "execution_count": 113,
   "metadata": {
    "colab": {
     "base_uri": "https://localhost:8080/"
    },
    "id": "sCOmekZIsXeu",
    "outputId": "6c05efc4-0544-4b41-caf9-f9aceefeb1cf",
    "tags": []
   },
   "outputs": [
    {
     "name": "stdout",
     "output_type": "stream",
     "text": [
      "Learning rate set to 0.128393\n",
      "0:\tlearn: 0.9690351\ttotal: 234ms\tremaining: 3m 53s\n",
      "1:\tlearn: 0.9444538\ttotal: 300ms\tremaining: 2m 29s\n",
      "2:\tlearn: 0.9250592\ttotal: 364ms\tremaining: 2m 1s\n",
      "3:\tlearn: 0.9090002\ttotal: 434ms\tremaining: 1m 48s\n",
      "4:\tlearn: 0.8953388\ttotal: 507ms\tremaining: 1m 40s\n",
      "5:\tlearn: 0.8844197\ttotal: 575ms\tremaining: 1m 35s\n",
      "6:\tlearn: 0.8758340\ttotal: 640ms\tremaining: 1m 30s\n",
      "7:\tlearn: 0.8660897\ttotal: 728ms\tremaining: 1m 30s\n",
      "8:\tlearn: 0.8600040\ttotal: 797ms\tremaining: 1m 27s\n",
      "9:\tlearn: 0.8517346\ttotal: 870ms\tremaining: 1m 26s\n",
      "10:\tlearn: 0.8467222\ttotal: 937ms\tremaining: 1m 24s\n",
      "11:\tlearn: 0.8406667\ttotal: 1.01s\tremaining: 1m 23s\n",
      "12:\tlearn: 0.8358039\ttotal: 1.08s\tremaining: 1m 21s\n",
      "13:\tlearn: 0.8314287\ttotal: 1.15s\tremaining: 1m 20s\n",
      "14:\tlearn: 0.8282308\ttotal: 1.21s\tremaining: 1m 19s\n",
      "15:\tlearn: 0.8253200\ttotal: 1.27s\tremaining: 1m 17s\n",
      "16:\tlearn: 0.8217496\ttotal: 1.33s\tremaining: 1m 17s\n",
      "17:\tlearn: 0.8186483\ttotal: 1.41s\tremaining: 1m 16s\n",
      "18:\tlearn: 0.8149678\ttotal: 1.48s\tremaining: 1m 16s\n",
      "19:\tlearn: 0.8124747\ttotal: 1.54s\tremaining: 1m 15s\n",
      "20:\tlearn: 0.8089855\ttotal: 1.61s\tremaining: 1m 15s\n",
      "21:\tlearn: 0.8048663\ttotal: 1.69s\tremaining: 1m 14s\n",
      "22:\tlearn: 0.8023304\ttotal: 1.76s\tremaining: 1m 14s\n",
      "23:\tlearn: 0.7983387\ttotal: 1.84s\tremaining: 1m 14s\n",
      "24:\tlearn: 0.7965802\ttotal: 1.9s\tremaining: 1m 14s\n",
      "25:\tlearn: 0.7943561\ttotal: 1.97s\tremaining: 1m 13s\n",
      "26:\tlearn: 0.7929724\ttotal: 2.03s\tremaining: 1m 13s\n",
      "27:\tlearn: 0.7906928\ttotal: 2.09s\tremaining: 1m 12s\n",
      "28:\tlearn: 0.7879997\ttotal: 2.16s\tremaining: 1m 12s\n",
      "29:\tlearn: 0.7867573\ttotal: 2.22s\tremaining: 1m 11s\n",
      "30:\tlearn: 0.7844577\ttotal: 2.29s\tremaining: 1m 11s\n",
      "31:\tlearn: 0.7826314\ttotal: 2.36s\tremaining: 1m 11s\n",
      "32:\tlearn: 0.7796072\ttotal: 2.44s\tremaining: 1m 11s\n",
      "33:\tlearn: 0.7768054\ttotal: 2.51s\tremaining: 1m 11s\n",
      "34:\tlearn: 0.7746188\ttotal: 2.58s\tremaining: 1m 11s\n",
      "35:\tlearn: 0.7732637\ttotal: 2.64s\tremaining: 1m 10s\n",
      "36:\tlearn: 0.7720201\ttotal: 2.71s\tremaining: 1m 10s\n",
      "37:\tlearn: 0.7695078\ttotal: 2.78s\tremaining: 1m 10s\n",
      "38:\tlearn: 0.7666632\ttotal: 2.86s\tremaining: 1m 10s\n",
      "39:\tlearn: 0.7650063\ttotal: 2.94s\tremaining: 1m 10s\n",
      "40:\tlearn: 0.7626478\ttotal: 3.01s\tremaining: 1m 10s\n",
      "41:\tlearn: 0.7612811\ttotal: 3.08s\tremaining: 1m 10s\n",
      "42:\tlearn: 0.7583465\ttotal: 3.15s\tremaining: 1m 10s\n",
      "43:\tlearn: 0.7574125\ttotal: 3.21s\tremaining: 1m 9s\n",
      "44:\tlearn: 0.7563375\ttotal: 3.27s\tremaining: 1m 9s\n",
      "45:\tlearn: 0.7547208\ttotal: 3.34s\tremaining: 1m 9s\n",
      "46:\tlearn: 0.7537826\ttotal: 3.4s\tremaining: 1m 8s\n",
      "47:\tlearn: 0.7525268\ttotal: 3.47s\tremaining: 1m 8s\n",
      "48:\tlearn: 0.7506067\ttotal: 3.54s\tremaining: 1m 8s\n",
      "49:\tlearn: 0.7486629\ttotal: 3.63s\tremaining: 1m 8s\n",
      "50:\tlearn: 0.7476077\ttotal: 3.7s\tremaining: 1m 8s\n",
      "51:\tlearn: 0.7469368\ttotal: 3.78s\tremaining: 1m 8s\n",
      "52:\tlearn: 0.7448905\ttotal: 3.85s\tremaining: 1m 8s\n",
      "53:\tlearn: 0.7442158\ttotal: 3.92s\tremaining: 1m 8s\n",
      "54:\tlearn: 0.7426452\ttotal: 3.98s\tremaining: 1m 8s\n",
      "55:\tlearn: 0.7410939\ttotal: 4.05s\tremaining: 1m 8s\n",
      "56:\tlearn: 0.7403227\ttotal: 4.11s\tremaining: 1m 7s\n",
      "57:\tlearn: 0.7391011\ttotal: 4.18s\tremaining: 1m 7s\n",
      "58:\tlearn: 0.7377137\ttotal: 4.25s\tremaining: 1m 7s\n",
      "59:\tlearn: 0.7359701\ttotal: 4.32s\tremaining: 1m 7s\n",
      "60:\tlearn: 0.7345153\ttotal: 4.39s\tremaining: 1m 7s\n",
      "61:\tlearn: 0.7338087\ttotal: 4.46s\tremaining: 1m 7s\n",
      "62:\tlearn: 0.7330596\ttotal: 4.52s\tremaining: 1m 7s\n",
      "63:\tlearn: 0.7319581\ttotal: 4.59s\tremaining: 1m 7s\n",
      "64:\tlearn: 0.7294991\ttotal: 4.67s\tremaining: 1m 7s\n",
      "65:\tlearn: 0.7273584\ttotal: 4.74s\tremaining: 1m 7s\n",
      "66:\tlearn: 0.7252294\ttotal: 4.82s\tremaining: 1m 7s\n",
      "67:\tlearn: 0.7244159\ttotal: 4.88s\tremaining: 1m 6s\n",
      "68:\tlearn: 0.7215036\ttotal: 4.95s\tremaining: 1m 6s\n",
      "69:\tlearn: 0.7180037\ttotal: 5.02s\tremaining: 1m 6s\n",
      "70:\tlearn: 0.7167254\ttotal: 5.1s\tremaining: 1m 6s\n",
      "71:\tlearn: 0.7140705\ttotal: 5.17s\tremaining: 1m 6s\n",
      "72:\tlearn: 0.7129190\ttotal: 5.25s\tremaining: 1m 6s\n",
      "73:\tlearn: 0.7124707\ttotal: 5.31s\tremaining: 1m 6s\n",
      "74:\tlearn: 0.7106022\ttotal: 5.38s\tremaining: 1m 6s\n",
      "75:\tlearn: 0.7090115\ttotal: 5.46s\tremaining: 1m 6s\n",
      "76:\tlearn: 0.7078084\ttotal: 5.53s\tremaining: 1m 6s\n",
      "77:\tlearn: 0.7059333\ttotal: 5.6s\tremaining: 1m 6s\n",
      "78:\tlearn: 0.7024275\ttotal: 5.68s\tremaining: 1m 6s\n",
      "79:\tlearn: 0.7018492\ttotal: 5.75s\tremaining: 1m 6s\n",
      "80:\tlearn: 0.7009355\ttotal: 5.82s\tremaining: 1m 6s\n",
      "81:\tlearn: 0.6987427\ttotal: 5.9s\tremaining: 1m 6s\n",
      "82:\tlearn: 0.6972559\ttotal: 5.97s\tremaining: 1m 5s\n",
      "83:\tlearn: 0.6950195\ttotal: 6.06s\tremaining: 1m 6s\n",
      "84:\tlearn: 0.6925376\ttotal: 6.14s\tremaining: 1m 6s\n",
      "85:\tlearn: 0.6899431\ttotal: 6.22s\tremaining: 1m 6s\n",
      "86:\tlearn: 0.6887545\ttotal: 6.29s\tremaining: 1m 6s\n",
      "87:\tlearn: 0.6874156\ttotal: 6.37s\tremaining: 1m 5s\n",
      "88:\tlearn: 0.6870433\ttotal: 6.43s\tremaining: 1m 5s\n",
      "89:\tlearn: 0.6854995\ttotal: 6.5s\tremaining: 1m 5s\n",
      "90:\tlearn: 0.6851014\ttotal: 6.57s\tremaining: 1m 5s\n",
      "91:\tlearn: 0.6846319\ttotal: 6.64s\tremaining: 1m 5s\n",
      "92:\tlearn: 0.6833462\ttotal: 6.72s\tremaining: 1m 5s\n",
      "93:\tlearn: 0.6823515\ttotal: 6.8s\tremaining: 1m 5s\n",
      "94:\tlearn: 0.6815560\ttotal: 6.87s\tremaining: 1m 5s\n",
      "95:\tlearn: 0.6808423\ttotal: 6.93s\tremaining: 1m 5s\n",
      "96:\tlearn: 0.6799559\ttotal: 7s\tremaining: 1m 5s\n",
      "97:\tlearn: 0.6793038\ttotal: 7.07s\tremaining: 1m 5s\n",
      "98:\tlearn: 0.6783487\ttotal: 7.14s\tremaining: 1m 4s\n",
      "99:\tlearn: 0.6766475\ttotal: 7.22s\tremaining: 1m 4s\n",
      "100:\tlearn: 0.6761762\ttotal: 7.29s\tremaining: 1m 4s\n",
      "101:\tlearn: 0.6751391\ttotal: 7.36s\tremaining: 1m 4s\n",
      "102:\tlearn: 0.6733635\ttotal: 7.43s\tremaining: 1m 4s\n",
      "103:\tlearn: 0.6721834\ttotal: 7.51s\tremaining: 1m 4s\n",
      "104:\tlearn: 0.6707198\ttotal: 7.59s\tremaining: 1m 4s\n",
      "105:\tlearn: 0.6686651\ttotal: 7.68s\tremaining: 1m 4s\n",
      "106:\tlearn: 0.6681929\ttotal: 7.75s\tremaining: 1m 4s\n",
      "107:\tlearn: 0.6662971\ttotal: 7.82s\tremaining: 1m 4s\n",
      "108:\tlearn: 0.6649706\ttotal: 7.9s\tremaining: 1m 4s\n",
      "109:\tlearn: 0.6635537\ttotal: 7.97s\tremaining: 1m 4s\n",
      "110:\tlearn: 0.6631700\ttotal: 8.03s\tremaining: 1m 4s\n",
      "111:\tlearn: 0.6623084\ttotal: 8.11s\tremaining: 1m 4s\n",
      "112:\tlearn: 0.6617944\ttotal: 8.17s\tremaining: 1m 4s\n",
      "113:\tlearn: 0.6594257\ttotal: 8.24s\tremaining: 1m 4s\n",
      "114:\tlearn: 0.6585972\ttotal: 8.31s\tremaining: 1m 3s\n",
      "115:\tlearn: 0.6555694\ttotal: 8.38s\tremaining: 1m 3s\n",
      "116:\tlearn: 0.6551397\ttotal: 8.45s\tremaining: 1m 3s\n",
      "117:\tlearn: 0.6535321\ttotal: 8.52s\tremaining: 1m 3s\n",
      "118:\tlearn: 0.6529908\ttotal: 8.59s\tremaining: 1m 3s\n",
      "119:\tlearn: 0.6515520\ttotal: 8.67s\tremaining: 1m 3s\n",
      "120:\tlearn: 0.6502613\ttotal: 8.74s\tremaining: 1m 3s\n",
      "121:\tlearn: 0.6495014\ttotal: 8.82s\tremaining: 1m 3s\n",
      "122:\tlearn: 0.6475087\ttotal: 8.9s\tremaining: 1m 3s\n",
      "123:\tlearn: 0.6458587\ttotal: 8.97s\tremaining: 1m 3s\n",
      "124:\tlearn: 0.6452541\ttotal: 9.04s\tremaining: 1m 3s\n",
      "125:\tlearn: 0.6448262\ttotal: 9.11s\tremaining: 1m 3s\n",
      "126:\tlearn: 0.6432918\ttotal: 9.19s\tremaining: 1m 3s\n",
      "127:\tlearn: 0.6422462\ttotal: 9.26s\tremaining: 1m 3s\n",
      "128:\tlearn: 0.6406873\ttotal: 9.33s\tremaining: 1m 3s\n",
      "129:\tlearn: 0.6395676\ttotal: 9.41s\tremaining: 1m 2s\n",
      "130:\tlearn: 0.6387488\ttotal: 9.48s\tremaining: 1m 2s\n",
      "131:\tlearn: 0.6377637\ttotal: 9.56s\tremaining: 1m 2s\n",
      "132:\tlearn: 0.6370800\ttotal: 9.64s\tremaining: 1m 2s\n",
      "133:\tlearn: 0.6365261\ttotal: 9.71s\tremaining: 1m 2s\n",
      "134:\tlearn: 0.6361997\ttotal: 9.78s\tremaining: 1m 2s\n",
      "135:\tlearn: 0.6351150\ttotal: 9.86s\tremaining: 1m 2s\n",
      "136:\tlearn: 0.6346720\ttotal: 9.94s\tremaining: 1m 2s\n",
      "137:\tlearn: 0.6339584\ttotal: 10s\tremaining: 1m 2s\n",
      "138:\tlearn: 0.6335097\ttotal: 10.1s\tremaining: 1m 2s\n",
      "139:\tlearn: 0.6325326\ttotal: 10.2s\tremaining: 1m 2s\n",
      "140:\tlearn: 0.6318532\ttotal: 10.2s\tremaining: 1m 2s\n",
      "141:\tlearn: 0.6309634\ttotal: 10.3s\tremaining: 1m 2s\n",
      "142:\tlearn: 0.6305508\ttotal: 10.4s\tremaining: 1m 2s\n",
      "143:\tlearn: 0.6300184\ttotal: 10.5s\tremaining: 1m 2s\n",
      "144:\tlearn: 0.6284342\ttotal: 10.5s\tremaining: 1m 2s\n",
      "145:\tlearn: 0.6263984\ttotal: 10.6s\tremaining: 1m 2s\n",
      "146:\tlearn: 0.6246196\ttotal: 10.7s\tremaining: 1m 2s\n",
      "147:\tlearn: 0.6239781\ttotal: 10.8s\tremaining: 1m 2s\n",
      "148:\tlearn: 0.6229523\ttotal: 10.9s\tremaining: 1m 2s\n",
      "149:\tlearn: 0.6220293\ttotal: 10.9s\tremaining: 1m 1s\n",
      "150:\tlearn: 0.6217293\ttotal: 11s\tremaining: 1m 1s\n",
      "151:\tlearn: 0.6208934\ttotal: 11.1s\tremaining: 1m 1s\n",
      "152:\tlearn: 0.6197054\ttotal: 11.2s\tremaining: 1m 1s\n",
      "153:\tlearn: 0.6184366\ttotal: 11.2s\tremaining: 1m 1s\n",
      "154:\tlearn: 0.6180411\ttotal: 11.3s\tremaining: 1m 1s\n",
      "155:\tlearn: 0.6168732\ttotal: 11.4s\tremaining: 1m 1s\n",
      "156:\tlearn: 0.6149535\ttotal: 11.5s\tremaining: 1m 1s\n",
      "157:\tlearn: 0.6131298\ttotal: 11.5s\tremaining: 1m 1s\n",
      "158:\tlearn: 0.6116469\ttotal: 11.6s\tremaining: 1m 1s\n"
     ]
    },
    {
     "name": "stdout",
     "output_type": "stream",
     "text": [
      "159:\tlearn: 0.6109097\ttotal: 11.7s\tremaining: 1m 1s\n",
      "160:\tlearn: 0.6097763\ttotal: 11.8s\tremaining: 1m 1s\n",
      "161:\tlearn: 0.6080247\ttotal: 11.8s\tremaining: 1m 1s\n",
      "162:\tlearn: 0.6074782\ttotal: 11.9s\tremaining: 1m 1s\n",
      "163:\tlearn: 0.6066991\ttotal: 12s\tremaining: 1m 1s\n",
      "164:\tlearn: 0.6047115\ttotal: 12.1s\tremaining: 1m\n",
      "165:\tlearn: 0.6034599\ttotal: 12.1s\tremaining: 1m\n",
      "166:\tlearn: 0.6032304\ttotal: 12.2s\tremaining: 1m\n",
      "167:\tlearn: 0.6019031\ttotal: 12.3s\tremaining: 1m\n",
      "168:\tlearn: 0.6011976\ttotal: 12.3s\tremaining: 1m\n",
      "169:\tlearn: 0.6008792\ttotal: 12.4s\tremaining: 1m\n",
      "170:\tlearn: 0.5988262\ttotal: 12.5s\tremaining: 1m\n",
      "171:\tlearn: 0.5973139\ttotal: 12.5s\tremaining: 1m\n",
      "172:\tlearn: 0.5956006\ttotal: 12.6s\tremaining: 1m\n",
      "173:\tlearn: 0.5949824\ttotal: 12.7s\tremaining: 1m\n",
      "174:\tlearn: 0.5942026\ttotal: 12.8s\tremaining: 1m\n",
      "175:\tlearn: 0.5934297\ttotal: 12.8s\tremaining: 1m\n",
      "176:\tlearn: 0.5921538\ttotal: 12.9s\tremaining: 1m\n",
      "177:\tlearn: 0.5918313\ttotal: 13s\tremaining: 1m\n",
      "178:\tlearn: 0.5914793\ttotal: 13.1s\tremaining: 60s\n",
      "179:\tlearn: 0.5908890\ttotal: 13.1s\tremaining: 59.9s\n",
      "180:\tlearn: 0.5898561\ttotal: 13.2s\tremaining: 59.8s\n",
      "181:\tlearn: 0.5886087\ttotal: 13.3s\tremaining: 59.7s\n",
      "182:\tlearn: 0.5874669\ttotal: 13.4s\tremaining: 59.7s\n",
      "183:\tlearn: 0.5863239\ttotal: 13.4s\tremaining: 59.6s\n",
      "184:\tlearn: 0.5855579\ttotal: 13.5s\tremaining: 59.5s\n",
      "185:\tlearn: 0.5849640\ttotal: 13.6s\tremaining: 59.4s\n",
      "186:\tlearn: 0.5829161\ttotal: 13.7s\tremaining: 59.4s\n",
      "187:\tlearn: 0.5815092\ttotal: 13.7s\tremaining: 59.3s\n",
      "188:\tlearn: 0.5812005\ttotal: 13.8s\tremaining: 59.3s\n",
      "189:\tlearn: 0.5808343\ttotal: 13.9s\tremaining: 59.2s\n",
      "190:\tlearn: 0.5798687\ttotal: 14s\tremaining: 59.1s\n",
      "191:\tlearn: 0.5783748\ttotal: 14s\tremaining: 59.1s\n",
      "192:\tlearn: 0.5771669\ttotal: 14.1s\tremaining: 59s\n",
      "193:\tlearn: 0.5769140\ttotal: 14.2s\tremaining: 59s\n",
      "194:\tlearn: 0.5766999\ttotal: 14.3s\tremaining: 58.8s\n",
      "195:\tlearn: 0.5763113\ttotal: 14.3s\tremaining: 58.8s\n",
      "196:\tlearn: 0.5757404\ttotal: 14.4s\tremaining: 58.8s\n",
      "197:\tlearn: 0.5751358\ttotal: 14.5s\tremaining: 58.7s\n",
      "198:\tlearn: 0.5747859\ttotal: 14.5s\tremaining: 58.6s\n",
      "199:\tlearn: 0.5736328\ttotal: 14.6s\tremaining: 58.5s\n",
      "200:\tlearn: 0.5724810\ttotal: 14.7s\tremaining: 58.4s\n",
      "201:\tlearn: 0.5718085\ttotal: 14.8s\tremaining: 58.4s\n",
      "202:\tlearn: 0.5715726\ttotal: 14.8s\tremaining: 58.3s\n",
      "203:\tlearn: 0.5711374\ttotal: 14.9s\tremaining: 58.2s\n",
      "204:\tlearn: 0.5704595\ttotal: 15s\tremaining: 58.1s\n",
      "205:\tlearn: 0.5702529\ttotal: 15.1s\tremaining: 58s\n",
      "206:\tlearn: 0.5698965\ttotal: 15.1s\tremaining: 58s\n",
      "207:\tlearn: 0.5696118\ttotal: 15.2s\tremaining: 57.9s\n",
      "208:\tlearn: 0.5684439\ttotal: 15.3s\tremaining: 57.8s\n",
      "209:\tlearn: 0.5680658\ttotal: 15.4s\tremaining: 57.8s\n",
      "210:\tlearn: 0.5676123\ttotal: 15.4s\tremaining: 57.7s\n",
      "211:\tlearn: 0.5670247\ttotal: 15.5s\tremaining: 57.7s\n",
      "212:\tlearn: 0.5658538\ttotal: 15.6s\tremaining: 57.6s\n",
      "213:\tlearn: 0.5654422\ttotal: 15.7s\tremaining: 57.5s\n",
      "214:\tlearn: 0.5650337\ttotal: 15.7s\tremaining: 57.4s\n",
      "215:\tlearn: 0.5641272\ttotal: 15.8s\tremaining: 57.4s\n",
      "216:\tlearn: 0.5634471\ttotal: 15.9s\tremaining: 57.3s\n",
      "217:\tlearn: 0.5632637\ttotal: 15.9s\tremaining: 57.1s\n",
      "218:\tlearn: 0.5629959\ttotal: 16s\tremaining: 57s\n",
      "219:\tlearn: 0.5625352\ttotal: 16.1s\tremaining: 57s\n",
      "220:\tlearn: 0.5613040\ttotal: 16.1s\tremaining: 56.9s\n",
      "221:\tlearn: 0.5601805\ttotal: 16.2s\tremaining: 56.8s\n",
      "222:\tlearn: 0.5579591\ttotal: 16.3s\tremaining: 56.8s\n",
      "223:\tlearn: 0.5571591\ttotal: 16.4s\tremaining: 56.7s\n",
      "224:\tlearn: 0.5562512\ttotal: 16.5s\tremaining: 56.7s\n",
      "225:\tlearn: 0.5557734\ttotal: 16.5s\tremaining: 56.6s\n",
      "226:\tlearn: 0.5556197\ttotal: 16.6s\tremaining: 56.5s\n",
      "227:\tlearn: 0.5547867\ttotal: 16.7s\tremaining: 56.5s\n",
      "228:\tlearn: 0.5539577\ttotal: 16.7s\tremaining: 56.4s\n",
      "229:\tlearn: 0.5530922\ttotal: 16.8s\tremaining: 56.3s\n",
      "230:\tlearn: 0.5527310\ttotal: 16.9s\tremaining: 56.2s\n",
      "231:\tlearn: 0.5520362\ttotal: 17s\tremaining: 56.2s\n",
      "232:\tlearn: 0.5508380\ttotal: 17s\tremaining: 56.1s\n",
      "233:\tlearn: 0.5501766\ttotal: 17.1s\tremaining: 56s\n",
      "234:\tlearn: 0.5497894\ttotal: 17.2s\tremaining: 56s\n",
      "235:\tlearn: 0.5493526\ttotal: 17.3s\tremaining: 55.9s\n",
      "236:\tlearn: 0.5487201\ttotal: 17.3s\tremaining: 55.8s\n",
      "237:\tlearn: 0.5484470\ttotal: 17.4s\tremaining: 55.7s\n",
      "238:\tlearn: 0.5479829\ttotal: 17.5s\tremaining: 55.7s\n",
      "239:\tlearn: 0.5470514\ttotal: 17.6s\tremaining: 55.6s\n",
      "240:\tlearn: 0.5464406\ttotal: 17.6s\tremaining: 55.6s\n",
      "241:\tlearn: 0.5457351\ttotal: 17.7s\tremaining: 55.5s\n",
      "242:\tlearn: 0.5448270\ttotal: 17.8s\tremaining: 55.5s\n",
      "243:\tlearn: 0.5439875\ttotal: 17.9s\tremaining: 55.5s\n",
      "244:\tlearn: 0.5434390\ttotal: 18s\tremaining: 55.4s\n",
      "245:\tlearn: 0.5425485\ttotal: 18.1s\tremaining: 55.3s\n",
      "246:\tlearn: 0.5421655\ttotal: 18.1s\tremaining: 55.3s\n",
      "247:\tlearn: 0.5416014\ttotal: 18.2s\tremaining: 55.2s\n",
      "248:\tlearn: 0.5410044\ttotal: 18.3s\tremaining: 55.2s\n",
      "249:\tlearn: 0.5407536\ttotal: 18.4s\tremaining: 55.1s\n",
      "250:\tlearn: 0.5405479\ttotal: 18.4s\tremaining: 55s\n",
      "251:\tlearn: 0.5399849\ttotal: 18.5s\tremaining: 54.9s\n",
      "252:\tlearn: 0.5396692\ttotal: 18.6s\tremaining: 54.9s\n",
      "253:\tlearn: 0.5388741\ttotal: 18.7s\tremaining: 54.8s\n",
      "254:\tlearn: 0.5385305\ttotal: 18.7s\tremaining: 54.7s\n",
      "255:\tlearn: 0.5372459\ttotal: 18.8s\tremaining: 54.7s\n",
      "256:\tlearn: 0.5364642\ttotal: 18.9s\tremaining: 54.6s\n",
      "257:\tlearn: 0.5357429\ttotal: 19s\tremaining: 54.5s\n",
      "258:\tlearn: 0.5353477\ttotal: 19s\tremaining: 54.4s\n",
      "259:\tlearn: 0.5350097\ttotal: 19.1s\tremaining: 54.3s\n",
      "260:\tlearn: 0.5345807\ttotal: 19.2s\tremaining: 54.3s\n",
      "261:\tlearn: 0.5344209\ttotal: 19.2s\tremaining: 54.2s\n",
      "262:\tlearn: 0.5337271\ttotal: 19.3s\tremaining: 54.1s\n",
      "263:\tlearn: 0.5330881\ttotal: 19.4s\tremaining: 54s\n",
      "264:\tlearn: 0.5315739\ttotal: 19.4s\tremaining: 53.9s\n",
      "265:\tlearn: 0.5311604\ttotal: 19.5s\tremaining: 53.9s\n",
      "266:\tlearn: 0.5305402\ttotal: 19.6s\tremaining: 53.8s\n",
      "267:\tlearn: 0.5300875\ttotal: 19.7s\tremaining: 53.7s\n",
      "268:\tlearn: 0.5299416\ttotal: 19.7s\tremaining: 53.6s\n",
      "269:\tlearn: 0.5295275\ttotal: 19.8s\tremaining: 53.5s\n",
      "270:\tlearn: 0.5290067\ttotal: 19.9s\tremaining: 53.4s\n",
      "271:\tlearn: 0.5284116\ttotal: 19.9s\tremaining: 53.4s\n",
      "272:\tlearn: 0.5280666\ttotal: 20s\tremaining: 53.3s\n",
      "273:\tlearn: 0.5278388\ttotal: 20.1s\tremaining: 53.2s\n",
      "274:\tlearn: 0.5275204\ttotal: 20.1s\tremaining: 53.1s\n",
      "275:\tlearn: 0.5269755\ttotal: 20.2s\tremaining: 53s\n",
      "276:\tlearn: 0.5264767\ttotal: 20.3s\tremaining: 53s\n",
      "277:\tlearn: 0.5255667\ttotal: 20.4s\tremaining: 52.9s\n",
      "278:\tlearn: 0.5245067\ttotal: 20.4s\tremaining: 52.8s\n",
      "279:\tlearn: 0.5238133\ttotal: 20.5s\tremaining: 52.7s\n",
      "280:\tlearn: 0.5235857\ttotal: 20.6s\tremaining: 52.7s\n",
      "281:\tlearn: 0.5229983\ttotal: 20.6s\tremaining: 52.6s\n",
      "282:\tlearn: 0.5227922\ttotal: 20.7s\tremaining: 52.5s\n",
      "283:\tlearn: 0.5222030\ttotal: 20.8s\tremaining: 52.4s\n",
      "284:\tlearn: 0.5212872\ttotal: 20.9s\tremaining: 52.4s\n",
      "285:\tlearn: 0.5208553\ttotal: 20.9s\tremaining: 52.3s\n",
      "286:\tlearn: 0.5200796\ttotal: 21s\tremaining: 52.2s\n",
      "287:\tlearn: 0.5197892\ttotal: 21.1s\tremaining: 52.2s\n",
      "288:\tlearn: 0.5191391\ttotal: 21.2s\tremaining: 52.1s\n",
      "289:\tlearn: 0.5188968\ttotal: 21.2s\tremaining: 52s\n",
      "290:\tlearn: 0.5181260\ttotal: 21.3s\tremaining: 52s\n",
      "291:\tlearn: 0.5177150\ttotal: 21.4s\tremaining: 51.9s\n",
      "292:\tlearn: 0.5171143\ttotal: 21.5s\tremaining: 51.8s\n",
      "293:\tlearn: 0.5169541\ttotal: 21.5s\tremaining: 51.7s\n",
      "294:\tlearn: 0.5167499\ttotal: 21.6s\tremaining: 51.6s\n",
      "295:\tlearn: 0.5163349\ttotal: 21.7s\tremaining: 51.6s\n",
      "296:\tlearn: 0.5157432\ttotal: 21.8s\tremaining: 51.5s\n",
      "297:\tlearn: 0.5151511\ttotal: 21.9s\tremaining: 51.5s\n",
      "298:\tlearn: 0.5147738\ttotal: 21.9s\tremaining: 51.4s\n",
      "299:\tlearn: 0.5140896\ttotal: 22s\tremaining: 51.4s\n",
      "300:\tlearn: 0.5139064\ttotal: 22.1s\tremaining: 51.3s\n",
      "301:\tlearn: 0.5131415\ttotal: 22.2s\tremaining: 51.2s\n",
      "302:\tlearn: 0.5125520\ttotal: 22.2s\tremaining: 51.2s\n",
      "303:\tlearn: 0.5121951\ttotal: 22.3s\tremaining: 51.1s\n",
      "304:\tlearn: 0.5118294\ttotal: 22.4s\tremaining: 51s\n",
      "305:\tlearn: 0.5106546\ttotal: 22.5s\tremaining: 51s\n",
      "306:\tlearn: 0.5098468\ttotal: 22.5s\tremaining: 50.9s\n",
      "307:\tlearn: 0.5095332\ttotal: 22.6s\tremaining: 50.8s\n",
      "308:\tlearn: 0.5094175\ttotal: 22.7s\tremaining: 50.7s\n",
      "309:\tlearn: 0.5086707\ttotal: 22.8s\tremaining: 50.7s\n",
      "310:\tlearn: 0.5080905\ttotal: 22.9s\tremaining: 50.7s\n",
      "311:\tlearn: 0.5074885\ttotal: 22.9s\tremaining: 50.6s\n",
      "312:\tlearn: 0.5069359\ttotal: 23s\tremaining: 50.5s\n",
      "313:\tlearn: 0.5066825\ttotal: 23.1s\tremaining: 50.4s\n",
      "314:\tlearn: 0.5062643\ttotal: 23.2s\tremaining: 50.4s\n",
      "315:\tlearn: 0.5059229\ttotal: 23.2s\tremaining: 50.3s\n",
      "316:\tlearn: 0.5053144\ttotal: 23.3s\tremaining: 50.2s\n",
      "317:\tlearn: 0.5049982\ttotal: 23.4s\tremaining: 50.2s\n",
      "318:\tlearn: 0.5046494\ttotal: 23.5s\tremaining: 50.1s\n"
     ]
    },
    {
     "name": "stdout",
     "output_type": "stream",
     "text": [
      "319:\tlearn: 0.5041508\ttotal: 23.5s\tremaining: 50s\n",
      "320:\tlearn: 0.5036790\ttotal: 23.6s\tremaining: 50s\n",
      "321:\tlearn: 0.5033884\ttotal: 23.7s\tremaining: 49.9s\n",
      "322:\tlearn: 0.5030168\ttotal: 23.8s\tremaining: 49.9s\n",
      "323:\tlearn: 0.5025796\ttotal: 23.9s\tremaining: 49.8s\n",
      "324:\tlearn: 0.5022926\ttotal: 23.9s\tremaining: 49.7s\n",
      "325:\tlearn: 0.5018650\ttotal: 24s\tremaining: 49.7s\n",
      "326:\tlearn: 0.5016291\ttotal: 24.1s\tremaining: 49.6s\n",
      "327:\tlearn: 0.5010620\ttotal: 24.2s\tremaining: 49.5s\n",
      "328:\tlearn: 0.5008851\ttotal: 24.2s\tremaining: 49.4s\n",
      "329:\tlearn: 0.5007210\ttotal: 24.3s\tremaining: 49.4s\n",
      "330:\tlearn: 0.5005709\ttotal: 24.4s\tremaining: 49.3s\n",
      "331:\tlearn: 0.4997995\ttotal: 24.5s\tremaining: 49.2s\n",
      "332:\tlearn: 0.4994123\ttotal: 24.5s\tremaining: 49.1s\n",
      "333:\tlearn: 0.4989215\ttotal: 24.6s\tremaining: 49.1s\n",
      "334:\tlearn: 0.4981007\ttotal: 24.7s\tremaining: 49s\n",
      "335:\tlearn: 0.4973689\ttotal: 24.8s\tremaining: 48.9s\n",
      "336:\tlearn: 0.4963339\ttotal: 24.8s\tremaining: 48.8s\n",
      "337:\tlearn: 0.4960093\ttotal: 24.9s\tremaining: 48.7s\n",
      "338:\tlearn: 0.4956690\ttotal: 25s\tremaining: 48.7s\n",
      "339:\tlearn: 0.4953869\ttotal: 25s\tremaining: 48.6s\n",
      "340:\tlearn: 0.4950581\ttotal: 25.1s\tremaining: 48.5s\n",
      "341:\tlearn: 0.4947762\ttotal: 25.2s\tremaining: 48.5s\n",
      "342:\tlearn: 0.4945967\ttotal: 25.3s\tremaining: 48.4s\n",
      "343:\tlearn: 0.4942909\ttotal: 25.3s\tremaining: 48.3s\n",
      "344:\tlearn: 0.4939211\ttotal: 25.4s\tremaining: 48.3s\n",
      "345:\tlearn: 0.4938078\ttotal: 25.5s\tremaining: 48.2s\n",
      "346:\tlearn: 0.4935379\ttotal: 25.6s\tremaining: 48.1s\n",
      "347:\tlearn: 0.4933216\ttotal: 25.6s\tremaining: 48s\n",
      "348:\tlearn: 0.4927394\ttotal: 25.7s\tremaining: 48s\n",
      "349:\tlearn: 0.4922077\ttotal: 25.8s\tremaining: 47.9s\n",
      "350:\tlearn: 0.4918804\ttotal: 25.9s\tremaining: 47.8s\n",
      "351:\tlearn: 0.4914208\ttotal: 25.9s\tremaining: 47.8s\n",
      "352:\tlearn: 0.4909575\ttotal: 26s\tremaining: 47.7s\n",
      "353:\tlearn: 0.4906831\ttotal: 26.1s\tremaining: 47.6s\n",
      "354:\tlearn: 0.4897660\ttotal: 26.2s\tremaining: 47.6s\n",
      "355:\tlearn: 0.4894809\ttotal: 26.3s\tremaining: 47.5s\n",
      "356:\tlearn: 0.4888085\ttotal: 26.3s\tremaining: 47.4s\n",
      "357:\tlearn: 0.4885833\ttotal: 26.4s\tremaining: 47.4s\n",
      "358:\tlearn: 0.4882192\ttotal: 26.5s\tremaining: 47.3s\n",
      "359:\tlearn: 0.4877825\ttotal: 26.6s\tremaining: 47.2s\n",
      "360:\tlearn: 0.4867671\ttotal: 26.6s\tremaining: 47.2s\n",
      "361:\tlearn: 0.4861025\ttotal: 26.7s\tremaining: 47.1s\n",
      "362:\tlearn: 0.4856494\ttotal: 26.8s\tremaining: 47s\n",
      "363:\tlearn: 0.4852884\ttotal: 26.9s\tremaining: 46.9s\n",
      "364:\tlearn: 0.4851087\ttotal: 26.9s\tremaining: 46.9s\n",
      "365:\tlearn: 0.4846789\ttotal: 27s\tremaining: 46.8s\n",
      "366:\tlearn: 0.4841646\ttotal: 27.1s\tremaining: 46.7s\n",
      "367:\tlearn: 0.4839335\ttotal: 27.2s\tremaining: 46.7s\n",
      "368:\tlearn: 0.4835046\ttotal: 27.3s\tremaining: 46.6s\n",
      "369:\tlearn: 0.4832456\ttotal: 27.3s\tremaining: 46.5s\n",
      "370:\tlearn: 0.4829687\ttotal: 27.4s\tremaining: 46.5s\n",
      "371:\tlearn: 0.4827158\ttotal: 27.5s\tremaining: 46.4s\n",
      "372:\tlearn: 0.4819483\ttotal: 27.6s\tremaining: 46.3s\n",
      "373:\tlearn: 0.4815371\ttotal: 27.6s\tremaining: 46.3s\n",
      "374:\tlearn: 0.4811457\ttotal: 27.7s\tremaining: 46.2s\n",
      "375:\tlearn: 0.4809225\ttotal: 27.8s\tremaining: 46.1s\n",
      "376:\tlearn: 0.4806023\ttotal: 27.9s\tremaining: 46s\n",
      "377:\tlearn: 0.4803648\ttotal: 27.9s\tremaining: 46s\n",
      "378:\tlearn: 0.4799551\ttotal: 28s\tremaining: 45.9s\n",
      "379:\tlearn: 0.4796827\ttotal: 28.1s\tremaining: 45.8s\n",
      "380:\tlearn: 0.4794604\ttotal: 28.2s\tremaining: 45.7s\n",
      "381:\tlearn: 0.4790208\ttotal: 28.2s\tremaining: 45.7s\n",
      "382:\tlearn: 0.4782781\ttotal: 28.3s\tremaining: 45.6s\n",
      "383:\tlearn: 0.4776619\ttotal: 28.4s\tremaining: 45.5s\n",
      "384:\tlearn: 0.4771067\ttotal: 28.5s\tremaining: 45.5s\n",
      "385:\tlearn: 0.4769250\ttotal: 28.5s\tremaining: 45.4s\n",
      "386:\tlearn: 0.4764352\ttotal: 28.6s\tremaining: 45.3s\n",
      "387:\tlearn: 0.4762216\ttotal: 28.7s\tremaining: 45.2s\n",
      "388:\tlearn: 0.4757401\ttotal: 28.8s\tremaining: 45.2s\n",
      "389:\tlearn: 0.4750328\ttotal: 28.8s\tremaining: 45.1s\n",
      "390:\tlearn: 0.4742595\ttotal: 28.9s\tremaining: 45s\n",
      "391:\tlearn: 0.4735337\ttotal: 29s\tremaining: 45s\n",
      "392:\tlearn: 0.4729528\ttotal: 29.1s\tremaining: 44.9s\n",
      "393:\tlearn: 0.4725737\ttotal: 29.2s\tremaining: 44.8s\n",
      "394:\tlearn: 0.4721635\ttotal: 29.2s\tremaining: 44.8s\n",
      "395:\tlearn: 0.4717081\ttotal: 29.3s\tremaining: 44.7s\n",
      "396:\tlearn: 0.4712937\ttotal: 29.4s\tremaining: 44.6s\n",
      "397:\tlearn: 0.4705696\ttotal: 29.5s\tremaining: 44.6s\n",
      "398:\tlearn: 0.4704159\ttotal: 29.5s\tremaining: 44.5s\n",
      "399:\tlearn: 0.4702066\ttotal: 29.6s\tremaining: 44.4s\n",
      "400:\tlearn: 0.4701173\ttotal: 29.7s\tremaining: 44.3s\n",
      "401:\tlearn: 0.4698852\ttotal: 29.7s\tremaining: 44.3s\n",
      "402:\tlearn: 0.4696588\ttotal: 29.8s\tremaining: 44.2s\n",
      "403:\tlearn: 0.4694342\ttotal: 29.9s\tremaining: 44.1s\n",
      "404:\tlearn: 0.4688546\ttotal: 30s\tremaining: 44s\n",
      "405:\tlearn: 0.4684100\ttotal: 30s\tremaining: 43.9s\n",
      "406:\tlearn: 0.4682600\ttotal: 30.1s\tremaining: 43.9s\n",
      "407:\tlearn: 0.4677791\ttotal: 30.2s\tremaining: 43.8s\n",
      "408:\tlearn: 0.4672571\ttotal: 30.2s\tremaining: 43.7s\n",
      "409:\tlearn: 0.4666020\ttotal: 30.3s\tremaining: 43.6s\n",
      "410:\tlearn: 0.4663055\ttotal: 30.4s\tremaining: 43.6s\n",
      "411:\tlearn: 0.4655628\ttotal: 30.5s\tremaining: 43.5s\n",
      "412:\tlearn: 0.4652897\ttotal: 30.5s\tremaining: 43.4s\n",
      "413:\tlearn: 0.4648914\ttotal: 30.6s\tremaining: 43.3s\n",
      "414:\tlearn: 0.4647156\ttotal: 30.7s\tremaining: 43.3s\n",
      "415:\tlearn: 0.4646059\ttotal: 30.8s\tremaining: 43.2s\n",
      "416:\tlearn: 0.4641980\ttotal: 30.8s\tremaining: 43.1s\n",
      "417:\tlearn: 0.4638283\ttotal: 30.9s\tremaining: 43s\n",
      "418:\tlearn: 0.4634070\ttotal: 31s\tremaining: 42.9s\n",
      "419:\tlearn: 0.4631631\ttotal: 31s\tremaining: 42.9s\n",
      "420:\tlearn: 0.4626944\ttotal: 31.1s\tremaining: 42.8s\n",
      "421:\tlearn: 0.4625347\ttotal: 31.2s\tremaining: 42.7s\n",
      "422:\tlearn: 0.4623959\ttotal: 31.3s\tremaining: 42.6s\n",
      "423:\tlearn: 0.4620822\ttotal: 31.3s\tremaining: 42.5s\n",
      "424:\tlearn: 0.4617284\ttotal: 31.4s\tremaining: 42.5s\n",
      "425:\tlearn: 0.4609505\ttotal: 31.5s\tremaining: 42.4s\n",
      "426:\tlearn: 0.4602188\ttotal: 31.5s\tremaining: 42.3s\n",
      "427:\tlearn: 0.4600329\ttotal: 31.6s\tremaining: 42.3s\n",
      "428:\tlearn: 0.4595456\ttotal: 31.7s\tremaining: 42.2s\n",
      "429:\tlearn: 0.4593230\ttotal: 31.8s\tremaining: 42.1s\n",
      "430:\tlearn: 0.4591284\ttotal: 31.8s\tremaining: 42s\n",
      "431:\tlearn: 0.4587395\ttotal: 31.9s\tremaining: 42s\n",
      "432:\tlearn: 0.4585480\ttotal: 32s\tremaining: 41.9s\n",
      "433:\tlearn: 0.4583668\ttotal: 32s\tremaining: 41.8s\n",
      "434:\tlearn: 0.4582245\ttotal: 32.1s\tremaining: 41.7s\n",
      "435:\tlearn: 0.4580329\ttotal: 32.2s\tremaining: 41.6s\n",
      "436:\tlearn: 0.4579027\ttotal: 32.2s\tremaining: 41.5s\n",
      "437:\tlearn: 0.4575322\ttotal: 32.3s\tremaining: 41.5s\n",
      "438:\tlearn: 0.4569602\ttotal: 32.4s\tremaining: 41.4s\n",
      "439:\tlearn: 0.4568618\ttotal: 32.5s\tremaining: 41.3s\n",
      "440:\tlearn: 0.4564365\ttotal: 32.5s\tremaining: 41.2s\n",
      "441:\tlearn: 0.4560118\ttotal: 32.6s\tremaining: 41.1s\n",
      "442:\tlearn: 0.4556478\ttotal: 32.7s\tremaining: 41.1s\n",
      "443:\tlearn: 0.4552116\ttotal: 32.7s\tremaining: 41s\n",
      "444:\tlearn: 0.4550443\ttotal: 32.8s\tremaining: 40.9s\n",
      "445:\tlearn: 0.4549183\ttotal: 32.9s\tremaining: 40.8s\n",
      "446:\tlearn: 0.4542094\ttotal: 33s\tremaining: 40.8s\n",
      "447:\tlearn: 0.4540236\ttotal: 33s\tremaining: 40.7s\n",
      "448:\tlearn: 0.4536629\ttotal: 33.1s\tremaining: 40.6s\n",
      "449:\tlearn: 0.4533289\ttotal: 33.2s\tremaining: 40.5s\n",
      "450:\tlearn: 0.4531651\ttotal: 33.2s\tremaining: 40.5s\n",
      "451:\tlearn: 0.4528475\ttotal: 33.3s\tremaining: 40.4s\n",
      "452:\tlearn: 0.4526977\ttotal: 33.4s\tremaining: 40.3s\n",
      "453:\tlearn: 0.4520260\ttotal: 33.4s\tremaining: 40.2s\n",
      "454:\tlearn: 0.4518933\ttotal: 33.5s\tremaining: 40.1s\n",
      "455:\tlearn: 0.4516868\ttotal: 33.6s\tremaining: 40.1s\n",
      "456:\tlearn: 0.4515763\ttotal: 33.6s\tremaining: 40s\n",
      "457:\tlearn: 0.4511121\ttotal: 33.7s\tremaining: 39.9s\n",
      "458:\tlearn: 0.4507570\ttotal: 33.8s\tremaining: 39.8s\n",
      "459:\tlearn: 0.4501357\ttotal: 33.9s\tremaining: 39.8s\n",
      "460:\tlearn: 0.4498176\ttotal: 34s\tremaining: 39.7s\n",
      "461:\tlearn: 0.4495270\ttotal: 34s\tremaining: 39.6s\n",
      "462:\tlearn: 0.4490984\ttotal: 34.1s\tremaining: 39.6s\n",
      "463:\tlearn: 0.4488423\ttotal: 34.2s\tremaining: 39.5s\n",
      "464:\tlearn: 0.4485958\ttotal: 34.2s\tremaining: 39.4s\n",
      "465:\tlearn: 0.4483841\ttotal: 34.3s\tremaining: 39.3s\n",
      "466:\tlearn: 0.4480053\ttotal: 34.4s\tremaining: 39.2s\n",
      "467:\tlearn: 0.4476939\ttotal: 34.5s\tremaining: 39.2s\n",
      "468:\tlearn: 0.4475733\ttotal: 34.5s\tremaining: 39.1s\n",
      "469:\tlearn: 0.4474212\ttotal: 34.6s\tremaining: 39s\n",
      "470:\tlearn: 0.4469181\ttotal: 34.7s\tremaining: 38.9s\n",
      "471:\tlearn: 0.4466363\ttotal: 34.8s\tremaining: 38.9s\n",
      "472:\tlearn: 0.4465456\ttotal: 34.8s\tremaining: 38.8s\n",
      "473:\tlearn: 0.4464162\ttotal: 34.9s\tremaining: 38.7s\n",
      "474:\tlearn: 0.4462148\ttotal: 35s\tremaining: 38.6s\n",
      "475:\tlearn: 0.4459842\ttotal: 35s\tremaining: 38.5s\n",
      "476:\tlearn: 0.4455701\ttotal: 35.1s\tremaining: 38.5s\n",
      "477:\tlearn: 0.4454103\ttotal: 35.2s\tremaining: 38.4s\n",
      "478:\tlearn: 0.4450850\ttotal: 35.2s\tremaining: 38.3s\n"
     ]
    },
    {
     "name": "stdout",
     "output_type": "stream",
     "text": [
      "479:\tlearn: 0.4447690\ttotal: 35.3s\tremaining: 38.2s\n",
      "480:\tlearn: 0.4445131\ttotal: 35.4s\tremaining: 38.2s\n",
      "481:\tlearn: 0.4442375\ttotal: 35.4s\tremaining: 38.1s\n",
      "482:\tlearn: 0.4439126\ttotal: 35.5s\tremaining: 38s\n",
      "483:\tlearn: 0.4435356\ttotal: 35.6s\tremaining: 38s\n",
      "484:\tlearn: 0.4433937\ttotal: 35.7s\tremaining: 37.9s\n",
      "485:\tlearn: 0.4429662\ttotal: 35.7s\tremaining: 37.8s\n",
      "486:\tlearn: 0.4426346\ttotal: 35.8s\tremaining: 37.7s\n",
      "487:\tlearn: 0.4423356\ttotal: 35.9s\tremaining: 37.6s\n",
      "488:\tlearn: 0.4420582\ttotal: 36s\tremaining: 37.6s\n",
      "489:\tlearn: 0.4419822\ttotal: 36s\tremaining: 37.5s\n",
      "490:\tlearn: 0.4417500\ttotal: 36.1s\tremaining: 37.4s\n",
      "491:\tlearn: 0.4415480\ttotal: 36.2s\tremaining: 37.3s\n",
      "492:\tlearn: 0.4412643\ttotal: 36.2s\tremaining: 37.3s\n",
      "493:\tlearn: 0.4409179\ttotal: 36.3s\tremaining: 37.2s\n",
      "494:\tlearn: 0.4407460\ttotal: 36.4s\tremaining: 37.1s\n",
      "495:\tlearn: 0.4400046\ttotal: 36.5s\tremaining: 37s\n",
      "496:\tlearn: 0.4398331\ttotal: 36.5s\tremaining: 37s\n",
      "497:\tlearn: 0.4396757\ttotal: 36.6s\tremaining: 36.9s\n",
      "498:\tlearn: 0.4395053\ttotal: 36.6s\tremaining: 36.8s\n",
      "499:\tlearn: 0.4390975\ttotal: 36.7s\tremaining: 36.7s\n",
      "500:\tlearn: 0.4387815\ttotal: 36.8s\tremaining: 36.7s\n",
      "501:\tlearn: 0.4386103\ttotal: 36.9s\tremaining: 36.6s\n",
      "502:\tlearn: 0.4383340\ttotal: 36.9s\tremaining: 36.5s\n",
      "503:\tlearn: 0.4382557\ttotal: 37s\tremaining: 36.4s\n",
      "504:\tlearn: 0.4380856\ttotal: 37.1s\tremaining: 36.3s\n",
      "505:\tlearn: 0.4380097\ttotal: 37.1s\tremaining: 36.3s\n",
      "506:\tlearn: 0.4376631\ttotal: 37.2s\tremaining: 36.2s\n",
      "507:\tlearn: 0.4373862\ttotal: 37.3s\tremaining: 36.1s\n",
      "508:\tlearn: 0.4372842\ttotal: 37.4s\tremaining: 36s\n",
      "509:\tlearn: 0.4371241\ttotal: 37.4s\tremaining: 36s\n",
      "510:\tlearn: 0.4368636\ttotal: 37.5s\tremaining: 35.9s\n",
      "511:\tlearn: 0.4365900\ttotal: 37.6s\tremaining: 35.8s\n",
      "512:\tlearn: 0.4363733\ttotal: 37.6s\tremaining: 35.7s\n",
      "513:\tlearn: 0.4361263\ttotal: 37.7s\tremaining: 35.7s\n",
      "514:\tlearn: 0.4358457\ttotal: 37.8s\tremaining: 35.6s\n",
      "515:\tlearn: 0.4355480\ttotal: 37.9s\tremaining: 35.5s\n",
      "516:\tlearn: 0.4350815\ttotal: 37.9s\tremaining: 35.4s\n",
      "517:\tlearn: 0.4348071\ttotal: 38s\tremaining: 35.4s\n",
      "518:\tlearn: 0.4345333\ttotal: 38.1s\tremaining: 35.3s\n",
      "519:\tlearn: 0.4343799\ttotal: 38.2s\tremaining: 35.2s\n",
      "520:\tlearn: 0.4341679\ttotal: 38.2s\tremaining: 35.1s\n",
      "521:\tlearn: 0.4340570\ttotal: 38.3s\tremaining: 35.1s\n",
      "522:\tlearn: 0.4337906\ttotal: 38.4s\tremaining: 35s\n",
      "523:\tlearn: 0.4335133\ttotal: 38.4s\tremaining: 34.9s\n",
      "524:\tlearn: 0.4333207\ttotal: 38.5s\tremaining: 34.8s\n",
      "525:\tlearn: 0.4329904\ttotal: 38.6s\tremaining: 34.8s\n",
      "526:\tlearn: 0.4328429\ttotal: 38.7s\tremaining: 34.7s\n",
      "527:\tlearn: 0.4327381\ttotal: 38.7s\tremaining: 34.6s\n",
      "528:\tlearn: 0.4323953\ttotal: 38.8s\tremaining: 34.5s\n",
      "529:\tlearn: 0.4320975\ttotal: 38.9s\tremaining: 34.5s\n",
      "530:\tlearn: 0.4319886\ttotal: 38.9s\tremaining: 34.4s\n",
      "531:\tlearn: 0.4318850\ttotal: 39s\tremaining: 34.3s\n",
      "532:\tlearn: 0.4314181\ttotal: 39.1s\tremaining: 34.2s\n",
      "533:\tlearn: 0.4310860\ttotal: 39.2s\tremaining: 34.2s\n",
      "534:\tlearn: 0.4304898\ttotal: 39.2s\tremaining: 34.1s\n",
      "535:\tlearn: 0.4303717\ttotal: 39.3s\tremaining: 34s\n",
      "536:\tlearn: 0.4300667\ttotal: 39.4s\tremaining: 33.9s\n",
      "537:\tlearn: 0.4298000\ttotal: 39.4s\tremaining: 33.9s\n",
      "538:\tlearn: 0.4294033\ttotal: 39.5s\tremaining: 33.8s\n",
      "539:\tlearn: 0.4293227\ttotal: 39.6s\tremaining: 33.7s\n",
      "540:\tlearn: 0.4291478\ttotal: 39.6s\tremaining: 33.6s\n",
      "541:\tlearn: 0.4290427\ttotal: 39.7s\tremaining: 33.6s\n",
      "542:\tlearn: 0.4288054\ttotal: 39.8s\tremaining: 33.5s\n",
      "543:\tlearn: 0.4287040\ttotal: 39.8s\tremaining: 33.4s\n",
      "544:\tlearn: 0.4284102\ttotal: 39.9s\tremaining: 33.3s\n",
      "545:\tlearn: 0.4280421\ttotal: 40s\tremaining: 33.3s\n",
      "546:\tlearn: 0.4277147\ttotal: 40.1s\tremaining: 33.2s\n",
      "547:\tlearn: 0.4274617\ttotal: 40.1s\tremaining: 33.1s\n",
      "548:\tlearn: 0.4272556\ttotal: 40.2s\tremaining: 33s\n",
      "549:\tlearn: 0.4269597\ttotal: 40.3s\tremaining: 33s\n",
      "550:\tlearn: 0.4267835\ttotal: 40.4s\tremaining: 32.9s\n",
      "551:\tlearn: 0.4266319\ttotal: 40.4s\tremaining: 32.8s\n",
      "552:\tlearn: 0.4264195\ttotal: 40.5s\tremaining: 32.7s\n",
      "553:\tlearn: 0.4259615\ttotal: 40.6s\tremaining: 32.7s\n",
      "554:\tlearn: 0.4258695\ttotal: 40.6s\tremaining: 32.6s\n",
      "555:\tlearn: 0.4254862\ttotal: 40.7s\tremaining: 32.5s\n",
      "556:\tlearn: 0.4252026\ttotal: 40.8s\tremaining: 32.4s\n",
      "557:\tlearn: 0.4249425\ttotal: 40.9s\tremaining: 32.4s\n",
      "558:\tlearn: 0.4244768\ttotal: 40.9s\tremaining: 32.3s\n",
      "559:\tlearn: 0.4243280\ttotal: 41s\tremaining: 32.2s\n",
      "560:\tlearn: 0.4239424\ttotal: 41.1s\tremaining: 32.2s\n",
      "561:\tlearn: 0.4237921\ttotal: 41.2s\tremaining: 32.1s\n",
      "562:\tlearn: 0.4235439\ttotal: 41.2s\tremaining: 32s\n",
      "563:\tlearn: 0.4231411\ttotal: 41.3s\tremaining: 31.9s\n",
      "564:\tlearn: 0.4229729\ttotal: 41.4s\tremaining: 31.9s\n",
      "565:\tlearn: 0.4228220\ttotal: 41.4s\tremaining: 31.8s\n",
      "566:\tlearn: 0.4225686\ttotal: 41.5s\tremaining: 31.7s\n",
      "567:\tlearn: 0.4223071\ttotal: 41.6s\tremaining: 31.6s\n",
      "568:\tlearn: 0.4220401\ttotal: 41.7s\tremaining: 31.6s\n",
      "569:\tlearn: 0.4219012\ttotal: 41.7s\tremaining: 31.5s\n",
      "570:\tlearn: 0.4218173\ttotal: 41.8s\tremaining: 31.4s\n",
      "571:\tlearn: 0.4215601\ttotal: 41.9s\tremaining: 31.3s\n",
      "572:\tlearn: 0.4213205\ttotal: 42s\tremaining: 31.3s\n",
      "573:\tlearn: 0.4210419\ttotal: 42s\tremaining: 31.2s\n",
      "574:\tlearn: 0.4209047\ttotal: 42.1s\tremaining: 31.1s\n",
      "575:\tlearn: 0.4207528\ttotal: 42.2s\tremaining: 31s\n",
      "576:\tlearn: 0.4205549\ttotal: 42.3s\tremaining: 31s\n",
      "577:\tlearn: 0.4204648\ttotal: 42.3s\tremaining: 30.9s\n",
      "578:\tlearn: 0.4201805\ttotal: 42.4s\tremaining: 30.8s\n",
      "579:\tlearn: 0.4198647\ttotal: 42.5s\tremaining: 30.7s\n",
      "580:\tlearn: 0.4196555\ttotal: 42.5s\tremaining: 30.7s\n",
      "581:\tlearn: 0.4193401\ttotal: 42.6s\tremaining: 30.6s\n",
      "582:\tlearn: 0.4190635\ttotal: 42.7s\tremaining: 30.5s\n",
      "583:\tlearn: 0.4188930\ttotal: 42.8s\tremaining: 30.5s\n",
      "584:\tlearn: 0.4188084\ttotal: 42.8s\tremaining: 30.4s\n",
      "585:\tlearn: 0.4185548\ttotal: 42.9s\tremaining: 30.3s\n",
      "586:\tlearn: 0.4184439\ttotal: 43s\tremaining: 30.2s\n",
      "587:\tlearn: 0.4182757\ttotal: 43s\tremaining: 30.1s\n",
      "588:\tlearn: 0.4181063\ttotal: 43.1s\tremaining: 30.1s\n",
      "589:\tlearn: 0.4179584\ttotal: 43.2s\tremaining: 30s\n",
      "590:\tlearn: 0.4176913\ttotal: 43.2s\tremaining: 29.9s\n",
      "591:\tlearn: 0.4175765\ttotal: 43.3s\tremaining: 29.9s\n",
      "592:\tlearn: 0.4174770\ttotal: 43.4s\tremaining: 29.8s\n",
      "593:\tlearn: 0.4172799\ttotal: 43.4s\tremaining: 29.7s\n",
      "594:\tlearn: 0.4170873\ttotal: 43.5s\tremaining: 29.6s\n",
      "595:\tlearn: 0.4169186\ttotal: 43.6s\tremaining: 29.5s\n",
      "596:\tlearn: 0.4166916\ttotal: 43.7s\tremaining: 29.5s\n",
      "597:\tlearn: 0.4163043\ttotal: 43.7s\tremaining: 29.4s\n",
      "598:\tlearn: 0.4156943\ttotal: 43.8s\tremaining: 29.3s\n",
      "599:\tlearn: 0.4154036\ttotal: 43.9s\tremaining: 29.3s\n",
      "600:\tlearn: 0.4152068\ttotal: 44s\tremaining: 29.2s\n",
      "601:\tlearn: 0.4150077\ttotal: 44s\tremaining: 29.1s\n",
      "602:\tlearn: 0.4146529\ttotal: 44.1s\tremaining: 29s\n",
      "603:\tlearn: 0.4143078\ttotal: 44.2s\tremaining: 29s\n",
      "604:\tlearn: 0.4141119\ttotal: 44.3s\tremaining: 28.9s\n",
      "605:\tlearn: 0.4139820\ttotal: 44.3s\tremaining: 28.8s\n",
      "606:\tlearn: 0.4137509\ttotal: 44.4s\tremaining: 28.7s\n",
      "607:\tlearn: 0.4136294\ttotal: 44.5s\tremaining: 28.7s\n",
      "608:\tlearn: 0.4135529\ttotal: 44.5s\tremaining: 28.6s\n",
      "609:\tlearn: 0.4133929\ttotal: 44.6s\tremaining: 28.5s\n",
      "610:\tlearn: 0.4132181\ttotal: 44.7s\tremaining: 28.4s\n",
      "611:\tlearn: 0.4128965\ttotal: 44.8s\tremaining: 28.4s\n",
      "612:\tlearn: 0.4127121\ttotal: 44.8s\tremaining: 28.3s\n",
      "613:\tlearn: 0.4126484\ttotal: 44.9s\tremaining: 28.2s\n",
      "614:\tlearn: 0.4125605\ttotal: 44.9s\tremaining: 28.1s\n",
      "615:\tlearn: 0.4124090\ttotal: 45s\tremaining: 28.1s\n",
      "616:\tlearn: 0.4122930\ttotal: 45.1s\tremaining: 28s\n",
      "617:\tlearn: 0.4120630\ttotal: 45.1s\tremaining: 27.9s\n",
      "618:\tlearn: 0.4119837\ttotal: 45.2s\tremaining: 27.8s\n",
      "619:\tlearn: 0.4117918\ttotal: 45.3s\tremaining: 27.8s\n",
      "620:\tlearn: 0.4115618\ttotal: 45.4s\tremaining: 27.7s\n",
      "621:\tlearn: 0.4114081\ttotal: 45.4s\tremaining: 27.6s\n",
      "622:\tlearn: 0.4112629\ttotal: 45.5s\tremaining: 27.5s\n",
      "623:\tlearn: 0.4110515\ttotal: 45.6s\tremaining: 27.5s\n",
      "624:\tlearn: 0.4106887\ttotal: 45.7s\tremaining: 27.4s\n",
      "625:\tlearn: 0.4103735\ttotal: 45.7s\tremaining: 27.3s\n",
      "626:\tlearn: 0.4102747\ttotal: 45.8s\tremaining: 27.3s\n",
      "627:\tlearn: 0.4100005\ttotal: 45.9s\tremaining: 27.2s\n",
      "628:\tlearn: 0.4098383\ttotal: 46s\tremaining: 27.1s\n",
      "629:\tlearn: 0.4097500\ttotal: 46s\tremaining: 27s\n",
      "630:\tlearn: 0.4094401\ttotal: 46.1s\tremaining: 27s\n",
      "631:\tlearn: 0.4092128\ttotal: 46.2s\tremaining: 26.9s\n",
      "632:\tlearn: 0.4089761\ttotal: 46.2s\tremaining: 26.8s\n",
      "633:\tlearn: 0.4088273\ttotal: 46.3s\tremaining: 26.7s\n",
      "634:\tlearn: 0.4086477\ttotal: 46.4s\tremaining: 26.7s\n",
      "635:\tlearn: 0.4083718\ttotal: 46.5s\tremaining: 26.6s\n",
      "636:\tlearn: 0.4082222\ttotal: 46.5s\tremaining: 26.5s\n",
      "637:\tlearn: 0.4080165\ttotal: 46.6s\tremaining: 26.4s\n",
      "638:\tlearn: 0.4079411\ttotal: 46.7s\tremaining: 26.4s\n",
      "639:\tlearn: 0.4076493\ttotal: 46.8s\tremaining: 26.3s\n",
      "640:\tlearn: 0.4075149\ttotal: 46.8s\tremaining: 26.2s\n"
     ]
    },
    {
     "name": "stdout",
     "output_type": "stream",
     "text": [
      "641:\tlearn: 0.4073462\ttotal: 46.9s\tremaining: 26.2s\n",
      "642:\tlearn: 0.4072365\ttotal: 47s\tremaining: 26.1s\n",
      "643:\tlearn: 0.4069126\ttotal: 47s\tremaining: 26s\n",
      "644:\tlearn: 0.4066397\ttotal: 47.1s\tremaining: 25.9s\n",
      "645:\tlearn: 0.4064220\ttotal: 47.2s\tremaining: 25.9s\n",
      "646:\tlearn: 0.4061351\ttotal: 47.3s\tremaining: 25.8s\n",
      "647:\tlearn: 0.4059195\ttotal: 47.3s\tremaining: 25.7s\n",
      "648:\tlearn: 0.4057968\ttotal: 47.4s\tremaining: 25.6s\n",
      "649:\tlearn: 0.4056658\ttotal: 47.5s\tremaining: 25.6s\n",
      "650:\tlearn: 0.4053479\ttotal: 47.5s\tremaining: 25.5s\n",
      "651:\tlearn: 0.4050856\ttotal: 47.6s\tremaining: 25.4s\n",
      "652:\tlearn: 0.4049756\ttotal: 47.7s\tremaining: 25.3s\n",
      "653:\tlearn: 0.4048604\ttotal: 47.7s\tremaining: 25.3s\n",
      "654:\tlearn: 0.4047457\ttotal: 47.8s\tremaining: 25.2s\n",
      "655:\tlearn: 0.4045554\ttotal: 47.9s\tremaining: 25.1s\n",
      "656:\tlearn: 0.4044863\ttotal: 47.9s\tremaining: 25s\n",
      "657:\tlearn: 0.4042606\ttotal: 48s\tremaining: 25s\n",
      "658:\tlearn: 0.4040571\ttotal: 48.1s\tremaining: 24.9s\n",
      "659:\tlearn: 0.4038862\ttotal: 48.2s\tremaining: 24.8s\n",
      "660:\tlearn: 0.4037770\ttotal: 48.2s\tremaining: 24.7s\n",
      "661:\tlearn: 0.4036519\ttotal: 48.3s\tremaining: 24.7s\n",
      "662:\tlearn: 0.4035138\ttotal: 48.4s\tremaining: 24.6s\n",
      "663:\tlearn: 0.4033998\ttotal: 48.4s\tremaining: 24.5s\n",
      "664:\tlearn: 0.4033250\ttotal: 48.5s\tremaining: 24.4s\n",
      "665:\tlearn: 0.4032195\ttotal: 48.6s\tremaining: 24.4s\n",
      "666:\tlearn: 0.4030166\ttotal: 48.6s\tremaining: 24.3s\n",
      "667:\tlearn: 0.4028788\ttotal: 48.7s\tremaining: 24.2s\n",
      "668:\tlearn: 0.4027407\ttotal: 48.8s\tremaining: 24.1s\n",
      "669:\tlearn: 0.4024581\ttotal: 48.9s\tremaining: 24.1s\n",
      "670:\tlearn: 0.4023522\ttotal: 48.9s\tremaining: 24s\n",
      "671:\tlearn: 0.4021112\ttotal: 49s\tremaining: 23.9s\n",
      "672:\tlearn: 0.4019561\ttotal: 49.1s\tremaining: 23.8s\n",
      "673:\tlearn: 0.4017632\ttotal: 49.1s\tremaining: 23.8s\n",
      "674:\tlearn: 0.4016790\ttotal: 49.2s\tremaining: 23.7s\n",
      "675:\tlearn: 0.4015802\ttotal: 49.3s\tremaining: 23.6s\n",
      "676:\tlearn: 0.4011437\ttotal: 49.4s\tremaining: 23.5s\n",
      "677:\tlearn: 0.4009832\ttotal: 49.4s\tremaining: 23.5s\n",
      "678:\tlearn: 0.4008069\ttotal: 49.5s\tremaining: 23.4s\n",
      "679:\tlearn: 0.4005229\ttotal: 49.6s\tremaining: 23.3s\n",
      "680:\tlearn: 0.4004635\ttotal: 49.7s\tremaining: 23.3s\n",
      "681:\tlearn: 0.4002000\ttotal: 49.7s\tremaining: 23.2s\n",
      "682:\tlearn: 0.4000535\ttotal: 49.8s\tremaining: 23.1s\n",
      "683:\tlearn: 0.3998661\ttotal: 49.9s\tremaining: 23s\n",
      "684:\tlearn: 0.3997636\ttotal: 50s\tremaining: 23s\n",
      "685:\tlearn: 0.3995938\ttotal: 50s\tremaining: 22.9s\n",
      "686:\tlearn: 0.3994262\ttotal: 50.1s\tremaining: 22.8s\n",
      "687:\tlearn: 0.3993208\ttotal: 50.2s\tremaining: 22.8s\n",
      "688:\tlearn: 0.3990626\ttotal: 50.3s\tremaining: 22.7s\n",
      "689:\tlearn: 0.3990168\ttotal: 50.3s\tremaining: 22.6s\n",
      "690:\tlearn: 0.3989299\ttotal: 50.4s\tremaining: 22.5s\n",
      "691:\tlearn: 0.3988150\ttotal: 50.5s\tremaining: 22.5s\n",
      "692:\tlearn: 0.3987323\ttotal: 50.5s\tremaining: 22.4s\n",
      "693:\tlearn: 0.3985047\ttotal: 50.6s\tremaining: 22.3s\n",
      "694:\tlearn: 0.3984047\ttotal: 50.7s\tremaining: 22.2s\n",
      "695:\tlearn: 0.3982043\ttotal: 50.7s\tremaining: 22.2s\n",
      "696:\tlearn: 0.3980311\ttotal: 50.8s\tremaining: 22.1s\n",
      "697:\tlearn: 0.3978755\ttotal: 50.9s\tremaining: 22s\n",
      "698:\tlearn: 0.3976725\ttotal: 51s\tremaining: 21.9s\n",
      "699:\tlearn: 0.3974925\ttotal: 51s\tremaining: 21.9s\n",
      "700:\tlearn: 0.3973888\ttotal: 51.1s\tremaining: 21.8s\n",
      "701:\tlearn: 0.3972822\ttotal: 51.2s\tremaining: 21.7s\n",
      "702:\tlearn: 0.3971561\ttotal: 51.3s\tremaining: 21.7s\n",
      "703:\tlearn: 0.3970536\ttotal: 51.3s\tremaining: 21.6s\n",
      "704:\tlearn: 0.3969345\ttotal: 51.4s\tremaining: 21.5s\n",
      "705:\tlearn: 0.3967648\ttotal: 51.5s\tremaining: 21.4s\n",
      "706:\tlearn: 0.3964484\ttotal: 51.6s\tremaining: 21.4s\n",
      "707:\tlearn: 0.3962539\ttotal: 51.7s\tremaining: 21.3s\n",
      "708:\tlearn: 0.3961025\ttotal: 51.7s\tremaining: 21.2s\n",
      "709:\tlearn: 0.3959517\ttotal: 51.8s\tremaining: 21.2s\n",
      "710:\tlearn: 0.3957841\ttotal: 51.9s\tremaining: 21.1s\n",
      "711:\tlearn: 0.3954281\ttotal: 52s\tremaining: 21s\n",
      "712:\tlearn: 0.3953470\ttotal: 52s\tremaining: 20.9s\n",
      "713:\tlearn: 0.3951867\ttotal: 52.1s\tremaining: 20.9s\n",
      "714:\tlearn: 0.3951057\ttotal: 52.2s\tremaining: 20.8s\n",
      "715:\tlearn: 0.3950105\ttotal: 52.2s\tremaining: 20.7s\n",
      "716:\tlearn: 0.3947951\ttotal: 52.3s\tremaining: 20.7s\n",
      "717:\tlearn: 0.3947141\ttotal: 52.4s\tremaining: 20.6s\n",
      "718:\tlearn: 0.3946369\ttotal: 52.5s\tremaining: 20.5s\n",
      "719:\tlearn: 0.3944664\ttotal: 52.5s\tremaining: 20.4s\n",
      "720:\tlearn: 0.3943900\ttotal: 52.6s\tremaining: 20.3s\n",
      "721:\tlearn: 0.3942902\ttotal: 52.6s\tremaining: 20.3s\n",
      "722:\tlearn: 0.3939915\ttotal: 52.7s\tremaining: 20.2s\n",
      "723:\tlearn: 0.3939201\ttotal: 52.8s\tremaining: 20.1s\n",
      "724:\tlearn: 0.3937925\ttotal: 52.9s\tremaining: 20.1s\n",
      "725:\tlearn: 0.3936424\ttotal: 53s\tremaining: 20s\n",
      "726:\tlearn: 0.3933598\ttotal: 53s\tremaining: 19.9s\n",
      "727:\tlearn: 0.3932899\ttotal: 53.1s\tremaining: 19.8s\n",
      "728:\tlearn: 0.3932169\ttotal: 53.2s\tremaining: 19.8s\n",
      "729:\tlearn: 0.3929215\ttotal: 53.2s\tremaining: 19.7s\n",
      "730:\tlearn: 0.3928100\ttotal: 53.3s\tremaining: 19.6s\n",
      "731:\tlearn: 0.3927268\ttotal: 53.4s\tremaining: 19.5s\n",
      "732:\tlearn: 0.3925478\ttotal: 53.5s\tremaining: 19.5s\n",
      "733:\tlearn: 0.3924495\ttotal: 53.5s\tremaining: 19.4s\n",
      "734:\tlearn: 0.3923044\ttotal: 53.6s\tremaining: 19.3s\n",
      "735:\tlearn: 0.3921733\ttotal: 53.7s\tremaining: 19.3s\n",
      "736:\tlearn: 0.3919318\ttotal: 53.8s\tremaining: 19.2s\n",
      "737:\tlearn: 0.3916265\ttotal: 53.9s\tremaining: 19.1s\n",
      "738:\tlearn: 0.3914322\ttotal: 53.9s\tremaining: 19.1s\n",
      "739:\tlearn: 0.3913860\ttotal: 54s\tremaining: 19s\n",
      "740:\tlearn: 0.3913330\ttotal: 54.1s\tremaining: 18.9s\n",
      "741:\tlearn: 0.3912279\ttotal: 54.2s\tremaining: 18.8s\n",
      "742:\tlearn: 0.3909841\ttotal: 54.2s\tremaining: 18.8s\n",
      "743:\tlearn: 0.3908882\ttotal: 54.3s\tremaining: 18.7s\n",
      "744:\tlearn: 0.3907891\ttotal: 54.4s\tremaining: 18.6s\n",
      "745:\tlearn: 0.3907067\ttotal: 54.4s\tremaining: 18.5s\n",
      "746:\tlearn: 0.3904158\ttotal: 54.5s\tremaining: 18.5s\n",
      "747:\tlearn: 0.3902482\ttotal: 54.6s\tremaining: 18.4s\n",
      "748:\tlearn: 0.3901864\ttotal: 54.6s\tremaining: 18.3s\n",
      "749:\tlearn: 0.3901126\ttotal: 54.7s\tremaining: 18.2s\n",
      "750:\tlearn: 0.3900304\ttotal: 54.8s\tremaining: 18.2s\n",
      "751:\tlearn: 0.3899317\ttotal: 54.8s\tremaining: 18.1s\n",
      "752:\tlearn: 0.3897837\ttotal: 54.9s\tremaining: 18s\n",
      "753:\tlearn: 0.3896240\ttotal: 55s\tremaining: 17.9s\n",
      "754:\tlearn: 0.3894974\ttotal: 55s\tremaining: 17.9s\n",
      "755:\tlearn: 0.3893948\ttotal: 55.1s\tremaining: 17.8s\n",
      "756:\tlearn: 0.3892801\ttotal: 55.2s\tremaining: 17.7s\n",
      "757:\tlearn: 0.3890978\ttotal: 55.2s\tremaining: 17.6s\n",
      "758:\tlearn: 0.3889069\ttotal: 55.3s\tremaining: 17.6s\n",
      "759:\tlearn: 0.3888162\ttotal: 55.4s\tremaining: 17.5s\n",
      "760:\tlearn: 0.3887136\ttotal: 55.4s\tremaining: 17.4s\n",
      "761:\tlearn: 0.3885996\ttotal: 55.5s\tremaining: 17.3s\n",
      "762:\tlearn: 0.3884154\ttotal: 55.6s\tremaining: 17.3s\n",
      "763:\tlearn: 0.3882749\ttotal: 55.7s\tremaining: 17.2s\n",
      "764:\tlearn: 0.3881419\ttotal: 55.7s\tremaining: 17.1s\n",
      "765:\tlearn: 0.3879799\ttotal: 55.8s\tremaining: 17s\n",
      "766:\tlearn: 0.3877213\ttotal: 55.9s\tremaining: 17s\n",
      "767:\tlearn: 0.3875550\ttotal: 55.9s\tremaining: 16.9s\n",
      "768:\tlearn: 0.3874285\ttotal: 56s\tremaining: 16.8s\n",
      "769:\tlearn: 0.3873719\ttotal: 56.1s\tremaining: 16.8s\n",
      "770:\tlearn: 0.3872428\ttotal: 56.2s\tremaining: 16.7s\n",
      "771:\tlearn: 0.3871197\ttotal: 56.2s\tremaining: 16.6s\n",
      "772:\tlearn: 0.3868880\ttotal: 56.3s\tremaining: 16.5s\n",
      "773:\tlearn: 0.3866612\ttotal: 56.4s\tremaining: 16.5s\n",
      "774:\tlearn: 0.3866126\ttotal: 56.4s\tremaining: 16.4s\n",
      "775:\tlearn: 0.3865473\ttotal: 56.5s\tremaining: 16.3s\n",
      "776:\tlearn: 0.3861940\ttotal: 56.6s\tremaining: 16.2s\n",
      "777:\tlearn: 0.3859979\ttotal: 56.6s\tremaining: 16.2s\n",
      "778:\tlearn: 0.3859369\ttotal: 56.7s\tremaining: 16.1s\n",
      "779:\tlearn: 0.3858455\ttotal: 56.8s\tremaining: 16s\n",
      "780:\tlearn: 0.3855174\ttotal: 56.9s\tremaining: 15.9s\n",
      "781:\tlearn: 0.3854071\ttotal: 56.9s\tremaining: 15.9s\n",
      "782:\tlearn: 0.3852019\ttotal: 57s\tremaining: 15.8s\n",
      "783:\tlearn: 0.3851087\ttotal: 57.1s\tremaining: 15.7s\n",
      "784:\tlearn: 0.3848918\ttotal: 57.2s\tremaining: 15.7s\n",
      "785:\tlearn: 0.3848458\ttotal: 57.2s\tremaining: 15.6s\n",
      "786:\tlearn: 0.3847332\ttotal: 57.3s\tremaining: 15.5s\n",
      "787:\tlearn: 0.3846096\ttotal: 57.4s\tremaining: 15.4s\n",
      "788:\tlearn: 0.3845215\ttotal: 57.5s\tremaining: 15.4s\n",
      "789:\tlearn: 0.3843642\ttotal: 57.6s\tremaining: 15.3s\n",
      "790:\tlearn: 0.3841587\ttotal: 57.6s\tremaining: 15.2s\n",
      "791:\tlearn: 0.3840851\ttotal: 57.7s\tremaining: 15.2s\n",
      "792:\tlearn: 0.3838913\ttotal: 57.8s\tremaining: 15.1s\n",
      "793:\tlearn: 0.3837414\ttotal: 57.9s\tremaining: 15s\n",
      "794:\tlearn: 0.3835871\ttotal: 58s\tremaining: 14.9s\n",
      "795:\tlearn: 0.3833378\ttotal: 58s\tremaining: 14.9s\n",
      "796:\tlearn: 0.3830710\ttotal: 58.1s\tremaining: 14.8s\n",
      "797:\tlearn: 0.3830147\ttotal: 58.2s\tremaining: 14.7s\n",
      "798:\tlearn: 0.3829155\ttotal: 58.3s\tremaining: 14.7s\n",
      "799:\tlearn: 0.3827472\ttotal: 58.3s\tremaining: 14.6s\n",
      "800:\tlearn: 0.3826755\ttotal: 58.4s\tremaining: 14.5s\n",
      "801:\tlearn: 0.3824985\ttotal: 58.5s\tremaining: 14.4s\n"
     ]
    },
    {
     "name": "stdout",
     "output_type": "stream",
     "text": [
      "802:\tlearn: 0.3823069\ttotal: 58.6s\tremaining: 14.4s\n",
      "803:\tlearn: 0.3822403\ttotal: 58.6s\tremaining: 14.3s\n",
      "804:\tlearn: 0.3820750\ttotal: 58.7s\tremaining: 14.2s\n",
      "805:\tlearn: 0.3819633\ttotal: 58.8s\tremaining: 14.1s\n",
      "806:\tlearn: 0.3818519\ttotal: 58.8s\tremaining: 14.1s\n",
      "807:\tlearn: 0.3816712\ttotal: 58.9s\tremaining: 14s\n",
      "808:\tlearn: 0.3815930\ttotal: 59s\tremaining: 13.9s\n",
      "809:\tlearn: 0.3813019\ttotal: 59.1s\tremaining: 13.9s\n",
      "810:\tlearn: 0.3810826\ttotal: 59.1s\tremaining: 13.8s\n",
      "811:\tlearn: 0.3810260\ttotal: 59.2s\tremaining: 13.7s\n",
      "812:\tlearn: 0.3808833\ttotal: 59.3s\tremaining: 13.6s\n",
      "813:\tlearn: 0.3807034\ttotal: 59.4s\tremaining: 13.6s\n",
      "814:\tlearn: 0.3806207\ttotal: 59.5s\tremaining: 13.5s\n",
      "815:\tlearn: 0.3804408\ttotal: 59.5s\tremaining: 13.4s\n",
      "816:\tlearn: 0.3803863\ttotal: 59.6s\tremaining: 13.3s\n",
      "817:\tlearn: 0.3802004\ttotal: 59.7s\tremaining: 13.3s\n",
      "818:\tlearn: 0.3801181\ttotal: 59.7s\tremaining: 13.2s\n",
      "819:\tlearn: 0.3800628\ttotal: 59.8s\tremaining: 13.1s\n",
      "820:\tlearn: 0.3799831\ttotal: 59.9s\tremaining: 13.1s\n",
      "821:\tlearn: 0.3798789\ttotal: 59.9s\tremaining: 13s\n",
      "822:\tlearn: 0.3797799\ttotal: 1m\tremaining: 12.9s\n",
      "823:\tlearn: 0.3796294\ttotal: 1m\tremaining: 12.8s\n",
      "824:\tlearn: 0.3795374\ttotal: 1m\tremaining: 12.8s\n",
      "825:\tlearn: 0.3793236\ttotal: 1m\tremaining: 12.7s\n",
      "826:\tlearn: 0.3791690\ttotal: 1m\tremaining: 12.6s\n",
      "827:\tlearn: 0.3790323\ttotal: 1m\tremaining: 12.5s\n",
      "828:\tlearn: 0.3787876\ttotal: 1m\tremaining: 12.5s\n",
      "829:\tlearn: 0.3786693\ttotal: 1m\tremaining: 12.4s\n",
      "830:\tlearn: 0.3785251\ttotal: 1m\tremaining: 12.3s\n",
      "831:\tlearn: 0.3783269\ttotal: 1m\tremaining: 12.3s\n",
      "832:\tlearn: 0.3781876\ttotal: 1m\tremaining: 12.2s\n",
      "833:\tlearn: 0.3780353\ttotal: 1m\tremaining: 12.1s\n",
      "834:\tlearn: 0.3778367\ttotal: 1m\tremaining: 12s\n",
      "835:\tlearn: 0.3775507\ttotal: 1m 1s\tremaining: 12s\n",
      "836:\tlearn: 0.3772751\ttotal: 1m 1s\tremaining: 11.9s\n",
      "837:\tlearn: 0.3772061\ttotal: 1m 1s\tremaining: 11.8s\n",
      "838:\tlearn: 0.3770589\ttotal: 1m 1s\tremaining: 11.7s\n",
      "839:\tlearn: 0.3768157\ttotal: 1m 1s\tremaining: 11.7s\n",
      "840:\tlearn: 0.3766526\ttotal: 1m 1s\tremaining: 11.6s\n",
      "841:\tlearn: 0.3765870\ttotal: 1m 1s\tremaining: 11.5s\n",
      "842:\tlearn: 0.3763662\ttotal: 1m 1s\tremaining: 11.5s\n",
      "843:\tlearn: 0.3762607\ttotal: 1m 1s\tremaining: 11.4s\n",
      "844:\tlearn: 0.3761896\ttotal: 1m 1s\tremaining: 11.3s\n",
      "845:\tlearn: 0.3761198\ttotal: 1m 1s\tremaining: 11.2s\n",
      "846:\tlearn: 0.3759393\ttotal: 1m 1s\tremaining: 11.2s\n",
      "847:\tlearn: 0.3757668\ttotal: 1m 1s\tremaining: 11.1s\n",
      "848:\tlearn: 0.3757081\ttotal: 1m 1s\tremaining: 11s\n",
      "849:\tlearn: 0.3756415\ttotal: 1m 2s\tremaining: 10.9s\n",
      "850:\tlearn: 0.3753894\ttotal: 1m 2s\tremaining: 10.9s\n",
      "851:\tlearn: 0.3752721\ttotal: 1m 2s\tremaining: 10.8s\n",
      "852:\tlearn: 0.3752036\ttotal: 1m 2s\tremaining: 10.7s\n",
      "853:\tlearn: 0.3751421\ttotal: 1m 2s\tremaining: 10.7s\n",
      "854:\tlearn: 0.3750878\ttotal: 1m 2s\tremaining: 10.6s\n",
      "855:\tlearn: 0.3749242\ttotal: 1m 2s\tremaining: 10.5s\n",
      "856:\tlearn: 0.3748281\ttotal: 1m 2s\tremaining: 10.4s\n",
      "857:\tlearn: 0.3747326\ttotal: 1m 2s\tremaining: 10.4s\n",
      "858:\tlearn: 0.3746443\ttotal: 1m 2s\tremaining: 10.3s\n",
      "859:\tlearn: 0.3746064\ttotal: 1m 2s\tremaining: 10.2s\n",
      "860:\tlearn: 0.3744341\ttotal: 1m 2s\tremaining: 10.1s\n",
      "861:\tlearn: 0.3743905\ttotal: 1m 2s\tremaining: 10.1s\n",
      "862:\tlearn: 0.3742887\ttotal: 1m 2s\tremaining: 10s\n",
      "863:\tlearn: 0.3741547\ttotal: 1m 3s\tremaining: 9.93s\n",
      "864:\tlearn: 0.3740792\ttotal: 1m 3s\tremaining: 9.85s\n",
      "865:\tlearn: 0.3739541\ttotal: 1m 3s\tremaining: 9.78s\n",
      "866:\tlearn: 0.3738082\ttotal: 1m 3s\tremaining: 9.71s\n",
      "867:\tlearn: 0.3737395\ttotal: 1m 3s\tremaining: 9.63s\n",
      "868:\tlearn: 0.3736583\ttotal: 1m 3s\tremaining: 9.56s\n",
      "869:\tlearn: 0.3735869\ttotal: 1m 3s\tremaining: 9.49s\n",
      "870:\tlearn: 0.3734703\ttotal: 1m 3s\tremaining: 9.42s\n",
      "871:\tlearn: 0.3732797\ttotal: 1m 3s\tremaining: 9.34s\n",
      "872:\tlearn: 0.3732105\ttotal: 1m 3s\tremaining: 9.27s\n",
      "873:\tlearn: 0.3731471\ttotal: 1m 3s\tremaining: 9.2s\n",
      "874:\tlearn: 0.3730579\ttotal: 1m 3s\tremaining: 9.12s\n",
      "875:\tlearn: 0.3729095\ttotal: 1m 3s\tremaining: 9.05s\n",
      "876:\tlearn: 0.3728035\ttotal: 1m 4s\tremaining: 8.98s\n",
      "877:\tlearn: 0.3726682\ttotal: 1m 4s\tremaining: 8.91s\n",
      "878:\tlearn: 0.3725060\ttotal: 1m 4s\tremaining: 8.84s\n",
      "879:\tlearn: 0.3723582\ttotal: 1m 4s\tremaining: 8.76s\n",
      "880:\tlearn: 0.3721661\ttotal: 1m 4s\tremaining: 8.69s\n",
      "881:\tlearn: 0.3720581\ttotal: 1m 4s\tremaining: 8.62s\n",
      "882:\tlearn: 0.3720163\ttotal: 1m 4s\tremaining: 8.54s\n",
      "883:\tlearn: 0.3718834\ttotal: 1m 4s\tremaining: 8.47s\n",
      "884:\tlearn: 0.3718236\ttotal: 1m 4s\tremaining: 8.4s\n",
      "885:\tlearn: 0.3717442\ttotal: 1m 4s\tremaining: 8.32s\n",
      "886:\tlearn: 0.3715874\ttotal: 1m 4s\tremaining: 8.25s\n",
      "887:\tlearn: 0.3715067\ttotal: 1m 4s\tremaining: 8.18s\n",
      "888:\tlearn: 0.3712992\ttotal: 1m 4s\tremaining: 8.11s\n",
      "889:\tlearn: 0.3712170\ttotal: 1m 4s\tremaining: 8.03s\n",
      "890:\tlearn: 0.3711526\ttotal: 1m 5s\tremaining: 7.96s\n",
      "891:\tlearn: 0.3710893\ttotal: 1m 5s\tremaining: 7.88s\n",
      "892:\tlearn: 0.3709985\ttotal: 1m 5s\tremaining: 7.81s\n",
      "893:\tlearn: 0.3708790\ttotal: 1m 5s\tremaining: 7.74s\n",
      "894:\tlearn: 0.3705795\ttotal: 1m 5s\tremaining: 7.67s\n",
      "895:\tlearn: 0.3705207\ttotal: 1m 5s\tremaining: 7.59s\n",
      "896:\tlearn: 0.3704816\ttotal: 1m 5s\tremaining: 7.52s\n",
      "897:\tlearn: 0.3703349\ttotal: 1m 5s\tremaining: 7.45s\n",
      "898:\tlearn: 0.3702239\ttotal: 1m 5s\tremaining: 7.38s\n",
      "899:\tlearn: 0.3700043\ttotal: 1m 5s\tremaining: 7.3s\n",
      "900:\tlearn: 0.3699532\ttotal: 1m 5s\tremaining: 7.23s\n",
      "901:\tlearn: 0.3698894\ttotal: 1m 5s\tremaining: 7.16s\n",
      "902:\tlearn: 0.3698484\ttotal: 1m 5s\tremaining: 7.08s\n",
      "903:\tlearn: 0.3697083\ttotal: 1m 6s\tremaining: 7.01s\n",
      "904:\tlearn: 0.3695935\ttotal: 1m 6s\tremaining: 6.94s\n",
      "905:\tlearn: 0.3693953\ttotal: 1m 6s\tremaining: 6.86s\n",
      "906:\tlearn: 0.3692380\ttotal: 1m 6s\tremaining: 6.79s\n",
      "907:\tlearn: 0.3690805\ttotal: 1m 6s\tremaining: 6.72s\n",
      "908:\tlearn: 0.3688982\ttotal: 1m 6s\tremaining: 6.64s\n",
      "909:\tlearn: 0.3687348\ttotal: 1m 6s\tremaining: 6.57s\n",
      "910:\tlearn: 0.3685796\ttotal: 1m 6s\tremaining: 6.5s\n",
      "911:\tlearn: 0.3684697\ttotal: 1m 6s\tremaining: 6.42s\n",
      "912:\tlearn: 0.3683166\ttotal: 1m 6s\tremaining: 6.35s\n",
      "913:\tlearn: 0.3681203\ttotal: 1m 6s\tremaining: 6.28s\n",
      "914:\tlearn: 0.3680418\ttotal: 1m 6s\tremaining: 6.21s\n",
      "915:\tlearn: 0.3679664\ttotal: 1m 6s\tremaining: 6.13s\n",
      "916:\tlearn: 0.3677801\ttotal: 1m 6s\tremaining: 6.06s\n",
      "917:\tlearn: 0.3676467\ttotal: 1m 7s\tremaining: 5.99s\n",
      "918:\tlearn: 0.3674894\ttotal: 1m 7s\tremaining: 5.91s\n",
      "919:\tlearn: 0.3673348\ttotal: 1m 7s\tremaining: 5.84s\n",
      "920:\tlearn: 0.3672284\ttotal: 1m 7s\tremaining: 5.77s\n",
      "921:\tlearn: 0.3670290\ttotal: 1m 7s\tremaining: 5.7s\n",
      "922:\tlearn: 0.3667922\ttotal: 1m 7s\tremaining: 5.62s\n",
      "923:\tlearn: 0.3666426\ttotal: 1m 7s\tremaining: 5.55s\n",
      "924:\tlearn: 0.3665138\ttotal: 1m 7s\tremaining: 5.48s\n",
      "925:\tlearn: 0.3664511\ttotal: 1m 7s\tremaining: 5.4s\n",
      "926:\tlearn: 0.3664036\ttotal: 1m 7s\tremaining: 5.33s\n",
      "927:\tlearn: 0.3662457\ttotal: 1m 7s\tremaining: 5.26s\n",
      "928:\tlearn: 0.3661530\ttotal: 1m 7s\tremaining: 5.18s\n",
      "929:\tlearn: 0.3660827\ttotal: 1m 7s\tremaining: 5.11s\n",
      "930:\tlearn: 0.3659095\ttotal: 1m 7s\tremaining: 5.04s\n",
      "931:\tlearn: 0.3657887\ttotal: 1m 8s\tremaining: 4.96s\n",
      "932:\tlearn: 0.3656417\ttotal: 1m 8s\tremaining: 4.89s\n",
      "933:\tlearn: 0.3655004\ttotal: 1m 8s\tremaining: 4.82s\n",
      "934:\tlearn: 0.3654038\ttotal: 1m 8s\tremaining: 4.75s\n",
      "935:\tlearn: 0.3653532\ttotal: 1m 8s\tremaining: 4.67s\n",
      "936:\tlearn: 0.3652422\ttotal: 1m 8s\tremaining: 4.6s\n",
      "937:\tlearn: 0.3651771\ttotal: 1m 8s\tremaining: 4.53s\n",
      "938:\tlearn: 0.3651359\ttotal: 1m 8s\tremaining: 4.45s\n",
      "939:\tlearn: 0.3650798\ttotal: 1m 8s\tremaining: 4.38s\n",
      "940:\tlearn: 0.3650160\ttotal: 1m 8s\tremaining: 4.31s\n",
      "941:\tlearn: 0.3649717\ttotal: 1m 8s\tremaining: 4.23s\n",
      "942:\tlearn: 0.3648431\ttotal: 1m 8s\tremaining: 4.16s\n",
      "943:\tlearn: 0.3647343\ttotal: 1m 8s\tremaining: 4.09s\n",
      "944:\tlearn: 0.3646170\ttotal: 1m 8s\tremaining: 4.01s\n",
      "945:\tlearn: 0.3645423\ttotal: 1m 9s\tremaining: 3.94s\n",
      "946:\tlearn: 0.3644009\ttotal: 1m 9s\tremaining: 3.87s\n",
      "947:\tlearn: 0.3643451\ttotal: 1m 9s\tremaining: 3.8s\n",
      "948:\tlearn: 0.3642412\ttotal: 1m 9s\tremaining: 3.72s\n",
      "949:\tlearn: 0.3640542\ttotal: 1m 9s\tremaining: 3.65s\n",
      "950:\tlearn: 0.3638541\ttotal: 1m 9s\tremaining: 3.58s\n",
      "951:\tlearn: 0.3636895\ttotal: 1m 9s\tremaining: 3.51s\n",
      "952:\tlearn: 0.3636610\ttotal: 1m 9s\tremaining: 3.43s\n",
      "953:\tlearn: 0.3636025\ttotal: 1m 9s\tremaining: 3.36s\n",
      "954:\tlearn: 0.3633868\ttotal: 1m 9s\tremaining: 3.29s\n",
      "955:\tlearn: 0.3631989\ttotal: 1m 9s\tremaining: 3.21s\n",
      "956:\tlearn: 0.3630821\ttotal: 1m 9s\tremaining: 3.14s\n",
      "957:\tlearn: 0.3629829\ttotal: 1m 9s\tremaining: 3.07s\n",
      "958:\tlearn: 0.3629043\ttotal: 1m 10s\tremaining: 3s\n",
      "959:\tlearn: 0.3627991\ttotal: 1m 10s\tremaining: 2.92s\n",
      "960:\tlearn: 0.3626927\ttotal: 1m 10s\tremaining: 2.85s\n",
      "961:\tlearn: 0.3626300\ttotal: 1m 10s\tremaining: 2.78s\n"
     ]
    },
    {
     "name": "stdout",
     "output_type": "stream",
     "text": [
      "962:\tlearn: 0.3625472\ttotal: 1m 10s\tremaining: 2.7s\n",
      "963:\tlearn: 0.3624756\ttotal: 1m 10s\tremaining: 2.63s\n",
      "964:\tlearn: 0.3623651\ttotal: 1m 10s\tremaining: 2.56s\n",
      "965:\tlearn: 0.3622397\ttotal: 1m 10s\tremaining: 2.48s\n",
      "966:\tlearn: 0.3621906\ttotal: 1m 10s\tremaining: 2.41s\n",
      "967:\tlearn: 0.3621480\ttotal: 1m 10s\tremaining: 2.34s\n",
      "968:\tlearn: 0.3620902\ttotal: 1m 10s\tremaining: 2.26s\n",
      "969:\tlearn: 0.3619560\ttotal: 1m 10s\tremaining: 2.19s\n",
      "970:\tlearn: 0.3617515\ttotal: 1m 10s\tremaining: 2.12s\n",
      "971:\tlearn: 0.3615709\ttotal: 1m 11s\tremaining: 2.04s\n",
      "972:\tlearn: 0.3614088\ttotal: 1m 11s\tremaining: 1.97s\n",
      "973:\tlearn: 0.3612890\ttotal: 1m 11s\tremaining: 1.9s\n",
      "974:\tlearn: 0.3612207\ttotal: 1m 11s\tremaining: 1.83s\n",
      "975:\tlearn: 0.3611463\ttotal: 1m 11s\tremaining: 1.75s\n",
      "976:\tlearn: 0.3610543\ttotal: 1m 11s\tremaining: 1.68s\n",
      "977:\tlearn: 0.3610000\ttotal: 1m 11s\tremaining: 1.61s\n",
      "978:\tlearn: 0.3608669\ttotal: 1m 11s\tremaining: 1.53s\n",
      "979:\tlearn: 0.3607336\ttotal: 1m 11s\tremaining: 1.46s\n",
      "980:\tlearn: 0.3605898\ttotal: 1m 11s\tremaining: 1.39s\n",
      "981:\tlearn: 0.3605315\ttotal: 1m 11s\tremaining: 1.31s\n",
      "982:\tlearn: 0.3604126\ttotal: 1m 11s\tremaining: 1.24s\n",
      "983:\tlearn: 0.3603498\ttotal: 1m 11s\tremaining: 1.17s\n",
      "984:\tlearn: 0.3602919\ttotal: 1m 11s\tremaining: 1.09s\n",
      "985:\tlearn: 0.3602364\ttotal: 1m 11s\tremaining: 1.02s\n",
      "986:\tlearn: 0.3601857\ttotal: 1m 12s\tremaining: 949ms\n",
      "987:\tlearn: 0.3601453\ttotal: 1m 12s\tremaining: 876ms\n",
      "988:\tlearn: 0.3600187\ttotal: 1m 12s\tremaining: 803ms\n",
      "989:\tlearn: 0.3599706\ttotal: 1m 12s\tremaining: 730ms\n",
      "990:\tlearn: 0.3598785\ttotal: 1m 12s\tremaining: 657ms\n",
      "991:\tlearn: 0.3598360\ttotal: 1m 12s\tremaining: 584ms\n",
      "992:\tlearn: 0.3597714\ttotal: 1m 12s\tremaining: 511ms\n",
      "993:\tlearn: 0.3597121\ttotal: 1m 12s\tremaining: 438ms\n",
      "994:\tlearn: 0.3596392\ttotal: 1m 12s\tremaining: 365ms\n",
      "995:\tlearn: 0.3595877\ttotal: 1m 12s\tremaining: 292ms\n",
      "996:\tlearn: 0.3594990\ttotal: 1m 12s\tremaining: 219ms\n",
      "997:\tlearn: 0.3593833\ttotal: 1m 12s\tremaining: 146ms\n",
      "998:\tlearn: 0.3592420\ttotal: 1m 12s\tremaining: 73ms\n",
      "999:\tlearn: 0.3591382\ttotal: 1m 13s\tremaining: 0us\n",
      "78s\n"
     ]
    }
   ],
   "source": [
    "# istanziazione e addestramento: con 1000 estimatori richiede due minuti\n",
    "import datetime\n",
    "start = datetime.datetime.now()\n",
    "catbm = CatBoostRegressor(n_estimators=1000);\n",
    "catbm.fit(X_train, y_train);\n",
    "end = datetime.datetime.now()\n",
    "print(f\"{int((end - start).total_seconds())}s\")"
   ]
  },
  {
   "cell_type": "code",
   "execution_count": 114,
   "metadata": {
    "colab": {
     "base_uri": "https://localhost:8080/"
    },
    "id": "wIGWmlGysXev",
    "outputId": "f0c6d10e-9979-4243-850b-f44a1259f0ee"
   },
   "outputs": [
    {
     "name": "stdout",
     "output_type": "stream",
     "text": [
      "      MSE:       0.1471\n",
      "R-squared:       0.8479\n",
      "    RMSPE:      66.9580\n"
     ]
    }
   ],
   "source": [
    "# valutazione di CatBoost: su questo caso di studio e senza tuning degli iperparametri è competitivo con XGBoost anche se quest'ultimo risulta comunque il migliore  \n",
    "print_eval(X_val, y_val, catbm)"
   ]
  }
 ],
 "metadata": {
  "kernelspec": {
   "display_name": "Python 3 (ipykernel)",
   "language": "python",
   "name": "python3"
  },
  "language_info": {
   "codemirror_mode": {
    "name": "ipython",
    "version": 3
   },
   "file_extension": ".py",
   "mimetype": "text/x-python",
   "name": "python",
   "nbconvert_exporter": "python",
   "pygments_lexer": "ipython3",
   "version": "3.9.7"
  }
 },
 "nbformat": 4,
 "nbformat_minor": 4
}
