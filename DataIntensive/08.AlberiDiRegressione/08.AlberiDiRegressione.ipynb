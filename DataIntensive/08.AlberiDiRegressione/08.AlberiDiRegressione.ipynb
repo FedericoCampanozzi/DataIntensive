{
 "cells": [
  {
   "cell_type": "markdown",
   "metadata": {
    "id": "GFGX77jIMSA1"
   },
   "source": [
    "# Laboratorio: Trattamento Variabili Categoriche e Alberi di Regressione\n",
    "\n",
    "**Programmazione di Applicazioni Data Intensive**  \n",
    "Laurea in Ingegneria e Scienze Informatiche  \n",
    "DISI - Università di Bologna, Cesena\n",
    "\n",
    "Proff. Gianluca Moro, Roberto Pasolini  \n",
    "`nome.cognome@unibo.it`"
   ]
  },
  {
   "cell_type": "markdown",
   "metadata": {
    "id": "aMjOrcfMMSA5"
   },
   "source": [
    "## Setup"
   ]
  },
  {
   "cell_type": "markdown",
   "metadata": {
    "id": "EqnvjpjAMSA8"
   },
   "source": [
    "- Importiamo le librerie di uso comune"
   ]
  },
  {
   "cell_type": "code",
   "execution_count": 1,
   "metadata": {
    "id": "Qjzm5g4FMSA9"
   },
   "outputs": [],
   "source": [
    "import numpy as np\n",
    "import pandas as pd\n",
    "import matplotlib.pyplot as plt\n",
    "%matplotlib inline\n",
    "import sklearn\n",
    "import warnings\n",
    "warnings.filterwarnings('once')"
   ]
  },
  {
   "cell_type": "markdown",
   "metadata": {
    "id": "pkVcH-6YMSA9"
   },
   "source": [
    "- Definiamo la seguente funzione di supporto per scaricare i file di dati necessari"
   ]
  },
  {
   "cell_type": "code",
   "execution_count": 2,
   "metadata": {
    "id": "vDOn2VmSMSA9"
   },
   "outputs": [],
   "source": [
    "import os\n",
    "from urllib.request import urlretrieve\n",
    "def download(file, url):\n",
    "    if not os.path.isfile(file):\n",
    "        urlretrieve(url, file)"
   ]
  },
  {
   "cell_type": "markdown",
   "metadata": {},
   "source": [
    "- Installeremo e testeremo altre librerie nella parte finale dell'esercitazione"
   ]
  },
  {
   "cell_type": "markdown",
   "metadata": {
    "id": "4dAQTDbxEgT2"
   },
   "source": [
    "## Caso di studio: Predizione vendite\n",
    "\n",
    "- I negozi sono interessati a prevedere quanto più accuratamente possibile le vendite giornaliere\n",
    "  - per ottimizzare le scorte di magazzino, il personale da impiegare, ecc.\n",
    "- Le vendite sono influenzate da diversi fattori\n",
    "  - giorno della settimana, festività, promozioni, ...\n",
    "- In questo caso di studio analizziamo dati relativi a più di 1.000 negozi della catena europea Rossmann\n",
    "- La predizione su questi dati è stata oggetto di una competizione su Kaggle: https://www.kaggle.com/c/rossmann-store-sales\n",
    "  - i dati che forniamo sono versioni già parzialmente preprocessate di quelli originali su Kaggle"
   ]
  },
  {
   "cell_type": "markdown",
   "metadata": {
    "id": "E3adNbfQEgT3"
   },
   "source": [
    "### Dataset\n",
    "\n",
    "- I dati sono forniti divisi in due file, per addestramento e validazione"
   ]
  },
  {
   "cell_type": "code",
   "execution_count": 3,
   "metadata": {
    "id": "1McGCq6FEgT4"
   },
   "outputs": [],
   "source": [
    "download(\"rossmann_train.csv.gz\", \"https://github.com/datascienceunibo/dialab2019/raw/master/Deep_Learning/rossmann_train.csv.gz\")\n",
    "download(\"rossmann_valid.csv.gz\", \"https://github.com/datascienceunibo/dialab2019/raw/master/Deep_Learning/rossmann_valid.csv.gz\")"
   ]
  },
  {
   "cell_type": "markdown",
   "metadata": {
    "id": "oXftE3iuEgT4"
   },
   "source": [
    "- Carichiamo i due file e vediamone la quantità di osservazioni\n",
    "  - con `parse_dates=[\"Date\"]` ci accertiamo che la colonna della data sia trattata come tale\n",
    "  - i file CSV sono compressi col formato GZIP, lo esplicitiam con `compression=\"gzip\"`"
   ]
  },
  {
   "cell_type": "code",
   "execution_count": 4,
   "metadata": {
    "id": "Fuas3r9BEgT4"
   },
   "outputs": [],
   "source": [
    "data_train = pd.read_csv(\n",
    "    \"rossmann_train.csv.gz\",\n",
    "    parse_dates=[\"Date\"],\n",
    "    compression=\"gzip\",\n",
    ")"
   ]
  },
  {
   "cell_type": "code",
   "execution_count": 5,
   "metadata": {
    "id": "YU6dscz3EgT5"
   },
   "outputs": [],
   "source": [
    "data_val = pd.read_csv(\n",
    "    \"rossmann_valid.csv.gz\",\n",
    "    parse_dates=[\"Date\"],\n",
    "    compression=\"gzip\",\n",
    ")"
   ]
  },
  {
   "cell_type": "code",
   "execution_count": 6,
   "metadata": {
    "colab": {
     "base_uri": "https://localhost:8080/"
    },
    "id": "rPFoZEW8EgT5",
    "outputId": "0d0aa0ec-9f29-4919-fc7a-b35e7b4346d5"
   },
   "outputs": [
    {
     "data": {
      "text/plain": [
       "(804056, 40282)"
      ]
     },
     "execution_count": 6,
     "metadata": {},
     "output_type": "execute_result"
    }
   ],
   "source": [
    "len(data_train), len(data_val)"
   ]
  },
  {
   "cell_type": "markdown",
   "metadata": {
    "id": "ywFW7uUWEgT6"
   },
   "source": [
    "- Vediamo un estratto dei due frame"
   ]
  },
  {
   "cell_type": "code",
   "execution_count": 7,
   "metadata": {
    "colab": {
     "base_uri": "https://localhost:8080/",
     "height": 0
    },
    "id": "G_plpwA9EgT7",
    "outputId": "8a3ced88-0384-4be9-8eb7-bd0b886650b7"
   },
   "outputs": [
    {
     "data": {
      "text/html": [
       "<div>\n",
       "<style scoped>\n",
       "    .dataframe tbody tr th:only-of-type {\n",
       "        vertical-align: middle;\n",
       "    }\n",
       "\n",
       "    .dataframe tbody tr th {\n",
       "        vertical-align: top;\n",
       "    }\n",
       "\n",
       "    .dataframe thead th {\n",
       "        text-align: right;\n",
       "    }\n",
       "</style>\n",
       "<table border=\"1\" class=\"dataframe\">\n",
       "  <thead>\n",
       "    <tr style=\"text-align: right;\">\n",
       "      <th></th>\n",
       "      <th>Store</th>\n",
       "      <th>Date</th>\n",
       "      <th>Promo</th>\n",
       "      <th>StateHoliday</th>\n",
       "      <th>SchoolHoliday</th>\n",
       "      <th>StoreType</th>\n",
       "      <th>Assortment</th>\n",
       "      <th>CompetitionDistance</th>\n",
       "      <th>CompetitionOpenSinceMonth</th>\n",
       "      <th>CompetitionOpenSinceYear</th>\n",
       "      <th>Promo2</th>\n",
       "      <th>Promo2SinceWeek</th>\n",
       "      <th>Promo2SinceYear</th>\n",
       "      <th>CompetitionOpen</th>\n",
       "      <th>PromoOpen</th>\n",
       "      <th>IsPromoMonth</th>\n",
       "      <th>Customers</th>\n",
       "      <th>Sales</th>\n",
       "    </tr>\n",
       "  </thead>\n",
       "  <tbody>\n",
       "    <tr>\n",
       "      <th>0</th>\n",
       "      <td>314</td>\n",
       "      <td>2015-06-19</td>\n",
       "      <td>1</td>\n",
       "      <td>0</td>\n",
       "      <td>0</td>\n",
       "      <td>1</td>\n",
       "      <td>1</td>\n",
       "      <td>3560.0</td>\n",
       "      <td>10.0</td>\n",
       "      <td>2001.0</td>\n",
       "      <td>1</td>\n",
       "      <td>31.0</td>\n",
       "      <td>2013.0</td>\n",
       "      <td>164.0</td>\n",
       "      <td>22.50</td>\n",
       "      <td>0</td>\n",
       "      <td>562</td>\n",
       "      <td>5032</td>\n",
       "    </tr>\n",
       "    <tr>\n",
       "      <th>1</th>\n",
       "      <td>458</td>\n",
       "      <td>2015-06-19</td>\n",
       "      <td>1</td>\n",
       "      <td>0</td>\n",
       "      <td>0</td>\n",
       "      <td>3</td>\n",
       "      <td>1</td>\n",
       "      <td>3390.0</td>\n",
       "      <td>0.0</td>\n",
       "      <td>0.0</td>\n",
       "      <td>0</td>\n",
       "      <td>0.0</td>\n",
       "      <td>0.0</td>\n",
       "      <td>24186.0</td>\n",
       "      <td>24186.25</td>\n",
       "      <td>0</td>\n",
       "      <td>688</td>\n",
       "      <td>7362</td>\n",
       "    </tr>\n",
       "    <tr>\n",
       "      <th>2</th>\n",
       "      <td>961</td>\n",
       "      <td>2015-06-19</td>\n",
       "      <td>1</td>\n",
       "      <td>0</td>\n",
       "      <td>0</td>\n",
       "      <td>4</td>\n",
       "      <td>3</td>\n",
       "      <td>9430.0</td>\n",
       "      <td>0.0</td>\n",
       "      <td>0.0</td>\n",
       "      <td>0</td>\n",
       "      <td>0.0</td>\n",
       "      <td>0.0</td>\n",
       "      <td>24186.0</td>\n",
       "      <td>24186.25</td>\n",
       "      <td>0</td>\n",
       "      <td>768</td>\n",
       "      <td>7764</td>\n",
       "    </tr>\n",
       "    <tr>\n",
       "      <th>3</th>\n",
       "      <td>132</td>\n",
       "      <td>2015-06-19</td>\n",
       "      <td>1</td>\n",
       "      <td>0</td>\n",
       "      <td>0</td>\n",
       "      <td>4</td>\n",
       "      <td>3</td>\n",
       "      <td>1040.0</td>\n",
       "      <td>0.0</td>\n",
       "      <td>0.0</td>\n",
       "      <td>1</td>\n",
       "      <td>27.0</td>\n",
       "      <td>2012.0</td>\n",
       "      <td>24186.0</td>\n",
       "      <td>35.50</td>\n",
       "      <td>0</td>\n",
       "      <td>692</td>\n",
       "      <td>7964</td>\n",
       "    </tr>\n",
       "  </tbody>\n",
       "</table>\n",
       "</div>"
      ],
      "text/plain": [
       "   Store       Date  Promo  StateHoliday  SchoolHoliday  StoreType  \\\n",
       "0    314 2015-06-19      1             0              0          1   \n",
       "1    458 2015-06-19      1             0              0          3   \n",
       "2    961 2015-06-19      1             0              0          4   \n",
       "3    132 2015-06-19      1             0              0          4   \n",
       "\n",
       "   Assortment  CompetitionDistance  CompetitionOpenSinceMonth  \\\n",
       "0           1               3560.0                       10.0   \n",
       "1           1               3390.0                        0.0   \n",
       "2           3               9430.0                        0.0   \n",
       "3           3               1040.0                        0.0   \n",
       "\n",
       "   CompetitionOpenSinceYear  Promo2  Promo2SinceWeek  Promo2SinceYear  \\\n",
       "0                    2001.0       1             31.0           2013.0   \n",
       "1                       0.0       0              0.0              0.0   \n",
       "2                       0.0       0              0.0              0.0   \n",
       "3                       0.0       1             27.0           2012.0   \n",
       "\n",
       "   CompetitionOpen  PromoOpen  IsPromoMonth  Customers  Sales  \n",
       "0            164.0      22.50             0        562   5032  \n",
       "1          24186.0   24186.25             0        688   7362  \n",
       "2          24186.0   24186.25             0        768   7764  \n",
       "3          24186.0      35.50             0        692   7964  "
      ]
     },
     "execution_count": 7,
     "metadata": {},
     "output_type": "execute_result"
    }
   ],
   "source": [
    "data_train.head(4)"
   ]
  },
  {
   "cell_type": "code",
   "execution_count": 8,
   "metadata": {
    "colab": {
     "base_uri": "https://localhost:8080/",
     "height": 0
    },
    "id": "t20mKXEqEgT7",
    "outputId": "aa0b6dfd-8871-4364-fdc0-0c55f6339f5e"
   },
   "outputs": [
    {
     "data": {
      "text/html": [
       "<div>\n",
       "<style scoped>\n",
       "    .dataframe tbody tr th:only-of-type {\n",
       "        vertical-align: middle;\n",
       "    }\n",
       "\n",
       "    .dataframe tbody tr th {\n",
       "        vertical-align: top;\n",
       "    }\n",
       "\n",
       "    .dataframe thead th {\n",
       "        text-align: right;\n",
       "    }\n",
       "</style>\n",
       "<table border=\"1\" class=\"dataframe\">\n",
       "  <thead>\n",
       "    <tr style=\"text-align: right;\">\n",
       "      <th></th>\n",
       "      <th>Store</th>\n",
       "      <th>Date</th>\n",
       "      <th>Promo</th>\n",
       "      <th>StateHoliday</th>\n",
       "      <th>SchoolHoliday</th>\n",
       "      <th>StoreType</th>\n",
       "      <th>Assortment</th>\n",
       "      <th>CompetitionDistance</th>\n",
       "      <th>CompetitionOpenSinceMonth</th>\n",
       "      <th>CompetitionOpenSinceYear</th>\n",
       "      <th>Promo2</th>\n",
       "      <th>Promo2SinceWeek</th>\n",
       "      <th>Promo2SinceYear</th>\n",
       "      <th>CompetitionOpen</th>\n",
       "      <th>PromoOpen</th>\n",
       "      <th>IsPromoMonth</th>\n",
       "      <th>Customers</th>\n",
       "      <th>Sales</th>\n",
       "    </tr>\n",
       "  </thead>\n",
       "  <tbody>\n",
       "    <tr>\n",
       "      <th>0</th>\n",
       "      <td>1</td>\n",
       "      <td>2015-07-31</td>\n",
       "      <td>1</td>\n",
       "      <td>0</td>\n",
       "      <td>1</td>\n",
       "      <td>3</td>\n",
       "      <td>1</td>\n",
       "      <td>1270.0</td>\n",
       "      <td>9.0</td>\n",
       "      <td>2008.0</td>\n",
       "      <td>0</td>\n",
       "      <td>0.0</td>\n",
       "      <td>0.0</td>\n",
       "      <td>82.0</td>\n",
       "      <td>24187.75</td>\n",
       "      <td>0</td>\n",
       "      <td>555</td>\n",
       "      <td>5263</td>\n",
       "    </tr>\n",
       "    <tr>\n",
       "      <th>1</th>\n",
       "      <td>747</td>\n",
       "      <td>2015-07-31</td>\n",
       "      <td>1</td>\n",
       "      <td>0</td>\n",
       "      <td>1</td>\n",
       "      <td>3</td>\n",
       "      <td>3</td>\n",
       "      <td>45740.0</td>\n",
       "      <td>8.0</td>\n",
       "      <td>2008.0</td>\n",
       "      <td>0</td>\n",
       "      <td>0.0</td>\n",
       "      <td>0.0</td>\n",
       "      <td>83.0</td>\n",
       "      <td>24187.75</td>\n",
       "      <td>0</td>\n",
       "      <td>826</td>\n",
       "      <td>10708</td>\n",
       "    </tr>\n",
       "    <tr>\n",
       "      <th>2</th>\n",
       "      <td>772</td>\n",
       "      <td>2015-07-31</td>\n",
       "      <td>1</td>\n",
       "      <td>0</td>\n",
       "      <td>1</td>\n",
       "      <td>4</td>\n",
       "      <td>3</td>\n",
       "      <td>1850.0</td>\n",
       "      <td>0.0</td>\n",
       "      <td>0.0</td>\n",
       "      <td>0</td>\n",
       "      <td>0.0</td>\n",
       "      <td>0.0</td>\n",
       "      <td>24187.0</td>\n",
       "      <td>24187.75</td>\n",
       "      <td>0</td>\n",
       "      <td>635</td>\n",
       "      <td>5224</td>\n",
       "    </tr>\n",
       "    <tr>\n",
       "      <th>3</th>\n",
       "      <td>752</td>\n",
       "      <td>2015-07-31</td>\n",
       "      <td>1</td>\n",
       "      <td>0</td>\n",
       "      <td>1</td>\n",
       "      <td>1</td>\n",
       "      <td>1</td>\n",
       "      <td>970.0</td>\n",
       "      <td>3.0</td>\n",
       "      <td>2013.0</td>\n",
       "      <td>1</td>\n",
       "      <td>31.0</td>\n",
       "      <td>2013.0</td>\n",
       "      <td>28.0</td>\n",
       "      <td>24.00</td>\n",
       "      <td>0</td>\n",
       "      <td>565</td>\n",
       "      <td>7763</td>\n",
       "    </tr>\n",
       "  </tbody>\n",
       "</table>\n",
       "</div>"
      ],
      "text/plain": [
       "   Store       Date  Promo  StateHoliday  SchoolHoliday  StoreType  \\\n",
       "0      1 2015-07-31      1             0              1          3   \n",
       "1    747 2015-07-31      1             0              1          3   \n",
       "2    772 2015-07-31      1             0              1          4   \n",
       "3    752 2015-07-31      1             0              1          1   \n",
       "\n",
       "   Assortment  CompetitionDistance  CompetitionOpenSinceMonth  \\\n",
       "0           1               1270.0                        9.0   \n",
       "1           3              45740.0                        8.0   \n",
       "2           3               1850.0                        0.0   \n",
       "3           1                970.0                        3.0   \n",
       "\n",
       "   CompetitionOpenSinceYear  Promo2  Promo2SinceWeek  Promo2SinceYear  \\\n",
       "0                    2008.0       0              0.0              0.0   \n",
       "1                    2008.0       0              0.0              0.0   \n",
       "2                       0.0       0              0.0              0.0   \n",
       "3                    2013.0       1             31.0           2013.0   \n",
       "\n",
       "   CompetitionOpen  PromoOpen  IsPromoMonth  Customers  Sales  \n",
       "0             82.0   24187.75             0        555   5263  \n",
       "1             83.0   24187.75             0        826  10708  \n",
       "2          24187.0   24187.75             0        635   5224  \n",
       "3             28.0      24.00             0        565   7763  "
      ]
     },
     "execution_count": 8,
     "metadata": {},
     "output_type": "execute_result"
    }
   ],
   "source": [
    "data_val.head(4)"
   ]
  },
  {
   "cell_type": "markdown",
   "metadata": {
    "id": "-B5j2DDHEgT7"
   },
   "source": [
    "### Descrizione variabili\n",
    "\n",
    "- Ogni riga è un'osservazione relativa ad un singolo negozio in una certa data, indicati dalle colonne `Store` e `Date`\n",
    "- Le ultime due colonne `Customers` and `Sales` indicano rispettivamente il numero di clienti e il ricavo totale delle vendite per quel giorno in quel negozio\n",
    "- Le altre colonne riportano informazioni note a priori relative a negozio e giorno\n",
    "  - applicazione di promozioni (`Promo*`, `IsPromoMonth`)\n",
    "  - festività (`StateHoliday`, `SchoolHoliday`)\n",
    "  - tipologia di negozio (`StoreType`, `Assortment`)\n",
    "  - distanza da negozi concorrenti e loro data di apertura (`Competition*`)\n",
    "- L'obiettivo è prevedere da queste informazioni il ricavo totale (`Sales`)\n",
    "- Definiamo le serie `y_*` con i valori di `Sales` per training e validation set"
   ]
  },
  {
   "cell_type": "code",
   "execution_count": 9,
   "metadata": {
    "id": "CHDQz9PoEgT8"
   },
   "outputs": [],
   "source": [
    "y_train = data_train[\"Sales\"]\n",
    "y_val = data_val[\"Sales\"]"
   ]
  },
  {
   "cell_type": "markdown",
   "metadata": {
    "id": "y4xgQk_AEgT8"
   },
   "source": [
    "- Il ricavo totale `Sales` è ovviamente strettamente proporzionale al numero di clienti `Customers`\n",
    "  - usiamo il metodo `sample` per selezionare un numero dato di campioni casuali per creare il grafico con più efficienza"
   ]
  },
  {
   "cell_type": "code",
   "execution_count": 10,
   "metadata": {
    "colab": {
     "base_uri": "https://localhost:8080/",
     "height": 0
    },
    "id": "rYWhNwa0EgT9",
    "outputId": "65c90d68-b805-4546-e888-0c11f4745800"
   },
   "outputs": [
    {
     "data": {
      "image/png": "[encoded data removed]",
      "text/plain": [
       "<Figure size 432x288 with 1 Axes>"
      ]
     },
     "metadata": {
      "needs_background": "light"
     },
     "output_type": "display_data"
    }
   ],
   "source": [
    "data_train.sample(10000, random_state=42).plot.scatter(\"Customers\", \"Sales\");"
   ]
  },
  {
   "cell_type": "markdown",
   "metadata": {
    "id": "RgVlrThtEgT9"
   },
   "source": [
    "- Non possiamo però usare la variabile `Customers` nella predizione, in quanto proprio come `Sales` non è un'informazione nota a priori\n",
    "  - _Quando si utilizza un dataset per addestrare un modello di predizione, verificare sempre attentamente quali informazioni è lecito utilizzare!_"
   ]
  },
  {
   "cell_type": "markdown",
   "metadata": {
    "id": "1OiRsTcQEgT9"
   },
   "source": [
    "## Tipi di variabili\n",
    "\n",
    "- Le altre colonne contengono variabili utilizzabili per la predizione, tra le quali possiamo distinguere\n",
    "  - variabili _numeriche_ (es. `CompetitionDistance`) simili a quelle viste nelle esercitazioni precedenti\n",
    "  - variabili _categoriche_ (es. `StoreType`), ciascuna delle quali può assumere un insieme finito di valori\n",
    "- Definiamo una lista di variabili numeriche e una di variabili categoriche, che utilizzeremo in seguito"
   ]
  },
  {
   "cell_type": "markdown",
   "metadata": {
    "id": "6gnkuJE7EgT9"
   },
   "source": [
    "- Le altre colonne contengono variabili utilizzabili per la predizione\n",
    "- Tutte le variabili hanno valori numerici, ma di diversa natura:\n",
    "  1. alcune variabili (es. `CompetitionDistance`) esprimono effettivamente una quantità o una grandezza (sono di tipo \"intervallo\" o \"ratio\")\n",
    "  2. altre variabili (es. `SchoolHoliday`) sono binarie, valgono 1 dove una condizione è verificata e 0 dove non si verifica\n",
    "  3. altre variabili (es. `StoreType`) esprimono dei \"codici\", i numeri servono solamente da identificatori univoci (sono di tipo \"nominale\")\n",
    "- Creiamo tre liste con i nomi delle variabili presenti nei rispettivi gruppi"
   ]
  },
  {
   "cell_type": "code",
   "execution_count": 11,
   "metadata": {
    "id": "_xCe0U8iEgT-"
   },
   "outputs": [],
   "source": [
    "numeric_vars = [\n",
    "    \"CompetitionOpen\", \"CompetitionDistance\",\n",
    "    \"CompetitionOpenSinceMonth\", \"CompetitionOpenSinceYear\",\n",
    "    \"Promo2SinceWeek\", \"Promo2SinceYear\", \"PromoOpen\"\n",
    "]\n",
    "binary_vars = [\"Promo\", \"SchoolHoliday\", \"Promo2\", \"IsPromoMonth\"]\n",
    "categorical_vars = [\"StateHoliday\", \"StoreType\", \"Assortment\"]"
   ]
  },
  {
   "cell_type": "markdown",
   "metadata": {
    "id": "19PqfpcUEgT-"
   },
   "source": [
    "- I metodi di regressione e classificazione visti finora funzionano con variabili predittive numeriche\n",
    "  - di queste viene ad es. calcolata una combinazione lineare secondo i coefficienti appresi dal modello\n",
    "- Questi modelli **non funzionano** in presenza di variabili categoriche\n",
    "  - le variabili categoriche sono spesso codificate in modo non numerico (es. strighe): se si provasse ad addestrare un modello di regressione su di esse avremmo un errore\n",
    "  - anche se codificate numericamente, gli algoritmi dedurrebbero erroneamente ad es. che lo `StoreType` 1 è più simile al 2 che al 4, in realtà ognuno può avere un peso diverso e indipendente dagli altri nella predizione"
   ]
  },
  {
   "cell_type": "markdown",
   "metadata": {
    "id": "P5V5CcLTEgT-"
   },
   "source": [
    "## Esercizio 1: Classificazione sulle sole variabili numeriche\n",
    "\n",
    "- **(1a)** Definire `X_train_num` e `X_val_num` come proiezioni dei frame `X_train` e `X_val` contenenti le soli variabili numeriche e binarie del dataset\n",
    "  - usare `+` per concatenare le due relative liste di variabili\n",
    "- **(1b)** Addestrare un modello di regressione Ridge con $\\alpha=1$ (default) su `X_train_num` e verificarne l'accuratezza su `X_val_num`\n",
    "- **(1c)** Addestrare e verificare lo stesso modello sugli stessi dati, ma utilizzando una pipeline per standardizzare i dati"
   ]
  },
  {
   "cell_type": "code",
   "execution_count": 12,
   "metadata": {
    "id": "WYQXUQuLEgT-"
   },
   "outputs": [],
   "source": [
    "# import necessari\n",
    "from sklearn.linear_model import Ridge\n",
    "from sklearn.preprocessing import StandardScaler\n",
    "from sklearn.pipeline import Pipeline"
   ]
  },
  {
   "cell_type": "code",
   "execution_count": 13,
   "metadata": {},
   "outputs": [],
   "source": [
    "X_train_num, X_val_num = data_train[numeric_vars + binary_vars], data_val[numeric_vars + binary_vars]"
   ]
  },
  {
   "cell_type": "code",
   "execution_count": 14,
   "metadata": {},
   "outputs": [
    {
     "name": "stdout",
     "output_type": "stream",
     "text": [
      "R^2 :  0.18368590092846326\n"
     ]
    }
   ],
   "source": [
    "r_model = Ridge(alpha=1) # alpha=1 è di default\n",
    "r_model.fit(X_train_num, y_train)\n",
    "print(\"R^2 : \", r_model.score(X_val_num, y_val))"
   ]
  },
  {
   "cell_type": "code",
   "execution_count": 15,
   "metadata": {},
   "outputs": [
    {
     "name": "stdout",
     "output_type": "stream",
     "text": [
      "R^2 :  0.1917773276900372\n"
     ]
    }
   ],
   "source": [
    "model = Pipeline([\n",
    "    (\"scaler\", StandardScaler()),\n",
    "    (\"ridge\", Ridge(alpha=1))\n",
    "])\n",
    "model.fit(X_train_num, y_train)\n",
    "print(\"R^2 : \", model.score(X_val_num,y_val))"
   ]
  },
  {
   "cell_type": "markdown",
   "metadata": {
    "id": "ECg7Ryb7EgT_"
   },
   "source": [
    "## Trattamento delle variabili categoriche: one-hot encoding\n",
    "\n",
    "- Come si possono utilizzare le variabili categoriche in modelli di regressione?\n",
    "- La soluzione tipica consiste nel convertire le variabili categoriche in numeriche\n",
    "- Data una variabile categorica X con N valori possibili $a, b, c, \\ldots$, il _one-hot encoding_ consiste nel convertirla in N variabili numeriche binarie $X_a, X_b, X_c, \\ldots$\n",
    "- Ciascuna variabile $X_v$\n",
    "  - vale 1 nei casi in cui $X = v$\n",
    "  - vale 0 negli altri casi\n",
    "- Ogni valore di X è in pratica convertito ad un vettore in $\\mathbf{R}^N$ con un elemento a 1 e gli altri a 0\n",
    "  - $a \\rightarrow [1,0,0,\\ldots]$\n",
    "  - $b \\rightarrow [0,1,0,\\ldots]$\n",
    "  - $c \\rightarrow [0,0,1,\\ldots]$\n",
    "  - ..."
   ]
  },
  {
   "cell_type": "markdown",
   "metadata": {
    "id": "Da2P7QexEgUA"
   },
   "source": [
    "- scikit-learn fornisce un filtro `OneHotEncoder` per effettuare questa operazione su tutte le variabili di un dataset\n",
    "- Analizziamone il funzionamento su una variabile binaria e una categorica del dataset"
   ]
  },
  {
   "cell_type": "code",
   "execution_count": 16,
   "metadata": {
    "colab": {
     "base_uri": "https://localhost:8080/",
     "height": 0
    },
    "id": "SRlJQDBDEgUA",
    "outputId": "dba4e763-cba3-444f-a9f9-6647e633188b"
   },
   "outputs": [
    {
     "data": {
      "text/html": [
       "<div>\n",
       "<style scoped>\n",
       "    .dataframe tbody tr th:only-of-type {\n",
       "        vertical-align: middle;\n",
       "    }\n",
       "\n",
       "    .dataframe tbody tr th {\n",
       "        vertical-align: top;\n",
       "    }\n",
       "\n",
       "    .dataframe thead th {\n",
       "        text-align: right;\n",
       "    }\n",
       "</style>\n",
       "<table border=\"1\" class=\"dataframe\">\n",
       "  <thead>\n",
       "    <tr style=\"text-align: right;\">\n",
       "      <th></th>\n",
       "      <th>SchoolHoliday</th>\n",
       "      <th>StateHoliday</th>\n",
       "    </tr>\n",
       "  </thead>\n",
       "  <tbody>\n",
       "    <tr>\n",
       "      <th>0</th>\n",
       "      <td>0</td>\n",
       "      <td>0</td>\n",
       "    </tr>\n",
       "    <tr>\n",
       "      <th>1</th>\n",
       "      <td>0</td>\n",
       "      <td>0</td>\n",
       "    </tr>\n",
       "    <tr>\n",
       "      <th>2</th>\n",
       "      <td>0</td>\n",
       "      <td>0</td>\n",
       "    </tr>\n",
       "    <tr>\n",
       "      <th>3</th>\n",
       "      <td>0</td>\n",
       "      <td>0</td>\n",
       "    </tr>\n",
       "    <tr>\n",
       "      <th>4</th>\n",
       "      <td>0</td>\n",
       "      <td>0</td>\n",
       "    </tr>\n",
       "  </tbody>\n",
       "</table>\n",
       "</div>"
      ],
      "text/plain": [
       "   SchoolHoliday  StateHoliday\n",
       "0              0             0\n",
       "1              0             0\n",
       "2              0             0\n",
       "3              0             0\n",
       "4              0             0"
      ]
     },
     "execution_count": 16,
     "metadata": {},
     "output_type": "execute_result"
    }
   ],
   "source": [
    "X_sample = data_train[[\"SchoolHoliday\", \"StateHoliday\"]]\n",
    "X_sample.head(5)"
   ]
  },
  {
   "cell_type": "markdown",
   "metadata": {
    "id": "WCn1QkccEgUA"
   },
   "source": [
    "- I valori possibili di queste variabili sono:\n",
    "- unique() restituisce i valori diversi per la colonna (serie) selezionata"
   ]
  },
  {
   "cell_type": "code",
   "execution_count": 17,
   "metadata": {
    "colab": {
     "base_uri": "https://localhost:8080/"
    },
    "id": "KNHu8_3REgUA",
    "outputId": "32d351a8-aaa3-47ae-bdab-2a35fdda98cf"
   },
   "outputs": [
    {
     "data": {
      "text/plain": [
       "array([0, 1], dtype=int64)"
      ]
     },
     "execution_count": 17,
     "metadata": {},
     "output_type": "execute_result"
    }
   ],
   "source": [
    "X_sample[\"SchoolHoliday\"].unique()"
   ]
  },
  {
   "cell_type": "code",
   "execution_count": 18,
   "metadata": {
    "colab": {
     "base_uri": "https://localhost:8080/"
    },
    "id": "jsVsLfpxEgUB",
    "outputId": "1f8bdad8-742c-4a72-bf65-126f954a773f"
   },
   "outputs": [
    {
     "data": {
      "text/plain": [
       "array([0, 1, 2, 3], dtype=int64)"
      ]
     },
     "execution_count": 18,
     "metadata": {},
     "output_type": "execute_result"
    }
   ],
   "source": [
    "X_sample[\"StateHoliday\"].unique()"
   ]
  },
  {
   "cell_type": "markdown",
   "metadata": {
    "id": "lFA-lSWqEgUB"
   },
   "source": [
    "- Creiamo un'istanza del filtro specificandone i parametri\n",
    "  - normalmente il filtro fornisce in uscita matrici sparse, come `CountVectorizer` e `TfidfVectorizer`\n",
    "  - `sparse=False` indica di generare dei normali array NumPy, lo usiamo per fini dimostrativi"
   ]
  },
  {
   "cell_type": "code",
   "execution_count": 19,
   "metadata": {
    "id": "2Y8ERVvWEgUB"
   },
   "outputs": [],
   "source": [
    "from sklearn.preprocessing import OneHotEncoder\n",
    "encoder = OneHotEncoder(sparse=False)"
   ]
  },
  {
   "cell_type": "markdown",
   "metadata": {
    "id": "ogV9e1OrEgUC"
   },
   "source": [
    "- Come per gli altri filtri, passiamo il primo set di dati a `fit_transform` in modo che il formato dei dati venga appreso"
   ]
  },
  {
   "cell_type": "code",
   "execution_count": 20,
   "metadata": {
    "colab": {
     "base_uri": "https://localhost:8080/"
    },
    "id": "NGjxKjObEgUC",
    "outputId": "e30e9e54-8e35-4416-a9d6-d0364e5aa254"
   },
   "outputs": [
    {
     "data": {
      "text/plain": [
       "array([[1., 0., 1., 0., 0., 0.],\n",
       "       [1., 0., 1., 0., 0., 0.],\n",
       "       [1., 0., 1., 0., 0., 0.],\n",
       "       ...,\n",
       "       [0., 1., 0., 1., 0., 0.],\n",
       "       [0., 1., 0., 1., 0., 0.],\n",
       "       [0., 1., 0., 1., 0., 0.]])"
      ]
     },
     "execution_count": 20,
     "metadata": {},
     "output_type": "execute_result"
    }
   ],
   "source": [
    "encoder.fit_transform(X_sample)"
   ]
  },
  {
   "cell_type": "markdown",
   "metadata": {
    "id": "2bln10_qEgUC"
   },
   "source": [
    "- Il filtro ha generato 6 variabili: una per ogni valore possibile per ogni variabile\n",
    "- In ogni riga è presente un 1 nelle prime 2 colonne (`SchoolHoliday`) e un altro 1 nelle ultime 4 (`StateHoliday`)\n",
    "- Col metodo `get_feature_names` (`get_feature_names_out` in versioni recenti di scikit-learn) è possibile vedere a quale valore corrisponde ciascuna colonna"
   ]
  },
  {
   "cell_type": "code",
   "execution_count": 21,
   "metadata": {
    "colab": {
     "base_uri": "https://localhost:8080/"
    },
    "id": "9WaHNSGQEgUC",
    "outputId": "85c4c9d0-abd6-4acf-87f5-1a2a50b47e0e"
   },
   "outputs": [
    {
     "data": {
      "text/plain": [
       "array(['x0_0', 'x0_1', 'x1_0', 'x1_1', 'x1_2', 'x1_3'], dtype=object)"
      ]
     },
     "execution_count": 21,
     "metadata": {},
     "output_type": "execute_result"
    }
   ],
   "source": [
    "encoder.get_feature_names()"
   ]
  },
  {
   "cell_type": "code",
   "execution_count": 22,
   "metadata": {},
   "outputs": [
    {
     "data": {
      "text/plain": [
       "array(['SH_0', 'SH_1', 'SH_0', 'SH_1', 'SH_2', 'SH_3'], dtype=object)"
      ]
     },
     "execution_count": 22,
     "metadata": {},
     "output_type": "execute_result"
    }
   ],
   "source": [
    "encoder.get_feature_names([\"SH\",\"SH\"])"
   ]
  },
  {
   "cell_type": "markdown",
   "metadata": {
    "id": "bkvW3vKAEgUC"
   },
   "source": [
    "- Passiamo i nomi delle colonne al metodo per utilizzarli al posto di `x0` e `x1`"
   ]
  },
  {
   "cell_type": "code",
   "execution_count": 23,
   "metadata": {
    "colab": {
     "base_uri": "https://localhost:8080/"
    },
    "id": "cQO7rvvnEgUD",
    "outputId": "aa49dc88-0ae8-447e-d6ca-4d7407b298d1"
   },
   "outputs": [
    {
     "data": {
      "text/plain": [
       "array(['SchoolHoliday_0', 'SchoolHoliday_1', 'StateHoliday_0',\n",
       "       'StateHoliday_1', 'StateHoliday_2', 'StateHoliday_3'], dtype=object)"
      ]
     },
     "execution_count": 23,
     "metadata": {},
     "output_type": "execute_result"
    }
   ],
   "source": [
    "encoder.get_feature_names(X_sample.columns)"
   ]
  },
  {
   "cell_type": "markdown",
   "metadata": {
    "id": "p-ZYHGwGEgUD"
   },
   "source": [
    "- Usiamo i nomi per visualizzare la matrice ottenuta sopra in un frame"
   ]
  },
  {
   "cell_type": "code",
   "execution_count": 24,
   "metadata": {
    "colab": {
     "base_uri": "https://localhost:8080/",
     "height": 0
    },
    "id": "V_pLG7mbEgUD",
    "outputId": "edff4ec6-dd54-46bc-e361-0efa4b50401a"
   },
   "outputs": [
    {
     "data": {
      "text/html": [
       "<div>\n",
       "<style scoped>\n",
       "    .dataframe tbody tr th:only-of-type {\n",
       "        vertical-align: middle;\n",
       "    }\n",
       "\n",
       "    .dataframe tbody tr th {\n",
       "        vertical-align: top;\n",
       "    }\n",
       "\n",
       "    .dataframe thead th {\n",
       "        text-align: right;\n",
       "    }\n",
       "</style>\n",
       "<table border=\"1\" class=\"dataframe\">\n",
       "  <thead>\n",
       "    <tr style=\"text-align: right;\">\n",
       "      <th></th>\n",
       "      <th>SchoolHoliday_0</th>\n",
       "      <th>SchoolHoliday_1</th>\n",
       "      <th>StateHoliday_0</th>\n",
       "      <th>StateHoliday_1</th>\n",
       "      <th>StateHoliday_2</th>\n",
       "      <th>StateHoliday_3</th>\n",
       "    </tr>\n",
       "  </thead>\n",
       "  <tbody>\n",
       "    <tr>\n",
       "      <th>0</th>\n",
       "      <td>1.0</td>\n",
       "      <td>0.0</td>\n",
       "      <td>1.0</td>\n",
       "      <td>0.0</td>\n",
       "      <td>0.0</td>\n",
       "      <td>0.0</td>\n",
       "    </tr>\n",
       "    <tr>\n",
       "      <th>1</th>\n",
       "      <td>1.0</td>\n",
       "      <td>0.0</td>\n",
       "      <td>1.0</td>\n",
       "      <td>0.0</td>\n",
       "      <td>0.0</td>\n",
       "      <td>0.0</td>\n",
       "    </tr>\n",
       "    <tr>\n",
       "      <th>2</th>\n",
       "      <td>1.0</td>\n",
       "      <td>0.0</td>\n",
       "      <td>1.0</td>\n",
       "      <td>0.0</td>\n",
       "      <td>0.0</td>\n",
       "      <td>0.0</td>\n",
       "    </tr>\n",
       "    <tr>\n",
       "      <th>3</th>\n",
       "      <td>1.0</td>\n",
       "      <td>0.0</td>\n",
       "      <td>1.0</td>\n",
       "      <td>0.0</td>\n",
       "      <td>0.0</td>\n",
       "      <td>0.0</td>\n",
       "    </tr>\n",
       "    <tr>\n",
       "      <th>4</th>\n",
       "      <td>1.0</td>\n",
       "      <td>0.0</td>\n",
       "      <td>1.0</td>\n",
       "      <td>0.0</td>\n",
       "      <td>0.0</td>\n",
       "      <td>0.0</td>\n",
       "    </tr>\n",
       "  </tbody>\n",
       "</table>\n",
       "</div>"
      ],
      "text/plain": [
       "   SchoolHoliday_0  SchoolHoliday_1  StateHoliday_0  StateHoliday_1  \\\n",
       "0              1.0              0.0             1.0             0.0   \n",
       "1              1.0              0.0             1.0             0.0   \n",
       "2              1.0              0.0             1.0             0.0   \n",
       "3              1.0              0.0             1.0             0.0   \n",
       "4              1.0              0.0             1.0             0.0   \n",
       "\n",
       "   StateHoliday_2  StateHoliday_3  \n",
       "0             0.0             0.0  \n",
       "1             0.0             0.0  \n",
       "2             0.0             0.0  \n",
       "3             0.0             0.0  \n",
       "4             0.0             0.0  "
      ]
     },
     "execution_count": 24,
     "metadata": {},
     "output_type": "execute_result"
    }
   ],
   "source": [
    "pd.DataFrame(\n",
    "    encoder.transform(X_sample),\n",
    "    columns=encoder.get_feature_names(X_sample.columns)\n",
    ").head(5)"
   ]
  },
  {
   "cell_type": "markdown",
   "metadata": {
    "id": "xyRoikUSEgUD"
   },
   "source": [
    "- Specificando `drop=\"first\"` nei parametri, `OneHotEncoder` genera una variabile binaria in meno per ogni variabile categorica, rappresentando uno dei valori possibili come un vettore di soli zero\n",
    "- Il vantaggio è che per i modelli dove non c'è regolarizzazione dei dati una colonna che deriva da altre possono dare problemi"
   ]
  },
  {
   "cell_type": "code",
   "execution_count": 25,
   "metadata": {
    "colab": {
     "base_uri": "https://localhost:8080/",
     "height": 0
    },
    "id": "HOwRCBcREgUE",
    "outputId": "19af7223-9728-4213-f706-1c196ff441ef"
   },
   "outputs": [
    {
     "data": {
      "text/html": [
       "<div>\n",
       "<style scoped>\n",
       "    .dataframe tbody tr th:only-of-type {\n",
       "        vertical-align: middle;\n",
       "    }\n",
       "\n",
       "    .dataframe tbody tr th {\n",
       "        vertical-align: top;\n",
       "    }\n",
       "\n",
       "    .dataframe thead th {\n",
       "        text-align: right;\n",
       "    }\n",
       "</style>\n",
       "<table border=\"1\" class=\"dataframe\">\n",
       "  <thead>\n",
       "    <tr style=\"text-align: right;\">\n",
       "      <th></th>\n",
       "      <th>SchoolHoliday_1</th>\n",
       "      <th>StateHoliday_1</th>\n",
       "      <th>StateHoliday_2</th>\n",
       "      <th>StateHoliday_3</th>\n",
       "    </tr>\n",
       "  </thead>\n",
       "  <tbody>\n",
       "    <tr>\n",
       "      <th>0</th>\n",
       "      <td>0.0</td>\n",
       "      <td>0.0</td>\n",
       "      <td>0.0</td>\n",
       "      <td>0.0</td>\n",
       "    </tr>\n",
       "    <tr>\n",
       "      <th>1</th>\n",
       "      <td>0.0</td>\n",
       "      <td>0.0</td>\n",
       "      <td>0.0</td>\n",
       "      <td>0.0</td>\n",
       "    </tr>\n",
       "    <tr>\n",
       "      <th>2</th>\n",
       "      <td>0.0</td>\n",
       "      <td>0.0</td>\n",
       "      <td>0.0</td>\n",
       "      <td>0.0</td>\n",
       "    </tr>\n",
       "    <tr>\n",
       "      <th>3</th>\n",
       "      <td>0.0</td>\n",
       "      <td>0.0</td>\n",
       "      <td>0.0</td>\n",
       "      <td>0.0</td>\n",
       "    </tr>\n",
       "    <tr>\n",
       "      <th>4</th>\n",
       "      <td>0.0</td>\n",
       "      <td>0.0</td>\n",
       "      <td>0.0</td>\n",
       "      <td>0.0</td>\n",
       "    </tr>\n",
       "  </tbody>\n",
       "</table>\n",
       "</div>"
      ],
      "text/plain": [
       "   SchoolHoliday_1  StateHoliday_1  StateHoliday_2  StateHoliday_3\n",
       "0              0.0             0.0             0.0             0.0\n",
       "1              0.0             0.0             0.0             0.0\n",
       "2              0.0             0.0             0.0             0.0\n",
       "3              0.0             0.0             0.0             0.0\n",
       "4              0.0             0.0             0.0             0.0"
      ]
     },
     "execution_count": 25,
     "metadata": {},
     "output_type": "execute_result"
    }
   ],
   "source": [
    "encoder = OneHotEncoder(drop=\"first\", sparse=False)\n",
    "pd.DataFrame(\n",
    "    encoder.fit_transform(X_sample),\n",
    "    columns=encoder.get_feature_names(X_sample.columns)\n",
    ").head(5)"
   ]
  },
  {
   "cell_type": "markdown",
   "metadata": {
    "id": "lNW3DlHfEgUE"
   },
   "source": [
    "- In questo esempio sono state scartate le variabili `SchoolHoliday_0` e `StateHoliday_0`\n",
    "  - i casi `SchoolHoliday_0` si riconoscono implicitamente da `SchoolHoliday_1 = 0`\n",
    "  - i casi `StateHoliday_0` si riconoscono da tutte le colonne `StateHoliday` a 0\n",
    "- Il vantaggio di questo accorgimento è che si evita di introdurre variabili collineari che possono causare problemi in alcuni modelli (es. modelli lineari senza regolarizzazione)\n",
    "- Lo svantaggio è che si introduce un'asimmetria nella rappresentazione dei dati che può causare bias in altri modelli (es. modelli lineari con regolarizzazione)"
   ]
  },
  {
   "cell_type": "markdown",
   "metadata": {
    "id": "levmJTnREgUE"
   },
   "source": [
    "- Usiamo ora il filtro `OneHotEncoder` per addestrare e validare un classificatore basato su tutte le variabili categoriche non binarie\n",
    "- Creiamo delle proiezioni delle matrici `data_train` e `data_val` contenenti le sole variabili categoriche"
   ]
  },
  {
   "cell_type": "code",
   "execution_count": 26,
   "metadata": {
    "id": "xQdByycwEgUE"
   },
   "outputs": [],
   "source": [
    "X_train_cat = data_train[categorical_vars]\n",
    "X_val_cat = data_val[categorical_vars]"
   ]
  },
  {
   "cell_type": "markdown",
   "metadata": {
    "id": "iRhzdhFbEgUE"
   },
   "source": [
    "- Creiamo un nuovo encoder\n",
    "  - questa volta lasciamo le impostazioni di default, per cui vengono restituite matrici sparse (convertibili a normali array col metodo `toarray()`)"
   ]
  },
  {
   "cell_type": "code",
   "execution_count": 27,
   "metadata": {
    "id": "ZPImU8FBEgUF"
   },
   "outputs": [],
   "source": [
    "encoder = OneHotEncoder()"
   ]
  },
  {
   "cell_type": "markdown",
   "metadata": {
    "id": "APoXSgEVEgUF"
   },
   "source": [
    "- Addestriamo un semplice modello di regressione ridge sul training set, addestrando ed applicando (`fit_transform`) l'encoder su di esso"
   ]
  },
  {
   "cell_type": "code",
   "execution_count": 28,
   "metadata": {
    "colab": {
     "base_uri": "https://localhost:8080/"
    },
    "id": "AKez5AzUEgUF",
    "outputId": "f2f01110-7620-40d8-ac1b-6ce00dc441bc"
   },
   "outputs": [],
   "source": [
    "model = Ridge()\n",
    "model.fit(encoder.fit_transform(X_train_cat), y_train);"
   ]
  },
  {
   "cell_type": "markdown",
   "metadata": {
    "id": "hga06F22EgUF"
   },
   "source": [
    "- Calcoliamo quindi l'accuratezza del modello sul validation set, che viene preprocessato usando lo stesso encoder"
   ]
  },
  {
   "cell_type": "code",
   "execution_count": 29,
   "metadata": {
    "colab": {
     "base_uri": "https://localhost:8080/"
    },
    "id": "Qzb7KUBPEgUF",
    "outputId": "212b81b8-a21b-4a6a-8a6f-811d6a43adf2"
   },
   "outputs": [
    {
     "data": {
      "text/plain": [
       "0.05517909425317136"
      ]
     },
     "execution_count": 29,
     "metadata": {},
     "output_type": "execute_result"
    }
   ],
   "source": [
    "model.score(encoder.transform(X_val_cat), y_val)"
   ]
  },
  {
   "cell_type": "markdown",
   "metadata": {
    "id": "8bwUSUQoEgUG",
    "tags": []
   },
   "source": [
    "## Esercizio 2: One-hot encoding in una pipeline\n",
    "\n",
    "- Utilizzando l'interfaccia standard dei filtri di scikit-learn, il one-hot encoder può essere utilizzato in una pipeline\n",
    "- Definire un modello di regressione ridge come quello addestrato sopra in una pipeline che applichi l'encoding delle variabili categoriche, addestrarlo su `X_train_cat` e validarlo su `X_val_cat`"
   ]
  },
  {
   "cell_type": "code",
   "execution_count": 30,
   "metadata": {},
   "outputs": [
    {
     "data": {
      "text/plain": [
       "0.05517909425317136"
      ]
     },
     "execution_count": 30,
     "metadata": {},
     "output_type": "execute_result"
    }
   ],
   "source": [
    "model = Pipeline([\n",
    "    (\"encoder\", OneHotEncoder()),\n",
    "    (\"ridge\", Ridge())\n",
    "])\n",
    "model.fit(X_train_cat, y_train)\n",
    "model.score(X_val_cat, y_val)"
   ]
  },
  {
   "cell_type": "markdown",
   "metadata": {
    "id": "ffvR0MDrEgUG"
   },
   "source": [
    "## Preprocessing differenziato delle colonne\n",
    "\n",
    "- Abbiamo visto come addestrare modelli basati su variabili numeriche oppure su variabili categoriche\n",
    "- È possibile utilizzare tutte le variabili (numeriche e categoriche) in un unico modello?\n",
    "- Il one-hot encoder converte le variabili categoriche in numeriche, queste possono essere combinate a quelle che sono già numeriche\n",
    "- Vediamo come eseguire questa procedura manualmente, applicando anche la standardizzazione alle variabili numeriche\n",
    "- Per prima cosa, creiamo uno `StandardScaler` per le variabili già numeriche e un `OneHotEncoder` per quelle categoriche"
   ]
  },
  {
   "cell_type": "code",
   "execution_count": 31,
   "metadata": {
    "id": "37MyxFR9EgUG"
   },
   "outputs": [],
   "source": [
    "scaler = StandardScaler()\n",
    "encoder = OneHotEncoder(sparse=False)"
   ]
  },
  {
   "cell_type": "markdown",
   "metadata": {
    "id": "kJB-2VX_EgUH"
   },
   "source": [
    "- Quindi applichiamo i filtri alle rispettive colonne del training set e concateno per colonne le matrici ottenute\n",
    "  - `np.c_[A, B, C, ...]` costruisce un array concatenendo per colonne (orizzontalmente) gli array A, B, C, ...\n",
    "  - si può eseguire la stessa operazione per righe (verticalmente) con `np.r_`"
   ]
  },
  {
   "cell_type": "code",
   "execution_count": 32,
   "metadata": {
    "id": "jVfpmhy_EgUH"
   },
   "outputs": [],
   "source": [
    "X_train_combo = np.c_[\n",
    "    scaler.fit_transform(X_train_num),\n",
    "    encoder.fit_transform(X_train_cat)\n",
    "]"
   ]
  },
  {
   "cell_type": "markdown",
   "metadata": {
    "id": "rT-lpG8bEgUH"
   },
   "source": [
    "- Eseguiamo la stessa operazione sul validation set usando i filtri già addestrati"
   ]
  },
  {
   "cell_type": "code",
   "execution_count": 33,
   "metadata": {
    "id": "HMS-MLS4EgUH"
   },
   "outputs": [],
   "source": [
    "X_val_combo = np.c_[\n",
    "    scaler.transform(X_val_num),\n",
    "    encoder.transform(X_val_cat)\n",
    "]"
   ]
  },
  {
   "cell_type": "markdown",
   "metadata": {
    "id": "cT1fZhlmEgUH"
   },
   "source": [
    "- Infine addestriamo e validiamo un modello utilizzando le matrici combinate"
   ]
  },
  {
   "cell_type": "code",
   "execution_count": 34,
   "metadata": {
    "colab": {
     "base_uri": "https://localhost:8080/"
    },
    "id": "mKaKjuNbEgUI",
    "outputId": "f667a8a9-65dd-4156-a747-05ac3b5e5206"
   },
   "outputs": [
    {
     "data": {
      "text/plain": [
       "0.24806857504695334"
      ]
     },
     "execution_count": 34,
     "metadata": {},
     "output_type": "execute_result"
    }
   ],
   "source": [
    "model = Ridge()\n",
    "model.fit(X_train_combo, y_train)\n",
    "model.score(X_val_combo, y_val)"
   ]
  },
  {
   "cell_type": "markdown",
   "metadata": {
    "id": "R87Q47hfEgUI"
   },
   "source": [
    "- In questo modo abbiamo costruito un modello combinando insieme matrici numeriche e categoriche\n",
    "- Abbiamo però svolto operazioni diverse dalle solite che definiamo in una pipeline\n",
    "  - suddivisione del dataset in gruppi di colonne\n",
    "  - applicazione di filtri diversi a ciascun gruppo\n",
    "  - concatenazione delle colonne risultanti da ciascun gruppo"
   ]
  },
  {
   "cell_type": "markdown",
   "metadata": {
    "id": "RrHdcLDUEgUI"
   },
   "source": [
    "- Per questi casi, scikit-learn fornisce un filtro composito `ColumnTransformer`\n",
    "- Un oggetto `ColumnTransformer` è definito da una lista di gruppi, ciascuno dei quali è definito da una tupla contenente:\n",
    "  - un nome da dare al gruppo, usato per riferirsi ad esso, simile ai nomi in una `Pipeline`\n",
    "  - un filtro da applicare al gruppo\n",
    "    - può essere una `Pipeline` con una sequenza di filtri\n",
    "  - una lista di nomi di colonne che fanno parte del gruppo\n",
    "    - se le colonne non hanno nome (es. array NumPy), usare gli indici\n",
    "- Definiamo ad esempio un `ColumnTransformer` che applichi `StandardScaler` e `OneHotEncoder` sui due gruppi di colonne come sopra"
   ]
  },
  {
   "cell_type": "code",
   "execution_count": 35,
   "metadata": {
    "id": "4kCQg0UwEgUI"
   },
   "outputs": [],
   "source": [
    "from sklearn.compose import ColumnTransformer\n",
    "preprocessor = ColumnTransformer([\n",
    "    # nome           filtro              colonne\n",
    "    # stringa        classe di sklearn   lista\n",
    "    #                per fare filtri\n",
    "    ( \"numeric\"    , StandardScaler(), numeric_vars + binary_vars ),\n",
    "    ( \"categorical\", OneHotEncoder() , categorical_vars           )\n",
    "])"
   ]
  },
  {
   "cell_type": "markdown",
   "metadata": {
    "id": "BS0Ny7WoEgUI"
   },
   "source": [
    "- Il trasformatore ha la stessa interfaccia di un filtro, possiamo quindi usarlo come sempre per trasformare il training set e il validation set\n",
    "  - passiamo i due set per intero: il trasformatore li suddividerà in gruppi da trattare separatamente secondo la definizione sopra"
   ]
  },
  {
   "cell_type": "code",
   "execution_count": 36,
   "metadata": {
    "id": "yuhla5uHEgUI"
   },
   "outputs": [],
   "source": [
    "X_train_proc = preprocessor.fit_transform(data_train)\n",
    "X_val_proc = preprocessor.transform(data_val)"
   ]
  },
  {
   "cell_type": "markdown",
   "metadata": {
    "id": "y_OWZGImEgUJ"
   },
   "source": [
    "- Il risultato è esattamente uguale a quello ottenuto sopra concatenando gli array risultanti dalle applicazioni dei filtri sui dati separati manualmente"
   ]
  },
  {
   "cell_type": "code",
   "execution_count": 37,
   "metadata": {
    "colab": {
     "base_uri": "https://localhost:8080/"
    },
    "id": "zlctNIWpEgUJ",
    "outputId": "b258448f-b30b-4f25-e4e9-44ee509e7053"
   },
   "outputs": [
    {
     "data": {
      "text/plain": [
       "True"
      ]
     },
     "execution_count": 37,
     "metadata": {},
     "output_type": "execute_result"
    }
   ],
   "source": [
    "np.array_equal(X_train_combo, X_train_proc)"
   ]
  },
  {
   "cell_type": "code",
   "execution_count": 38,
   "metadata": {
    "colab": {
     "base_uri": "https://localhost:8080/"
    },
    "id": "NUHObUR6EgUJ",
    "outputId": "b6d4a2bb-860a-4970-d235-ff9862272261"
   },
   "outputs": [
    {
     "data": {
      "text/plain": [
       "True"
      ]
     },
     "execution_count": 38,
     "metadata": {},
     "output_type": "execute_result"
    }
   ],
   "source": [
    "np.array_equal(X_val_combo, X_val_proc)"
   ]
  },
  {
   "cell_type": "code",
   "execution_count": 39,
   "metadata": {
    "colab": {
     "base_uri": "https://localhost:8080/"
    },
    "id": "TFvMwdvlEgUJ",
    "outputId": "f83da299-cff6-4773-ce7a-85223ab947f0"
   },
   "outputs": [
    {
     "data": {
      "text/plain": [
       "0.24806857504695334"
      ]
     },
     "execution_count": 39,
     "metadata": {},
     "output_type": "execute_result"
    }
   ],
   "source": [
    "model = Ridge()\n",
    "model.fit(X_train_proc, y_train)\n",
    "model.score(X_val_proc, y_val)"
   ]
  },
  {
   "cell_type": "markdown",
   "metadata": {
    "id": "N3M9wJd9EgUJ"
   },
   "source": [
    "- Anche il `ColumnTransformer`, essendo un filtro, può essere usato all'interno di una pipeline\n",
    "- Otteniamo così anche in questo caso un unico oggetto composito che contiene il modello di classificazione insieme a tutti i filtri da applicare ai dati"
   ]
  },
  {
   "cell_type": "code",
   "execution_count": 40,
   "metadata": {
    "colab": {
     "base_uri": "https://localhost:8080/"
    },
    "id": "mfQcABa0EgUK",
    "outputId": "768cba03-d49d-41cb-99b6-f2f770b02e2e"
   },
   "outputs": [
    {
     "data": {
      "text/plain": [
       "0.24806857504695334"
      ]
     },
     "execution_count": 40,
     "metadata": {},
     "output_type": "execute_result"
    }
   ],
   "source": [
    "# definizione con transformer definito a parte\n",
    "transformer = ColumnTransformer([\n",
    "    (\"numeric\"    , StandardScaler(), numeric_vars + binary_vars),\n",
    "    (\"categorical\", OneHotEncoder() , categorical_vars)\n",
    "])\n",
    "model = Pipeline([\n",
    "    (\"preproc\", transformer),\n",
    "    (\"regr\"   , Ridge())\n",
    "])\n",
    "\n",
    "# definizione equivalente con transformer innestato\n",
    "model = Pipeline([\n",
    "    (\"preproc\", ColumnTransformer([\n",
    "        (\"numeric\", StandardScaler(), numeric_vars + binary_vars),\n",
    "        (\"categorical\", OneHotEncoder(), categorical_vars)\n",
    "    ])),\n",
    "    (\"regr\", Ridge())\n",
    "])\n",
    "model.fit(data_train, y_train)\n",
    "model.score(data_val, y_val)"
   ]
  },
  {
   "cell_type": "markdown",
   "metadata": {
    "id": "NXPiZ1iDEgUK"
   },
   "source": [
    "- Analogamente a `Pipeline.named_steps`, `ColumnTranformers` permette di accedere ai singoli filtri tramite il dizionario `named_transformers_`\n",
    "- Ad esempio, per ispezionare le medie rilevate sul training set dallo `StandardScaler` sulle variabili numeriche:"
   ]
  },
  {
   "cell_type": "code",
   "execution_count": 41,
   "metadata": {
    "colab": {
     "base_uri": "https://localhost:8080/"
    },
    "id": "wZJa0Eu0EgUK",
    "outputId": "c70f4cfb-e67c-4854-89b7-0969dd624af4"
   },
   "outputs": [
    {
     "data": {
      "text/plain": [
       "CompetitionOpen               7731.256875\n",
       "CompetitionDistance           5445.036515\n",
       "CompetitionOpenSinceMonth        4.926207\n",
       "CompetitionOpenSinceYear      1369.652314\n",
       "Promo2SinceWeek                 11.573756\n",
       "Promo2SinceYear               1001.963511\n",
       "PromoOpen                    12145.351147\n",
       "Promo                            0.447946\n",
       "SchoolHoliday                    0.186730\n",
       "Promo2                           0.498055\n",
       "IsPromoMonth                     0.168130\n",
       "dtype: float64"
      ]
     },
     "execution_count": 41,
     "metadata": {},
     "output_type": "execute_result"
    }
   ],
   "source": [
    "pd.Series(\n",
    "    model.named_steps[\"preproc\"].named_transformers_[\"numeric\"].mean_,\n",
    "    index=numeric_vars + binary_vars\n",
    ")"
   ]
  },
  {
   "cell_type": "markdown",
   "metadata": {
    "id": "lgwDqYdlEgUK"
   },
   "source": [
    "- Nella definizione del `ColumnTransformer` si può usare la stringa `\"passthrough\"` al posto di un filtro per utilizzare i dati senza applicare filtri\n",
    "- Come ulteriore opzione, si può utilizzare la stringa `\"drop\"` per scartare completamente i dati\n",
    "- Ad esempio, modifichiamo la pipeline sopra per suddividere le variabili numeriche da quelle binarie e non applicare la standardizzazione (non necessaria) a queste ultime"
   ]
  },
  {
   "cell_type": "code",
   "execution_count": 42,
   "metadata": {
    "colab": {
     "base_uri": "https://localhost:8080/"
    },
    "id": "qFkTvDT3EgUK",
    "outputId": "a8d0c5b4-7218-4a5f-9a5b-ca92401b2fcd"
   },
   "outputs": [
    {
     "data": {
      "text/plain": [
       "0.2483045167103518"
      ]
     },
     "execution_count": 42,
     "metadata": {},
     "output_type": "execute_result"
    }
   ],
   "source": [
    "model = Pipeline([\n",
    "    (\"preproc\", ColumnTransformer([\n",
    "        (\"numeric\",     StandardScaler(), numeric_vars),\n",
    "        (\"binary\",      \"passthrough\",    binary_vars),       # <---\n",
    "        (\"categorical\", OneHotEncoder(),  categorical_vars)\n",
    "    ])),\n",
    "    (\"regr\", Ridge())\n",
    "])\n",
    "model.fit(data_train, y_train)\n",
    "model.score(data_val, y_val)"
   ]
  },
  {
   "cell_type": "markdown",
   "metadata": {
    "id": "srs_kcHPEgUL"
   },
   "source": [
    "- Si può anche usare l'opzione `remainder` per indicare un filtro o un comportamento di default da applicare alle colonne che non fanno parte di alcun gruppo\n",
    "- Riscriviamo l'esempio sopra definendo esplicitamente il gruppo di variabili categoriche e quello di variabili del dataset da NON usare come X e definendo il comportamento per tutte le altre\n",
    "  - di default `remainder=\"drop\"`, ovvero tutte le variabili non processate sono scartate"
   ]
  },
  {
   "cell_type": "code",
   "execution_count": 43,
   "metadata": {
    "colab": {
     "base_uri": "https://localhost:8080/"
    },
    "id": "6NdNBDH4EgUL",
    "outputId": "3d8009fd-06bb-4ce8-e278-5d535587967e"
   },
   "outputs": [
    {
     "data": {
      "text/plain": [
       "0.23989956065358742"
      ]
     },
     "execution_count": 43,
     "metadata": {},
     "output_type": "execute_result"
    }
   ],
   "source": [
    "model = Pipeline([\n",
    "    (\"preproc\", ColumnTransformer([\n",
    "        (\"categorical\", OneHotEncoder(), categorical_vars),\n",
    "        (\"unused\",      \"drop\",          [\"Store\", \"Date\", \"Customers\", \"Sales\"])\n",
    "    ], remainder=\"passthrough\")),                          # <---\n",
    "    (\"regr\", Ridge())\n",
    "])\n",
    "model.fit(data_train, y_train)\n",
    "model.score(data_val, y_val)"
   ]
  },
  {
   "cell_type": "markdown",
   "metadata": {
    "id": "ec8fkvruEgUL"
   },
   "source": [
    "- In una grid search, possiamo riferirci ai singoli filtri del transformer e ai loro parametri con modalità analoghe a quelle viste nelle pipeline più semplici\n",
    "  - si ipotizzi di avere un transformer come componente di una pipeline con nome `preproc`, come negli esempi sopra\n",
    "  - per riferirsi al filtro di un gruppo `group`, si indica `preproc__group`\n",
    "  - per riferirsi al parametro `par` di tale filtro, si indica `preproc__group__par`\n",
    "- Definiamo ad esempio una grid search con modello simile a quello sopra in cui\n",
    "  - alle variabili numeriche può essere applicato o meno `StandardScaler`\n",
    "  - il one-hot encoding delle variabili categoriche può essere applicato con `drop=\"first\"` o `drop=None` (default)"
   ]
  },
  {
   "cell_type": "code",
   "execution_count": 44,
   "metadata": {
    "id": "R7jQrka0EgUL"
   },
   "outputs": [],
   "source": [
    "model = Pipeline([\n",
    "    (\"preproc\", ColumnTransformer([\n",
    "        (\"numeric\", ..., numeric_vars),  # possiamo usare un valore arbitrario al posto di \"...\"\n",
    "        (\"binary\", \"passthrough\", binary_vars),\n",
    "        (\"categorical\", OneHotEncoder(), categorical_vars)\n",
    "    ])),\n",
    "    (\"regr\", Ridge())\n",
    "])\n",
    "grid = {\n",
    "    # variazione dell'intero filtro da usare\n",
    "    \"preproc__numeric\": [\"passthrough\", StandardScaler()],\n",
    "    # variazione di un singolo parametro di un filtro\n",
    "    \"preproc__categorical__drop\": [None, \"first\"]\n",
    "}"
   ]
  },
  {
   "cell_type": "markdown",
   "metadata": {
    "id": "1EZsxYwjEgUL"
   },
   "source": [
    "- Eseguiamo la grid search, usando ad esempio la cross validation a 3 fold"
   ]
  },
  {
   "cell_type": "code",
   "execution_count": 45,
   "metadata": {
    "id": "cD7SADd0EgUM"
   },
   "outputs": [],
   "source": [
    "from sklearn.model_selection import GridSearchCV, KFold\n",
    "kf = KFold(3, shuffle=True, random_state=42)\n",
    "gs = GridSearchCV(model, grid, cv=kf)\n",
    "gs.fit(data_train, y_train);"
   ]
  },
  {
   "cell_type": "markdown",
   "metadata": {
    "id": "uf9OqHkeEgUM"
   },
   "source": [
    "- Vediamo la configurazione migliore individuata e il confronto tra tutte quelle testate"
   ]
  },
  {
   "cell_type": "code",
   "execution_count": 46,
   "metadata": {
    "colab": {
     "base_uri": "https://localhost:8080/"
    },
    "id": "ZqeI8qGmEgUM",
    "outputId": "cc3010a1-bc0e-4daf-d474-5888c7e7f5cf"
   },
   "outputs": [
    {
     "data": {
      "text/plain": [
       "{'preproc__categorical__drop': None, 'preproc__numeric': 'passthrough'}"
      ]
     },
     "execution_count": 46,
     "metadata": {},
     "output_type": "execute_result"
    }
   ],
   "source": [
    "gs.best_params_"
   ]
  },
  {
   "cell_type": "code",
   "execution_count": 47,
   "metadata": {
    "colab": {
     "base_uri": "https://localhost:8080/",
     "height": 308
    },
    "id": "AEHGmymTEgUM",
    "outputId": "4172ebab-cd66-412c-d610-b09eaa5b9714"
   },
   "outputs": [
    {
     "data": {
      "text/html": [
       "<div>\n",
       "<style scoped>\n",
       "    .dataframe tbody tr th:only-of-type {\n",
       "        vertical-align: middle;\n",
       "    }\n",
       "\n",
       "    .dataframe tbody tr th {\n",
       "        vertical-align: top;\n",
       "    }\n",
       "\n",
       "    .dataframe thead th {\n",
       "        text-align: right;\n",
       "    }\n",
       "</style>\n",
       "<table border=\"1\" class=\"dataframe\">\n",
       "  <thead>\n",
       "    <tr style=\"text-align: right;\">\n",
       "      <th></th>\n",
       "      <th>mean_fit_time</th>\n",
       "      <th>std_fit_time</th>\n",
       "      <th>mean_score_time</th>\n",
       "      <th>std_score_time</th>\n",
       "      <th>param_preproc__categorical__drop</th>\n",
       "      <th>param_preproc__numeric</th>\n",
       "      <th>params</th>\n",
       "      <th>split0_test_score</th>\n",
       "      <th>split1_test_score</th>\n",
       "      <th>split2_test_score</th>\n",
       "      <th>mean_test_score</th>\n",
       "      <th>std_test_score</th>\n",
       "      <th>rank_test_score</th>\n",
       "    </tr>\n",
       "  </thead>\n",
       "  <tbody>\n",
       "    <tr>\n",
       "      <th>0</th>\n",
       "      <td>0.365125</td>\n",
       "      <td>0.015298</td>\n",
       "      <td>0.104739</td>\n",
       "      <td>0.018005</td>\n",
       "      <td>None</td>\n",
       "      <td>passthrough</td>\n",
       "      <td>{'preproc__categorical__drop': None, 'preproc_...</td>\n",
       "      <td>0.203672</td>\n",
       "      <td>0.205190</td>\n",
       "      <td>0.204515</td>\n",
       "      <td>0.204459</td>\n",
       "      <td>0.000621</td>\n",
       "      <td>1</td>\n",
       "    </tr>\n",
       "    <tr>\n",
       "      <th>2</th>\n",
       "      <td>0.444468</td>\n",
       "      <td>0.037976</td>\n",
       "      <td>0.140706</td>\n",
       "      <td>0.004788</td>\n",
       "      <td>first</td>\n",
       "      <td>passthrough</td>\n",
       "      <td>{'preproc__categorical__drop': 'first', 'prepr...</td>\n",
       "      <td>0.203672</td>\n",
       "      <td>0.205190</td>\n",
       "      <td>0.204515</td>\n",
       "      <td>0.204459</td>\n",
       "      <td>0.000621</td>\n",
       "      <td>2</td>\n",
       "    </tr>\n",
       "    <tr>\n",
       "      <th>1</th>\n",
       "      <td>0.456790</td>\n",
       "      <td>0.004811</td>\n",
       "      <td>0.115072</td>\n",
       "      <td>0.004045</td>\n",
       "      <td>None</td>\n",
       "      <td>StandardScaler()</td>\n",
       "      <td>{'preproc__categorical__drop': None, 'preproc_...</td>\n",
       "      <td>0.200944</td>\n",
       "      <td>0.202868</td>\n",
       "      <td>0.202179</td>\n",
       "      <td>0.201997</td>\n",
       "      <td>0.000796</td>\n",
       "      <td>3</td>\n",
       "    </tr>\n",
       "    <tr>\n",
       "      <th>3</th>\n",
       "      <td>0.510166</td>\n",
       "      <td>0.010334</td>\n",
       "      <td>0.153618</td>\n",
       "      <td>0.008542</td>\n",
       "      <td>first</td>\n",
       "      <td>StandardScaler()</td>\n",
       "      <td>{'preproc__categorical__drop': 'first', 'prepr...</td>\n",
       "      <td>0.200944</td>\n",
       "      <td>0.202868</td>\n",
       "      <td>0.202179</td>\n",
       "      <td>0.201997</td>\n",
       "      <td>0.000796</td>\n",
       "      <td>4</td>\n",
       "    </tr>\n",
       "  </tbody>\n",
       "</table>\n",
       "</div>"
      ],
      "text/plain": [
       "   mean_fit_time  std_fit_time  mean_score_time  std_score_time  \\\n",
       "0       0.365125      0.015298         0.104739        0.018005   \n",
       "2       0.444468      0.037976         0.140706        0.004788   \n",
       "1       0.456790      0.004811         0.115072        0.004045   \n",
       "3       0.510166      0.010334         0.153618        0.008542   \n",
       "\n",
       "  param_preproc__categorical__drop param_preproc__numeric  \\\n",
       "0                             None            passthrough   \n",
       "2                            first            passthrough   \n",
       "1                             None       StandardScaler()   \n",
       "3                            first       StandardScaler()   \n",
       "\n",
       "                                              params  split0_test_score  \\\n",
       "0  {'preproc__categorical__drop': None, 'preproc_...           0.203672   \n",
       "2  {'preproc__categorical__drop': 'first', 'prepr...           0.203672   \n",
       "1  {'preproc__categorical__drop': None, 'preproc_...           0.200944   \n",
       "3  {'preproc__categorical__drop': 'first', 'prepr...           0.200944   \n",
       "\n",
       "   split1_test_score  split2_test_score  mean_test_score  std_test_score  \\\n",
       "0           0.205190           0.204515         0.204459        0.000621   \n",
       "2           0.205190           0.204515         0.204459        0.000621   \n",
       "1           0.202868           0.202179         0.201997        0.000796   \n",
       "3           0.202868           0.202179         0.201997        0.000796   \n",
       "\n",
       "   rank_test_score  \n",
       "0                1  \n",
       "2                2  \n",
       "1                3  \n",
       "3                4  "
      ]
     },
     "execution_count": 47,
     "metadata": {},
     "output_type": "execute_result"
    }
   ],
   "source": [
    "pd.DataFrame(gs.cv_results_).sort_values(\"rank_test_score\")"
   ]
  },
  {
   "cell_type": "markdown",
   "metadata": {
    "id": "ohbamPZkEgUM"
   },
   "source": [
    "## Esercizio 3: Grid search su pipeline complessa\n",
    "\n",
    "- Effettuare la grid search con cross validation come sopra (`kf`) ed estrarre la configurazione migliore e l'accuratezza sul validation set su\n",
    "  - **(3a)** un modello di regressione ridge su tutte le variabili con\n",
    "    - one-hot encoding delle variabili categoriche con tutte le impostazioni di default\n",
    "    - generazione di feature polinomiali dalle variabili numeriche e binarie con grado da 1 a 3\n",
    "    - parametro `alpha` della regressione ridge pari a 0.01 o 1\n",
    "  - **(3b)** un modello simile, ma con standardizzazione delle variabili numeriche e binarie prima di generare le feature polinomiali\n",
    "    - utilizzare una pipeline per concatenare i due filtri\n",
    "- Per ridurre i tempi di calcolo, utilizzare il dataset `data_train_sample` + `y_train_sample` creato sotto, composto da 60000 istanze prese casualmente del training set"
   ]
  },
  {
   "cell_type": "code",
   "execution_count": 48,
   "metadata": {
    "id": "cHapTUPGEgUN"
   },
   "outputs": [],
   "source": [
    "# il metodo sample seleziona casualmente un sottoinsieme di righe del DataFrame\n",
    "data_train_sample = data_train.sample(60000, random_state=42)\n",
    "# il metodo reindex_like seleziona dalla serie le istanze corrispondenti\n",
    "y_train_sample = y_train.reindex_like(data_train_sample)"
   ]
  },
  {
   "cell_type": "code",
   "execution_count": 49,
   "metadata": {
    "id": "6597bZ8-EgUN",
    "scrolled": false
   },
   "outputs": [],
   "source": [
    "from sklearn.preprocessing import PolynomialFeatures"
   ]
  },
  {
   "cell_type": "code",
   "execution_count": 50,
   "metadata": {
    "scrolled": false
   },
   "outputs": [
    {
     "name": "stderr",
     "output_type": "stream",
     "text": [
      "C:\\Users\\Federico\\anaconda3\\lib\\site-packages\\sklearn\\linear_model\\_ridge.py:147: LinAlgWarning: Ill-conditioned matrix (rcond=1.00675e-24): result may not be accurate.\n",
      "  return linalg.solve(A, Xy, sym_pos=True,\n",
      "C:\\Users\\Federico\\anaconda3\\lib\\site-packages\\sklearn\\linear_model\\_ridge.py:147: LinAlgWarning: Ill-conditioned matrix (rcond=1.10634e-24): result may not be accurate.\n",
      "  return linalg.solve(A, Xy, sym_pos=True,\n",
      "C:\\Users\\Federico\\anaconda3\\lib\\site-packages\\sklearn\\linear_model\\_ridge.py:147: LinAlgWarning: Ill-conditioned matrix (rcond=1.05383e-24): result may not be accurate.\n",
      "  return linalg.solve(A, Xy, sym_pos=True,\n",
      "C:\\Users\\Federico\\anaconda3\\lib\\site-packages\\sklearn\\linear_model\\_ridge.py:147: LinAlgWarning: Ill-conditioned matrix (rcond=1.09632e-22): result may not be accurate.\n",
      "  return linalg.solve(A, Xy, sym_pos=True,\n",
      "C:\\Users\\Federico\\anaconda3\\lib\\site-packages\\sklearn\\linear_model\\_ridge.py:147: LinAlgWarning: Ill-conditioned matrix (rcond=1.20538e-22): result may not be accurate.\n",
      "  return linalg.solve(A, Xy, sym_pos=True,\n",
      "C:\\Users\\Federico\\anaconda3\\lib\\site-packages\\sklearn\\linear_model\\_ridge.py:147: LinAlgWarning: Ill-conditioned matrix (rcond=1.09305e-22): result may not be accurate.\n",
      "  return linalg.solve(A, Xy, sym_pos=True,\n"
     ]
    },
    {
     "name": "stdout",
     "output_type": "stream",
     "text": [
      "{'preproc__num__degree': 3, 'ridgle__alpha': 1}\n",
      "0.27430283128068667\n"
     ]
    }
   ],
   "source": [
    "r_model = Pipeline([\n",
    "    (\"preproc\", ColumnTransformer([\n",
    "        (\"num\", PolynomialFeatures(include_bias=False), numeric_vars + binary_vars),\n",
    "        (\"cat\", OneHotEncoder(), categorical_vars)\n",
    "    ])),\n",
    "    (\"ridgle\", Ridge())\n",
    "])\n",
    "grid = {\n",
    "    \"preproc__num__degree\" : [1,2,3],\n",
    "    \"ridgle__alpha\" : [0.01, 1]\n",
    "}\n",
    "gs = GridSearchCV(r_model, grid, cv=kf)\n",
    "gs.fit(data_train_sample, y_train_sample)\n",
    "print(gs.best_params_)\n",
    "print(gs.score(data_val, y_val))"
   ]
  },
  {
   "cell_type": "code",
   "execution_count": 51,
   "metadata": {},
   "outputs": [
    {
     "name": "stdout",
     "output_type": "stream",
     "text": [
      "{'preproc__num__poly__degree': 3, 'ridgle__alpha': 0.01}\n",
      "0.2650812083365226\n"
     ]
    }
   ],
   "source": [
    "r_model = Pipeline([\n",
    "    (\"preproc\", ColumnTransformer([\n",
    "        (\"num\", Pipeline([\n",
    "            (\"scaler\", StandardScaler()),\n",
    "            (\"poly\", PolynomialFeatures(include_bias=False))\n",
    "        ]), numeric_vars + binary_vars),\n",
    "        (\"cat\", OneHotEncoder(), categorical_vars),\n",
    "    ])),\n",
    "    (\"ridgle\", Ridge())\n",
    "])\n",
    "grid = {\n",
    "    \"preproc__num__poly__degree\" : [1,2,3],\n",
    "    \"ridgle__alpha\" : [0.01, 1]\n",
    "}\n",
    "gs = GridSearchCV(r_model, grid, cv=kf)\n",
    "gs.fit(data_train_sample, y_train_sample)\n",
    "print(gs.best_params_)\n",
    "print(gs.score(data_val, y_val))"
   ]
  },
  {
   "cell_type": "markdown",
   "metadata": {
    "tags": []
   },
   "source": [
    "## Trasformazioni arbitrarie di variabili\n",
    "\n",
    "- I filtri predefiniti di scikit-learn permettono di applicare trasformazioni di uso comune (standardizzazione, one-hot encoding, ...)\n",
    "- In alcuni casi può essere utile applicare traasformazioni ad hoc sui dati a disposizione\n",
    "- Consideriamo ad esempio una colonna che indica la data a cui si riferiscono i dati, presente nel dataset Rossman e in molti altri\n",
    "- Non possiamo utilizzarla direttamente come variabile: al modello sarà richiesto di effettuare predizioni in date future rispetto a quelle su cui è addestrato il modello\n",
    "  - training e validation set sono già suddivisi in questo modo\n",
    "- Possiamo però usare come variabili dei campi dalla data, quali il mese o il giorno della settimana\n",
    "  - così il modello può apprendere ad es. ricorrenze settimanali o annuali\n",
    "- Creiamo una funzione `extract_date_fields` che, dato in ingresso un DataFrame con delle date, ne restituisce uno con i componenti di nostro interesse"
   ]
  },
  {
   "cell_type": "code",
   "execution_count": 52,
   "metadata": {
    "id": "wu83U3xQMSBg"
   },
   "outputs": [],
   "source": [
    "def extract_date_fields(X):\n",
    "    result = {}\n",
    "    for col in X.columns:\n",
    "        result[f\"{col}_day\"]       = X[col].dt.day        # giorno del mese (1-31)\n",
    "        result[f\"{col}_month\"]     = X[col].dt.month      # mese (1-12)\n",
    "        result[f\"{col}_dayofweek\"] = X[col].dt.dayofweek  # giorno della settimana (0-6)\n",
    "    return pd.DataFrame(result)"
   ]
  },
  {
   "cell_type": "markdown",
   "metadata": {
    "id": "BQzFR8GFMSBg"
   },
   "source": [
    "- Vediamo un esempio di applicazione"
   ]
  },
  {
   "cell_type": "code",
   "execution_count": 53,
   "metadata": {
    "colab": {
     "base_uri": "https://localhost:8080/",
     "height": 143
    },
    "id": "L3vn_G1QMSBh",
    "outputId": "2505e4a4-0c95-44fd-cdf4-0d47f445c1fd"
   },
   "outputs": [
    {
     "data": {
      "text/html": [
       "<div>\n",
       "<style scoped>\n",
       "    .dataframe tbody tr th:only-of-type {\n",
       "        vertical-align: middle;\n",
       "    }\n",
       "\n",
       "    .dataframe tbody tr th {\n",
       "        vertical-align: top;\n",
       "    }\n",
       "\n",
       "    .dataframe thead th {\n",
       "        text-align: right;\n",
       "    }\n",
       "</style>\n",
       "<table border=\"1\" class=\"dataframe\">\n",
       "  <thead>\n",
       "    <tr style=\"text-align: right;\">\n",
       "      <th></th>\n",
       "      <th>Date</th>\n",
       "    </tr>\n",
       "  </thead>\n",
       "  <tbody>\n",
       "    <tr>\n",
       "      <th>176169</th>\n",
       "      <td>2014-12-04</td>\n",
       "    </tr>\n",
       "    <tr>\n",
       "      <th>419473</th>\n",
       "      <td>2014-02-20</td>\n",
       "    </tr>\n",
       "    <tr>\n",
       "      <th>647413</th>\n",
       "      <td>2013-06-21</td>\n",
       "    </tr>\n",
       "    <tr>\n",
       "      <th>377659</th>\n",
       "      <td>2014-04-04</td>\n",
       "    </tr>\n",
       "    <tr>\n",
       "      <th>202662</th>\n",
       "      <td>2014-10-31</td>\n",
       "    </tr>\n",
       "  </tbody>\n",
       "</table>\n",
       "</div>"
      ],
      "text/plain": [
       "             Date\n",
       "176169 2014-12-04\n",
       "419473 2014-02-20\n",
       "647413 2013-06-21\n",
       "377659 2014-04-04\n",
       "202662 2014-10-31"
      ]
     },
     "execution_count": 53,
     "metadata": {},
     "output_type": "execute_result"
    }
   ],
   "source": [
    "data_train[[\"Date\"]].sample(5, random_state=42)"
   ]
  },
  {
   "cell_type": "code",
   "execution_count": 54,
   "metadata": {
    "colab": {
     "base_uri": "https://localhost:8080/",
     "height": 143
    },
    "id": "zF-dYNi7MSBh",
    "outputId": "fbb99402-ef9f-4db3-96e5-d03ea57a1f78"
   },
   "outputs": [
    {
     "data": {
      "text/html": [
       "<div>\n",
       "<style scoped>\n",
       "    .dataframe tbody tr th:only-of-type {\n",
       "        vertical-align: middle;\n",
       "    }\n",
       "\n",
       "    .dataframe tbody tr th {\n",
       "        vertical-align: top;\n",
       "    }\n",
       "\n",
       "    .dataframe thead th {\n",
       "        text-align: right;\n",
       "    }\n",
       "</style>\n",
       "<table border=\"1\" class=\"dataframe\">\n",
       "  <thead>\n",
       "    <tr style=\"text-align: right;\">\n",
       "      <th></th>\n",
       "      <th>Date_day</th>\n",
       "      <th>Date_month</th>\n",
       "      <th>Date_dayofweek</th>\n",
       "    </tr>\n",
       "  </thead>\n",
       "  <tbody>\n",
       "    <tr>\n",
       "      <th>176169</th>\n",
       "      <td>4</td>\n",
       "      <td>12</td>\n",
       "      <td>3</td>\n",
       "    </tr>\n",
       "    <tr>\n",
       "      <th>419473</th>\n",
       "      <td>20</td>\n",
       "      <td>2</td>\n",
       "      <td>3</td>\n",
       "    </tr>\n",
       "    <tr>\n",
       "      <th>647413</th>\n",
       "      <td>21</td>\n",
       "      <td>6</td>\n",
       "      <td>4</td>\n",
       "    </tr>\n",
       "    <tr>\n",
       "      <th>377659</th>\n",
       "      <td>4</td>\n",
       "      <td>4</td>\n",
       "      <td>4</td>\n",
       "    </tr>\n",
       "    <tr>\n",
       "      <th>202662</th>\n",
       "      <td>31</td>\n",
       "      <td>10</td>\n",
       "      <td>4</td>\n",
       "    </tr>\n",
       "  </tbody>\n",
       "</table>\n",
       "</div>"
      ],
      "text/plain": [
       "        Date_day  Date_month  Date_dayofweek\n",
       "176169         4          12               3\n",
       "419473        20           2               3\n",
       "647413        21           6               4\n",
       "377659         4           4               4\n",
       "202662        31          10               4"
      ]
     },
     "execution_count": 54,
     "metadata": {},
     "output_type": "execute_result"
    }
   ],
   "source": [
    "extract_date_fields(data_train[[\"Date\"]])   .sample(5, random_state=42)"
   ]
  },
  {
   "cell_type": "markdown",
   "metadata": {
    "id": "pos8Vo76MSBh"
   },
   "source": [
    "- Per comporre questa trasformazione con le altre necessarie, la incapsuliamo in un filtro compatibile con gli altri di scikit-learn\n",
    "- Utilizziamo la classe `FunctionTransformer`, che permette di creare filtri basati su funzioni stateless (non viene salvata nessuna informazione in fase di `fit`)\n",
    "- Creiamo ad esempio un filtro passando la funzione da applicare"
   ]
  },
  {
   "cell_type": "code",
   "execution_count": 55,
   "metadata": {
    "id": "dKc3dVXoMSBh"
   },
   "outputs": [],
   "source": [
    "from sklearn.preprocessing import FunctionTransformer\n",
    "date_transformer = FunctionTransformer(extract_date_fields)"
   ]
  },
  {
   "cell_type": "markdown",
   "metadata": {
    "id": "1zQYOvvpMSBh"
   },
   "source": [
    "- Possiamo quindi utilizzarlo allo stesso modo degli altri filtri"
   ]
  },
  {
   "cell_type": "code",
   "execution_count": 56,
   "metadata": {
    "colab": {
     "base_uri": "https://localhost:8080/",
     "height": 143
    },
    "id": "XPpBoD4uMSBh",
    "outputId": "2e8b2fe0-c0b4-4f65-8020-847f629e3b0b"
   },
   "outputs": [
    {
     "data": {
      "text/html": [
       "<div>\n",
       "<style scoped>\n",
       "    .dataframe tbody tr th:only-of-type {\n",
       "        vertical-align: middle;\n",
       "    }\n",
       "\n",
       "    .dataframe tbody tr th {\n",
       "        vertical-align: top;\n",
       "    }\n",
       "\n",
       "    .dataframe thead th {\n",
       "        text-align: right;\n",
       "    }\n",
       "</style>\n",
       "<table border=\"1\" class=\"dataframe\">\n",
       "  <thead>\n",
       "    <tr style=\"text-align: right;\">\n",
       "      <th></th>\n",
       "      <th>Date_day</th>\n",
       "      <th>Date_month</th>\n",
       "      <th>Date_dayofweek</th>\n",
       "    </tr>\n",
       "  </thead>\n",
       "  <tbody>\n",
       "    <tr>\n",
       "      <th>176169</th>\n",
       "      <td>4</td>\n",
       "      <td>12</td>\n",
       "      <td>3</td>\n",
       "    </tr>\n",
       "    <tr>\n",
       "      <th>419473</th>\n",
       "      <td>20</td>\n",
       "      <td>2</td>\n",
       "      <td>3</td>\n",
       "    </tr>\n",
       "    <tr>\n",
       "      <th>647413</th>\n",
       "      <td>21</td>\n",
       "      <td>6</td>\n",
       "      <td>4</td>\n",
       "    </tr>\n",
       "    <tr>\n",
       "      <th>377659</th>\n",
       "      <td>4</td>\n",
       "      <td>4</td>\n",
       "      <td>4</td>\n",
       "    </tr>\n",
       "    <tr>\n",
       "      <th>202662</th>\n",
       "      <td>31</td>\n",
       "      <td>10</td>\n",
       "      <td>4</td>\n",
       "    </tr>\n",
       "  </tbody>\n",
       "</table>\n",
       "</div>"
      ],
      "text/plain": [
       "        Date_day  Date_month  Date_dayofweek\n",
       "176169         4          12               3\n",
       "419473        20           2               3\n",
       "647413        21           6               4\n",
       "377659         4           4               4\n",
       "202662        31          10               4"
      ]
     },
     "execution_count": 56,
     "metadata": {},
     "output_type": "execute_result"
    }
   ],
   "source": [
    "date_transformer.fit_transform(data_train[[\"Date\"]])   .sample(5, random_state=42)"
   ]
  },
  {
   "cell_type": "markdown",
   "metadata": {
    "id": "3mVtRwvDMSBh"
   },
   "source": [
    "- Utilizziamo quindi un `ColumnTransformer` per combinare insieme tutte le colonne pre-elaborate opportunamente\n",
    "  - le colonne numeriche e binarie sono prese così come sono (_passthrough_)\n",
    "  - alle colonne categoriche è applicato il one-hot encoding\n",
    "  - dalla colonna `Date` sono estratti i componenti della data\n",
    "- Mettiamo questo filtro in pipeline con uno `StandardScaler` per standardizzare tutte le variabili"
   ]
  },
  {
   "cell_type": "code",
   "execution_count": 57,
   "metadata": {
    "id": "IwYD_AHHMSBi"
   },
   "outputs": [],
   "source": [
    "date_transformer = FunctionTransformer(extract_date_fields)\n",
    "transformer = Pipeline([\n",
    "    (\"cols\", ColumnTransformer([\n",
    "        (\"num\" , \"passthrough\",    numeric_vars + binary_vars),\n",
    "        (\"cat\" , OneHotEncoder(),  categorical_vars),\n",
    "        (\"date\", date_transformer, [\"Date\"]),\n",
    "    ])),\n",
    "    (\"scaler\", StandardScaler()),\n",
    "])"
   ]
  },
  {
   "cell_type": "markdown",
   "metadata": {},
   "source": [
    "## Esercizi Extra\n",
    "Ricreare il modello, simile a `date_transformer`, e addestrarlo trattando `Date_dayofweek` come variabile categorica"
   ]
  },
  {
   "cell_type": "code",
   "execution_count": 109,
   "metadata": {},
   "outputs": [
    {
     "name": "stdout",
     "output_type": "stream",
     "text": [
      "R^2 :  0.0322414898945087\n"
     ]
    }
   ],
   "source": [
    "# Prova 1\n",
    "model = Pipeline([\n",
    "    (\"cols\", ColumnTransformer([\n",
    "        (\"num\" , \"passthrough\",    numeric_vars + binary_vars),\n",
    "        (\"cat\" , OneHotEncoder(),  categorical_vars),\n",
    "        (\"date\", FunctionTransformer(extract_date_fields), [\"Date\"])\n",
    "    ])),\n",
    "    (\"cols_2\",ColumnTransformer([\n",
    "        (\"cat_2\" , OneHotEncoder(),  [\"Date_dayofweek\"]),\n",
    "        (\"unused\",      \"drop\",          [\"Store\", \"Date\", \"Customers\", \"Sales\"])\n",
    "    ])),\n",
    "    (\"scaler\", StandardScaler()),\n",
    "    (\"ridgle\", Ridge(alpha=1))\n",
    "])\n",
    "model.named_steps[\"ridgle\"].fit(model.named_steps[\"cols\"].transformers[2][1].fit_transform(data_train[[\"Date\"]]), y_train);\n",
    "print(\"R^2 : \", model.named_steps[\"ridgle\"].score(\\\n",
    "      model.named_steps[\"cols\"].transformers[2][1].fit_transform(data_val[[\"Date\"]]), y_val))"
   ]
  },
  {
   "cell_type": "code",
   "execution_count": 110,
   "metadata": {},
   "outputs": [
    {
     "data": {
      "text/plain": [
       "Pipeline(steps=[('cols',\n",
       "                 ColumnTransformer(transformers=[('num', 'passthrough',\n",
       "                                                  ['CompetitionOpen',\n",
       "                                                   'CompetitionDistance',\n",
       "                                                   'CompetitionOpenSinceMonth',\n",
       "                                                   'CompetitionOpenSinceYear',\n",
       "                                                   'Promo2SinceWeek',\n",
       "                                                   'Promo2SinceYear',\n",
       "                                                   'PromoOpen', 'Promo',\n",
       "                                                   'SchoolHoliday', 'Promo2',\n",
       "                                                   'IsPromoMonth']),\n",
       "                                                 ('cat', OneHotEncoder(),\n",
       "                                                  ['StateHoliday', 'StoreType',\n",
       "                                                   'Assortment']),\n",
       "                                                 ('date',\n",
       "                                                  FunctionTransformer(func=<function extract_date_fields at 0x0000028F81259160>),\n",
       "                                                  ['Date'])])),\n",
       "                ('scaler', StandardScaler())])"
      ]
     },
     "execution_count": 110,
     "metadata": {},
     "output_type": "execute_result"
    }
   ],
   "source": [
    "# Prova 2\n",
    "model = Pipeline([\n",
    "    (\"cols\", ColumnTransformer([\n",
    "        (\"num\" , \"passthrough\",    numeric_vars + binary_vars),\n",
    "        (\"cat\" , OneHotEncoder(),  categorical_vars),\n",
    "        (\"date\", date_transformer, [\"Date\"]),\n",
    "    ])),\n",
    "    (\"scaler\", StandardScaler())\n",
    "])\n",
    "model.fit(data_train, y_train)"
   ]
  },
  {
   "cell_type": "code",
   "execution_count": 111,
   "metadata": {},
   "outputs": [
    {
     "name": "stdout",
     "output_type": "stream",
     "text": [
      "R^2 :  0.25740510374896974\n"
     ]
    }
   ],
   "source": [
    "# Prova 3\n",
    "model = Pipeline([\n",
    "    (\"cols\", ColumnTransformer([\n",
    "        (\"num\" , \"passthrough\",    numeric_vars + binary_vars),\n",
    "        (\"cat\" , OneHotEncoder(),  categorical_vars),\n",
    "        (\"date\", date_transformer, [\"Date\"]),\n",
    "    ])),\n",
    "    (\"scaler\", StandardScaler()),\n",
    "    (\"ridgle\", Ridge(alpha=1))\n",
    "])\n",
    "model.fit(data_train, y_train)\n",
    "print(\"R^2 : \", model.score(data_val, y_val))"
   ]
  },
  {
   "cell_type": "code",
   "execution_count": 119,
   "metadata": {},
   "outputs": [
    {
     "ename": "ValueError",
     "evalue": "Specifying the columns using strings is only supported for pandas DataFrames",
     "output_type": "error",
     "traceback": [
      "\u001b[1;31m---------------------------------------------------------------------------\u001b[0m",
      "\u001b[1;31mAttributeError\u001b[0m                            Traceback (most recent call last)",
      "\u001b[1;32m~\\anaconda3\\lib\\site-packages\\sklearn\\utils\\__init__.py\u001b[0m in \u001b[0;36m_get_column_indices\u001b[1;34m(X, key)\u001b[0m\n\u001b[0;32m    373\u001b[0m         \u001b[1;32mtry\u001b[0m\u001b[1;33m:\u001b[0m\u001b[1;33m\u001b[0m\u001b[1;33m\u001b[0m\u001b[0m\n\u001b[1;32m--> 374\u001b[1;33m             \u001b[0mall_columns\u001b[0m \u001b[1;33m=\u001b[0m \u001b[0mX\u001b[0m\u001b[1;33m.\u001b[0m\u001b[0mcolumns\u001b[0m\u001b[1;33m\u001b[0m\u001b[1;33m\u001b[0m\u001b[0m\n\u001b[0m\u001b[0;32m    375\u001b[0m         \u001b[1;32mexcept\u001b[0m \u001b[0mAttributeError\u001b[0m\u001b[1;33m:\u001b[0m\u001b[1;33m\u001b[0m\u001b[1;33m\u001b[0m\u001b[0m\n",
      "\u001b[1;31mAttributeError\u001b[0m: 'numpy.ndarray' object has no attribute 'columns'",
      "\nDuring handling of the above exception, another exception occurred:\n",
      "\u001b[1;31mValueError\u001b[0m                                Traceback (most recent call last)",
      "\u001b[1;32m~\\AppData\\Local\\Temp/ipykernel_7312/4123773378.py\u001b[0m in \u001b[0;36m<module>\u001b[1;34m\u001b[0m\n\u001b[0;32m     15\u001b[0m     \u001b[1;33m(\u001b[0m\u001b[1;34m\"ridgle\"\u001b[0m\u001b[1;33m,\u001b[0m \u001b[0mRidge\u001b[0m\u001b[1;33m(\u001b[0m\u001b[0malpha\u001b[0m\u001b[1;33m=\u001b[0m\u001b[1;36m1\u001b[0m\u001b[1;33m)\u001b[0m\u001b[1;33m)\u001b[0m\u001b[1;33m\u001b[0m\u001b[1;33m\u001b[0m\u001b[0m\n\u001b[0;32m     16\u001b[0m ])\n\u001b[1;32m---> 17\u001b[1;33m \u001b[0mcomplex_model\u001b[0m\u001b[1;33m.\u001b[0m\u001b[0mfit\u001b[0m\u001b[1;33m(\u001b[0m\u001b[0mdata_train\u001b[0m\u001b[1;33m,\u001b[0m \u001b[0my_train\u001b[0m\u001b[1;33m)\u001b[0m\u001b[1;33m\u001b[0m\u001b[1;33m\u001b[0m\u001b[0m\n\u001b[0m",
      "\u001b[1;32m~\\anaconda3\\lib\\site-packages\\sklearn\\pipeline.py\u001b[0m in \u001b[0;36mfit\u001b[1;34m(self, X, y, **fit_params)\u001b[0m\n\u001b[0;32m    339\u001b[0m         \"\"\"\n\u001b[0;32m    340\u001b[0m         \u001b[0mfit_params_steps\u001b[0m \u001b[1;33m=\u001b[0m \u001b[0mself\u001b[0m\u001b[1;33m.\u001b[0m\u001b[0m_check_fit_params\u001b[0m\u001b[1;33m(\u001b[0m\u001b[1;33m**\u001b[0m\u001b[0mfit_params\u001b[0m\u001b[1;33m)\u001b[0m\u001b[1;33m\u001b[0m\u001b[1;33m\u001b[0m\u001b[0m\n\u001b[1;32m--> 341\u001b[1;33m         \u001b[0mXt\u001b[0m \u001b[1;33m=\u001b[0m \u001b[0mself\u001b[0m\u001b[1;33m.\u001b[0m\u001b[0m_fit\u001b[0m\u001b[1;33m(\u001b[0m\u001b[0mX\u001b[0m\u001b[1;33m,\u001b[0m \u001b[0my\u001b[0m\u001b[1;33m,\u001b[0m \u001b[1;33m**\u001b[0m\u001b[0mfit_params_steps\u001b[0m\u001b[1;33m)\u001b[0m\u001b[1;33m\u001b[0m\u001b[1;33m\u001b[0m\u001b[0m\n\u001b[0m\u001b[0;32m    342\u001b[0m         with _print_elapsed_time('Pipeline',\n\u001b[0;32m    343\u001b[0m                                  self._log_message(len(self.steps) - 1)):\n",
      "\u001b[1;32m~\\anaconda3\\lib\\site-packages\\sklearn\\pipeline.py\u001b[0m in \u001b[0;36m_fit\u001b[1;34m(self, X, y, **fit_params_steps)\u001b[0m\n\u001b[0;32m    301\u001b[0m                 \u001b[0mcloned_transformer\u001b[0m \u001b[1;33m=\u001b[0m \u001b[0mclone\u001b[0m\u001b[1;33m(\u001b[0m\u001b[0mtransformer\u001b[0m\u001b[1;33m)\u001b[0m\u001b[1;33m\u001b[0m\u001b[1;33m\u001b[0m\u001b[0m\n\u001b[0;32m    302\u001b[0m             \u001b[1;31m# Fit or load from cache the current transformer\u001b[0m\u001b[1;33m\u001b[0m\u001b[1;33m\u001b[0m\u001b[0m\n\u001b[1;32m--> 303\u001b[1;33m             X, fitted_transformer = fit_transform_one_cached(\n\u001b[0m\u001b[0;32m    304\u001b[0m                 \u001b[0mcloned_transformer\u001b[0m\u001b[1;33m,\u001b[0m \u001b[0mX\u001b[0m\u001b[1;33m,\u001b[0m \u001b[0my\u001b[0m\u001b[1;33m,\u001b[0m \u001b[1;32mNone\u001b[0m\u001b[1;33m,\u001b[0m\u001b[1;33m\u001b[0m\u001b[1;33m\u001b[0m\u001b[0m\n\u001b[0;32m    305\u001b[0m                 \u001b[0mmessage_clsname\u001b[0m\u001b[1;33m=\u001b[0m\u001b[1;34m'Pipeline'\u001b[0m\u001b[1;33m,\u001b[0m\u001b[1;33m\u001b[0m\u001b[1;33m\u001b[0m\u001b[0m\n",
      "\u001b[1;32m~\\anaconda3\\lib\\site-packages\\joblib\\memory.py\u001b[0m in \u001b[0;36m__call__\u001b[1;34m(self, *args, **kwargs)\u001b[0m\n\u001b[0;32m    347\u001b[0m \u001b[1;33m\u001b[0m\u001b[0m\n\u001b[0;32m    348\u001b[0m     \u001b[1;32mdef\u001b[0m \u001b[0m__call__\u001b[0m\u001b[1;33m(\u001b[0m\u001b[0mself\u001b[0m\u001b[1;33m,\u001b[0m \u001b[1;33m*\u001b[0m\u001b[0margs\u001b[0m\u001b[1;33m,\u001b[0m \u001b[1;33m**\u001b[0m\u001b[0mkwargs\u001b[0m\u001b[1;33m)\u001b[0m\u001b[1;33m:\u001b[0m\u001b[1;33m\u001b[0m\u001b[1;33m\u001b[0m\u001b[0m\n\u001b[1;32m--> 349\u001b[1;33m         \u001b[1;32mreturn\u001b[0m \u001b[0mself\u001b[0m\u001b[1;33m.\u001b[0m\u001b[0mfunc\u001b[0m\u001b[1;33m(\u001b[0m\u001b[1;33m*\u001b[0m\u001b[0margs\u001b[0m\u001b[1;33m,\u001b[0m \u001b[1;33m**\u001b[0m\u001b[0mkwargs\u001b[0m\u001b[1;33m)\u001b[0m\u001b[1;33m\u001b[0m\u001b[1;33m\u001b[0m\u001b[0m\n\u001b[0m\u001b[0;32m    350\u001b[0m \u001b[1;33m\u001b[0m\u001b[0m\n\u001b[0;32m    351\u001b[0m     \u001b[1;32mdef\u001b[0m \u001b[0mcall_and_shelve\u001b[0m\u001b[1;33m(\u001b[0m\u001b[0mself\u001b[0m\u001b[1;33m,\u001b[0m \u001b[1;33m*\u001b[0m\u001b[0margs\u001b[0m\u001b[1;33m,\u001b[0m \u001b[1;33m**\u001b[0m\u001b[0mkwargs\u001b[0m\u001b[1;33m)\u001b[0m\u001b[1;33m:\u001b[0m\u001b[1;33m\u001b[0m\u001b[1;33m\u001b[0m\u001b[0m\n",
      "\u001b[1;32m~\\anaconda3\\lib\\site-packages\\sklearn\\pipeline.py\u001b[0m in \u001b[0;36m_fit_transform_one\u001b[1;34m(transformer, X, y, weight, message_clsname, message, **fit_params)\u001b[0m\n\u001b[0;32m    752\u001b[0m     \u001b[1;32mwith\u001b[0m \u001b[0m_print_elapsed_time\u001b[0m\u001b[1;33m(\u001b[0m\u001b[0mmessage_clsname\u001b[0m\u001b[1;33m,\u001b[0m \u001b[0mmessage\u001b[0m\u001b[1;33m)\u001b[0m\u001b[1;33m:\u001b[0m\u001b[1;33m\u001b[0m\u001b[1;33m\u001b[0m\u001b[0m\n\u001b[0;32m    753\u001b[0m         \u001b[1;32mif\u001b[0m \u001b[0mhasattr\u001b[0m\u001b[1;33m(\u001b[0m\u001b[0mtransformer\u001b[0m\u001b[1;33m,\u001b[0m \u001b[1;34m'fit_transform'\u001b[0m\u001b[1;33m)\u001b[0m\u001b[1;33m:\u001b[0m\u001b[1;33m\u001b[0m\u001b[1;33m\u001b[0m\u001b[0m\n\u001b[1;32m--> 754\u001b[1;33m             \u001b[0mres\u001b[0m \u001b[1;33m=\u001b[0m \u001b[0mtransformer\u001b[0m\u001b[1;33m.\u001b[0m\u001b[0mfit_transform\u001b[0m\u001b[1;33m(\u001b[0m\u001b[0mX\u001b[0m\u001b[1;33m,\u001b[0m \u001b[0my\u001b[0m\u001b[1;33m,\u001b[0m \u001b[1;33m**\u001b[0m\u001b[0mfit_params\u001b[0m\u001b[1;33m)\u001b[0m\u001b[1;33m\u001b[0m\u001b[1;33m\u001b[0m\u001b[0m\n\u001b[0m\u001b[0;32m    755\u001b[0m         \u001b[1;32melse\u001b[0m\u001b[1;33m:\u001b[0m\u001b[1;33m\u001b[0m\u001b[1;33m\u001b[0m\u001b[0m\n\u001b[0;32m    756\u001b[0m             \u001b[0mres\u001b[0m \u001b[1;33m=\u001b[0m \u001b[0mtransformer\u001b[0m\u001b[1;33m.\u001b[0m\u001b[0mfit\u001b[0m\u001b[1;33m(\u001b[0m\u001b[0mX\u001b[0m\u001b[1;33m,\u001b[0m \u001b[0my\u001b[0m\u001b[1;33m,\u001b[0m \u001b[1;33m**\u001b[0m\u001b[0mfit_params\u001b[0m\u001b[1;33m)\u001b[0m\u001b[1;33m.\u001b[0m\u001b[0mtransform\u001b[0m\u001b[1;33m(\u001b[0m\u001b[0mX\u001b[0m\u001b[1;33m)\u001b[0m\u001b[1;33m\u001b[0m\u001b[1;33m\u001b[0m\u001b[0m\n",
      "\u001b[1;32m~\\anaconda3\\lib\\site-packages\\sklearn\\pipeline.py\u001b[0m in \u001b[0;36mfit_transform\u001b[1;34m(self, X, y, **fit_params)\u001b[0m\n\u001b[0;32m    385\u001b[0m             \u001b[0mfit_params_last_step\u001b[0m \u001b[1;33m=\u001b[0m \u001b[0mfit_params_steps\u001b[0m\u001b[1;33m[\u001b[0m\u001b[0mself\u001b[0m\u001b[1;33m.\u001b[0m\u001b[0msteps\u001b[0m\u001b[1;33m[\u001b[0m\u001b[1;33m-\u001b[0m\u001b[1;36m1\u001b[0m\u001b[1;33m]\u001b[0m\u001b[1;33m[\u001b[0m\u001b[1;36m0\u001b[0m\u001b[1;33m]\u001b[0m\u001b[1;33m]\u001b[0m\u001b[1;33m\u001b[0m\u001b[1;33m\u001b[0m\u001b[0m\n\u001b[0;32m    386\u001b[0m             \u001b[1;32mif\u001b[0m \u001b[0mhasattr\u001b[0m\u001b[1;33m(\u001b[0m\u001b[0mlast_step\u001b[0m\u001b[1;33m,\u001b[0m \u001b[1;34m'fit_transform'\u001b[0m\u001b[1;33m)\u001b[0m\u001b[1;33m:\u001b[0m\u001b[1;33m\u001b[0m\u001b[1;33m\u001b[0m\u001b[0m\n\u001b[1;32m--> 387\u001b[1;33m                 \u001b[1;32mreturn\u001b[0m \u001b[0mlast_step\u001b[0m\u001b[1;33m.\u001b[0m\u001b[0mfit_transform\u001b[0m\u001b[1;33m(\u001b[0m\u001b[0mXt\u001b[0m\u001b[1;33m,\u001b[0m \u001b[0my\u001b[0m\u001b[1;33m,\u001b[0m \u001b[1;33m**\u001b[0m\u001b[0mfit_params_last_step\u001b[0m\u001b[1;33m)\u001b[0m\u001b[1;33m\u001b[0m\u001b[1;33m\u001b[0m\u001b[0m\n\u001b[0m\u001b[0;32m    388\u001b[0m             \u001b[1;32melse\u001b[0m\u001b[1;33m:\u001b[0m\u001b[1;33m\u001b[0m\u001b[1;33m\u001b[0m\u001b[0m\n\u001b[0;32m    389\u001b[0m                 return last_step.fit(Xt, y,\n",
      "\u001b[1;32m~\\anaconda3\\lib\\site-packages\\sklearn\\compose\\_column_transformer.py\u001b[0m in \u001b[0;36mfit_transform\u001b[1;34m(self, X, y)\u001b[0m\n\u001b[0;32m    503\u001b[0m         \u001b[0mself\u001b[0m\u001b[1;33m.\u001b[0m\u001b[0m_validate_transformers\u001b[0m\u001b[1;33m(\u001b[0m\u001b[1;33m)\u001b[0m\u001b[1;33m\u001b[0m\u001b[1;33m\u001b[0m\u001b[0m\n\u001b[0;32m    504\u001b[0m         \u001b[0mself\u001b[0m\u001b[1;33m.\u001b[0m\u001b[0m_validate_column_callables\u001b[0m\u001b[1;33m(\u001b[0m\u001b[0mX\u001b[0m\u001b[1;33m)\u001b[0m\u001b[1;33m\u001b[0m\u001b[1;33m\u001b[0m\u001b[0m\n\u001b[1;32m--> 505\u001b[1;33m         \u001b[0mself\u001b[0m\u001b[1;33m.\u001b[0m\u001b[0m_validate_remainder\u001b[0m\u001b[1;33m(\u001b[0m\u001b[0mX\u001b[0m\u001b[1;33m)\u001b[0m\u001b[1;33m\u001b[0m\u001b[1;33m\u001b[0m\u001b[0m\n\u001b[0m\u001b[0;32m    506\u001b[0m \u001b[1;33m\u001b[0m\u001b[0m\n\u001b[0;32m    507\u001b[0m         \u001b[0mresult\u001b[0m \u001b[1;33m=\u001b[0m \u001b[0mself\u001b[0m\u001b[1;33m.\u001b[0m\u001b[0m_fit_transform\u001b[0m\u001b[1;33m(\u001b[0m\u001b[0mX\u001b[0m\u001b[1;33m,\u001b[0m \u001b[0my\u001b[0m\u001b[1;33m,\u001b[0m \u001b[0m_fit_transform_one\u001b[0m\u001b[1;33m)\u001b[0m\u001b[1;33m\u001b[0m\u001b[1;33m\u001b[0m\u001b[0m\n",
      "\u001b[1;32m~\\anaconda3\\lib\\site-packages\\sklearn\\compose\\_column_transformer.py\u001b[0m in \u001b[0;36m_validate_remainder\u001b[1;34m(self, X)\u001b[0m\n\u001b[0;32m    330\u001b[0m         \u001b[0mcols\u001b[0m \u001b[1;33m=\u001b[0m \u001b[1;33m[\u001b[0m\u001b[1;33m]\u001b[0m\u001b[1;33m\u001b[0m\u001b[1;33m\u001b[0m\u001b[0m\n\u001b[0;32m    331\u001b[0m         \u001b[1;32mfor\u001b[0m \u001b[0mcolumns\u001b[0m \u001b[1;32min\u001b[0m \u001b[0mself\u001b[0m\u001b[1;33m.\u001b[0m\u001b[0m_columns\u001b[0m\u001b[1;33m:\u001b[0m\u001b[1;33m\u001b[0m\u001b[1;33m\u001b[0m\u001b[0m\n\u001b[1;32m--> 332\u001b[1;33m             \u001b[0mcols\u001b[0m\u001b[1;33m.\u001b[0m\u001b[0mextend\u001b[0m\u001b[1;33m(\u001b[0m\u001b[0m_get_column_indices\u001b[0m\u001b[1;33m(\u001b[0m\u001b[0mX\u001b[0m\u001b[1;33m,\u001b[0m \u001b[0mcolumns\u001b[0m\u001b[1;33m)\u001b[0m\u001b[1;33m)\u001b[0m\u001b[1;33m\u001b[0m\u001b[1;33m\u001b[0m\u001b[0m\n\u001b[0m\u001b[0;32m    333\u001b[0m \u001b[1;33m\u001b[0m\u001b[0m\n\u001b[0;32m    334\u001b[0m         \u001b[0mremaining_idx\u001b[0m \u001b[1;33m=\u001b[0m \u001b[0msorted\u001b[0m\u001b[1;33m(\u001b[0m\u001b[0mset\u001b[0m\u001b[1;33m(\u001b[0m\u001b[0mrange\u001b[0m\u001b[1;33m(\u001b[0m\u001b[0mself\u001b[0m\u001b[1;33m.\u001b[0m\u001b[0m_n_features\u001b[0m\u001b[1;33m)\u001b[0m\u001b[1;33m)\u001b[0m \u001b[1;33m-\u001b[0m \u001b[0mset\u001b[0m\u001b[1;33m(\u001b[0m\u001b[0mcols\u001b[0m\u001b[1;33m)\u001b[0m\u001b[1;33m)\u001b[0m\u001b[1;33m\u001b[0m\u001b[1;33m\u001b[0m\u001b[0m\n",
      "\u001b[1;32m~\\anaconda3\\lib\\site-packages\\sklearn\\utils\\__init__.py\u001b[0m in \u001b[0;36m_get_column_indices\u001b[1;34m(X, key)\u001b[0m\n\u001b[0;32m    374\u001b[0m             \u001b[0mall_columns\u001b[0m \u001b[1;33m=\u001b[0m \u001b[0mX\u001b[0m\u001b[1;33m.\u001b[0m\u001b[0mcolumns\u001b[0m\u001b[1;33m\u001b[0m\u001b[1;33m\u001b[0m\u001b[0m\n\u001b[0;32m    375\u001b[0m         \u001b[1;32mexcept\u001b[0m \u001b[0mAttributeError\u001b[0m\u001b[1;33m:\u001b[0m\u001b[1;33m\u001b[0m\u001b[1;33m\u001b[0m\u001b[0m\n\u001b[1;32m--> 376\u001b[1;33m             raise ValueError(\"Specifying the columns using strings is only \"\n\u001b[0m\u001b[0;32m    377\u001b[0m                              \"supported for pandas DataFrames\")\n\u001b[0;32m    378\u001b[0m         \u001b[1;32mif\u001b[0m \u001b[0misinstance\u001b[0m\u001b[1;33m(\u001b[0m\u001b[0mkey\u001b[0m\u001b[1;33m,\u001b[0m \u001b[0mstr\u001b[0m\u001b[1;33m)\u001b[0m\u001b[1;33m:\u001b[0m\u001b[1;33m\u001b[0m\u001b[1;33m\u001b[0m\u001b[0m\n",
      "\u001b[1;31mValueError\u001b[0m: Specifying the columns using strings is only supported for pandas DataFrames"
     ]
    }
   ],
   "source": [
    "# Prova 4\n",
    "complex_model = Pipeline([\n",
    "    (\"nested_pipeline\", Pipeline([\n",
    "        (\"trasformazione 1\", ColumnTransformer([\n",
    "            (\"num\" , \"passthrough\",    numeric_vars + binary_vars),\n",
    "            (\"cat\" , OneHotEncoder(),  categorical_vars),\n",
    "            (\"date\", FunctionTransformer(extract_date_fields), [\"Date\"])\n",
    "        ])),\n",
    "        (\"trasformazione 2\", ColumnTransformer([\n",
    "            (\"cat_2\" , OneHotEncoder(),  [\"Date_dayofweek\"]),\n",
    "            (\"unused\",      \"drop\",          [\"Store\", \"Date\", \"Customers\", \"Sales\"])\n",
    "        ]))\n",
    "    ])),\n",
    "    (\"scaler\", StandardScaler()),\n",
    "    (\"ridgle\", Ridge(alpha=1))\n",
    "])\n",
    "complex_model.fit(data_train, y_train)"
   ]
  },
  {
   "cell_type": "markdown",
   "metadata": {},
   "source": [
    "- Nel resto dell'esercitazione useremo sempre i dati preprocessati in questo modo e li testeremo su algoritmi di learning diversi\n",
    "- Per concentrarsi su di essi, estraiamo già versioni preprocessate di training e validation set da utilizzare in seguito senza pipeline"
   ]
  },
  {
   "cell_type": "code",
   "execution_count": null,
   "metadata": {},
   "outputs": [],
   "source": [
    "X_train = transformer.fit_transform(data_train)\n",
    "X_val = transformer.transform(data_val)"
   ]
  },
  {
   "cell_type": "markdown",
   "metadata": {},
   "source": [
    "- Estraiamo una lista con i nomi delle feature processate"
   ]
  },
  {
   "cell_type": "code",
   "execution_count": null,
   "metadata": {
    "colab": {
     "base_uri": "https://localhost:8080/"
    },
    "id": "kraC_oWeEgUT",
    "outputId": "c4278aeb-bb7b-4519-eff5-e11c1976c8ec"
   },
   "outputs": [],
   "source": [
    "X_names = np.r_[\n",
    "    numeric_vars,\n",
    "    binary_vars,\n",
    "    transformer.named_steps[\"cols\"].named_transformers_[\"cat\"].get_feature_names(categorical_vars),\n",
    "    [\"Date_day\", \"Date_month\", \"Date_dayofweek\"],\n",
    "].tolist()"
   ]
  },
  {
   "cell_type": "code",
   "execution_count": null,
   "metadata": {},
   "outputs": [],
   "source": [
    "# stampo i nomi di tutte le feature\n",
    "print(\", \".join(X_names))"
   ]
  },
  {
   "cell_type": "markdown",
   "metadata": {
    "id": "w2dDwlb8EgUO"
   },
   "source": [
    "## Regressione con alberi decisionali\n",
    "\n",
    "- I modelli di regressione visti finora si basano su equazioni (lineari o non) su tutte le variabili\n",
    "- Gli alberi decisionali costituiscono un approccio differente: la regressione avviene in base ad una serie di decisioni \"semplici\", basate ciascuna su una sola variabile\n",
    "  - ciascuna decisione porta ad un ramo diverso dell'albero\n",
    "  - geometricamente è come se suddividessimo tramite degli iperpiani (ciascuno basato su una singola variabile) lo spazio delle variabili indipendenti tramite degli iperpiani ciascuno basato su una singola variabile e assegnassimo un valore predetto di y a ciascuna regione che si crea\n",
    "- I modelli ad alberi decisionali hanno alcuni vantaggi:\n",
    "  - un albero decisionale (se di piccole dimensioni) è spesso più facilmente interpretabile da una persona rispetto ad un insieme di coefficienti numerici\n",
    "  - è concettualmente possibile trattare variabili categoriche (ma in scikit-learn ne è necessario comunque il one-hot encoding)"
   ]
  },
  {
   "cell_type": "markdown",
   "metadata": {
    "id": "4REIdIpFEgUO"
   },
   "source": [
    "- Per visualizzare geometricamente come funziona un albero, riprendiamo l'esempio di regressione univariata per la predizione dei consumi di elettricità sulla temperatura\n",
    "- Carichiamo il dataset, suddividiamolo in training e validation e definiamo la funzione per tracciare il grafico del modello addestrato sui dati come nelle occasioni precedenti"
   ]
  },
  {
   "cell_type": "code",
   "execution_count": null,
   "metadata": {
    "id": "HBjzya9OMSBF"
   },
   "outputs": [],
   "source": [
    "download(\"power.csv\", \"https://git.io/vpaM1\")\n",
    "power = pd.read_csv(\"power.csv\", index_col=\"date\", parse_dates=[\"date\"])\n",
    "is_train = power.index.year < 2016\n",
    "power_X_train = power.loc[is_train, [\"temp\"]]\n",
    "power_y_train = power.loc[is_train, \"demand\"]\n",
    "power_X_val = power.loc[~is_train, [\"temp\"]]\n",
    "power_y_val = power.loc[~is_train, \"demand\"]\n",
    "\n",
    "def plot_model_on_data(X, y, model=None):\n",
    "    plt.figure(figsize=(10, 7))\n",
    "    plt.scatter(X, y)\n",
    "    if model is not None:\n",
    "        xlim, ylim = plt.xlim(), plt.ylim()\n",
    "        line_x = np.linspace(xlim[0], xlim[1], 100)\n",
    "        line_y = model.predict(line_x[:, None])\n",
    "        plt.plot(line_x, line_y, c=\"red\", lw=3)\n",
    "        plt.xlim(xlim); plt.ylim(ylim)\n",
    "    plt.grid()\n",
    "    plt.xlabel(\"Temperatura (normalizzata)\"); plt.ylabel(\"Consumi (normalizzati)\")"
   ]
  },
  {
   "cell_type": "markdown",
   "metadata": {
    "id": "fb84aHOYEgUP"
   },
   "source": [
    "- Addestriamo un modello di regressione polinomiale di terzo grado, che abbiamo già visto dare buoni risultati\n",
    "  - per semplicità, addestriamo il modello su tutti i dati\n",
    "- Il modello consiste essenzialmente in una funzione "
   ]
  },
  {
   "cell_type": "code",
   "execution_count": null,
   "metadata": {
    "colab": {
     "base_uri": "https://localhost:8080/",
     "height": 515
    },
    "id": "gF6oWCuGEgUP",
    "outputId": "36450a33-5058-49f6-9bf0-53dc907474e1"
   },
   "outputs": [],
   "source": [
    "from sklearn.linear_model import LinearRegression\n",
    "model = Pipeline([\n",
    "    (\"poly\", PolynomialFeatures(degree=3, include_bias=False)),\n",
    "    (\"regr\", LinearRegression())\n",
    "])\n",
    "model.fit(power_X_train, power_y_train)\n",
    "plot_model_on_data(power_X_val, power_y_val, model)\n",
    "model.score(power_X_val, power_y_val)"
   ]
  },
  {
   "cell_type": "markdown",
   "metadata": {
    "id": "LWaJQToYEgUP"
   },
   "source": [
    "- Vediamo ora per confronto cosa accade con un modello di regressione ad albero decisionale\n",
    "- Tale tipo di modello è rappresentato da un oggetto `DecisionTreeRegressor`\n",
    "- Gli iperparametri del modello consentono di regolare la complessità dell'albero risultante\n",
    "- Ad esempio tramite il parametro `max_depth` possiamo controllare la profondità massima dell'albero\n",
    "  - per ora la limitiamo a 2 per facilitare la lettura dell'albero stesso"
   ]
  },
  {
   "cell_type": "code",
   "execution_count": null,
   "metadata": {
    "id": "odEC30SdEgUP"
   },
   "outputs": [],
   "source": [
    "from sklearn.tree import DecisionTreeRegressor\n",
    "model = DecisionTreeRegressor(max_depth=2, random_state=42)"
   ]
  },
  {
   "cell_type": "markdown",
   "metadata": {
    "id": "7MNi1UPjEgUP"
   },
   "source": [
    "- Addestriamo il modello sulle variabili numeriche del dataset"
   ]
  },
  {
   "cell_type": "code",
   "execution_count": null,
   "metadata": {
    "colab": {
     "base_uri": "https://localhost:8080/"
    },
    "id": "Jylj_0MmEgUQ",
    "outputId": "2ef3fc3c-3ca1-4c24-cf6b-201ef8c36697"
   },
   "outputs": [],
   "source": [
    "model.fit(power_X_train, power_y_train)"
   ]
  },
  {
   "cell_type": "markdown",
   "metadata": {
    "id": "NaTtgL9WEgUQ"
   },
   "source": [
    "- È stato così costruito un albero decisionale in base ai dati del training set\n",
    "- L'albero può essere ispezionato per verificare quali variabili sono ritenute significative\n",
    "- Per ottenere una rappresentazione testuale dell'albero, viene fornita la funzione `export_text`"
   ]
  },
  {
   "cell_type": "code",
   "execution_count": null,
   "metadata": {
    "colab": {
     "base_uri": "https://localhost:8080/"
    },
    "id": "trUr8e1vEgUQ",
    "outputId": "8dba83b1-af82-42e5-b3f5-e4482f2b2a8f"
   },
   "outputs": [],
   "source": [
    "from sklearn.tree import export_text\n",
    "print(export_text(model))"
   ]
  },
  {
   "cell_type": "markdown",
   "metadata": {
    "id": "qOx9t76NEgUQ"
   },
   "source": [
    "La rappresentazione mostra intuitivamente come il modello classifichi ciascun valore di temperatura (`feature_0`, l'unica presente)\n",
    "\n",
    "- Se la temperatura è inferiore o uguale a 25,3 °C...\n",
    "  - ...e inferiore o uguale a 4,15 °C, predici un consumo di 1,98 GW\n",
    "  - ...e superiore a 4,15 °C, predici un consumo di 1,66 GW\n",
    "- Se la temperatura è superiore a 25,3 °C...\n",
    "  - ...e inferiore o uguale a 29,15 °C, predici un consumo di 2,13 GW\n",
    "  - ...e superiore a 29,15 °C, predici un consumo di 2,48 GW"
   ]
  },
  {
   "cell_type": "markdown",
   "metadata": {
    "id": "VjDUMJsIEgUQ"
   },
   "source": [
    "- In pratica sono stati delineati 4 intervalli di valori della temperatura e a ciascuno è stato assegnato un valore costante di consumi previsti\n",
    "- Questo è evidente anche dal grafico del modello..."
   ]
  },
  {
   "cell_type": "code",
   "execution_count": null,
   "metadata": {
    "colab": {
     "base_uri": "https://localhost:8080/",
     "height": 497
    },
    "id": "nO16YClTEgUR",
    "outputId": "9eacd9c4-dc77-4f47-cdec-4093766580c9"
   },
   "outputs": [],
   "source": [
    "plot_model_on_data(power_X_val, power_y_val, model)"
   ]
  },
  {
   "cell_type": "markdown",
   "metadata": {
    "id": "06VmnT8xEgUR"
   },
   "source": [
    "- Per visualizzare invece graficamente l'albero di un modello, viene fornita la funzione `plot_tree`"
   ]
  },
  {
   "cell_type": "code",
   "execution_count": null,
   "metadata": {
    "colab": {
     "base_uri": "https://localhost:8080/",
     "height": 357
    },
    "id": "6QaxoI25EgUR",
    "outputId": "37a344d2-37d5-4a26-c9ba-8c0bfa21676a"
   },
   "outputs": [],
   "source": [
    "from sklearn.tree import plot_tree\n",
    "plt.figure(figsize=(10, 6))\n",
    "plot_tree(model);"
   ]
  },
  {
   "cell_type": "markdown",
   "metadata": {
    "id": "VyWUOd5CEgUR"
   },
   "source": [
    "- Ogni blocco rappresenta un nodo dell'albero\n",
    "  - in cima alla figura viene mostrata la _radice_, il primo nodo valutato per classificare un'istanza\n",
    "  - nella riga sotto si possono vedere i due nodi intermedi dell'albero\n",
    "  - in fondo si possono vedere le quattro _foglie_, in cui viene deciso il valore predetto di y\n",
    "- Il numero totale di foglie di un albero può essere ottenuto dal metodo `get_n_leaves`"
   ]
  },
  {
   "cell_type": "code",
   "execution_count": null,
   "metadata": {
    "colab": {
     "base_uri": "https://localhost:8080/"
    },
    "id": "VX2PDjYYEgUR",
    "outputId": "2c96f1f8-6777-4e21-f710-cd14242d8a82"
   },
   "outputs": [],
   "source": [
    "model.get_n_leaves()"
   ]
  },
  {
   "cell_type": "markdown",
   "metadata": {
    "id": "JRPP9-U1EgUS"
   },
   "source": [
    "- Ad ogni nodo dell'albero sono mostrati in ordine\n",
    "  - il criterio in base alla quale i dati sono suddivisi (assente nelle foglie)\n",
    "    - se soddisfatta, viene seguito il ramo a sinistra del nodo\n",
    "    - altrimenti, viene seguito il ramo a destra\n",
    "  - l'errore quadratico, usato per definire la \"qualità\" della suddivisione\n",
    "  - il numero totale di istanze del training set considerate (`samples`)\n",
    "  - il valore medio della y per tali istanze, utilizzato come valore predetto nelle foglie (`value`)"
   ]
  },
  {
   "cell_type": "markdown",
   "metadata": {
    "id": "MPprh8QmEgUS"
   },
   "source": [
    "- Per valutare l'accuratezza dell'albero decisionale in termini di coefficiente R² usiamo come al solito il metodo `score`\n",
    "- Come si può dedurre anche dai grafici, questo albero poco profondo è meno accurato del modello polinomiale"
   ]
  },
  {
   "cell_type": "code",
   "execution_count": null,
   "metadata": {
    "colab": {
     "base_uri": "https://localhost:8080/"
    },
    "id": "nS_-5bU0EgUS",
    "outputId": "c89ec9b4-b081-434d-9843-1cfcd96967c4"
   },
   "outputs": [],
   "source": [
    "model.score(power_X_val, power_y_val)"
   ]
  },
  {
   "cell_type": "markdown",
   "metadata": {
    "id": "scf465TdEgUS"
   },
   "source": [
    "- La situazione migliora aumentando la profondità massima dell'albero\n",
    "- Ad es., passando da 2 a 3 il numero di foglie raddoppia e il modello è notevolmente più accurato"
   ]
  },
  {
   "cell_type": "code",
   "execution_count": null,
   "metadata": {
    "colab": {
     "base_uri": "https://localhost:8080/",
     "height": 515
    },
    "id": "WyLOmNghEgUS",
    "outputId": "f394d728-f157-439d-d438-5db7d6b9141d"
   },
   "outputs": [],
   "source": [
    "model = DecisionTreeRegressor(max_depth=3, random_state=42)\n",
    "model.fit(power_X_train, power_y_train);\n",
    "plot_model_on_data(power_X_val, power_y_val, model)\n",
    "model.score(power_X_val, power_y_val)"
   ]
  },
  {
   "cell_type": "markdown",
   "metadata": {
    "id": "H8h75yX4EgUT"
   },
   "source": [
    "- Torniamo ora sul problema di predizione delle vendite sui dati Rossman\n",
    "- Addestriamo un albero con profondità massima 2"
   ]
  },
  {
   "cell_type": "code",
   "execution_count": null,
   "metadata": {
    "colab": {
     "base_uri": "https://localhost:8080/"
    },
    "id": "szZZfxpMEgUT",
    "outputId": "6034ab28-c72d-4103-980b-167609cc1c29"
   },
   "outputs": [],
   "source": [
    "model = DecisionTreeRegressor(max_depth=2, random_state=42)\n",
    "model.fit(X_train, y_train)"
   ]
  },
  {
   "cell_type": "markdown",
   "metadata": {
    "id": "yz0LNmETEgUU"
   },
   "source": [
    "- Usiamo la funzione `export_text` per visualizzare l'albero in forma testuale\n",
    "  - specificare i nomi delle variabili come `feature_names` per usarle come etichette nell'albero"
   ]
  },
  {
   "cell_type": "code",
   "execution_count": null,
   "metadata": {
    "colab": {
     "base_uri": "https://localhost:8080/"
    },
    "id": "TM01s7ESEgUU",
    "outputId": "10406bcd-3bba-4042-a7bb-bb7bfe23dcdf"
   },
   "outputs": [],
   "source": [
    "print(export_text(model, feature_names=X_names))"
   ]
  },
  {
   "cell_type": "markdown",
   "metadata": {
    "id": "zk_MgTOmEgUU"
   },
   "source": [
    "La rappresentazione mostra intuitivamente che:\n",
    "- Per prima cosa si verifica se è in corso la promozione \"primaria\" (`Promo`)\n",
    "  - se no, si verifica se il tipo di negozio (`StoreType`) è 2\n",
    "    - se no, le vendite previste sono 5855,05 \\$\n",
    "    - se sì, le vendite previste sono 9540,35 \\$\n",
    "  - se sì, si verifica se è lunedì (la variabile `Date_dayofweek` standardizzata è inferiore a -1,17 solo se il suo valore originale è 0, corrispondente al lunedì)\n",
    "    - se sì, le vendite previste sono 9761,90 \\$\n",
    "    - se no, le vendite previste sono 7817,48 \\$"
   ]
  },
  {
   "cell_type": "markdown",
   "metadata": {
    "id": "sPOc06TfEgUU"
   },
   "source": [
    "- Vediamo le stesse informazioni anche nella rappresentazione grafica (anche quì si può usare `feature_names`)"
   ]
  },
  {
   "cell_type": "code",
   "execution_count": null,
   "metadata": {
    "colab": {
     "base_uri": "https://localhost:8080/",
     "height": 357
    },
    "id": "4sw805gGEgUU",
    "outputId": "de142079-fd9e-470a-ed95-3587433a4652"
   },
   "outputs": [],
   "source": [
    "plt.figure(figsize=(12, 6))\n",
    "plot_tree(model, feature_names=X_names);"
   ]
  },
  {
   "cell_type": "markdown",
   "metadata": {
    "id": "3L_YRq4yEgUV"
   },
   "source": [
    "- Con questo albero poco profondo, l'accuratezza della predizione è scarsa"
   ]
  },
  {
   "cell_type": "code",
   "execution_count": null,
   "metadata": {
    "colab": {
     "base_uri": "https://localhost:8080/"
    },
    "id": "SJxD3zHxEgUV",
    "outputId": "ea7450f3-7f0a-4ed8-c4c6-f6d201abbda1"
   },
   "outputs": [],
   "source": [
    "model.score(X_train, y_train)"
   ]
  },
  {
   "cell_type": "code",
   "execution_count": null,
   "metadata": {
    "colab": {
     "base_uri": "https://localhost:8080/"
    },
    "id": "AwO0CSJoEgUV",
    "outputId": "a02560ac-d27b-4671-86f0-2483a8731152"
   },
   "outputs": [],
   "source": [
    "model.score(X_val, y_val)"
   ]
  },
  {
   "cell_type": "markdown",
   "metadata": {
    "id": "PMZ1m3TmEgUV"
   },
   "source": [
    "- Proviamo ora ad addestrare un nuovo modello aumentando la profondità massima dell'albero da 2 a 5"
   ]
  },
  {
   "cell_type": "code",
   "execution_count": null,
   "metadata": {
    "id": "TnPjUtXEEgUV"
   },
   "outputs": [],
   "source": [
    "model = DecisionTreeRegressor(max_depth=5, random_state=42)\n",
    "model.fit(X_train, y_train);"
   ]
  },
  {
   "cell_type": "markdown",
   "metadata": {
    "id": "Dkn4irtsEgUW"
   },
   "source": [
    "- Stampando la rappresentazione testuale dell'albero, vediamo che è molto più complesso di quello sopra"
   ]
  },
  {
   "cell_type": "code",
   "execution_count": null,
   "metadata": {
    "colab": {
     "base_uri": "https://localhost:8080/"
    },
    "id": "6qi3PKJnEgUW",
    "outputId": "ce8015e2-6241-4f45-956f-696097156b61",
    "scrolled": true
   },
   "outputs": [],
   "source": [
    "print(export_text(model, feature_names=X_names))"
   ]
  },
  {
   "cell_type": "markdown",
   "metadata": {
    "id": "wjEIg-69EgUW"
   },
   "source": [
    "- Il numero totale di foglie ora è:"
   ]
  },
  {
   "cell_type": "code",
   "execution_count": null,
   "metadata": {
    "colab": {
     "base_uri": "https://localhost:8080/"
    },
    "id": "RLznthrHEgUW",
    "outputId": "d6f32527-d681-4f67-d3ae-2ccf49120e36"
   },
   "outputs": [],
   "source": [
    "model.get_n_leaves()"
   ]
  },
  {
   "cell_type": "markdown",
   "metadata": {
    "id": "NwitNy3zEgUW"
   },
   "source": [
    "- Per rendere la stampa più compatta, possiamo indicare una `max_depth` in `export_text` per stampare i nodi solamente fino ad una profondità data\n",
    "  - sono indicati i punti in cui la rappresentazione è stata tagliata, con la loro profondità"
   ]
  },
  {
   "cell_type": "code",
   "execution_count": null,
   "metadata": {
    "colab": {
     "base_uri": "https://localhost:8080/"
    },
    "id": "pd0e3WvfEgUW",
    "outputId": "3fb8755b-8272-418b-a99b-afe8c2bf391e"
   },
   "outputs": [],
   "source": [
    "print(export_text(model, feature_names=X_names, max_depth=2))"
   ]
  },
  {
   "cell_type": "markdown",
   "metadata": {
    "id": "cerJ5-0oEgUX"
   },
   "source": [
    "- Il parametro `max_depth` può essere utilizzato anche in `plot_tree`\n",
    "  - si consiglia di utilizzarlo sempre, per evitare di generare figure \"pesanti\"\n",
    "  - usare `fontsize` per regolare le dimensioni dei caratteri"
   ]
  },
  {
   "cell_type": "code",
   "execution_count": null,
   "metadata": {
    "colab": {
     "base_uri": "https://localhost:8080/",
     "height": 357
    },
    "id": "ayruQgrqEgUX",
    "outputId": "3603d10e-64e8-40ce-e5b1-b6b6070f8904"
   },
   "outputs": [],
   "source": [
    "plt.figure(figsize=(22, 6))\n",
    "plot_tree(model, feature_names=X_names, max_depth=3, fontsize=8);"
   ]
  },
  {
   "cell_type": "markdown",
   "metadata": {
    "id": "NPRYU6oDEgUX"
   },
   "source": [
    "- I riquadri grigi nella figura indicano le porzioni tagliate dell'albero\n",
    "- Specificando `filled=True` in `plot_tree`, è possibile colorare i nodi in base alla \"purezza\", ovvero all'errore compiuto in essi\n",
    "  - il colore è tanto più intenso quanto più è la purezza, ovvero quanto più la varianza della y è contenuta"
   ]
  },
  {
   "cell_type": "code",
   "execution_count": null,
   "metadata": {
    "colab": {
     "base_uri": "https://localhost:8080/",
     "height": 357
    },
    "id": "UDNeC5B5EgUX",
    "outputId": "683372ab-2338-4708-cc21-e827e29b2a3b"
   },
   "outputs": [],
   "source": [
    "plt.figure(figsize=(22, 6))\n",
    "plot_tree(model, feature_names=X_names, max_depth=3, filled=True, fontsize=8);"
   ]
  },
  {
   "cell_type": "markdown",
   "metadata": {
    "id": "TrqSjgMyEgUY"
   },
   "source": [
    "- L'accuratezza del modello è aumentata"
   ]
  },
  {
   "cell_type": "code",
   "execution_count": null,
   "metadata": {
    "colab": {
     "base_uri": "https://localhost:8080/"
    },
    "id": "RXV6LVjfEgUY",
    "outputId": "e800b37d-d5e1-4d29-d84a-fcdfc515d649"
   },
   "outputs": [],
   "source": [
    "model.score(X_train, y_train)"
   ]
  },
  {
   "cell_type": "code",
   "execution_count": null,
   "metadata": {
    "colab": {
     "base_uri": "https://localhost:8080/"
    },
    "id": "bEXHz6Y9EgUY",
    "outputId": "4bd33a29-997e-49d1-c189-8f4c36ceef1e"
   },
   "outputs": [],
   "source": [
    "model.score(X_val, y_val)"
   ]
  },
  {
   "cell_type": "markdown",
   "metadata": {
    "id": "4J8wUUCuEgUY"
   },
   "source": [
    "- Oltre alla profondità massima, è possibile impostare altri criteri per limitare la complessità di un albero\n",
    "- Ad esempio con `min_samples_split` viene impostato il numero minimo di casi di training (`samples`) contenuti in un nodo intermedio: nodi con un numero inferiore di casi non possono essere ulteriormente suddivisi\n",
    "  - è possibile impostare sia un numero intero assoluto che una frazione rispetto ai casi di training\n",
    "- Costruiamo ad esempio un albero decisionale impostando che i nodi devono contenere almeno 60.000 casi di training per essere suddivisi"
   ]
  },
  {
   "cell_type": "code",
   "execution_count": null,
   "metadata": {
    "id": "OsZ9xIaSEgUY"
   },
   "outputs": [],
   "source": [
    "model = DecisionTreeRegressor(min_samples_split=70000, random_state=42)\n",
    "model.fit(X_train, y_train);"
   ]
  },
  {
   "cell_type": "markdown",
   "metadata": {
    "id": "3e7hi-e2EgUZ"
   },
   "source": [
    "- Otteniamo un albero con un numero di foglie simile a quello con `max_depth=5`, ma più profondo"
   ]
  },
  {
   "cell_type": "code",
   "execution_count": null,
   "metadata": {
    "colab": {
     "base_uri": "https://localhost:8080/"
    },
    "id": "P2NlI4GGEgUZ",
    "outputId": "a140bbb3-7fae-445d-943f-3971e7fa8b82"
   },
   "outputs": [],
   "source": [
    "model.get_depth()"
   ]
  },
  {
   "cell_type": "code",
   "execution_count": null,
   "metadata": {
    "colab": {
     "base_uri": "https://localhost:8080/"
    },
    "id": "pA-argL2EgUZ",
    "outputId": "8e5daa7b-6ec1-43f8-d3c7-0d14ea840f80"
   },
   "outputs": [],
   "source": [
    "model.get_n_leaves()"
   ]
  },
  {
   "cell_type": "markdown",
   "metadata": {
    "id": "QmKUUlI4EgUZ"
   },
   "source": [
    "- Questo perché col criterio `min_samples_split` otteniamo suddivisioni più profonde nei rami in cui ricadono molte istanze di training\n",
    "- Questo si può osservare anche dalle rappresentazioni testuale e grafica dell'albero"
   ]
  },
  {
   "cell_type": "code",
   "execution_count": null,
   "metadata": {
    "colab": {
     "base_uri": "https://localhost:8080/"
    },
    "id": "gd-t5-KKEgUZ",
    "outputId": "1f0218a4-57aa-4014-d6c3-706c661610cc"
   },
   "outputs": [],
   "source": [
    "print(export_text(model, feature_names=X_names, max_depth=2))"
   ]
  },
  {
   "cell_type": "code",
   "execution_count": null,
   "metadata": {
    "colab": {
     "base_uri": "https://localhost:8080/",
     "height": 357
    },
    "id": "JztKsKPUEgUa",
    "outputId": "519b00ee-ffb6-4c38-c3ee-7e8ead3a13cc"
   },
   "outputs": [],
   "source": [
    "plt.figure(figsize=(18, 6))\n",
    "plot_tree(model, feature_names=X_names, max_depth=5, filled=True);"
   ]
  },
  {
   "cell_type": "markdown",
   "metadata": {
    "id": "4kwnFLC5EgUa"
   },
   "source": [
    "- Si noti come la profondità massima dell'albero è 9, ma si trovano delle foglie già ai livelli superiori"
   ]
  },
  {
   "cell_type": "code",
   "execution_count": null,
   "metadata": {
    "colab": {
     "base_uri": "https://localhost:8080/"
    },
    "id": "LE2K9EySEgUa",
    "outputId": "7bdc682b-2d0f-4adb-e6cd-edeca9827279"
   },
   "outputs": [],
   "source": [
    "model.score(X_train, y_train)"
   ]
  },
  {
   "cell_type": "code",
   "execution_count": null,
   "metadata": {
    "colab": {
     "base_uri": "https://localhost:8080/"
    },
    "id": "Gp_nRclCEgUa",
    "outputId": "f7d1199d-007d-43eb-d925-03725bb9efc2"
   },
   "outputs": [],
   "source": [
    "model.score(X_val, y_val)"
   ]
  },
  {
   "cell_type": "markdown",
   "metadata": {
    "id": "tR50Y2b4MSBj"
   },
   "source": [
    "- Come ulteriore misura di performance oltre a R² introduciamo il _Root Mean Squared Percentage Error_ (RMSPE), usato nella competizione Kaggle viene usata come misura di riferimento\n",
    "$$ \\textrm{RMSPE} = \\sqrt{\\frac{1}{n} \\sum_{i=1}^{n} \\left(\\frac{y_i - \\hat{y}_i}{y_i}\\right)^2} $$\n",
    "- Definiamo una funzione `rmspe` per calcolare tale metrica dati i valori attesi e le predizioni"
   ]
  },
  {
   "cell_type": "code",
   "execution_count": null,
   "metadata": {
    "id": "8m7ix2pqMSBk"
   },
   "outputs": [],
   "source": [
    "def rmspe(y_real, y_pred):\n",
    "    return np.sqrt(np.mean((y_pred /y_real - 1) ** 2))"
   ]
  },
  {
   "cell_type": "markdown",
   "metadata": {},
   "source": [
    "- Creiamo una funzione `print_eval` per stampare MSE, R² e RMSPE di un modello"
   ]
  },
  {
   "cell_type": "code",
   "execution_count": 91,
   "metadata": {},
   "outputs": [],
   "source": [
    "from sklearn.metrics import mean_squared_error, r2_score\n",
    "\n",
    "def print_eval(X, y, model):\n",
    "    y_pred = model.predict(X)\n",
    "    print(f\"      MSE: {mean_squared_error(y, y_pred):12.4f}\")\n",
    "    print(f\"R-squared: {r2_score(y, y_pred):12.4f}\")\n",
    "    print(f\"    RMSPE: {rmspe(y, y_pred):12.4f}\")"
   ]
  },
  {
   "cell_type": "code",
   "execution_count": 92,
   "metadata": {},
   "outputs": [
    {
     "ename": "NameError",
     "evalue": "name 'X_val' is not defined",
     "output_type": "error",
     "traceback": [
      "\u001b[1;31m---------------------------------------------------------------------------\u001b[0m",
      "\u001b[1;31mNameError\u001b[0m                                 Traceback (most recent call last)",
      "\u001b[1;32m~\\AppData\\Local\\Temp/ipykernel_7312/3092777960.py\u001b[0m in \u001b[0;36m<module>\u001b[1;34m\u001b[0m\n\u001b[1;32m----> 1\u001b[1;33m \u001b[0mprint_eval\u001b[0m\u001b[1;33m(\u001b[0m\u001b[0mX_val\u001b[0m\u001b[1;33m,\u001b[0m \u001b[0my_val\u001b[0m\u001b[1;33m,\u001b[0m \u001b[0mmodel\u001b[0m\u001b[1;33m)\u001b[0m\u001b[1;33m\u001b[0m\u001b[1;33m\u001b[0m\u001b[0m\n\u001b[0m",
      "\u001b[1;31mNameError\u001b[0m: name 'X_val' is not defined"
     ]
    }
   ],
   "source": [
    "print_eval(X_val, y_val, model)"
   ]
  },
  {
   "cell_type": "markdown",
   "metadata": {
    "id": "__ODijdO54iX",
    "tags": []
   },
   "source": [
    "## Random Forest\n",
    "\n",
    "- Random Forest è un algoritmo di tipo _bagging_: vengono creati numerosi alberi decisionali in parallelo, ognuno da un sottoinsieme del dataset di training in generale non disgiunto dagli altri\n",
    "- Il bagging è uno tra i metodi di ensemble più efficaci perché ogni albero di regressione è generato da un subset leggermente diverso con prestazioni diverse\n",
    "- A differenza dei modelli base di albero di regressione (e.g. CART), gli alberi di Random Forest non vengono potati, il che può renderli meno generali e più specifici per il relativo subset di dati di training\n",
    "- Tuttavia, in questo caso, ciò è positivo perché rende ogni albero diverso con previsioni ed errori di previsione meno correlati\n",
    "- Ogni previsione di Random Forest è data dalla media delle previsioni di tutti gli alberi decisionali e l'efficacia è migliore di qualsiasi singolo albero della propria foresta\n",
    "- Random Forest è tra gli algoritmi più efficaci ed efficienti per dati tabulari"
   ]
  },
  {
   "cell_type": "code",
   "execution_count": null,
   "metadata": {
    "id": "ovonkJQ06CQD"
   },
   "outputs": [],
   "source": [
    "from sklearn.ensemble import RandomForestRegressor"
   ]
  },
  {
   "cell_type": "markdown",
   "metadata": {
    "id": "jXS4Y0oj_FIy"
   },
   "source": [
    "- L'iperparametro `max_samples` è il numero (se intero) o la percentuale (se reale tra 0 e 1) di istanze del training set usate per addestrare ogni singolo albero\n",
    "- Più la dimensione di `max_samples` è piccola, più gli alberi saranno diversi\n",
    "  - il valore predefinito è 1 perciò occorre ridurlo\n",
    "- Altri iperparametri importanti sono\n",
    "  - il numero di feature casuali che deve avere ogni albero come sottoinsieme casuale di tutte le feature del training set `max_features`, usiamo \"sqrt\" per indicare la radice quadrata del numero totale di feature\n",
    "  - la profondità massima di ogni albero `max_depth`\n",
    "  - il numero di alberi `n_estimators`\n",
    "- L'iperparametro `n_jobs=-1` (presente anche in altri algoritmi) indica di utilizzare tutte le CPU della macchina in parallelo"
   ]
  },
  {
   "cell_type": "code",
   "execution_count": null,
   "metadata": {
    "colab": {
     "base_uri": "https://localhost:8080/"
    },
    "id": "12ZGP4SQ9x8Y",
    "outputId": "1872081f-5237-4f77-95f5-11a4aa714fe9"
   },
   "outputs": [],
   "source": [
    "%%time\n",
    "rfm = RandomForestRegressor(max_samples=0.2, max_features=\"sqrt\", n_estimators=200, max_depth=None, n_jobs=-1)\n",
    "rfm.fit(X_train, y_train)"
   ]
  },
  {
   "cell_type": "code",
   "execution_count": null,
   "metadata": {
    "colab": {
     "base_uri": "https://localhost:8080/"
    },
    "id": "Dnyvsrxm-P6n",
    "outputId": "dc1a726e-ffd3-4557-b5e0-9e87e91d948a"
   },
   "outputs": [],
   "source": [
    "print_eval(X_val, y_val, rfm)"
   ]
  },
  {
   "cell_type": "markdown",
   "metadata": {},
   "source": [
    "- L'accuratezza è molto migliore rispetto all'albero singolo"
   ]
  },
  {
   "cell_type": "markdown",
   "metadata": {
    "id": "ux2ZWQlkHGC5"
   },
   "source": [
    "### Selezione di feature con Random Forest\n",
    "\n",
    "- Dai modelli ad albero è possibile ottenere l'importanza delle feature, calcolata in base a quante volte ciascuna feature è usata come discriminante\n",
    "- I coefficienti di importanza sono ottenibili dall'attributo `feature_importances_`"
   ]
  },
  {
   "cell_type": "code",
   "execution_count": null,
   "metadata": {},
   "outputs": [],
   "source": [
    "rfm.feature_importances_"
   ]
  },
  {
   "cell_type": "markdown",
   "metadata": {},
   "source": [
    "- Come per i coefficienti dei modelli di regressione lineare, possiamo usare una serie per associare i valori ai nomi e vedere quali sono le feature più importanti"
   ]
  },
  {
   "cell_type": "code",
   "execution_count": null,
   "metadata": {},
   "outputs": [],
   "source": [
    "pd.Series(rfm.feature_importances_, index=X_names).sort_values(ascending=False)"
   ]
  },
  {
   "cell_type": "markdown",
   "metadata": {
    "id": "T1gL0cyRpXFO"
   },
   "source": [
    "## LightGBM: \n",
    "- LightGBM, abbreviazione di Light Gradient Boosted Machine, è una libreria sviluppata da Microsoft che fornisce un'implementazione efficiente dell'algoritmo di gradient boosting spiegato [a lezione](https://www.dropbox.com/s/4o8dg87274x0yae/08_bis_Aula_Introduzione_regression_decision_tree_e_xgboost.pdf?dl=0)\n",
    "- Il vantaggio principale di LightGBM sono alcune variazioni all'algoritmo di addestramento che rendono il processo molto più veloce e spesso ottenendo modelloi più efficaci\n",
    "- Per ulteriori dettagli tecnici sull'algoritmo LightGBM è disponibile il sito https://github.com/microsoft/LightGBM ed il paper https://arxiv.org/abs/1810.11363"
   ]
  },
  {
   "cell_type": "code",
   "execution_count": null,
   "metadata": {},
   "outputs": [],
   "source": [
    "#%conda install lightgbm"
   ]
  },
  {
   "cell_type": "code",
   "execution_count": null,
   "metadata": {
    "colab": {
     "base_uri": "https://localhost:8080/"
    },
    "id": "xVtUQzkOpU4q",
    "outputId": "e2227592-bc72-48b4-ea4f-4767a525de97"
   },
   "outputs": [],
   "source": [
    "from lightgbm import LGBMRegressor"
   ]
  },
  {
   "cell_type": "code",
   "execution_count": null,
   "metadata": {
    "colab": {
     "base_uri": "https://localhost:8080/"
    },
    "id": "NwhBDVMypkD0",
    "outputId": "9946a183-5928-4979-adf1-48b9b8a01ed1"
   },
   "outputs": [],
   "source": [
    "%%time\n",
    "lgbm = LGBMRegressor()\n",
    "lgbm.fit(X_train, y_train)"
   ]
  },
  {
   "cell_type": "markdown",
   "metadata": {},
   "source": [
    "- L'addestramento è relativamente rapido ma il modello è meno efficace di Random Forest"
   ]
  },
  {
   "cell_type": "code",
   "execution_count": null,
   "metadata": {
    "colab": {
     "base_uri": "https://localhost:8080/"
    },
    "id": "5g549c2Tq-H2",
    "outputId": "9b83e857-e6cf-4eb2-f9e2-158791a6e875"
   },
   "outputs": [],
   "source": [
    "print_eval(X_val, y_val, lgbm)"
   ]
  },
  {
   "cell_type": "code",
   "execution_count": null,
   "metadata": {
    "id": "VIJY7aCPMSBi"
   },
   "outputs": [],
   "source": [
    "scaler_y = StandardScaler()\n",
    "ys_train = scaler_y.fit_transform(data_train[\"Sales\"].values[:, None]).ravel()\n",
    "ys_val = scaler_y.transform(data_val[\"Sales\"].values[:, None]).ravel()"
   ]
  },
  {
   "cell_type": "markdown",
   "metadata": {},
   "source": [
    "## XGBoost\n",
    "\n",
    "- La libreria `xgboost` fornisce un'implementazione dell'omonimo algoritmo (_eXtreme Gradient Boosting_)"
   ]
  },
  {
   "cell_type": "code",
   "execution_count": null,
   "metadata": {
    "colab": {
     "base_uri": "https://localhost:8080/"
    },
    "id": "rzUj11Dqatx_",
    "outputId": "1185a316-e838-44c6-d720-252c519345ee"
   },
   "outputs": [],
   "source": [
    "#%conda install xgboost"
   ]
  },
  {
   "cell_type": "code",
   "execution_count": null,
   "metadata": {
    "colab": {
     "base_uri": "https://localhost:8080/"
    },
    "id": "5u0z1ObeQIpi",
    "outputId": "a9c78b17-5d1f-4258-b652-09c419890386"
   },
   "outputs": [],
   "source": [
    "import xgboost\n",
    "print(xgboost.__version__)"
   ]
  },
  {
   "cell_type": "code",
   "execution_count": null,
   "metadata": {},
   "outputs": [],
   "source": [
    "from xgboost import XGBRegressor"
   ]
  },
  {
   "cell_type": "code",
   "execution_count": null,
   "metadata": {
    "id": "VIJY7aCPMSBi"
   },
   "outputs": [],
   "source": [
    "scaler_y = StandardScaler()\n",
    "y_train = scaler_y.fit_transform(data_train[\"Sales\"].values[:, None]).ravel()\n",
    "y_val = scaler_y.transform(data_val[\"Sales\"].values[:, None]).ravel()"
   ]
  },
  {
   "cell_type": "code",
   "execution_count": null,
   "metadata": {
    "colab": {
     "base_uri": "https://localhost:8080/"
    },
    "id": "_FP7NRRXb2Ih",
    "outputId": "43c0066a-361e-46eb-e666-5e01d6a5a6cf"
   },
   "outputs": [],
   "source": [
    "%%time\n",
    "xgbm = XGBRegressor(objective='reg:squarederror', reg_alpha=0.0, reg_lambda=1.0, n_estimators=200, verbose_eval=True)\n",
    "xgbm.fit(X_train, y_train)"
   ]
  },
  {
   "cell_type": "code",
   "execution_count": null,
   "metadata": {},
   "outputs": [],
   "source": [
    "print_eval(X_val, y_val, xgbm)"
   ]
  },
  {
   "cell_type": "markdown",
   "metadata": {
    "id": "8GANhtc6MSBk"
   },
   "source": [
    "- Il modello di regressione lineare ottiene un RMSPE pari a 0.4672, mentre xgboost senza tuning degli iperparametri 0.2235. Il miglior risultato nella competion kaggle è 0.13. XGBoost con 200 alberi ottiene 0.18 e con 400 alberi 0.1671."
   ]
  },
  {
   "cell_type": "code",
   "execution_count": null,
   "metadata": {},
   "outputs": [],
   "source": [
    "pd.Series(xgbm.feature_importances_, index=X_names).sort_values(ascending=False)"
   ]
  },
  {
   "cell_type": "markdown",
   "metadata": {
    "id": "blN4BY2zwwSi"
   },
   "source": [
    "## CatBoost: Category Gradient Boosting\n",
    "\n",
    "- Supporta nativamente variabili categoriche ossia nominal.\n",
    "- https://catboost.ai/"
   ]
  },
  {
   "cell_type": "code",
   "execution_count": null,
   "metadata": {
    "colab": {
     "base_uri": "https://localhost:8080/"
    },
    "id": "dPQcJgESrCwP",
    "outputId": "71d89437-f700-4995-fd46-3244533a255f"
   },
   "outputs": [],
   "source": [
    "#%conda install catboost"
   ]
  },
  {
   "cell_type": "code",
   "execution_count": null,
   "metadata": {
    "colab": {
     "base_uri": "https://localhost:8080/"
    },
    "id": "dPQcJgESrCwP",
    "outputId": "71d89437-f700-4995-fd46-3244533a255f"
   },
   "outputs": [],
   "source": [
    "import catboost\n",
    "print(catboost.__version__)\n",
    "from catboost import CatBoostRegressor"
   ]
  },
  {
   "cell_type": "code",
   "execution_count": null,
   "metadata": {
    "colab": {
     "base_uri": "https://localhost:8080/"
    },
    "id": "sCOmekZIsXeu",
    "outputId": "6c05efc4-0544-4b41-caf9-f9aceefeb1cf",
    "tags": []
   },
   "outputs": [],
   "source": [
    "# istanziazione e addestramento: con 1000 estimatori richiede due minuti\n",
    "import datetime\n",
    "start = datetime.datetime.now()\n",
    "catbm = CatBoostRegressor(n_estimators=1000);\n",
    "catbm.fit(X_train, y_train);\n",
    "end = datetime.datetime.now()\n",
    "print(f\"{int((end - start).total_seconds())}s\")"
   ]
  },
  {
   "cell_type": "code",
   "execution_count": null,
   "metadata": {
    "colab": {
     "base_uri": "https://localhost:8080/"
    },
    "id": "wIGWmlGysXev",
    "outputId": "f0c6d10e-9979-4243-850b-f44a1259f0ee"
   },
   "outputs": [],
   "source": [
    "# valutazione di CatBoost: su questo caso di studio e senza tuning degli iperparametri è competitivo con XGBoost anche se quest'ultimo risulta comunque il migliore  \n",
    "print_eval(X_val, y_val, catbm)"
   ]
  },
  {
   "cell_type": "markdown",
   "metadata": {},
   "source": [
    "## Esercizi Extra\n",
    "Ricercare gli iperparametri migliori (con e senza tutte le features) con il metodo GridSearch."
   ]
  },
  {
   "cell_type": "code",
   "execution_count": null,
   "metadata": {},
   "outputs": [],
   "source": [
    "# stop\n",
    "errore = []\n",
    "errore[-1] = 0"
   ]
  },
  {
   "cell_type": "code",
   "execution_count": null,
   "metadata": {},
   "outputs": [],
   "source": [
    "# import\n",
    "from lightgbm import LGBMRegressor\n",
    "from catboost import CatBoostRegressor\n",
    "from xgboost import XGBRegressor\n",
    "from sklearn.model_selection import GridSearchCV, KFold\n",
    "import numpy as np\n",
    "import pandas as pd\n",
    "import matplotlib.pyplot as plt\n",
    "%matplotlib inline\n",
    "import sklearn\n",
    "import warnings\n",
    "import os\n",
    "from urllib.request import urlretrieve\n",
    "\n",
    "def download(file, url):\n",
    "    if not os.path.isfile(file):\n",
    "        urlretrieve(url, file)\n",
    "    return None\n",
    "\n",
    "def print_grid_search_eval(X, y, grid_search):\n",
    "    best_model = grid_search.best_estimator_\n",
    "    y_pred = best_model.predict(X)\n",
    "    print(f\"Best Params: \\n{grid_search.best_params_}\")\n",
    "    print(f\"      MSE: {mean_squared_error(y, y_pred):12.4f}\")\n",
    "    print(f\"R-squared: {r2_score(y, y_pred):12.4f}\")\n",
    "    print(f\"    RMSPE: {rmspe(y, y_pred):12.4f}\")\n",
    "    return pd.DataFrame(grid_search.cv_results_).sort_values(\"rank_test_score\")    \n",
    "\n",
    "data_train = pd.read_csv(\n",
    "    \"rossmann_train.csv.gz\",\n",
    "    parse_dates=[\"Date\"],\n",
    "    compression=\"gzip\",\n",
    ")\n",
    "data_val = pd.read_csv(\n",
    "    \"rossmann_valid.csv.gz\",\n",
    "    parse_dates=[\"Date\"],\n",
    "    compression=\"gzip\",\n",
    ")\n",
    "\n",
    "y_train = data_train[\"Sales\"]\n",
    "y_val = data_val[\"Sales\"]\n",
    "\n",
    "warnings.filterwarnings('ignore')        \n",
    "kf = KFold(5, shuffle=True, random_state=42)"
   ]
  },
  {
   "cell_type": "code",
   "execution_count": null,
   "metadata": {},
   "outputs": [],
   "source": [
    "lgbm_t = LGBMRegressor()\n",
    "lgbm_grid_t = {\n",
    "    \"boosting_type\" : [\"gbdt\",\"dart\",\"goss\"],\n",
    "    \"num_leaves\" : [10, 20, 31]\n",
    "}\n",
    "gs_lgbm = GridSearchCV(lgbm_t, lgbm_grid_t, cv=kf)\n",
    "gs_lgbm.fit(X_train, y_train)\n",
    "print_grid_search_eval(X_val, y_val, gs_lgbm)"
   ]
  },
  {
   "cell_type": "code",
   "execution_count": null,
   "metadata": {},
   "outputs": [],
   "source": [
    "pl_xgbr_t = Pipeline([\n",
    "    (\"scaler\", None),\n",
    "    (\"xgbr\", XGBRegressor(objective='reg:squarederror', reg_lambda=1.0))\n",
    "])\n",
    "xgbr_grid_t = {\n",
    "    \"scaler\" : [None, StandardScaler()],\n",
    "    \"xgbr__n_estimators\" : [50],\n",
    "    \"xgbr__reg_alpha\" : [0.1,0.2]\n",
    "}\n",
    "gs_xgbr = GridSearchCV(pl_xgbr_t, xgbr_grid_t, cv=kf)\n",
    "gs_xgbr.fit(X_train, y_train)\n",
    "print_grid_search_eval(X_val, y_val, gs_xgbr)"
   ]
  },
  {
   "cell_type": "code",
   "execution_count": null,
   "metadata": {},
   "outputs": [],
   "source": [
    "catbm_t = CatBoostRegressor();\n",
    "catbm_grid_t = {\n",
    "    \"n_estimators\" : [100, 500, 1000]\n",
    "}\n",
    "gs_catbm = GridSearchCV(catbm_t, catbm_grid_t, cv=kf)\n",
    "gs_catbm.fit(X_train, y_train)\n",
    "print_grid_search_eval(X_val, y_val, gs_catbm)"
   ]
  }
 ],
 "metadata": {
  "kernelspec": {
   "display_name": "Python 3 (ipykernel)",
   "language": "python",
   "name": "python3"
  },
  "language_info": {
   "codemirror_mode": {
    "name": "ipython",
    "version": 3
   },
   "file_extension": ".py",
   "mimetype": "text/x-python",
   "name": "python",
   "nbconvert_exporter": "python",
   "pygments_lexer": "ipython3",
   "version": "3.9.7"
  }
 },
 "nbformat": 4,
 "nbformat_minor": 4
}
