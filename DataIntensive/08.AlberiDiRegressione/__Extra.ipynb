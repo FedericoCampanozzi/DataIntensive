{
 "cells": [
  {
   "cell_type": "markdown",
   "id": "7ff2e495",
   "metadata": {},
   "source": [
    "### Esercizi Extra"
   ]
  },
  {
   "cell_type": "code",
   "execution_count": null,
   "id": "bc6ce0c2",
   "metadata": {},
   "outputs": [],
   "source": [
    "# install\n",
    "#%conda install catboost\n",
    "#%conda install xgboost\n",
    "#%conda install lightgbm"
   ]
  },
  {
   "cell_type": "code",
   "execution_count": 2,
   "id": "ed188e78",
   "metadata": {},
   "outputs": [],
   "source": [
    "# import\n",
    "import numpy as np\n",
    "import pandas as pd\n",
    "import matplotlib.pyplot as plt\n",
    "%matplotlib inline\n",
    "from lightgbm import LGBMRegressor\n",
    "from catboost import CatBoostRegressor\n",
    "from xgboost import XGBRegressor\n",
    "import sklearn\n",
    "from sklearn.model_selection import GridSearchCV, KFold\n",
    "from sklearn.preprocessing import FunctionTransformer\n",
    "from sklearn.linear_model import Ridge\n",
    "from sklearn.preprocessing import StandardScaler\n",
    "from sklearn.pipeline import Pipeline\n",
    "from sklearn.compose import ColumnTransformer\n",
    "from sklearn.preprocessing import OneHotEncoder\n",
    "import warnings\n",
    "import os\n",
    "from urllib.request import urlretrieve"
   ]
  },
  {
   "cell_type": "code",
   "execution_count": 3,
   "id": "6037fc5e",
   "metadata": {},
   "outputs": [],
   "source": [
    "# utility function\n",
    "def download(file, url):\n",
    "    if not os.path.isfile(file):\n",
    "        urlretrieve(url, file)\n",
    "    return None\n",
    "\n",
    "def print_grid_search_eval(X, y, grid_search, full_output=False):\n",
    "    best_model = grid_search.best_estimator_\n",
    "    y_pred = best_model.predict(X)\n",
    "    print(f\"Best Params: \\n{grid_search.best_params_}\")\n",
    "    print(f\"      MSE: {mean_squared_error(y, y_pred):12.4f}\")\n",
    "    print(f\"R-squared: {r2_score(y, y_pred):12.4f}\")\n",
    "    print(f\"    RMSPE: {rmspe(y, y_pred):12.4f}\")\n",
    "    if full_output :\n",
    "        return pd.DataFrame(grid_search.cv_results_).sort_values(\"rank_test_score\")\n",
    "    else :\n",
    "        return None\n",
    "\n",
    "def extract_date_fields(X):\n",
    "    result = {}\n",
    "    for col in X.columns:\n",
    "        result[f\"{col}_day\"]       = X[col].dt.day        # giorno del mese (1-31)\n",
    "        result[f\"{col}_month\"]     = X[col].dt.month      # mese (1-12)\n",
    "        result[f\"{col}_dayofweek\"] = X[col].dt.dayofweek  # giorno della settimana (0-6)\n",
    "    return pd.DataFrame(result)"
   ]
  },
  {
   "cell_type": "code",
   "execution_count": 4,
   "id": "b566f7c4",
   "metadata": {},
   "outputs": [],
   "source": [
    "# main\n",
    "data_train = pd.read_csv(\n",
    "    \"rossmann_train.csv.gz\",\n",
    "    parse_dates=[\"Date\"],\n",
    "    compression=\"gzip\",\n",
    ")\n",
    "data_val = pd.read_csv(\n",
    "    \"rossmann_valid.csv.gz\",\n",
    "    parse_dates=[\"Date\"],\n",
    "    compression=\"gzip\",\n",
    ")\n",
    "\n",
    "y_train = data_train[\"Sales\"]\n",
    "y_val = data_val[\"Sales\"]\n",
    "\n",
    "data_train_sample = data_train.sample(60000, random_state=42)\n",
    "y_train_sample = y_train.reindex_like(data_train_sample)\n",
    "\n",
    "numeric_vars = [\n",
    "    \"CompetitionOpen\", \"CompetitionDistance\",\n",
    "    \"CompetitionOpenSinceMonth\", \"CompetitionOpenSinceYear\",\n",
    "    \"Promo2SinceWeek\", \"Promo2SinceYear\", \"PromoOpen\"\n",
    "]\n",
    "binary_vars = [\"Promo\", \"SchoolHoliday\", \"Promo2\", \"IsPromoMonth\"]\n",
    "categorical_vars = [\"StateHoliday\", \"StoreType\", \"Assortment\"]\n",
    "\n",
    "warnings.filterwarnings('ignore')        \n",
    "kf = KFold(5, shuffle=True, random_state=42)\n",
    "\n",
    "date_transformer = FunctionTransformer(extract_date_fields)\n",
    "date_ft = date_transformer.fit_transform(data_train[[\"Date\"]])\n",
    "date_val_ft = date_transformer.fit_transform(data_train[[\"Date\"]])"
   ]
  },
  {
   "cell_type": "markdown",
   "id": "f91f3139",
   "metadata": {},
   "source": [
    "Ricreare il modello, simile a `date_transformer`, e addestrarlo trattando `Date_dayofweek` come variabile categorica"
   ]
  },
  {
   "cell_type": "code",
   "execution_count": 17,
   "id": "5fe87ba9",
   "metadata": {},
   "outputs": [
    {
     "name": "stdout",
     "output_type": "stream",
     "text": [
      "(40282, 18)\n",
      "(40282,)\n"
     ]
    },
    {
     "ename": "ValueError",
     "evalue": "A given column is not a column of the dataframe",
     "output_type": "error",
     "traceback": [
      "\u001b[1;31m---------------------------------------------------------------------------\u001b[0m",
      "\u001b[1;31mKeyError\u001b[0m                                  Traceback (most recent call last)",
      "\u001b[1;32m~\\anaconda3\\lib\\site-packages\\sklearn\\utils\\__init__.py\u001b[0m in \u001b[0;36m_get_column_indices\u001b[1;34m(X, key)\u001b[0m\n\u001b[0;32m    395\u001b[0m             \u001b[1;32mfor\u001b[0m \u001b[0mcol\u001b[0m \u001b[1;32min\u001b[0m \u001b[0mcolumns\u001b[0m\u001b[1;33m:\u001b[0m\u001b[1;33m\u001b[0m\u001b[1;33m\u001b[0m\u001b[0m\n\u001b[1;32m--> 396\u001b[1;33m                 \u001b[0mcol_idx\u001b[0m \u001b[1;33m=\u001b[0m \u001b[0mall_columns\u001b[0m\u001b[1;33m.\u001b[0m\u001b[0mget_loc\u001b[0m\u001b[1;33m(\u001b[0m\u001b[0mcol\u001b[0m\u001b[1;33m)\u001b[0m\u001b[1;33m\u001b[0m\u001b[1;33m\u001b[0m\u001b[0m\n\u001b[0m\u001b[0;32m    397\u001b[0m                 \u001b[1;32mif\u001b[0m \u001b[1;32mnot\u001b[0m \u001b[0misinstance\u001b[0m\u001b[1;33m(\u001b[0m\u001b[0mcol_idx\u001b[0m\u001b[1;33m,\u001b[0m \u001b[0mnumbers\u001b[0m\u001b[1;33m.\u001b[0m\u001b[0mIntegral\u001b[0m\u001b[1;33m)\u001b[0m\u001b[1;33m:\u001b[0m\u001b[1;33m\u001b[0m\u001b[1;33m\u001b[0m\u001b[0m\n",
      "\u001b[1;32m~\\anaconda3\\lib\\site-packages\\pandas\\core\\indexes\\range.py\u001b[0m in \u001b[0;36mget_loc\u001b[1;34m(self, key, method, tolerance)\u001b[0m\n\u001b[0;32m    387\u001b[0m                     \u001b[1;32mraise\u001b[0m \u001b[0mKeyError\u001b[0m\u001b[1;33m(\u001b[0m\u001b[0mkey\u001b[0m\u001b[1;33m)\u001b[0m \u001b[1;32mfrom\u001b[0m \u001b[0merr\u001b[0m\u001b[1;33m\u001b[0m\u001b[1;33m\u001b[0m\u001b[0m\n\u001b[1;32m--> 388\u001b[1;33m             \u001b[1;32mraise\u001b[0m \u001b[0mKeyError\u001b[0m\u001b[1;33m(\u001b[0m\u001b[0mkey\u001b[0m\u001b[1;33m)\u001b[0m\u001b[1;33m\u001b[0m\u001b[1;33m\u001b[0m\u001b[0m\n\u001b[0m\u001b[0;32m    389\u001b[0m         \u001b[1;32mreturn\u001b[0m \u001b[0msuper\u001b[0m\u001b[1;33m(\u001b[0m\u001b[1;33m)\u001b[0m\u001b[1;33m.\u001b[0m\u001b[0mget_loc\u001b[0m\u001b[1;33m(\u001b[0m\u001b[0mkey\u001b[0m\u001b[1;33m,\u001b[0m \u001b[0mmethod\u001b[0m\u001b[1;33m=\u001b[0m\u001b[0mmethod\u001b[0m\u001b[1;33m,\u001b[0m \u001b[0mtolerance\u001b[0m\u001b[1;33m=\u001b[0m\u001b[0mtolerance\u001b[0m\u001b[1;33m)\u001b[0m\u001b[1;33m\u001b[0m\u001b[1;33m\u001b[0m\u001b[0m\n",
      "\u001b[1;31mKeyError\u001b[0m: 'CompetitionOpen'",
      "\nThe above exception was the direct cause of the following exception:\n",
      "\u001b[1;31mValueError\u001b[0m                                Traceback (most recent call last)",
      "\u001b[1;32m~\\AppData\\Local\\Temp/ipykernel_6724/863767586.py\u001b[0m in \u001b[0;36m<module>\u001b[1;34m\u001b[0m\n\u001b[0;32m     14\u001b[0m \u001b[0mprint\u001b[0m\u001b[1;33m(\u001b[0m\u001b[0mdata_val\u001b[0m\u001b[1;33m.\u001b[0m\u001b[0mshape\u001b[0m\u001b[1;33m)\u001b[0m\u001b[1;33m\u001b[0m\u001b[1;33m\u001b[0m\u001b[0m\n\u001b[0;32m     15\u001b[0m \u001b[0mprint\u001b[0m\u001b[1;33m(\u001b[0m\u001b[0my_val\u001b[0m\u001b[1;33m.\u001b[0m\u001b[0mshape\u001b[0m\u001b[1;33m)\u001b[0m\u001b[1;33m\u001b[0m\u001b[1;33m\u001b[0m\u001b[0m\n\u001b[1;32m---> 16\u001b[1;33m \u001b[0mmodel\u001b[0m\u001b[1;33m.\u001b[0m\u001b[0mfit\u001b[0m\u001b[1;33m(\u001b[0m\u001b[0mdata_train_sample_dow\u001b[0m\u001b[1;33m,\u001b[0m \u001b[0my_train_sample_dow\u001b[0m\u001b[1;33m)\u001b[0m\u001b[1;33m\u001b[0m\u001b[1;33m\u001b[0m\u001b[0m\n\u001b[0m\u001b[0;32m     17\u001b[0m \u001b[0mscore\u001b[0m \u001b[1;33m=\u001b[0m \u001b[0mmodel\u001b[0m\u001b[1;33m.\u001b[0m\u001b[0mscore\u001b[0m\u001b[1;33m(\u001b[0m\u001b[0mdata_val\u001b[0m\u001b[1;33m,\u001b[0m \u001b[0my_val\u001b[0m\u001b[1;33m)\u001b[0m\u001b[1;33m\u001b[0m\u001b[1;33m\u001b[0m\u001b[0m\n\u001b[0;32m     18\u001b[0m \u001b[0mnf\u001b[0m \u001b[1;33m=\u001b[0m \u001b[0mmodel\u001b[0m\u001b[1;33m.\u001b[0m\u001b[0mn_features_in_\u001b[0m\u001b[1;33m\u001b[0m\u001b[1;33m\u001b[0m\u001b[0m\n",
      "\u001b[1;32m~\\anaconda3\\lib\\site-packages\\sklearn\\pipeline.py\u001b[0m in \u001b[0;36mfit\u001b[1;34m(self, X, y, **fit_params)\u001b[0m\n\u001b[0;32m    339\u001b[0m         \"\"\"\n\u001b[0;32m    340\u001b[0m         \u001b[0mfit_params_steps\u001b[0m \u001b[1;33m=\u001b[0m \u001b[0mself\u001b[0m\u001b[1;33m.\u001b[0m\u001b[0m_check_fit_params\u001b[0m\u001b[1;33m(\u001b[0m\u001b[1;33m**\u001b[0m\u001b[0mfit_params\u001b[0m\u001b[1;33m)\u001b[0m\u001b[1;33m\u001b[0m\u001b[1;33m\u001b[0m\u001b[0m\n\u001b[1;32m--> 341\u001b[1;33m         \u001b[0mXt\u001b[0m \u001b[1;33m=\u001b[0m \u001b[0mself\u001b[0m\u001b[1;33m.\u001b[0m\u001b[0m_fit\u001b[0m\u001b[1;33m(\u001b[0m\u001b[0mX\u001b[0m\u001b[1;33m,\u001b[0m \u001b[0my\u001b[0m\u001b[1;33m,\u001b[0m \u001b[1;33m**\u001b[0m\u001b[0mfit_params_steps\u001b[0m\u001b[1;33m)\u001b[0m\u001b[1;33m\u001b[0m\u001b[1;33m\u001b[0m\u001b[0m\n\u001b[0m\u001b[0;32m    342\u001b[0m         with _print_elapsed_time('Pipeline',\n\u001b[0;32m    343\u001b[0m                                  self._log_message(len(self.steps) - 1)):\n",
      "\u001b[1;32m~\\anaconda3\\lib\\site-packages\\sklearn\\pipeline.py\u001b[0m in \u001b[0;36m_fit\u001b[1;34m(self, X, y, **fit_params_steps)\u001b[0m\n\u001b[0;32m    301\u001b[0m                 \u001b[0mcloned_transformer\u001b[0m \u001b[1;33m=\u001b[0m \u001b[0mclone\u001b[0m\u001b[1;33m(\u001b[0m\u001b[0mtransformer\u001b[0m\u001b[1;33m)\u001b[0m\u001b[1;33m\u001b[0m\u001b[1;33m\u001b[0m\u001b[0m\n\u001b[0;32m    302\u001b[0m             \u001b[1;31m# Fit or load from cache the current transformer\u001b[0m\u001b[1;33m\u001b[0m\u001b[1;33m\u001b[0m\u001b[0m\n\u001b[1;32m--> 303\u001b[1;33m             X, fitted_transformer = fit_transform_one_cached(\n\u001b[0m\u001b[0;32m    304\u001b[0m                 \u001b[0mcloned_transformer\u001b[0m\u001b[1;33m,\u001b[0m \u001b[0mX\u001b[0m\u001b[1;33m,\u001b[0m \u001b[0my\u001b[0m\u001b[1;33m,\u001b[0m \u001b[1;32mNone\u001b[0m\u001b[1;33m,\u001b[0m\u001b[1;33m\u001b[0m\u001b[1;33m\u001b[0m\u001b[0m\n\u001b[0;32m    305\u001b[0m                 \u001b[0mmessage_clsname\u001b[0m\u001b[1;33m=\u001b[0m\u001b[1;34m'Pipeline'\u001b[0m\u001b[1;33m,\u001b[0m\u001b[1;33m\u001b[0m\u001b[1;33m\u001b[0m\u001b[0m\n",
      "\u001b[1;32m~\\anaconda3\\lib\\site-packages\\joblib\\memory.py\u001b[0m in \u001b[0;36m__call__\u001b[1;34m(self, *args, **kwargs)\u001b[0m\n\u001b[0;32m    347\u001b[0m \u001b[1;33m\u001b[0m\u001b[0m\n\u001b[0;32m    348\u001b[0m     \u001b[1;32mdef\u001b[0m \u001b[0m__call__\u001b[0m\u001b[1;33m(\u001b[0m\u001b[0mself\u001b[0m\u001b[1;33m,\u001b[0m \u001b[1;33m*\u001b[0m\u001b[0margs\u001b[0m\u001b[1;33m,\u001b[0m \u001b[1;33m**\u001b[0m\u001b[0mkwargs\u001b[0m\u001b[1;33m)\u001b[0m\u001b[1;33m:\u001b[0m\u001b[1;33m\u001b[0m\u001b[1;33m\u001b[0m\u001b[0m\n\u001b[1;32m--> 349\u001b[1;33m         \u001b[1;32mreturn\u001b[0m \u001b[0mself\u001b[0m\u001b[1;33m.\u001b[0m\u001b[0mfunc\u001b[0m\u001b[1;33m(\u001b[0m\u001b[1;33m*\u001b[0m\u001b[0margs\u001b[0m\u001b[1;33m,\u001b[0m \u001b[1;33m**\u001b[0m\u001b[0mkwargs\u001b[0m\u001b[1;33m)\u001b[0m\u001b[1;33m\u001b[0m\u001b[1;33m\u001b[0m\u001b[0m\n\u001b[0m\u001b[0;32m    350\u001b[0m \u001b[1;33m\u001b[0m\u001b[0m\n\u001b[0;32m    351\u001b[0m     \u001b[1;32mdef\u001b[0m \u001b[0mcall_and_shelve\u001b[0m\u001b[1;33m(\u001b[0m\u001b[0mself\u001b[0m\u001b[1;33m,\u001b[0m \u001b[1;33m*\u001b[0m\u001b[0margs\u001b[0m\u001b[1;33m,\u001b[0m \u001b[1;33m**\u001b[0m\u001b[0mkwargs\u001b[0m\u001b[1;33m)\u001b[0m\u001b[1;33m:\u001b[0m\u001b[1;33m\u001b[0m\u001b[1;33m\u001b[0m\u001b[0m\n",
      "\u001b[1;32m~\\anaconda3\\lib\\site-packages\\sklearn\\pipeline.py\u001b[0m in \u001b[0;36m_fit_transform_one\u001b[1;34m(transformer, X, y, weight, message_clsname, message, **fit_params)\u001b[0m\n\u001b[0;32m    752\u001b[0m     \u001b[1;32mwith\u001b[0m \u001b[0m_print_elapsed_time\u001b[0m\u001b[1;33m(\u001b[0m\u001b[0mmessage_clsname\u001b[0m\u001b[1;33m,\u001b[0m \u001b[0mmessage\u001b[0m\u001b[1;33m)\u001b[0m\u001b[1;33m:\u001b[0m\u001b[1;33m\u001b[0m\u001b[1;33m\u001b[0m\u001b[0m\n\u001b[0;32m    753\u001b[0m         \u001b[1;32mif\u001b[0m \u001b[0mhasattr\u001b[0m\u001b[1;33m(\u001b[0m\u001b[0mtransformer\u001b[0m\u001b[1;33m,\u001b[0m \u001b[1;34m'fit_transform'\u001b[0m\u001b[1;33m)\u001b[0m\u001b[1;33m:\u001b[0m\u001b[1;33m\u001b[0m\u001b[1;33m\u001b[0m\u001b[0m\n\u001b[1;32m--> 754\u001b[1;33m             \u001b[0mres\u001b[0m \u001b[1;33m=\u001b[0m \u001b[0mtransformer\u001b[0m\u001b[1;33m.\u001b[0m\u001b[0mfit_transform\u001b[0m\u001b[1;33m(\u001b[0m\u001b[0mX\u001b[0m\u001b[1;33m,\u001b[0m \u001b[0my\u001b[0m\u001b[1;33m,\u001b[0m \u001b[1;33m**\u001b[0m\u001b[0mfit_params\u001b[0m\u001b[1;33m)\u001b[0m\u001b[1;33m\u001b[0m\u001b[1;33m\u001b[0m\u001b[0m\n\u001b[0m\u001b[0;32m    755\u001b[0m         \u001b[1;32melse\u001b[0m\u001b[1;33m:\u001b[0m\u001b[1;33m\u001b[0m\u001b[1;33m\u001b[0m\u001b[0m\n\u001b[0;32m    756\u001b[0m             \u001b[0mres\u001b[0m \u001b[1;33m=\u001b[0m \u001b[0mtransformer\u001b[0m\u001b[1;33m.\u001b[0m\u001b[0mfit\u001b[0m\u001b[1;33m(\u001b[0m\u001b[0mX\u001b[0m\u001b[1;33m,\u001b[0m \u001b[0my\u001b[0m\u001b[1;33m,\u001b[0m \u001b[1;33m**\u001b[0m\u001b[0mfit_params\u001b[0m\u001b[1;33m)\u001b[0m\u001b[1;33m.\u001b[0m\u001b[0mtransform\u001b[0m\u001b[1;33m(\u001b[0m\u001b[0mX\u001b[0m\u001b[1;33m)\u001b[0m\u001b[1;33m\u001b[0m\u001b[1;33m\u001b[0m\u001b[0m\n",
      "\u001b[1;32m~\\anaconda3\\lib\\site-packages\\sklearn\\compose\\_column_transformer.py\u001b[0m in \u001b[0;36mfit_transform\u001b[1;34m(self, X, y)\u001b[0m\n\u001b[0;32m    503\u001b[0m         \u001b[0mself\u001b[0m\u001b[1;33m.\u001b[0m\u001b[0m_validate_transformers\u001b[0m\u001b[1;33m(\u001b[0m\u001b[1;33m)\u001b[0m\u001b[1;33m\u001b[0m\u001b[1;33m\u001b[0m\u001b[0m\n\u001b[0;32m    504\u001b[0m         \u001b[0mself\u001b[0m\u001b[1;33m.\u001b[0m\u001b[0m_validate_column_callables\u001b[0m\u001b[1;33m(\u001b[0m\u001b[0mX\u001b[0m\u001b[1;33m)\u001b[0m\u001b[1;33m\u001b[0m\u001b[1;33m\u001b[0m\u001b[0m\n\u001b[1;32m--> 505\u001b[1;33m         \u001b[0mself\u001b[0m\u001b[1;33m.\u001b[0m\u001b[0m_validate_remainder\u001b[0m\u001b[1;33m(\u001b[0m\u001b[0mX\u001b[0m\u001b[1;33m)\u001b[0m\u001b[1;33m\u001b[0m\u001b[1;33m\u001b[0m\u001b[0m\n\u001b[0m\u001b[0;32m    506\u001b[0m \u001b[1;33m\u001b[0m\u001b[0m\n\u001b[0;32m    507\u001b[0m         \u001b[0mresult\u001b[0m \u001b[1;33m=\u001b[0m \u001b[0mself\u001b[0m\u001b[1;33m.\u001b[0m\u001b[0m_fit_transform\u001b[0m\u001b[1;33m(\u001b[0m\u001b[0mX\u001b[0m\u001b[1;33m,\u001b[0m \u001b[0my\u001b[0m\u001b[1;33m,\u001b[0m \u001b[0m_fit_transform_one\u001b[0m\u001b[1;33m)\u001b[0m\u001b[1;33m\u001b[0m\u001b[1;33m\u001b[0m\u001b[0m\n",
      "\u001b[1;32m~\\anaconda3\\lib\\site-packages\\sklearn\\compose\\_column_transformer.py\u001b[0m in \u001b[0;36m_validate_remainder\u001b[1;34m(self, X)\u001b[0m\n\u001b[0;32m    330\u001b[0m         \u001b[0mcols\u001b[0m \u001b[1;33m=\u001b[0m \u001b[1;33m[\u001b[0m\u001b[1;33m]\u001b[0m\u001b[1;33m\u001b[0m\u001b[1;33m\u001b[0m\u001b[0m\n\u001b[0;32m    331\u001b[0m         \u001b[1;32mfor\u001b[0m \u001b[0mcolumns\u001b[0m \u001b[1;32min\u001b[0m \u001b[0mself\u001b[0m\u001b[1;33m.\u001b[0m\u001b[0m_columns\u001b[0m\u001b[1;33m:\u001b[0m\u001b[1;33m\u001b[0m\u001b[1;33m\u001b[0m\u001b[0m\n\u001b[1;32m--> 332\u001b[1;33m             \u001b[0mcols\u001b[0m\u001b[1;33m.\u001b[0m\u001b[0mextend\u001b[0m\u001b[1;33m(\u001b[0m\u001b[0m_get_column_indices\u001b[0m\u001b[1;33m(\u001b[0m\u001b[0mX\u001b[0m\u001b[1;33m,\u001b[0m \u001b[0mcolumns\u001b[0m\u001b[1;33m)\u001b[0m\u001b[1;33m)\u001b[0m\u001b[1;33m\u001b[0m\u001b[1;33m\u001b[0m\u001b[0m\n\u001b[0m\u001b[0;32m    333\u001b[0m \u001b[1;33m\u001b[0m\u001b[0m\n\u001b[0;32m    334\u001b[0m         \u001b[0mremaining_idx\u001b[0m \u001b[1;33m=\u001b[0m \u001b[0msorted\u001b[0m\u001b[1;33m(\u001b[0m\u001b[0mset\u001b[0m\u001b[1;33m(\u001b[0m\u001b[0mrange\u001b[0m\u001b[1;33m(\u001b[0m\u001b[0mself\u001b[0m\u001b[1;33m.\u001b[0m\u001b[0m_n_features\u001b[0m\u001b[1;33m)\u001b[0m\u001b[1;33m)\u001b[0m \u001b[1;33m-\u001b[0m \u001b[0mset\u001b[0m\u001b[1;33m(\u001b[0m\u001b[0mcols\u001b[0m\u001b[1;33m)\u001b[0m\u001b[1;33m)\u001b[0m\u001b[1;33m\u001b[0m\u001b[1;33m\u001b[0m\u001b[0m\n",
      "\u001b[1;32m~\\anaconda3\\lib\\site-packages\\sklearn\\utils\\__init__.py\u001b[0m in \u001b[0;36m_get_column_indices\u001b[1;34m(X, key)\u001b[0m\n\u001b[0;32m    401\u001b[0m \u001b[1;33m\u001b[0m\u001b[0m\n\u001b[0;32m    402\u001b[0m         \u001b[1;32mexcept\u001b[0m \u001b[0mKeyError\u001b[0m \u001b[1;32mas\u001b[0m \u001b[0me\u001b[0m\u001b[1;33m:\u001b[0m\u001b[1;33m\u001b[0m\u001b[1;33m\u001b[0m\u001b[0m\n\u001b[1;32m--> 403\u001b[1;33m             raise ValueError(\n\u001b[0m\u001b[0;32m    404\u001b[0m                 \u001b[1;34m\"A given column is not a column of the dataframe\"\u001b[0m\u001b[1;33m\u001b[0m\u001b[1;33m\u001b[0m\u001b[0m\n\u001b[0;32m    405\u001b[0m             ) from e\n",
      "\u001b[1;31mValueError\u001b[0m: A given column is not a column of the dataframe"
     ]
    }
   ],
   "source": [
    "categorical_vars_con_dow = categorical_vars + [\"Date_dayofweek\"]\n",
    "numeric_vars_con_dow = numeric_vars + [\"Date_day\",\"Date_month\"]\n",
    "model = Pipeline([\n",
    "    (\"col_t\", ColumnTransformer([\n",
    "        (\"numeric\" , StandardScaler(), numeric_vars_con_dow + binary_vars),\n",
    "        (\"categoric\" , OneHotEncoder(),  categorical_vars_con_dow)\n",
    "    ], remainder=\"drop\")),\n",
    "    (\"Ridge\", Ridge())\n",
    "])\n",
    "\n",
    "data_train_sample_dow = pd.DataFrame(np.c_[data_train,date_ft]).sample(60000, random_state=42)\n",
    "y_train_sample_dow = pd.DataFrame(np.c_[y_train,date_ft]).reindex_like(data_train_sample_dow)\n",
    "\n",
    "print(data_val.shape)\n",
    "print(y_val.shape)\n",
    "model.fit(data_train_sample_dow, y_train_sample_dow)\n",
    "score = model.score(data_val, y_val)\n",
    "nf = model.n_features_in_\n",
    "print(nf, score)"
   ]
  },
  {
   "cell_type": "code",
   "execution_count": null,
   "id": "6c92339b",
   "metadata": {},
   "outputs": [],
   "source": [
    "dio = date_transformer.fit_transform(data_train[[\"Date\"]])\n",
    "pd.DataFrame(dio)"
   ]
  },
  {
   "cell_type": "code",
   "execution_count": null,
   "id": "c09e889d",
   "metadata": {},
   "outputs": [],
   "source": [
    "data_2_data = np.c_[\n",
    "    data_train,\n",
    "    dio\n",
    "]\n",
    "data_2_index = np.array(data_train.columns.values.tolist()+dio.columns.values.tolist())   \n",
    "pd.DataFrame(data=data_2_data,columns=data_2_index)\n",
    "#print(data_train.columns.values.tolist())\n",
    "#print(dio.columns.values.tolist())\n",
    "#print(data_2_index.shape)"
   ]
  },
  {
   "cell_type": "code",
   "execution_count": 9,
   "id": "18a1f7ea",
   "metadata": {},
   "outputs": [
    {
     "name": "stdout",
     "output_type": "stream",
     "text": [
      "18 0.999933410547048\n",
      "18 0.2573737052973013\n"
     ]
    }
   ],
   "source": [
    "date_transformer = FunctionTransformer(extract_date_fields)\n",
    "newclm = date_transformer.fit_transform(data_train[[\"Date\"]]).sample(5, random_state=42).columns.values.tolist()\n",
    "model = Pipeline([(\"col_t\",\n",
    "    ColumnTransformer([\n",
    "        (\"num\" , StandardScaler(), numeric_vars + binary_vars),\n",
    "        (\"date\", Pipeline([(\"t\",date_transformer),(\"cat_2\",OneHotEncoder())]), [\"Date\"]),\n",
    "        (\"cat\" , OneHotEncoder(),  categorical_vars)\n",
    "    ],remainder=\"passthrough\")),\n",
    "    (\"Ridge\", Ridge())\n",
    "])\n",
    "\n",
    "model.fit(data_train_sample, y_train_sample)\n",
    "score = model.score(data_val, y_val)\n",
    "nf = model.n_features_in_\n",
    "print(nf, score)\n",
    "date_transformer = FunctionTransformer(extract_date_fields)\n",
    "newclm = date_transformer.fit_transform(data_train[[\"Date\"]]).sample(5, random_state=42).columns.values.tolist()\n",
    "model = Pipeline([(\"col_t\",\n",
    "    ColumnTransformer([\n",
    "        (\"num\" , StandardScaler(), numeric_vars + binary_vars),\n",
    "        #(\"date\", Pipeline([(\"t\",date_transformer),(\"cat_2\",OneHotEncoder())]), [\"Date\"]),\n",
    "        (\"date\", date_transformer, [\"Date\"]),\n",
    "        (\"cat\" , OneHotEncoder(),  categorical_vars)\n",
    "    ],remainder=\"drop\")),\n",
    "    (\"Ridge\", Ridge())\n",
    "])\n",
    "\n",
    "model.fit(data_train_sample, y_train_sample)\n",
    "score = model.score(data_val, y_val)\n",
    "nf = model.n_features_in_\n",
    "print(nf, score)"
   ]
  },
  {
   "cell_type": "code",
   "execution_count": null,
   "id": "4fef1b39",
   "metadata": {},
   "outputs": [],
   "source": [
    "#grid = {\n",
    "#    \n",
    "#}\n",
    "#gs = GridSearchCV(r_model, grid, cv=kf)\n",
    "#gs.fit(data_train_sample, y_train_sample)\n",
    "#print(gs.best_params_)\n",
    "#print(gs.score(data_val, y_val))\n",
    "#pd.DataFrame(grid_search.cv_results_).sort_values(\"rank_test_score\")"
   ]
  },
  {
   "cell_type": "markdown",
   "id": "e3379310",
   "metadata": {},
   "source": [
    "Ricercare gli iperparametri migliori (con e senza tutte le features) con il metodo GridSearch."
   ]
  },
  {
   "cell_type": "code",
   "execution_count": null,
   "id": "9004abcc",
   "metadata": {},
   "outputs": [],
   "source": [
    "lgbm_t = LGBMRegressor()\n",
    "lgbm_grid_t = {\n",
    "    \"boosting_type\" : [\"gbdt\",\"dart\",\"goss\"],\n",
    "    \"num_leaves\" : [10, 20, 31]\n",
    "}\n",
    "gs_lgbm = GridSearchCV(lgbm_t, lgbm_grid_t, cv=kf)\n",
    "gs_lgbm.fit(X_train, y_train)\n",
    "print_grid_search_eval(X_val, y_val, gs_lgbm)\n",
    "\n",
    "pl_xgbr_t = Pipeline([\n",
    "    (\"scaler\", None),\n",
    "    (\"xgbr\", XGBRegressor(objective='reg:squarederror', reg_lambda=1.0))\n",
    "])\n",
    "xgbr_grid_t = {\n",
    "    \"scaler\" : [None, StandardScaler()],\n",
    "    \"xgbr__n_estimators\" : [50],\n",
    "    \"xgbr__reg_alpha\" : [0.1,0.2]\n",
    "}\n",
    "gs_xgbr = GridSearchCV(pl_xgbr_t, xgbr_grid_t, cv=kf)\n",
    "gs_xgbr.fit(X_train, y_train)\n",
    "print_grid_search_eval(X_val, y_val, gs_xgbr)\n",
    "\n",
    "catbm_t = CatBoostRegressor();\n",
    "catbm_grid_t = {\n",
    "    \"n_estimators\" : [100, 500, 1000]\n",
    "}\n",
    "gs_catbm = GridSearchCV(catbm_t, catbm_grid_t, cv=kf)\n",
    "gs_catbm.fit(X_train, y_train)\n",
    "print_grid_search_eval(X_val, y_val, gs_catbm)"
   ]
  }
 ],
 "metadata": {
  "kernelspec": {
   "display_name": "Python 3 (ipykernel)",
   "language": "python",
   "name": "python3"
  },
  "language_info": {
   "codemirror_mode": {
    "name": "ipython",
    "version": 3
   },
   "file_extension": ".py",
   "mimetype": "text/x-python",
   "name": "python",
   "nbconvert_exporter": "python",
   "pygments_lexer": "ipython3",
   "version": "3.9.7"
  }
 },
 "nbformat": 4,
 "nbformat_minor": 5
}
