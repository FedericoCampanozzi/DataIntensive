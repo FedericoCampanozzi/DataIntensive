{
 "cells": [
  {
   "cell_type": "markdown",
   "metadata": {
    "slideshow": {
     "slide_type": "slide"
    }
   },
   "source": [
    "# Laboratorio: Grafici e Raggruppamento di Dati con pandas\n",
    "\n",
    "**Programmazione di Applicazioni Data Intensive**  \n",
    "Laurea in Ingegneria e Scienze Informatiche  \n",
    "DISI - Università di Bologna, Cesena\n",
    "\n",
    "Proff. Gianluca Moro, Roberto Pasolini  \n",
    "`nome.cognome@unibo.it`"
   ]
  },
  {
   "cell_type": "code",
   "execution_count": 4,
   "metadata": {},
   "outputs": [],
   "source": [
    "# test librerie\n",
    "import numpy, pandas, matplotlib"
   ]
  },
  {
   "cell_type": "markdown",
   "metadata": {
    "slideshow": {
     "slide_type": "slide"
    }
   },
   "source": [
    "## Dataset: Mance dei clienti di un ristorante\n",
    "\n",
    "- _tips_ è un set di dati raccolti ipoteticamente da un cameriere di un ristorante sulle mance che ha ricevuto dai clienti in un certo periodo di tempo\n",
    "- Scarichiamo il dataset in locale"
   ]
  },
  {
   "cell_type": "code",
   "execution_count": 5,
   "metadata": {},
   "outputs": [],
   "source": [
    "import os.path\n",
    "if not os.path.exists(\"tips.csv\"):\n",
    "    from urllib.request import urlretrieve\n",
    "    urlretrieve(\"https://git.io/JYJNP\", \"tips.csv\")"
   ]
  },
  {
   "cell_type": "markdown",
   "metadata": {
    "slideshow": {
     "slide_type": "slide"
    }
   },
   "source": [
    "- Usiamo la funzione `read_csv` per caricare il file e visualizziamone alcune righe"
   ]
  },
  {
   "cell_type": "code",
   "execution_count": 6,
   "metadata": {},
   "outputs": [],
   "source": [
    "import numpy as np\n",
    "import pandas as pd\n",
    "tips = pd.read_csv(\"tips.csv\")"
   ]
  },
  {
   "cell_type": "code",
   "execution_count": 7,
   "metadata": {},
   "outputs": [
    {
     "data": {
      "text/html": [
       "<div>\n",
       "<style scoped>\n",
       "    .dataframe tbody tr th:only-of-type {\n",
       "        vertical-align: middle;\n",
       "    }\n",
       "\n",
       "    .dataframe tbody tr th {\n",
       "        vertical-align: top;\n",
       "    }\n",
       "\n",
       "    .dataframe thead th {\n",
       "        text-align: right;\n",
       "    }\n",
       "</style>\n",
       "<table border=\"1\" class=\"dataframe\">\n",
       "  <thead>\n",
       "    <tr style=\"text-align: right;\">\n",
       "      <th></th>\n",
       "      <th>total_bill</th>\n",
       "      <th>tip</th>\n",
       "      <th>sex</th>\n",
       "      <th>smoker</th>\n",
       "      <th>day</th>\n",
       "      <th>time</th>\n",
       "      <th>size</th>\n",
       "    </tr>\n",
       "  </thead>\n",
       "  <tbody>\n",
       "    <tr>\n",
       "      <th>0</th>\n",
       "      <td>16.99</td>\n",
       "      <td>1.01</td>\n",
       "      <td>Female</td>\n",
       "      <td>No</td>\n",
       "      <td>Sun</td>\n",
       "      <td>Dinner</td>\n",
       "      <td>2</td>\n",
       "    </tr>\n",
       "    <tr>\n",
       "      <th>1</th>\n",
       "      <td>10.34</td>\n",
       "      <td>1.66</td>\n",
       "      <td>Male</td>\n",
       "      <td>No</td>\n",
       "      <td>Sun</td>\n",
       "      <td>Dinner</td>\n",
       "      <td>3</td>\n",
       "    </tr>\n",
       "    <tr>\n",
       "      <th>2</th>\n",
       "      <td>21.01</td>\n",
       "      <td>3.50</td>\n",
       "      <td>Male</td>\n",
       "      <td>No</td>\n",
       "      <td>Sun</td>\n",
       "      <td>Dinner</td>\n",
       "      <td>3</td>\n",
       "    </tr>\n",
       "    <tr>\n",
       "      <th>3</th>\n",
       "      <td>23.68</td>\n",
       "      <td>3.31</td>\n",
       "      <td>Male</td>\n",
       "      <td>No</td>\n",
       "      <td>Sun</td>\n",
       "      <td>Dinner</td>\n",
       "      <td>2</td>\n",
       "    </tr>\n",
       "    <tr>\n",
       "      <th>4</th>\n",
       "      <td>24.59</td>\n",
       "      <td>3.61</td>\n",
       "      <td>Female</td>\n",
       "      <td>No</td>\n",
       "      <td>Sun</td>\n",
       "      <td>Dinner</td>\n",
       "      <td>4</td>\n",
       "    </tr>\n",
       "  </tbody>\n",
       "</table>\n",
       "</div>"
      ],
      "text/plain": [
       "   total_bill   tip     sex smoker  day    time  size\n",
       "0       16.99  1.01  Female     No  Sun  Dinner     2\n",
       "1       10.34  1.66    Male     No  Sun  Dinner     3\n",
       "2       21.01  3.50    Male     No  Sun  Dinner     3\n",
       "3       23.68  3.31    Male     No  Sun  Dinner     2\n",
       "4       24.59  3.61  Female     No  Sun  Dinner     4"
      ]
     },
     "execution_count": 7,
     "metadata": {},
     "output_type": "execute_result"
    }
   ],
   "source": [
    "tips.head()"
   ]
  },
  {
   "cell_type": "markdown",
   "metadata": {
    "slideshow": {
     "slide_type": "slide"
    }
   },
   "source": [
    "### Significati delle colonne\n",
    "\n",
    "- `total_bill`: totale del conto\n",
    "- `tip` mancia lasciata dal cliente pagante\n",
    "- `sex`: sesso del cliente pagante\n",
    "- `smoker`: se nel gruppo erano presenti fumatori\n",
    "- `day`: giorno della settimana\n",
    "- `time`: pranzo o cena\n",
    "- `size`: numero di persone al tavolo\n",
    "\n",
    "I tipi dei dati sono:\n",
    "- numeri decimali in `total_bill` e `tip` (quantità di denaro)\n",
    "- numeri interi in `size`\n",
    "- categorici nelle altre colonne"
   ]
  },
  {
   "cell_type": "markdown",
   "metadata": {
    "slideshow": {
     "slide_type": "slide"
    }
   },
   "source": [
    "### Tipi di dato e consumo di memoria\n",
    "\n",
    "- Possiamo vedere i tipi delle colonne assegnati da pandas e la memoria occupata dal DataFrame col metodo `info`"
   ]
  },
  {
   "cell_type": "code",
   "execution_count": 8,
   "metadata": {},
   "outputs": [
    {
     "name": "stdout",
     "output_type": "stream",
     "text": [
      "<class 'pandas.core.frame.DataFrame'>\n",
      "RangeIndex: 244 entries, 0 to 243\n",
      "Data columns (total 7 columns):\n",
      " #   Column      Non-Null Count  Dtype  \n",
      "---  ------      --------------  -----  \n",
      " 0   total_bill  244 non-null    float64\n",
      " 1   tip         244 non-null    float64\n",
      " 2   sex         244 non-null    object \n",
      " 3   smoker      244 non-null    object \n",
      " 4   day         244 non-null    object \n",
      " 5   time        244 non-null    object \n",
      " 6   size        244 non-null    int64  \n",
      "dtypes: float64(2), int64(1), object(4)\n",
      "memory usage: 64.0 KB\n"
     ]
    }
   ],
   "source": [
    "tips.info(memory_usage=\"deep\")"
   ]
  },
  {
   "cell_type": "markdown",
   "metadata": {},
   "source": [
    "- Le colonne `sex`, `smoker`, `day` e `time` sono considerate di tipo `object` in quanto stringhe, ma sappiamo che sono categoriche"
   ]
  },
  {
   "cell_type": "markdown",
   "metadata": {
    "slideshow": {
     "slide_type": "slide"
    }
   },
   "source": [
    "- Carichiamo nuovamente il DataFrame specificando con l'opzione `dtype` che tali colonne sono di tipo `category`"
   ]
  },
  {
   "cell_type": "code",
   "execution_count": 9,
   "metadata": {},
   "outputs": [],
   "source": [
    "custom_dtypes = {\n",
    "    \"sex\": \"category\",\n",
    "    \"smoker\": \"category\",\n",
    "    \"day\": \"category\",\n",
    "    \"time\": \"category\",\n",
    "}\n",
    "tips = pd.read_csv(\"tips.csv\", dtype=custom_dtypes)"
   ]
  },
  {
   "cell_type": "markdown",
   "metadata": {},
   "source": [
    "- Otteniamo un DataFrame con gli stessi dati sopra..."
   ]
  },
  {
   "cell_type": "code",
   "execution_count": 10,
   "metadata": {},
   "outputs": [
    {
     "data": {
      "text/html": [
       "<div>\n",
       "<style scoped>\n",
       "    .dataframe tbody tr th:only-of-type {\n",
       "        vertical-align: middle;\n",
       "    }\n",
       "\n",
       "    .dataframe tbody tr th {\n",
       "        vertical-align: top;\n",
       "    }\n",
       "\n",
       "    .dataframe thead th {\n",
       "        text-align: right;\n",
       "    }\n",
       "</style>\n",
       "<table border=\"1\" class=\"dataframe\">\n",
       "  <thead>\n",
       "    <tr style=\"text-align: right;\">\n",
       "      <th></th>\n",
       "      <th>total_bill</th>\n",
       "      <th>tip</th>\n",
       "      <th>sex</th>\n",
       "      <th>smoker</th>\n",
       "      <th>day</th>\n",
       "      <th>time</th>\n",
       "      <th>size</th>\n",
       "    </tr>\n",
       "  </thead>\n",
       "  <tbody>\n",
       "    <tr>\n",
       "      <th>0</th>\n",
       "      <td>16.99</td>\n",
       "      <td>1.01</td>\n",
       "      <td>Female</td>\n",
       "      <td>No</td>\n",
       "      <td>Sun</td>\n",
       "      <td>Dinner</td>\n",
       "      <td>2</td>\n",
       "    </tr>\n",
       "    <tr>\n",
       "      <th>1</th>\n",
       "      <td>10.34</td>\n",
       "      <td>1.66</td>\n",
       "      <td>Male</td>\n",
       "      <td>No</td>\n",
       "      <td>Sun</td>\n",
       "      <td>Dinner</td>\n",
       "      <td>3</td>\n",
       "    </tr>\n",
       "    <tr>\n",
       "      <th>2</th>\n",
       "      <td>21.01</td>\n",
       "      <td>3.50</td>\n",
       "      <td>Male</td>\n",
       "      <td>No</td>\n",
       "      <td>Sun</td>\n",
       "      <td>Dinner</td>\n",
       "      <td>3</td>\n",
       "    </tr>\n",
       "  </tbody>\n",
       "</table>\n",
       "</div>"
      ],
      "text/plain": [
       "   total_bill   tip     sex smoker  day    time  size\n",
       "0       16.99  1.01  Female     No  Sun  Dinner     2\n",
       "1       10.34  1.66    Male     No  Sun  Dinner     3\n",
       "2       21.01  3.50    Male     No  Sun  Dinner     3"
      ]
     },
     "execution_count": 10,
     "metadata": {},
     "output_type": "execute_result"
    }
   ],
   "source": [
    "tips.head(3)"
   ]
  },
  {
   "cell_type": "markdown",
   "metadata": {
    "slideshow": {
     "slide_type": "slide"
    }
   },
   "source": [
    "- ...ma con occupazione di memoria ridotta di quasi 10 volte"
   ]
  },
  {
   "cell_type": "code",
   "execution_count": 11,
   "metadata": {},
   "outputs": [
    {
     "name": "stdout",
     "output_type": "stream",
     "text": [
      "<class 'pandas.core.frame.DataFrame'>\n",
      "RangeIndex: 244 entries, 0 to 243\n",
      "Data columns (total 7 columns):\n",
      " #   Column      Non-Null Count  Dtype   \n",
      "---  ------      --------------  -----   \n",
      " 0   total_bill  244 non-null    float64 \n",
      " 1   tip         244 non-null    float64 \n",
      " 2   sex         244 non-null    category\n",
      " 3   smoker      244 non-null    category\n",
      " 4   day         244 non-null    category\n",
      " 5   time        244 non-null    category\n",
      " 6   size        244 non-null    int64   \n",
      "dtypes: category(4), float64(2), int64(1)\n",
      "memory usage: 7.6 KB\n"
     ]
    }
   ],
   "source": [
    "tips.info(memory_usage=\"deep\")"
   ]
  },
  {
   "cell_type": "markdown",
   "metadata": {},
   "source": [
    "- In ciascuna colonna/serie categorica potranno essere contenuti solo i valori possibili per ciascuna\n",
    "  - quando si stampa la serie, i valori possibili si vedono nel riepilogo in fondo"
   ]
  },
  {
   "cell_type": "code",
   "execution_count": 12,
   "metadata": {},
   "outputs": [
    {
     "data": {
      "text/plain": [
       "0    Sun\n",
       "1    Sun\n",
       "2    Sun\n",
       "Name: day, dtype: category\n",
       "Categories (4, object): ['Fri', 'Sat', 'Sun', 'Thur']"
      ]
     },
     "execution_count": 12,
     "metadata": {},
     "output_type": "execute_result"
    }
   ],
   "source": [
    "tips[\"day\"]   .head(3)"
   ]
  },
  {
   "cell_type": "markdown",
   "metadata": {},
   "source": [
    "- Il risparmio di memoria conta poco per dataset piccoli come questo, ma può fare la differenza per dataset molto grandi\n",
    "- Se si ha un file molto grande, è possibile leggere solo le prime N righe con l'opzione `nrows=N`, analizzare i valori caricati e impostare i tipi di colonna appropriati prima di caricarlo per intero"
   ]
  },
  {
   "cell_type": "code",
   "execution_count": 13,
   "metadata": {},
   "outputs": [
    {
     "data": {
      "text/html": [
       "<div>\n",
       "<style scoped>\n",
       "    .dataframe tbody tr th:only-of-type {\n",
       "        vertical-align: middle;\n",
       "    }\n",
       "\n",
       "    .dataframe tbody tr th {\n",
       "        vertical-align: top;\n",
       "    }\n",
       "\n",
       "    .dataframe thead th {\n",
       "        text-align: right;\n",
       "    }\n",
       "</style>\n",
       "<table border=\"1\" class=\"dataframe\">\n",
       "  <thead>\n",
       "    <tr style=\"text-align: right;\">\n",
       "      <th></th>\n",
       "      <th>total_bill</th>\n",
       "      <th>tip</th>\n",
       "      <th>sex</th>\n",
       "      <th>smoker</th>\n",
       "      <th>day</th>\n",
       "      <th>time</th>\n",
       "      <th>size</th>\n",
       "    </tr>\n",
       "  </thead>\n",
       "  <tbody>\n",
       "    <tr>\n",
       "      <th>0</th>\n",
       "      <td>16.99</td>\n",
       "      <td>1.01</td>\n",
       "      <td>Female</td>\n",
       "      <td>No</td>\n",
       "      <td>Sun</td>\n",
       "      <td>Dinner</td>\n",
       "      <td>2</td>\n",
       "    </tr>\n",
       "    <tr>\n",
       "      <th>1</th>\n",
       "      <td>10.34</td>\n",
       "      <td>1.66</td>\n",
       "      <td>Male</td>\n",
       "      <td>No</td>\n",
       "      <td>Sun</td>\n",
       "      <td>Dinner</td>\n",
       "      <td>3</td>\n",
       "    </tr>\n",
       "    <tr>\n",
       "      <th>2</th>\n",
       "      <td>21.01</td>\n",
       "      <td>3.50</td>\n",
       "      <td>Male</td>\n",
       "      <td>No</td>\n",
       "      <td>Sun</td>\n",
       "      <td>Dinner</td>\n",
       "      <td>3</td>\n",
       "    </tr>\n",
       "    <tr>\n",
       "      <th>3</th>\n",
       "      <td>23.68</td>\n",
       "      <td>3.31</td>\n",
       "      <td>Male</td>\n",
       "      <td>No</td>\n",
       "      <td>Sun</td>\n",
       "      <td>Dinner</td>\n",
       "      <td>2</td>\n",
       "    </tr>\n",
       "  </tbody>\n",
       "</table>\n",
       "</div>"
      ],
      "text/plain": [
       "   total_bill   tip     sex smoker  day    time  size\n",
       "0       16.99  1.01  Female     No  Sun  Dinner     2\n",
       "1       10.34  1.66    Male     No  Sun  Dinner     3\n",
       "2       21.01  3.50    Male     No  Sun  Dinner     3\n",
       "3       23.68  3.31    Male     No  Sun  Dinner     2"
      ]
     },
     "execution_count": 13,
     "metadata": {},
     "output_type": "execute_result"
    }
   ],
   "source": [
    "pd.read_csv(\"tips.csv\", nrows=4)"
   ]
  },
  {
   "cell_type": "markdown",
   "metadata": {
    "slideshow": {
     "slide_type": "slide"
    }
   },
   "source": [
    "### Esercizio 1: Ripasso operazioni sui `DataFrame`\n",
    "\n",
    "Estrarre le seguenti informazioni senza aggiungere colonne al frame o modificarlo in altri modi\n",
    "\n",
    "- **(1a)** numero di persone nella prima riga della tabella (la cui etichetta è 0)\n",
    "- **(1b)** tutti i dati (cioè l'intera riga) relativi al tavolo col totale del conto più alto\n",
    "- **(1c)** media delle mance ricevute\n",
    "- **(1d)** spesa media per persona più alta in un tavolo"
   ]
  },
  {
   "cell_type": "code",
   "execution_count": 14,
   "metadata": {},
   "outputs": [
    {
     "data": {
      "text/plain": [
       "2"
      ]
     },
     "execution_count": 14,
     "metadata": {},
     "output_type": "execute_result"
    }
   ],
   "source": [
    "tips.loc[0, \"size\"]"
   ]
  },
  {
   "cell_type": "code",
   "execution_count": 15,
   "metadata": {},
   "outputs": [
    {
     "data": {
      "text/plain": [
       "total_bill     50.81\n",
       "tip             10.0\n",
       "sex             Male\n",
       "smoker           Yes\n",
       "day              Sat\n",
       "time          Dinner\n",
       "size               3\n",
       "Name: 170, dtype: object"
      ]
     },
     "execution_count": 15,
     "metadata": {},
     "output_type": "execute_result"
    }
   ],
   "source": [
    "tips.loc[tips[\"total_bill\"].idxmax()]"
   ]
  },
  {
   "cell_type": "code",
   "execution_count": 16,
   "metadata": {},
   "outputs": [
    {
     "data": {
      "text/plain": [
       "2.9982786885245902"
      ]
     },
     "execution_count": 16,
     "metadata": {},
     "output_type": "execute_result"
    }
   ],
   "source": [
    "tips[\"tip\"].mean()"
   ]
  },
  {
   "cell_type": "code",
   "execution_count": 17,
   "metadata": {},
   "outputs": [
    {
     "data": {
      "text/plain": [
       "20.275"
      ]
     },
     "execution_count": 17,
     "metadata": {},
     "output_type": "execute_result"
    }
   ],
   "source": [
    "(tips[\"total_bill\"] / tips[\"size\"]).max()"
   ]
  },
  {
   "cell_type": "markdown",
   "metadata": {
    "slideshow": {
     "slide_type": "slide"
    }
   },
   "source": [
    "## Statistiche di base\n",
    "\n",
    "- Analizziamo la distribuzione dei dati nelle colonne\n",
    "- Per le colonne numeriche, possiamo ottenere delle statistiche di base con `describe` (utilizzabile sia su singole serie che su frame)"
   ]
  },
  {
   "cell_type": "code",
   "execution_count": 18,
   "metadata": {},
   "outputs": [
    {
     "data": {
      "text/html": [
       "<div>\n",
       "<style scoped>\n",
       "    .dataframe tbody tr th:only-of-type {\n",
       "        vertical-align: middle;\n",
       "    }\n",
       "\n",
       "    .dataframe tbody tr th {\n",
       "        vertical-align: top;\n",
       "    }\n",
       "\n",
       "    .dataframe thead th {\n",
       "        text-align: right;\n",
       "    }\n",
       "</style>\n",
       "<table border=\"1\" class=\"dataframe\">\n",
       "  <thead>\n",
       "    <tr style=\"text-align: right;\">\n",
       "      <th></th>\n",
       "      <th>total_bill</th>\n",
       "      <th>tip</th>\n",
       "      <th>size</th>\n",
       "    </tr>\n",
       "  </thead>\n",
       "  <tbody>\n",
       "    <tr>\n",
       "      <th>count</th>\n",
       "      <td>244.000000</td>\n",
       "      <td>244.000000</td>\n",
       "      <td>244.000000</td>\n",
       "    </tr>\n",
       "    <tr>\n",
       "      <th>mean</th>\n",
       "      <td>19.785943</td>\n",
       "      <td>2.998279</td>\n",
       "      <td>2.569672</td>\n",
       "    </tr>\n",
       "    <tr>\n",
       "      <th>std</th>\n",
       "      <td>8.902412</td>\n",
       "      <td>1.383638</td>\n",
       "      <td>0.951100</td>\n",
       "    </tr>\n",
       "    <tr>\n",
       "      <th>min</th>\n",
       "      <td>3.070000</td>\n",
       "      <td>1.000000</td>\n",
       "      <td>1.000000</td>\n",
       "    </tr>\n",
       "    <tr>\n",
       "      <th>25%</th>\n",
       "      <td>13.347500</td>\n",
       "      <td>2.000000</td>\n",
       "      <td>2.000000</td>\n",
       "    </tr>\n",
       "    <tr>\n",
       "      <th>50%</th>\n",
       "      <td>17.795000</td>\n",
       "      <td>2.900000</td>\n",
       "      <td>2.000000</td>\n",
       "    </tr>\n",
       "    <tr>\n",
       "      <th>75%</th>\n",
       "      <td>24.127500</td>\n",
       "      <td>3.562500</td>\n",
       "      <td>3.000000</td>\n",
       "    </tr>\n",
       "    <tr>\n",
       "      <th>max</th>\n",
       "      <td>50.810000</td>\n",
       "      <td>10.000000</td>\n",
       "      <td>6.000000</td>\n",
       "    </tr>\n",
       "  </tbody>\n",
       "</table>\n",
       "</div>"
      ],
      "text/plain": [
       "       total_bill         tip        size\n",
       "count  244.000000  244.000000  244.000000\n",
       "mean    19.785943    2.998279    2.569672\n",
       "std      8.902412    1.383638    0.951100\n",
       "min      3.070000    1.000000    1.000000\n",
       "25%     13.347500    2.000000    2.000000\n",
       "50%     17.795000    2.900000    2.000000\n",
       "75%     24.127500    3.562500    3.000000\n",
       "max     50.810000   10.000000    6.000000"
      ]
     },
     "execution_count": 18,
     "metadata": {},
     "output_type": "execute_result"
    }
   ],
   "source": [
    "tips.describe()"
   ]
  },
  {
   "cell_type": "markdown",
   "metadata": {},
   "source": [
    "- Vediamo ad esempio che la mancia media è di circa 3\\\\$ e nella metà \"centrale\" dei casi (tra il 25° e il 75° percentile) è compresa tra 2\\\\$ e 3,5\\\\$"
   ]
  },
  {
   "cell_type": "markdown",
   "metadata": {
    "slideshow": {
     "slide_type": "slide"
    }
   },
   "source": [
    "- Si può inoltre usare il metodo `agg` (forma breve di `aggregate`) per ottenere una lista di statistiche specificata"
   ]
  },
  {
   "cell_type": "code",
   "execution_count": 19,
   "metadata": {},
   "outputs": [
    {
     "data": {
      "text/html": [
       "<div>\n",
       "<style scoped>\n",
       "    .dataframe tbody tr th:only-of-type {\n",
       "        vertical-align: middle;\n",
       "    }\n",
       "\n",
       "    .dataframe tbody tr th {\n",
       "        vertical-align: top;\n",
       "    }\n",
       "\n",
       "    .dataframe thead th {\n",
       "        text-align: right;\n",
       "    }\n",
       "</style>\n",
       "<table border=\"1\" class=\"dataframe\">\n",
       "  <thead>\n",
       "    <tr style=\"text-align: right;\">\n",
       "      <th></th>\n",
       "      <th>total_bill</th>\n",
       "      <th>tip</th>\n",
       "      <th>size</th>\n",
       "    </tr>\n",
       "  </thead>\n",
       "  <tbody>\n",
       "    <tr>\n",
       "      <th>sum</th>\n",
       "      <td>4827.770000</td>\n",
       "      <td>731.580000</td>\n",
       "      <td>627.000000</td>\n",
       "    </tr>\n",
       "    <tr>\n",
       "      <th>mean</th>\n",
       "      <td>19.785943</td>\n",
       "      <td>2.998279</td>\n",
       "      <td>2.569672</td>\n",
       "    </tr>\n",
       "    <tr>\n",
       "      <th>std</th>\n",
       "      <td>8.902412</td>\n",
       "      <td>1.383638</td>\n",
       "      <td>0.951100</td>\n",
       "    </tr>\n",
       "    <tr>\n",
       "      <th>median</th>\n",
       "      <td>17.795000</td>\n",
       "      <td>2.900000</td>\n",
       "      <td>2.000000</td>\n",
       "    </tr>\n",
       "  </tbody>\n",
       "</table>\n",
       "</div>"
      ],
      "text/plain": [
       "         total_bill         tip        size\n",
       "sum     4827.770000  731.580000  627.000000\n",
       "mean      19.785943    2.998279    2.569672\n",
       "std        8.902412    1.383638    0.951100\n",
       "median    17.795000    2.900000    2.000000"
      ]
     },
     "execution_count": 19,
     "metadata": {},
     "output_type": "execute_result"
    }
   ],
   "source": [
    "# seleziono le colonne numeriche\n",
    "tips[[\"total_bill\", \"tip\", \"size\"]].agg(\n",
    "    [\"sum\", \"mean\", \"std\",         \"median\"]\n",
    "#     somma, media,  dev. standard, mediana\n",
    ")"
   ]
  },
  {
   "cell_type": "markdown",
   "metadata": {},
   "source": [
    "- Oltre a quelle sopra, altre statistiche includono \"count\" (conteggio valori non mancanti), \"min\" e \"max\""
   ]
  },
  {
   "cell_type": "markdown",
   "metadata": {
    "slideshow": {
     "slide_type": "slide"
    }
   },
   "source": [
    "- Per le colonne nominali, possiamo usare il metodo `value_counts` su ciascuna per analizzarne la distribuzione dei valori\n",
    "- Ad esempio, otteniamo i conteggi di valori `Male` e `Female` nella colonna `sex`"
   ]
  },
  {
   "cell_type": "code",
   "execution_count": 20,
   "metadata": {},
   "outputs": [
    {
     "data": {
      "text/plain": [
       "Male      157\n",
       "Female     87\n",
       "Name: sex, dtype: int64"
      ]
     },
     "execution_count": 20,
     "metadata": {},
     "output_type": "execute_result"
    }
   ],
   "source": [
    "tips[\"sex\"].value_counts()"
   ]
  },
  {
   "cell_type": "markdown",
   "metadata": {},
   "source": [
    "- Specificando `normalize=True` otteniamo le frequenze relative, in pratica le percentuali sul totale"
   ]
  },
  {
   "cell_type": "code",
   "execution_count": 21,
   "metadata": {},
   "outputs": [
    {
     "data": {
      "text/plain": [
       "Male      0.643443\n",
       "Female    0.356557\n",
       "Name: sex, dtype: float64"
      ]
     },
     "execution_count": 21,
     "metadata": {},
     "output_type": "execute_result"
    }
   ],
   "source": [
    "tips[\"sex\"].value_counts(normalize=True)"
   ]
  },
  {
   "cell_type": "markdown",
   "metadata": {},
   "source": [
    "- Vediamo ad esempio che il conto è stato pagato da un uomo nel 64\\% dei casi"
   ]
  },
  {
   "cell_type": "markdown",
   "metadata": {
    "slideshow": {
     "slide_type": "slide"
    }
   },
   "source": [
    "- Per svolgere un'analisi simile su colonne numeriche continue, possiamo eseguirne il _binning_ (o _discretizzazione_)\n",
    "- L'intero intervallo di valori possibili di una serie è suddiviso in fasce (_bin_) e ogni valore è sostituito con la fascia in cui ricade\n",
    "  - la funzione `cut` crea un dato numero di fasce di **uguale ampiezza** o definite manualmente\n",
    "  - la funzione `qcut` crea un dato numero di fasce suddividendo i campioni in **parti uguali**\n",
    "  - in tutti i casi si ottiene una serie categorica, dove i valori possibili sono le fasce\n",
    "- Dividiamo ad esempio i totali dei conti in 4 fasce di uguale ampiezza e contiamo quanti sono in ciascuna"
   ]
  },
  {
   "cell_type": "code",
   "execution_count": 22,
   "metadata": {},
   "outputs": [
    {
     "data": {
      "text/plain": [
       "0    (15.005, 26.94]\n",
       "1    (3.022, 15.005]\n",
       "2    (15.005, 26.94]\n",
       "3    (15.005, 26.94]\n",
       "4    (15.005, 26.94]\n",
       "Name: total_bill, dtype: category\n",
       "Categories (4, interval[float64, right]): [(3.022, 15.005] < (15.005, 26.94] < (26.94, 38.875] < (38.875, 50.81]]"
      ]
     },
     "execution_count": 22,
     "metadata": {},
     "output_type": "execute_result"
    }
   ],
   "source": [
    "pd.cut(tips[\"total_bill\"], 4)   .head(5)"
   ]
  },
  {
   "cell_type": "code",
   "execution_count": 23,
   "metadata": {},
   "outputs": [
    {
     "data": {
      "text/plain": [
       "(15.005, 26.94]    119\n",
       "(3.022, 15.005]     80\n",
       "(26.94, 38.875]     34\n",
       "(38.875, 50.81]     11\n",
       "Name: total_bill, dtype: int64"
      ]
     },
     "execution_count": 23,
     "metadata": {},
     "output_type": "execute_result"
    }
   ],
   "source": [
    "pd.cut(tips[\"total_bill\"], 4).value_counts()"
   ]
  },
  {
   "cell_type": "markdown",
   "metadata": {
    "slideshow": {
     "slide_type": "slide"
    }
   },
   "source": [
    "### Esercizio 2: Analisi esplorativa\n",
    "\n",
    "- **(2a)** Estrarre le statistiche di base (`describe`) sulla spesa media per persona ai tavoli\n",
    "- **(2b)** Suddividere la percentuale della mancia rispetto al totale in 3 fasce di uguale ampiezza ed estrarre il numero di conti in ciascuna"
   ]
  },
  {
   "cell_type": "code",
   "execution_count": 24,
   "metadata": {},
   "outputs": [
    {
     "data": {
      "text/plain": [
       "count    244.00000\n",
       "mean       7.88823\n",
       "std        2.91435\n",
       "min        2.87500\n",
       "25%        5.80250\n",
       "50%        7.25500\n",
       "75%        9.39000\n",
       "max       20.27500\n",
       "dtype: float64"
      ]
     },
     "execution_count": 24,
     "metadata": {},
     "output_type": "execute_result"
    }
   ],
   "source": [
    "(tips[\"total_bill\"] / tips[\"size\"]).describe()"
   ]
  },
  {
   "cell_type": "code",
   "execution_count": 25,
   "metadata": {},
   "outputs": [
    {
     "data": {
      "text/plain": [
       "(0.035, 0.261]    236\n",
       "(0.261, 0.485]      7\n",
       "(0.485, 0.71]       1\n",
       "dtype: int64"
      ]
     },
     "execution_count": 25,
     "metadata": {},
     "output_type": "execute_result"
    }
   ],
   "source": [
    "pd.cut(tips[\"tip\"] / tips[\"total_bill\"], 3).value_counts()"
   ]
  },
  {
   "cell_type": "markdown",
   "metadata": {
    "slideshow": {
     "slide_type": "slide"
    }
   },
   "source": [
    "## Grafici\n",
    "\n",
    "- I grafici sono utili per indicare visivamente come sono distribuiti i valori in una serie di dati\n",
    "- Abbiamo introdotto nello scorso lab **matplotlib**, una libreria Python diffusa per creare grafici di svariati tipi\n",
    "- Abbiamo visto i grafici a barre e i boxplot e come applicare alcune personalizzazioni di base\n",
    "- Vediamo altri tipi di grafici disponibili e altre opzioni per personalizzarli\n",
    "- Iniziamo importando l'interfaccia \"pyplot\" e impostando il rendering nel file Jupyter"
   ]
  },
  {
   "cell_type": "code",
   "execution_count": 26,
   "metadata": {},
   "outputs": [],
   "source": [
    "import matplotlib.pyplot as plt\n",
    "%matplotlib inline"
   ]
  },
  {
   "cell_type": "markdown",
   "metadata": {
    "slideshow": {
     "slide_type": "slide"
    }
   },
   "source": [
    "### Grafico a torta\n",
    "\n",
    "- Un grafico a torta raffigura un cerchio diviso in settori (spicchi) di diverse dimensioni\n",
    "- Si può creare con la funzione `pie`, passando un vettore che definisce le proporzioni tra gli spicchi\n",
    "  - con l'attributo `labels` è possibile assegnare etichette a ciascun settore"
   ]
  },
  {
   "cell_type": "code",
   "execution_count": 27,
   "metadata": {},
   "outputs": [
    {
     "data": {
      "image/png": "[encoded data removed]",
      "text/plain": [
       "<Figure size 432x288 with 1 Axes>"
      ]
     },
     "metadata": {},
     "output_type": "display_data"
    }
   ],
   "source": [
    "plt.pie([1, 2, 3], labels=[\"one\", \"two\", \"three\"]);"
   ]
  },
  {
   "cell_type": "markdown",
   "metadata": {
    "slideshow": {
     "slide_type": "slide"
    }
   },
   "source": [
    "- Di default i colori del grafico sono scelti automaticamente\n",
    "- Si può impostare manualmente una lista di colori con l'attributo `colors`\n",
    "- I colori possono essere specificati [in vari modi](https://matplotlib.org/stable/tutorials/colors/colors.html), ad es. per nome, in notazione HTML/CSS o tupla di valori RGB"
   ]
  },
  {
   "cell_type": "code",
   "execution_count": 28,
   "metadata": {},
   "outputs": [
    {
     "data": {
      "image/png": "[encoded data removed]",
      "text/plain": [
       "<Figure size 432x288 with 1 Axes>"
      ]
     },
     "metadata": {},
     "output_type": "display_data"
    }
   ],
   "source": [
    "plt.pie(       [ 0.8,   1.0,       1.2           ],\n",
    "        labels=[ \"red\", \"yellow\",  \"blue\"        ],\n",
    "        colors=[ \"red\", \"#ffff00\", (0.0,0.0,1.0) ]);"
   ]
  },
  {
   "cell_type": "markdown",
   "metadata": {
    "slideshow": {
     "slide_type": "slide"
    }
   },
   "source": [
    "- I grafici a torta sono usati per visualizzare la distribuzione di valori categorici\n",
    "- Estraiamo ad esempio la colonna `sex` e i conteggi dei valori con `value_counts`"
   ]
  },
  {
   "cell_type": "code",
   "execution_count": 29,
   "metadata": {},
   "outputs": [
    {
     "data": {
      "text/plain": [
       "Male      157\n",
       "Female     87\n",
       "Name: sex, dtype: int64"
      ]
     },
     "execution_count": 29,
     "metadata": {},
     "output_type": "execute_result"
    }
   ],
   "source": [
    "sex_counts = tips[\"sex\"].value_counts()\n",
    "sex_counts"
   ]
  },
  {
   "cell_type": "markdown",
   "metadata": {},
   "source": [
    "- Possiamo usare la funzione `pie` per visualizzare tale distribuzione in un grafico a torta..."
   ]
  },
  {
   "cell_type": "code",
   "execution_count": 30,
   "metadata": {},
   "outputs": [
    {
     "data": {
      "image/png": "[encoded data removed]",
      "text/plain": [
       "<Figure size 432x288 with 1 Axes>"
      ]
     },
     "metadata": {},
     "output_type": "display_data"
    }
   ],
   "source": [
    "plt.pie(\n",
    "    sex_counts,\n",
    "    labels=sex_counts.index,\n",
    ");"
   ]
  },
  {
   "cell_type": "markdown",
   "metadata": {},
   "source": [
    "- ...o usare direttamente il metodo `plot.pie` della serie"
   ]
  },
  {
   "cell_type": "code",
   "execution_count": 31,
   "metadata": {},
   "outputs": [
    {
     "data": {
      "image/png": "[encoded data removed]",
      "text/plain": [
       "<Figure size 432x288 with 1 Axes>"
      ]
     },
     "metadata": {},
     "output_type": "display_data"
    }
   ],
   "source": [
    "sex_counts.plot.pie();"
   ]
  },
  {
   "cell_type": "markdown",
   "metadata": {},
   "source": [
    "- Per personalizzare i colori, possiamo definire un dizionario che associa ad ogni classe un colore da utilizzare..."
   ]
  },
  {
   "cell_type": "code",
   "execution_count": 32,
   "metadata": {},
   "outputs": [],
   "source": [
    "sex_plot_colors = {\"Female\": \"pink\", \"Male\": \"lightblue\"}"
   ]
  },
  {
   "cell_type": "markdown",
   "metadata": {},
   "source": [
    "- ...utilizzare il metodo `map` della serie per convertire il vettore dei nomi in un vettore dei colori..."
   ]
  },
  {
   "cell_type": "code",
   "execution_count": 33,
   "metadata": {},
   "outputs": [
    {
     "data": {
      "text/plain": [
       "['Male', 'Female']"
      ]
     },
     "execution_count": 33,
     "metadata": {},
     "output_type": "execute_result"
    }
   ],
   "source": [
    "sex_counts.index.to_list()"
   ]
  },
  {
   "cell_type": "code",
   "execution_count": 34,
   "metadata": {},
   "outputs": [
    {
     "data": {
      "text/plain": [
       "['lightblue', 'pink']"
      ]
     },
     "execution_count": 34,
     "metadata": {},
     "output_type": "execute_result"
    }
   ],
   "source": [
    "sex_counts.index.map(sex_plot_colors).to_list()"
   ]
  },
  {
   "cell_type": "markdown",
   "metadata": {},
   "source": [
    "- ...e passarlo come parametro `colors` della funzione o del metodo"
   ]
  },
  {
   "cell_type": "code",
   "execution_count": 35,
   "metadata": {},
   "outputs": [
    {
     "data": {
      "image/png": "[encoded data removed]",
      "text/plain": [
       "<Figure size 432x288 with 1 Axes>"
      ]
     },
     "metadata": {},
     "output_type": "display_data"
    }
   ],
   "source": [
    "sex_counts.plot.pie(colors=sex_counts.index.map(sex_plot_colors));"
   ]
  },
  {
   "cell_type": "markdown",
   "metadata": {
    "slideshow": {
     "slide_type": "slide"
    }
   },
   "source": [
    "- Possiamo visualizzare un grafico a torta anche di una serie numerica continua, discretizzandone i valori con `cut`\n",
    "- Ad esempio questo grafico evidenzia la presenza di poche mance alte"
   ]
  },
  {
   "cell_type": "code",
   "execution_count": 36,
   "metadata": {},
   "outputs": [
    {
     "data": {
      "image/png": "[encoded data removed]",
      "text/plain": [
       "<Figure size 432x288 with 1 Axes>"
      ]
     },
     "metadata": {},
     "output_type": "display_data"
    }
   ],
   "source": [
    "pd.cut(tips[\"tip\"], 4).value_counts().plot.pie();"
   ]
  },
  {
   "cell_type": "markdown",
   "metadata": {},
   "source": [
    "- Un grafico a torta può essere personalizzato passando parametri alla funzione o al metodo `pie`\n",
    "- Ad es. `autopct=X` visualizza su ogni sezione le percentuali corrispondenti con un formato specificato\n",
    "  - `%.2f` = percentuale con 2 cifre decimali, `%%` = simbolo \"%\""
   ]
  },
  {
   "cell_type": "code",
   "execution_count": 37,
   "metadata": {},
   "outputs": [
    {
     "data": {
      "image/png": "[encoded data removed]",
      "text/plain": [
       "<Figure size 432x288 with 1 Axes>"
      ]
     },
     "metadata": {},
     "output_type": "display_data"
    }
   ],
   "source": [
    "pd.cut(tips[\"tip\"], 4).value_counts().plot.pie(autopct=\"%.2f%%\");"
   ]
  },
  {
   "cell_type": "markdown",
   "metadata": {
    "slideshow": {
     "slide_type": "slide"
    },
    "tags": []
   },
   "source": [
    "### Grafico a barre\n",
    "\n",
    "- Abbiamo visto nel lab precedente come usare un grafico a barre per confrontare tra loro singoli valori\n",
    "- Possiamo usarlo anche per visualizzare la distribuzione di valori categorici, come alternativa ad un grafico a torta\n",
    "- Applichiamo il metodo `plot.bar` al conteggio dei valori della colonna `day`"
   ]
  },
  {
   "cell_type": "code",
   "execution_count": 38,
   "metadata": {},
   "outputs": [
    {
     "data": {
      "image/png": "[encoded data removed]",
      "text/plain": [
       "<Figure size 432x288 with 1 Axes>"
      ]
     },
     "metadata": {
      "needs_background": "light"
     },
     "output_type": "display_data"
    }
   ],
   "source": [
    "tips[\"day\"].value_counts().plot.bar();"
   ]
  },
  {
   "cell_type": "markdown",
   "metadata": {
    "slideshow": {
     "slide_type": "slide"
    },
    "tags": []
   },
   "source": [
    "### Istogramma\n",
    "\n",
    "- Un istogramma visualizza in un diagramma a barre la distribuzione di valori in una serie numerica\n",
    "- Possiamo crearlo suddividendo i valori in intervalli di pari ampiezza (come per `pd.cut`) e indicando il numero di valori in ciascun intervallo in un grafico a barre"
   ]
  },
  {
   "cell_type": "code",
   "execution_count": 39,
   "metadata": {},
   "outputs": [
    {
     "data": {
      "image/png": "[encoded data removed]",
      "text/plain": [
       "<Figure size 432x288 with 1 Axes>"
      ]
     },
     "metadata": {
      "needs_background": "light"
     },
     "output_type": "display_data"
    }
   ],
   "source": [
    "(\n",
    "    pd.cut(tips[\"tip\"], bins=20)  # discretizzo i valori\n",
    "    .value_counts()               # estraggo i conteggi\n",
    "    .sort_index()                 # devo ordinare i valori per etichetta!\n",
    "    .plot.bar()\n",
    ");"
   ]
  },
  {
   "cell_type": "markdown",
   "metadata": {},
   "source": [
    "- È però più conveniente usare la funzione `hist`, a cui passare direttamente i dati e il numero di fasce da creare `bins` (default 10)..."
   ]
  },
  {
   "cell_type": "code",
   "execution_count": 40,
   "metadata": {},
   "outputs": [
    {
     "data": {
      "image/png": "[encoded data removed]",
      "text/plain": [
       "<Figure size 432x288 with 1 Axes>"
      ]
     },
     "metadata": {
      "needs_background": "light"
     },
     "output_type": "display_data"
    }
   ],
   "source": [
    "plt.hist(tips[\"tip\"], bins=20);"
   ]
  },
  {
   "cell_type": "markdown",
   "metadata": {},
   "source": [
    "- ...oppure il metodo equivalente `plot.hist`"
   ]
  },
  {
   "cell_type": "code",
   "execution_count": 41,
   "metadata": {},
   "outputs": [
    {
     "data": {
      "image/png": "[encoded data removed]",
      "text/plain": [
       "<Figure size 432x288 with 1 Axes>"
      ]
     },
     "metadata": {
      "needs_background": "light"
     },
     "output_type": "display_data"
    }
   ],
   "source": [
    "tips[\"tip\"].plot.hist(bins=20);"
   ]
  },
  {
   "cell_type": "markdown",
   "metadata": {},
   "source": [
    "- Dall'istogramma vediamo ad occhio (come indicato in parte dall'output di `describe`) che la maggior parte delle mance sono comprese tra 2\\\\$ e 3,5\\\\$, ma c'è una \"coda\" di mance fino a 10\\\\$"
   ]
  },
  {
   "cell_type": "markdown",
   "metadata": {
    "slideshow": {
     "slide_type": "slide"
    }
   },
   "source": [
    "### Box plot\n",
    "\n",
    "- Abbiamo visto nello scorso lab il _box plot_ come metodo per visualizzare le statistiche essenziali di una serie di valori"
   ]
  },
  {
   "cell_type": "code",
   "execution_count": 42,
   "metadata": {
    "slideshow": {
     "slide_type": "-"
    }
   },
   "outputs": [
    {
     "data": {
      "image/png": "[encoded data removed]",
      "text/plain": [
       "<Figure size 432x288 with 1 Axes>"
      ]
     },
     "metadata": {
      "needs_background": "light"
     },
     "output_type": "display_data"
    }
   ],
   "source": [
    "tips[\"total_bill\"].plot.box(showmeans=True);"
   ]
  },
  {
   "cell_type": "markdown",
   "metadata": {},
   "source": [
    "- Il rettangolo evidenzia che il 50\\% \"centrale\" dei conti è tra i 15\\\\$ **(25%)** e i 25\\\\$ **(75%)** circa\n",
    "- Il triangolo (20\\\\$) e la linea centrale (18\\\\$) indicano rispettivamente **media** e **mediana (50%)**\n",
    "- I \"baffi\" indicano il **minimo** (2\\\\$) e il **massimo** (40\\\\$) dei dati \"ordinari\"\n",
    "- I valori molto fuori dalla norma (_outlier_) sono mostrati come cerchi esterni ai baffi"
   ]
  },
  {
   "cell_type": "markdown",
   "metadata": {
    "slideshow": {
     "slide_type": "slide"
    }
   },
   "source": [
    "- Possiamo invocare `plot.box` su un frame per visualizzare i box di tutte le colonne numeriche in un solo grafico\n",
    "  - però se i valori sono su scale diverse come in questo caso, alcuni box plot risultano schiacciati"
   ]
  },
  {
   "cell_type": "code",
   "execution_count": 43,
   "metadata": {
    "slideshow": {
     "slide_type": "-"
    }
   },
   "outputs": [
    {
     "data": {
      "image/png": "[encoded data removed]",
      "text/plain": [
       "<Figure size 432x288 with 1 Axes>"
      ]
     },
     "metadata": {
      "needs_background": "light"
     },
     "output_type": "display_data"
    }
   ],
   "source": [
    "tips.plot.box(showmeans=True);"
   ]
  },
  {
   "cell_type": "markdown",
   "metadata": {
    "slideshow": {
     "slide_type": "slide"
    }
   },
   "source": [
    "- I frame forniscono anche il metodo `boxplot` con alcune funzioni aggiuntive\n",
    "  - con `column` si specifica di quale colonna mostrare il grafico\n",
    "  - con `by` si partizionano i dati secondo il valore di un'altra colonna e si mostra il box plot per gruppi\n",
    "- Vediamo ad esempio la distribuzione delle mance differenziata per giorno della settimana"
   ]
  },
  {
   "cell_type": "code",
   "execution_count": 44,
   "metadata": {},
   "outputs": [
    {
     "data": {
      "image/png": "[encoded data removed]",
      "text/plain": [
       "<Figure size 432x288 with 1 Axes>"
      ]
     },
     "metadata": {
      "needs_background": "light"
     },
     "output_type": "display_data"
    }
   ],
   "source": [
    "tips.boxplot(column=\"tip\", by=\"day\", showmeans=True);"
   ]
  },
  {
   "cell_type": "markdown",
   "metadata": {
    "slideshow": {
     "slide_type": "slide"
    }
   },
   "source": [
    "### Grafico a dispersione\n",
    "\n",
    "- Un grafico a dispersione (_scatter plot_) visualizza dei punti in un piano\n",
    "- Si crea con la funzione `scatter`, passando due vettori di pari lunghezza con rispettivamente i valori per le coordinate X e Y di ciascun punto"
   ]
  },
  {
   "cell_type": "code",
   "execution_count": 45,
   "metadata": {},
   "outputs": [
    {
     "data": {
      "image/png": "[encoded data removed]",
      "text/plain": [
       "<Figure size 432x288 with 1 Axes>"
      ]
     },
     "metadata": {
      "needs_background": "light"
     },
     "output_type": "display_data"
    }
   ],
   "source": [
    "plt.scatter(\n",
    "    [1,    2, 3.14, 4, 5],   # X\n",
    "    [1.73, 3, 1,    3, 2],   # Y\n",
    ");"
   ]
  },
  {
   "cell_type": "markdown",
   "metadata": {
    "slideshow": {
     "slide_type": "slide"
    }
   },
   "source": [
    "- Un grafico a dispersione può essere usato per visualizzare la distribuzione di due variabili in modo congiunto\n",
    "- In questo modo è possibile **valutare se esiste una correlazione** tra tali due variabili\n",
    "- Vediamo ad esempio la correlazione tra totale del conto (asse X) e mancia lasciata (asse Y)"
   ]
  },
  {
   "cell_type": "code",
   "execution_count": 46,
   "metadata": {},
   "outputs": [
    {
     "data": {
      "image/png": "[encoded data removed]",
      "text/plain": [
       "<Figure size 432x288 with 1 Axes>"
      ]
     },
     "metadata": {
      "needs_background": "light"
     },
     "output_type": "display_data"
    }
   ],
   "source": [
    "plt.scatter(\n",
    "    tips[\"total_bill\"],  # X\n",
    "    tips[\"tip\"],         # Y\n",
    ");"
   ]
  },
  {
   "cell_type": "markdown",
   "metadata": {},
   "source": [
    "- Possiamo ottenere lo stesso grafico col metodo `plot.scatter` sul frame, specificando i nomi delle colonne da usare come X e Y"
   ]
  },
  {
   "cell_type": "code",
   "execution_count": 47,
   "metadata": {},
   "outputs": [
    {
     "data": {
      "image/png": "[encoded data removed]",
      "text/plain": [
       "<Figure size 432x288 with 1 Axes>"
      ]
     },
     "metadata": {
      "needs_background": "light"
     },
     "output_type": "display_data"
    }
   ],
   "source": [
    "tips.plot.scatter(\"total_bill\", \"tip\");"
   ]
  },
  {
   "cell_type": "markdown",
   "metadata": {},
   "source": [
    "- Il grafico evidenzia visivamente che in tendenza la mancia è (come prevedibile) tanto più alta quanto lo è il totale da pagare"
   ]
  },
  {
   "cell_type": "markdown",
   "metadata": {
    "slideshow": {
     "slide_type": "slide"
    }
   },
   "source": [
    "- I parametri `s` (size) e `c` (col) di `scatter` permettono di decidere dimensione e colore dei punti\n",
    "- Si può facilmente assegnare la stessa dimensione e/o colore a tutti i punti..."
   ]
  },
  {
   "cell_type": "code",
   "execution_count": 48,
   "metadata": {},
   "outputs": [
    {
     "data": {
      "image/png": "[encoded data removed]",
      "text/plain": [
       "<Figure size 432x288 with 1 Axes>"
      ]
     },
     "metadata": {
      "needs_background": "light"
     },
     "output_type": "display_data"
    }
   ],
   "source": [
    "tips.plot.scatter(\"total_bill\", \"tip\", s=7, c=\"red\");"
   ]
  },
  {
   "cell_type": "markdown",
   "metadata": {},
   "source": [
    "- Si possono però anche differenziare dimensioni e colori in base ai singoli punti, passando a `s` e `c` una serie di valori"
   ]
  },
  {
   "cell_type": "markdown",
   "metadata": {
    "slideshow": {
     "slide_type": "slide"
    }
   },
   "source": [
    "- Ad esempio, creiamo un grafico con dimensioni dei punti corrispondenti al numero di persone e colori diversificati per pranzi e cene\n",
    "  - a `s` passiamo i valori di `size` in scala esponenziale per differenziare meglio le dimensioni\n",
    "  - a `c` passiamo una serie col colore di ciascun punto ottenuta col metodo `map`"
   ]
  },
  {
   "cell_type": "code",
   "execution_count": 49,
   "metadata": {},
   "outputs": [
    {
     "data": {
      "image/png": "[encoded data removed]",
      "text/plain": [
       "<Figure size 432x288 with 1 Axes>"
      ]
     },
     "metadata": {
      "needs_background": "light"
     },
     "output_type": "display_data"
    }
   ],
   "source": [
    "time_colors = {\"Lunch\": \"red\", \"Dinner\": \"blue\"}\n",
    "\n",
    "tips.plot.scatter(\n",
    "    \"total_bill\",                     # X\n",
    "    \"tip\",                            # Y\n",
    "    s=np.exp(tips[\"size\"]),           # dimensione\n",
    "    c=tips[\"time\"].map(time_colors)   # colore\n",
    ");"
   ]
  },
  {
   "cell_type": "markdown",
   "metadata": {
    "slideshow": {
     "slide_type": "slide"
    }
   },
   "source": [
    "- Se come colore viene indicata una colonna numerica, viene usata una _colormap_ per mappare i valori numerici a colori secondo una scala\n",
    "  - esistono [molte colormap](https://matplotlib.org/stable/tutorials/colors/colormaps.html) integrate in matplotlib ed è possibile [crearne nuove](https://matplotlib.org/stable/tutorials/colors/colormap-manipulation.html)"
   ]
  },
  {
   "cell_type": "code",
   "execution_count": 50,
   "metadata": {},
   "outputs": [
    {
     "data": {
      "image/png": "[encoded data removed]",
      "text/plain": [
       "<Figure size 432x288 with 2 Axes>"
      ]
     },
     "metadata": {
      "needs_background": "light"
     },
     "output_type": "display_data"
    }
   ],
   "source": [
    "tips.plot.scatter(\"total_bill\", \"tip\", c=\"size\", colormap=\"plasma\");"
   ]
  },
  {
   "cell_type": "markdown",
   "metadata": {
    "slideshow": {
     "slide_type": "slide"
    }
   },
   "source": [
    "### Personalizzazione dei grafici\n",
    "\n",
    "Abbiamo visto nello scorso lab alcuni metodi per personalizzare i grafici:\n",
    "- il parametro `figsize` può essere usato nei metodi `plot.*` per stabilire la dimensione della figura come una tupla `(larghezza, altezza)`\n",
    "- le funzioni `xlabel` e `ylabel` impostano le etichette degli assi\n",
    "- la funzione `title` (o il parametro `title` nei metodi `plot.*`) imposta un titolo visualizzato sopra il grafico"
   ]
  },
  {
   "cell_type": "code",
   "execution_count": 51,
   "metadata": {},
   "outputs": [
    {
     "data": {
      "image/png": "[encoded data removed]",
      "text/plain": [
       "<Figure size 864x144 with 1 Axes>"
      ]
     },
     "metadata": {
      "needs_background": "light"
     },
     "output_type": "display_data"
    }
   ],
   "source": [
    "tips.plot.scatter(\"total_bill\", \"tip\", figsize=(12, 2))\n",
    "plt.title(\"Correlazione tra totali e mance\")\n",
    "plt.xlabel(\"Totale conto\")\n",
    "plt.ylabel(\"Mancia lasciata\");"
   ]
  },
  {
   "cell_type": "markdown",
   "metadata": {
    "slideshow": {
     "slide_type": "slide"
    }
   },
   "source": [
    "### Figure con grafici multipli\n",
    "\n",
    "- matplotlib permette di disporre a griglia molteplici grafici in una figura\n",
    "- Per riferirsi ad una porzione di grafico usare la funzione `subplot` indicando in ordine il numero di righe, il numero di colonne e l'indice della porzione (numerate da 1)\n",
    "- Sul risultato di `subplot` possono essere invocate le funzioni per creare i singoli grafici\n",
    "- Creiamo ad esempio una figura con 3 grafici di diverso tipo in una riga\n",
    "  - Chiamando la funzione `figure` prima definiamo gli attributi della figura, in questo caso la dimensione"
   ]
  },
  {
   "cell_type": "code",
   "execution_count": 52,
   "metadata": {},
   "outputs": [
    {
     "data": {
      "image/png": "[encoded data removed]",
      "text/plain": [
       "<Figure size 864x216 with 3 Axes>"
      ]
     },
     "metadata": {
      "needs_background": "light"
     },
     "output_type": "display_data"
    }
   ],
   "source": [
    "plt.figure(figsize=(12, 3))\n",
    "# plt.subplot(numero di righe, numero di colonne, indice)\n",
    "plt.subplot(1, 3, 1).bar([1, 2, 3], [1, 2, 3])\n",
    "plt.subplot(1, 3, 2).pie([1, 2, 3]);\n",
    "plt.subplot(1, 3, 3).scatter([1, 2, 3, 4], [2, 4, 1, 3]);"
   ]
  },
  {
   "cell_type": "markdown",
   "metadata": {
    "slideshow": {
     "slide_type": "slide"
    }
   },
   "source": [
    "- Per inserire grafici creati tramite pandas in un `subplot`, indicarlo come parametro `ax` nel metodo `plot.*` utilizzato\n",
    "- Creiamo ad esempio una griglia con i bar plot di tutte le variabili categoriche"
   ]
  },
  {
   "cell_type": "code",
   "execution_count": 53,
   "metadata": {},
   "outputs": [
    {
     "data": {
      "image/png": "[encoded data removed]",
      "text/plain": [
       "<Figure size 864x432 with 4 Axes>"
      ]
     },
     "metadata": {
      "needs_background": "light"
     },
     "output_type": "display_data"
    }
   ],
   "source": [
    "plt.figure(figsize=(12, 6))\n",
    "tips[\"sex\"]   .value_counts().plot.bar(ax=plt.subplot(2, 2, 1))\n",
    "tips[\"smoker\"].value_counts().plot.bar(ax=plt.subplot(2, 2, 2))\n",
    "tips[\"day\"]   .value_counts().plot.bar(ax=plt.subplot(2, 2, 3))\n",
    "tips[\"time\"]  .value_counts().plot.bar(ax=plt.subplot(2, 2, 4));"
   ]
  },
  {
   "cell_type": "markdown",
   "metadata": {},
   "source": [
    "- Per evitare ripetizioni di codice, sfruttiamo un ciclo `for` con la funzione `enumerate` per generare gli indici\n",
    "  - `enumerate([A, B, C, ...], start=1)` -> `(1, A), (2, B), (3, C), ...`"
   ]
  },
  {
   "cell_type": "code",
   "execution_count": 54,
   "metadata": {},
   "outputs": [
    {
     "data": {
      "image/png": "[encoded data removed]",
      "text/plain": [
       "<Figure size 864x432 with 4 Axes>"
      ]
     },
     "metadata": {
      "needs_background": "light"
     },
     "output_type": "display_data"
    }
   ],
   "source": [
    "plt.figure(figsize=(12, 6))\n",
    "for n, col in enumerate([\"sex\", \"smoker\", \"day\", \"time\"], start=1):\n",
    "    tips[col].value_counts().plot.bar(ax=plt.subplot(2, 2, n))"
   ]
  },
  {
   "cell_type": "markdown",
   "metadata": {
    "slideshow": {
     "slide_type": "slide"
    }
   },
   "source": [
    "### Esercizio 3: Grafici\n",
    "\n",
    "Creare i seguenti grafici:\n",
    "- **(3a)** un grafico a torta con la distribuzione dei totali dei conti in tre fasce di uguale ampiezza\n",
    "- **(3b)** un grafico a torta con la distribuzione delle sole cene (`time=\"Dinner\"`) per giorno della settimana\n",
    "- **(3c)** un'istogramma con la distribuzione del rapporto tra mancia e totale del conto\n",
    "- **(3d)** un box plot con la stessa distribuzione (3c)\n",
    "- **(3e)** un grafico a dispersione con la correlazione tra mancia lasciata e numero di persone al tavolo\n",
    "- **(3f)** una figura con un grafico a barre con la distribuzione di tavoli fumatori e non per ciascun giorno della settimana"
   ]
  },
  {
   "cell_type": "code",
   "execution_count": 55,
   "metadata": {},
   "outputs": [
    {
     "data": {
      "image/png": "[encoded data removed]",
      "text/plain": [
       "<Figure size 432x288 with 1 Axes>"
      ]
     },
     "metadata": {},
     "output_type": "display_data"
    }
   ],
   "source": [
    "pd.cut(tips[\"total_bill\"], 3).value_counts().plot.pie();"
   ]
  },
  {
   "cell_type": "code",
   "execution_count": 56,
   "metadata": {},
   "outputs": [
    {
     "data": {
      "image/png": "[encoded data removed]",
      "text/plain": [
       "<Figure size 432x288 with 1 Axes>"
      ]
     },
     "metadata": {},
     "output_type": "display_data"
    }
   ],
   "source": [
    "tips.loc[tips[\"time\"] == \"Dinner\", \"day\"].value_counts().plot.pie();"
   ]
  },
  {
   "cell_type": "code",
   "execution_count": 57,
   "metadata": {},
   "outputs": [
    {
     "data": {
      "image/png": "[encoded data removed]",
      "text/plain": [
       "<Figure size 432x288 with 1 Axes>"
      ]
     },
     "metadata": {
      "needs_background": "light"
     },
     "output_type": "display_data"
    }
   ],
   "source": [
    "(tips[\"tip\"] / tips[\"total_bill\"]).plot.hist();"
   ]
  },
  {
   "cell_type": "code",
   "execution_count": 58,
   "metadata": {},
   "outputs": [
    {
     "data": {
      "image/png": "[encoded data removed]",
      "text/plain": [
       "<Figure size 432x288 with 1 Axes>"
      ]
     },
     "metadata": {
      "needs_background": "light"
     },
     "output_type": "display_data"
    }
   ],
   "source": [
    "(tips[\"tip\"] / tips[\"total_bill\"]).plot.box();"
   ]
  },
  {
   "cell_type": "code",
   "execution_count": 59,
   "metadata": {},
   "outputs": [
    {
     "data": {
      "image/png": "[encoded data removed]",
      "text/plain": [
       "<Figure size 432x288 with 1 Axes>"
      ]
     },
     "metadata": {
      "needs_background": "light"
     },
     "output_type": "display_data"
    }
   ],
   "source": [
    "tips.plot.scatter(\"tip\", \"size\");"
   ]
  },
  {
   "cell_type": "code",
   "execution_count": 60,
   "metadata": {},
   "outputs": [
    {
     "data": {
      "image/png": "[encoded data removed]",
      "text/plain": [
       "<Figure size 432x288 with 4 Axes>"
      ]
     },
     "metadata": {
      "needs_background": "light"
     },
     "output_type": "display_data"
    }
   ],
   "source": [
    "for n, day in enumerate([\"Thur\", \"Fri\", \"Sat\", \"Sun\"], start=1):\n",
    "    tips.loc[tips[\"day\"] == day, \"smoker\"].value_counts().plot.bar(ax=plt.subplot(2, 2, n), title=day)"
   ]
  },
  {
   "cell_type": "markdown",
   "metadata": {
    "slideshow": {
     "slide_type": "slide"
    }
   },
   "source": [
    "## Raggruppamento\n",
    "\n",
    "- Abbiamo visto come calcolare statistiche (somma, media, ...) ed eseguire altre operazioni sugli interi DataFrame\n",
    "- È però spesso opportuno estrarre statistiche simili separate per gruppi di dati\n",
    "- **Esempio:** qual'è la media delle mance per ogni giorno della settimana?\n",
    "- Possiamo ottenere questa informazione con i metodi visti finora, ma in modo non del tutto immediato..."
   ]
  },
  {
   "cell_type": "code",
   "execution_count": 61,
   "metadata": {},
   "outputs": [
    {
     "name": "stdout",
     "output_type": "stream",
     "text": [
      " Sun:   3.26\n",
      " Sat:   2.99\n",
      "Thur:   2.77\n",
      " Fri:   2.73\n"
     ]
    }
   ],
   "source": [
    "for x in tips[\"day\"].unique():\n",
    "    mean_tips_on_x = tips.loc[tips[\"day\"] == x, \"tip\"].mean()\n",
    "    print(f\"{x:>4}: {mean_tips_on_x:6.2f}\")"
   ]
  },
  {
   "cell_type": "markdown",
   "metadata": {},
   "source": [
    "- I `DataFrame` possono essere partizionati in due o più **gruppi** di righe\n",
    "- I gruppi sono definiti in base ai valori in **una o più colonne _chiave_** o a valori derivati da esse\n",
    "- Sul frame partizionato è possibile compiere operazioni **separatamente sui singoli gruppi**, in particolare ottenere statistiche separate per gruppo"
   ]
  },
  {
   "cell_type": "markdown",
   "metadata": {
    "slideshow": {
     "slide_type": "slide"
    }
   },
   "source": [
    "### Raggruppamento su colonna singola\n",
    "\n",
    "- Come primo esempio, definiamo una partizione in base al valore della singola colonna `time`, che distingue i tavoli per pranzo (\"Lunch\") e cena (\"Dinner\")\n",
    "- Usiamo il metodo `groupby` indicando il nome della colonna"
   ]
  },
  {
   "cell_type": "code",
   "execution_count": 62,
   "metadata": {},
   "outputs": [
    {
     "data": {
      "text/plain": [
       "<pandas.core.groupby.generic.DataFrameGroupBy object at 0x7f15bb12f280>"
      ]
     },
     "execution_count": 62,
     "metadata": {},
     "output_type": "execute_result"
    }
   ],
   "source": [
    "tips.groupby(\"time\")"
   ]
  },
  {
   "cell_type": "markdown",
   "metadata": {},
   "source": [
    "- La partizione così creata contiene due gruppi, come verificabile dall'attributo `ngroups`"
   ]
  },
  {
   "cell_type": "code",
   "execution_count": 63,
   "metadata": {},
   "outputs": [
    {
     "data": {
      "text/plain": [
       "2"
      ]
     },
     "execution_count": 63,
     "metadata": {},
     "output_type": "execute_result"
    }
   ],
   "source": [
    "tips.groupby(\"time\").ngroups"
   ]
  },
  {
   "cell_type": "markdown",
   "metadata": {
    "slideshow": {
     "slide_type": "slide"
    }
   },
   "source": [
    "- Il dizionario `groups` contiene gli indici delle righe di ciascun gruppo\n",
    "- Le chiavi sono i nomi dei gruppi, corrispondenti ai valori della colonna di raggruppamento"
   ]
  },
  {
   "cell_type": "code",
   "execution_count": 64,
   "metadata": {},
   "outputs": [
    {
     "data": {
      "text/plain": [
       "['Dinner', 'Lunch']"
      ]
     },
     "execution_count": 64,
     "metadata": {},
     "output_type": "execute_result"
    }
   ],
   "source": [
    "list(tips.groupby(\"time\").groups.keys())"
   ]
  },
  {
   "cell_type": "markdown",
   "metadata": {},
   "source": [
    "- `size` restituisce una serie col numero di righe in ciascun gruppo\n",
    "  - equivalente in pratica a quella che otterremmo con `value_counts`"
   ]
  },
  {
   "cell_type": "code",
   "execution_count": 65,
   "metadata": {},
   "outputs": [
    {
     "data": {
      "text/plain": [
       "time\n",
       "Dinner    176\n",
       "Lunch      68\n",
       "dtype: int64"
      ]
     },
     "execution_count": 65,
     "metadata": {},
     "output_type": "execute_result"
    }
   ],
   "source": [
    "tips.groupby(\"time\").size()"
   ]
  },
  {
   "cell_type": "markdown",
   "metadata": {
    "slideshow": {
     "slide_type": "slide"
    }
   },
   "source": [
    "- Sulla partizione è possibile chiamare i metodi di aggregazione già visti per ottenere **statistiche divise per gruppi**\n",
    "- Chiamiamo ad esempio il metodo `mean` per il calcolo della media"
   ]
  },
  {
   "cell_type": "code",
   "execution_count": 66,
   "metadata": {},
   "outputs": [
    {
     "data": {
      "text/html": [
       "<div>\n",
       "<style scoped>\n",
       "    .dataframe tbody tr th:only-of-type {\n",
       "        vertical-align: middle;\n",
       "    }\n",
       "\n",
       "    .dataframe tbody tr th {\n",
       "        vertical-align: top;\n",
       "    }\n",
       "\n",
       "    .dataframe thead th {\n",
       "        text-align: right;\n",
       "    }\n",
       "</style>\n",
       "<table border=\"1\" class=\"dataframe\">\n",
       "  <thead>\n",
       "    <tr style=\"text-align: right;\">\n",
       "      <th></th>\n",
       "      <th>total_bill</th>\n",
       "      <th>tip</th>\n",
       "      <th>size</th>\n",
       "    </tr>\n",
       "    <tr>\n",
       "      <th>time</th>\n",
       "      <th></th>\n",
       "      <th></th>\n",
       "      <th></th>\n",
       "    </tr>\n",
       "  </thead>\n",
       "  <tbody>\n",
       "    <tr>\n",
       "      <th>Dinner</th>\n",
       "      <td>20.797159</td>\n",
       "      <td>3.102670</td>\n",
       "      <td>2.630682</td>\n",
       "    </tr>\n",
       "    <tr>\n",
       "      <th>Lunch</th>\n",
       "      <td>17.168676</td>\n",
       "      <td>2.728088</td>\n",
       "      <td>2.411765</td>\n",
       "    </tr>\n",
       "  </tbody>\n",
       "</table>\n",
       "</div>"
      ],
      "text/plain": [
       "        total_bill       tip      size\n",
       "time                                  \n",
       "Dinner   20.797159  3.102670  2.630682\n",
       "Lunch    17.168676  2.728088  2.411765"
      ]
     },
     "execution_count": 66,
     "metadata": {},
     "output_type": "execute_result"
    }
   ],
   "source": [
    "tips.groupby(\"time\").mean()"
   ]
  },
  {
   "cell_type": "markdown",
   "metadata": {},
   "source": [
    "- Si ottiene un DataFrame con **una riga per ogni gruppo**, in cui sono riportate le medie di ciascuna colonna limitate a quel gruppo\n",
    "- Si può vedere ad esempio che la mancia (`tip`) media è circa 3,10\\\\$ a cena e 2,73\\\\$ a pranzo"
   ]
  },
  {
   "cell_type": "markdown",
   "metadata": {
    "slideshow": {
     "slide_type": "slide"
    }
   },
   "source": [
    "- Possiamo anche selezionare una singola colonna dal raggruppamento per ottenere statistiche per gruppi limitate ad essa"
   ]
  },
  {
   "cell_type": "code",
   "execution_count": 67,
   "metadata": {},
   "outputs": [
    {
     "data": {
      "text/plain": [
       "time\n",
       "Dinner    3.102670\n",
       "Lunch     2.728088\n",
       "Name: tip, dtype: float64"
      ]
     },
     "execution_count": 67,
     "metadata": {},
     "output_type": "execute_result"
    }
   ],
   "source": [
    "tips.groupby(\"time\")[\"tip\"].mean()"
   ]
  },
  {
   "cell_type": "markdown",
   "metadata": {},
   "source": [
    "- Possiamo usare `describe` o `agg` per ottenere statistiche multiple"
   ]
  },
  {
   "cell_type": "code",
   "execution_count": 68,
   "metadata": {},
   "outputs": [
    {
     "data": {
      "text/html": [
       "<div>\n",
       "<style scoped>\n",
       "    .dataframe tbody tr th:only-of-type {\n",
       "        vertical-align: middle;\n",
       "    }\n",
       "\n",
       "    .dataframe tbody tr th {\n",
       "        vertical-align: top;\n",
       "    }\n",
       "\n",
       "    .dataframe thead th {\n",
       "        text-align: right;\n",
       "    }\n",
       "</style>\n",
       "<table border=\"1\" class=\"dataframe\">\n",
       "  <thead>\n",
       "    <tr style=\"text-align: right;\">\n",
       "      <th></th>\n",
       "      <th>count</th>\n",
       "      <th>mean</th>\n",
       "      <th>std</th>\n",
       "      <th>min</th>\n",
       "      <th>25%</th>\n",
       "      <th>50%</th>\n",
       "      <th>75%</th>\n",
       "      <th>max</th>\n",
       "    </tr>\n",
       "    <tr>\n",
       "      <th>time</th>\n",
       "      <th></th>\n",
       "      <th></th>\n",
       "      <th></th>\n",
       "      <th></th>\n",
       "      <th></th>\n",
       "      <th></th>\n",
       "      <th></th>\n",
       "      <th></th>\n",
       "    </tr>\n",
       "  </thead>\n",
       "  <tbody>\n",
       "    <tr>\n",
       "      <th>Dinner</th>\n",
       "      <td>176.0</td>\n",
       "      <td>3.102670</td>\n",
       "      <td>1.436243</td>\n",
       "      <td>1.00</td>\n",
       "      <td>2.0</td>\n",
       "      <td>3.00</td>\n",
       "      <td>3.6875</td>\n",
       "      <td>10.0</td>\n",
       "    </tr>\n",
       "    <tr>\n",
       "      <th>Lunch</th>\n",
       "      <td>68.0</td>\n",
       "      <td>2.728088</td>\n",
       "      <td>1.205345</td>\n",
       "      <td>1.25</td>\n",
       "      <td>2.0</td>\n",
       "      <td>2.25</td>\n",
       "      <td>3.2875</td>\n",
       "      <td>6.7</td>\n",
       "    </tr>\n",
       "  </tbody>\n",
       "</table>\n",
       "</div>"
      ],
      "text/plain": [
       "        count      mean       std   min  25%   50%     75%   max\n",
       "time                                                            \n",
       "Dinner  176.0  3.102670  1.436243  1.00  2.0  3.00  3.6875  10.0\n",
       "Lunch    68.0  2.728088  1.205345  1.25  2.0  2.25  3.2875   6.7"
      ]
     },
     "execution_count": 68,
     "metadata": {},
     "output_type": "execute_result"
    }
   ],
   "source": [
    "tips.groupby(\"time\")[\"tip\"].describe()"
   ]
  },
  {
   "cell_type": "markdown",
   "metadata": {
    "slideshow": {
     "slide_type": "slide"
    }
   },
   "source": [
    "### Raggruppamento su valori derivati\n",
    "\n",
    "- Oltre che su una colonna, i gruppi possono essere creati in base ad **altre serie con indice uguale** a quello del DataFrame, ad es. a variabili **derivate dalle colonne esistenti**\n",
    "- Ipotizziamo ad esempio di voler distinguere tra tavoli \"piccoli\" con 4 persone al massimo e tavoli \"grandi\" con più persone\n",
    "- Creiamo una serie booleana che indichi se il tavolo è \"grande\" o meno e la passiamo come argomento a `groupby`"
   ]
  },
  {
   "cell_type": "code",
   "execution_count": 69,
   "metadata": {},
   "outputs": [
    {
     "data": {
      "text/plain": [
       "<pandas.core.groupby.generic.DataFrameGroupBy object at 0x7f15bb1c66a0>"
      ]
     },
     "execution_count": 69,
     "metadata": {},
     "output_type": "execute_result"
    }
   ],
   "source": [
    "large_table = tips[\"size\"] > 4\n",
    "tips.groupby(large_table)"
   ]
  },
  {
   "cell_type": "markdown",
   "metadata": {},
   "source": [
    "- Otteniamo quindi una partizione nei gruppi `False` (tavoli piccoli) e `True` (tavoli grandi)"
   ]
  },
  {
   "cell_type": "code",
   "execution_count": 70,
   "metadata": {},
   "outputs": [
    {
     "data": {
      "text/plain": [
       "[False, True]"
      ]
     },
     "execution_count": 70,
     "metadata": {},
     "output_type": "execute_result"
    }
   ],
   "source": [
    "list(tips.groupby(large_table).groups.keys())"
   ]
  },
  {
   "cell_type": "markdown",
   "metadata": {
    "slideshow": {
     "slide_type": "slide"
    }
   },
   "source": [
    "- Anche in questo caso possiamo calcolare statistiche per gruppo"
   ]
  },
  {
   "cell_type": "code",
   "execution_count": 71,
   "metadata": {},
   "outputs": [
    {
     "data": {
      "text/html": [
       "<div>\n",
       "<style scoped>\n",
       "    .dataframe tbody tr th:only-of-type {\n",
       "        vertical-align: middle;\n",
       "    }\n",
       "\n",
       "    .dataframe tbody tr th {\n",
       "        vertical-align: top;\n",
       "    }\n",
       "\n",
       "    .dataframe thead th {\n",
       "        text-align: right;\n",
       "    }\n",
       "</style>\n",
       "<table border=\"1\" class=\"dataframe\">\n",
       "  <thead>\n",
       "    <tr style=\"text-align: right;\">\n",
       "      <th></th>\n",
       "      <th>total_bill</th>\n",
       "      <th>tip</th>\n",
       "      <th>size</th>\n",
       "    </tr>\n",
       "    <tr>\n",
       "      <th>size</th>\n",
       "      <th></th>\n",
       "      <th></th>\n",
       "      <th></th>\n",
       "    </tr>\n",
       "  </thead>\n",
       "  <tbody>\n",
       "    <tr>\n",
       "      <th>False</th>\n",
       "      <td>19.311106</td>\n",
       "      <td>2.938468</td>\n",
       "      <td>2.459574</td>\n",
       "    </tr>\n",
       "    <tr>\n",
       "      <th>True</th>\n",
       "      <td>32.184444</td>\n",
       "      <td>4.560000</td>\n",
       "      <td>5.444444</td>\n",
       "    </tr>\n",
       "  </tbody>\n",
       "</table>\n",
       "</div>"
      ],
      "text/plain": [
       "       total_bill       tip      size\n",
       "size                                 \n",
       "False   19.311106  2.938468  2.459574\n",
       "True    32.184444  4.560000  5.444444"
      ]
     },
     "execution_count": 71,
     "metadata": {},
     "output_type": "execute_result"
    }
   ],
   "source": [
    "tips.groupby(large_table).mean()"
   ]
  },
  {
   "cell_type": "markdown",
   "metadata": {},
   "source": [
    "- Possiamo usare `map` per cambiare i valori della serie di raggruppamento e di conseguenza i nomi dei gruppi, in modo che siano più comprensibili"
   ]
  },
  {
   "cell_type": "code",
   "execution_count": 72,
   "metadata": {},
   "outputs": [
    {
     "data": {
      "text/html": [
       "<div>\n",
       "<style scoped>\n",
       "    .dataframe tbody tr th:only-of-type {\n",
       "        vertical-align: middle;\n",
       "    }\n",
       "\n",
       "    .dataframe tbody tr th {\n",
       "        vertical-align: top;\n",
       "    }\n",
       "\n",
       "    .dataframe thead th {\n",
       "        text-align: right;\n",
       "    }\n",
       "</style>\n",
       "<table border=\"1\" class=\"dataframe\">\n",
       "  <thead>\n",
       "    <tr style=\"text-align: right;\">\n",
       "      <th></th>\n",
       "      <th>total_bill</th>\n",
       "      <th>tip</th>\n",
       "      <th>size</th>\n",
       "    </tr>\n",
       "    <tr>\n",
       "      <th>size</th>\n",
       "      <th></th>\n",
       "      <th></th>\n",
       "      <th></th>\n",
       "    </tr>\n",
       "  </thead>\n",
       "  <tbody>\n",
       "    <tr>\n",
       "      <th>Large</th>\n",
       "      <td>32.184444</td>\n",
       "      <td>4.560000</td>\n",
       "      <td>5.444444</td>\n",
       "    </tr>\n",
       "    <tr>\n",
       "      <th>Small</th>\n",
       "      <td>19.311106</td>\n",
       "      <td>2.938468</td>\n",
       "      <td>2.459574</td>\n",
       "    </tr>\n",
       "  </tbody>\n",
       "</table>\n",
       "</div>"
      ],
      "text/plain": [
       "       total_bill       tip      size\n",
       "size                                 \n",
       "Large   32.184444  4.560000  5.444444\n",
       "Small   19.311106  2.938468  2.459574"
      ]
     },
     "execution_count": 72,
     "metadata": {},
     "output_type": "execute_result"
    }
   ],
   "source": [
    "table_size = (tips[\"size\"] > 4).map({True: \"Large\", False: \"Small\"})\n",
    "tips.groupby(table_size).mean()"
   ]
  },
  {
   "cell_type": "markdown",
   "metadata": {},
   "source": [
    "- Ovviamente nei tavoli più grandi sia il totale dei conti che le mance sono in media maggiori"
   ]
  },
  {
   "cell_type": "markdown",
   "metadata": {
    "slideshow": {
     "slide_type": "slide"
    }
   },
   "source": [
    "### Chiavi di raggruppamento multiple\n",
    "\n",
    "- Creiamo ora una partizione basata su due diverse colonne categoriche: `time` (pranzo o cena) e `smoker` (fumatori o non)\n",
    "- Passiamo a `groupby` la lista dei nomi delle colonne"
   ]
  },
  {
   "cell_type": "code",
   "execution_count": 73,
   "metadata": {},
   "outputs": [
    {
     "data": {
      "text/plain": [
       "<pandas.core.groupby.generic.DataFrameGroupBy object at 0x7f15bb2964f0>"
      ]
     },
     "execution_count": 73,
     "metadata": {},
     "output_type": "execute_result"
    }
   ],
   "source": [
    "tips.groupby([\"time\", \"smoker\"])"
   ]
  },
  {
   "cell_type": "markdown",
   "metadata": {},
   "source": [
    "- Abbiamo un totale di 2×2 = 4 gruppi possibili"
   ]
  },
  {
   "cell_type": "code",
   "execution_count": 74,
   "metadata": {},
   "outputs": [
    {
     "data": {
      "text/plain": [
       "[('Dinner', 'No'), ('Dinner', 'Yes'), ('Lunch', 'No'), ('Lunch', 'Yes')]"
      ]
     },
     "execution_count": 74,
     "metadata": {},
     "output_type": "execute_result"
    }
   ],
   "source": [
    "list(tips.groupby([\"time\", \"smoker\"]).groups.keys())"
   ]
  },
  {
   "cell_type": "markdown",
   "metadata": {},
   "source": [
    "- Ciascun gruppo è identificato da una tupla di due valori corrispondenti alle due chiavi: ad esempio `('Dinner', 'No')` indica tavoli a cena di non fumatori"
   ]
  },
  {
   "cell_type": "markdown",
   "metadata": {
    "slideshow": {
     "slide_type": "slide"
    }
   },
   "source": [
    "- Anche in questo caso possiamo calcolare le medie per ciascun gruppo"
   ]
  },
  {
   "cell_type": "code",
   "execution_count": 75,
   "metadata": {},
   "outputs": [
    {
     "data": {
      "text/html": [
       "<div>\n",
       "<style scoped>\n",
       "    .dataframe tbody tr th:only-of-type {\n",
       "        vertical-align: middle;\n",
       "    }\n",
       "\n",
       "    .dataframe tbody tr th {\n",
       "        vertical-align: top;\n",
       "    }\n",
       "\n",
       "    .dataframe thead th {\n",
       "        text-align: right;\n",
       "    }\n",
       "</style>\n",
       "<table border=\"1\" class=\"dataframe\">\n",
       "  <thead>\n",
       "    <tr style=\"text-align: right;\">\n",
       "      <th></th>\n",
       "      <th></th>\n",
       "      <th>total_bill</th>\n",
       "      <th>tip</th>\n",
       "      <th>size</th>\n",
       "    </tr>\n",
       "    <tr>\n",
       "      <th>time</th>\n",
       "      <th>smoker</th>\n",
       "      <th></th>\n",
       "      <th></th>\n",
       "      <th></th>\n",
       "    </tr>\n",
       "  </thead>\n",
       "  <tbody>\n",
       "    <tr>\n",
       "      <th rowspan=\"2\" valign=\"top\">Dinner</th>\n",
       "      <th>No</th>\n",
       "      <td>20.095660</td>\n",
       "      <td>3.126887</td>\n",
       "      <td>2.735849</td>\n",
       "    </tr>\n",
       "    <tr>\n",
       "      <th>Yes</th>\n",
       "      <td>21.859429</td>\n",
       "      <td>3.066000</td>\n",
       "      <td>2.471429</td>\n",
       "    </tr>\n",
       "    <tr>\n",
       "      <th rowspan=\"2\" valign=\"top\">Lunch</th>\n",
       "      <th>No</th>\n",
       "      <td>17.050889</td>\n",
       "      <td>2.673778</td>\n",
       "      <td>2.511111</td>\n",
       "    </tr>\n",
       "    <tr>\n",
       "      <th>Yes</th>\n",
       "      <td>17.399130</td>\n",
       "      <td>2.834348</td>\n",
       "      <td>2.217391</td>\n",
       "    </tr>\n",
       "  </tbody>\n",
       "</table>\n",
       "</div>"
      ],
      "text/plain": [
       "               total_bill       tip      size\n",
       "time   smoker                                \n",
       "Dinner No       20.095660  3.126887  2.735849\n",
       "       Yes      21.859429  3.066000  2.471429\n",
       "Lunch  No       17.050889  2.673778  2.511111\n",
       "       Yes      17.399130  2.834348  2.217391"
      ]
     },
     "execution_count": 75,
     "metadata": {},
     "output_type": "execute_result"
    }
   ],
   "source": [
    "tips.groupby([\"time\", \"smoker\"]).mean()"
   ]
  },
  {
   "cell_type": "markdown",
   "metadata": {},
   "source": [
    "- Il frame ottenuto mostra un esempio di **indice delle righe a più livelli**: ciascuna riga è etichettata da una tupla di valori piuttosto che da uno come visto finora\n",
    "- In questo esempio i livelli sono due, per cui ogni riga è identificata da una tupla di due elementi\n",
    "- A ogni livello può essere associato un nome: quì i nomi (`time` e `smoker`) sono quelli delle colonne nel frame originale"
   ]
  },
  {
   "cell_type": "markdown",
   "metadata": {
    "slideshow": {
     "slide_type": "slide"
    }
   },
   "source": [
    "- Anche una serie può avere un indice a più livelli\n",
    "- Usiamo ad esempio `size` per ottenere il numero di elementi di ciascun gruppo"
   ]
  },
  {
   "cell_type": "code",
   "execution_count": 76,
   "metadata": {},
   "outputs": [
    {
     "data": {
      "text/plain": [
       "time    smoker\n",
       "Dinner  No        106\n",
       "        Yes        70\n",
       "Lunch   No         45\n",
       "        Yes        23\n",
       "dtype: int64"
      ]
     },
     "execution_count": 76,
     "metadata": {},
     "output_type": "execute_result"
    }
   ],
   "source": [
    "tips.groupby([\"time\", \"smoker\"]).size()"
   ]
  },
  {
   "cell_type": "markdown",
   "metadata": {},
   "source": [
    "- Abbiamo una serie di 4 valori, ciascuno etichettato da una coppia di elementi"
   ]
  },
  {
   "cell_type": "markdown",
   "metadata": {
    "slideshow": {
     "slide_type": "slide"
    }
   },
   "source": [
    "- Per estrarre un singolo elemento dalla serie (o una singola riga dal DataFrame), specifichiamo l'etichetta in forma di tupla\n",
    "  - nota: le parentesi tonde all'interno delle quadre sono opzionali"
   ]
  },
  {
   "cell_type": "code",
   "execution_count": 77,
   "metadata": {},
   "outputs": [
    {
     "data": {
      "text/plain": [
       "106"
      ]
     },
     "execution_count": 77,
     "metadata": {},
     "output_type": "execute_result"
    }
   ],
   "source": [
    "tips.groupby([\"time\", \"smoker\"]).size()[(\"Dinner\", \"No\")]"
   ]
  },
  {
   "cell_type": "markdown",
   "metadata": {},
   "source": [
    "- Possiamo specificare un'etichetta parziale per estrarre una porzione dei dati\n",
    "  - ad esempio indichiamo `\"Dinner\"` per estrarre tutte le righe con etichetta `(\"Dinner\", *)`\n",
    "  - il livello `time` dell'indice sul quale è compiuta la selezione è rimosso dalla selezione, lasciando solo `smoker`"
   ]
  },
  {
   "cell_type": "code",
   "execution_count": 78,
   "metadata": {},
   "outputs": [
    {
     "data": {
      "text/plain": [
       "smoker\n",
       "No     106\n",
       "Yes     70\n",
       "dtype: int64"
      ]
     },
     "execution_count": 78,
     "metadata": {},
     "output_type": "execute_result"
    }
   ],
   "source": [
    "tips.groupby([\"time\", \"smoker\"]).size()[\"Dinner\"]"
   ]
  },
  {
   "cell_type": "markdown",
   "metadata": {},
   "source": [
    "- Per filtrare sul secondo livello, possiamo specificare \":\" al posto del primo"
   ]
  },
  {
   "cell_type": "code",
   "execution_count": 79,
   "metadata": {},
   "outputs": [
    {
     "data": {
      "text/plain": [
       "time\n",
       "Dinner    106\n",
       "Lunch      45\n",
       "dtype: int64"
      ]
     },
     "execution_count": 79,
     "metadata": {},
     "output_type": "execute_result"
    }
   ],
   "source": [
    "tips.groupby([\"time\", \"smoker\"]).size()[:, \"No\"]"
   ]
  },
  {
   "cell_type": "markdown",
   "metadata": {
    "slideshow": {
     "slide_type": "slide"
    }
   },
   "source": [
    "### Esercizio 4: `groupby`\n",
    "\n",
    "Ottenere:\n",
    "- **(4a)** una serie col numero di persone medio a tavoli con fumatori e non\n",
    "- **(4b)** un frame col totale e la media delle mance per ciascun giorno della settimana\n",
    "- **(4c)** una serie con la media delle mance ricevute di venerdì (\"Fri\"), suddivise tra pranzo e cena\n",
    "- **(4d)** una serie con la media delle mance ricevute tra tavoli che hanno pagato almeno 20$ e quelli che han pagato di meno"
   ]
  },
  {
   "cell_type": "code",
   "execution_count": 81,
   "metadata": {},
   "outputs": [
    {
     "data": {
      "text/plain": [
       "smoker\n",
       "No     2.668874\n",
       "Yes    2.408602\n",
       "Name: size, dtype: float64"
      ]
     },
     "execution_count": 81,
     "metadata": {},
     "output_type": "execute_result"
    }
   ],
   "source": [
    "tips.groupby(\"smoker\")[\"size\"].mean()"
   ]
  },
  {
   "cell_type": "code",
   "execution_count": 82,
   "metadata": {},
   "outputs": [
    {
     "data": {
      "text/html": [
       "<div>\n",
       "<style scoped>\n",
       "    .dataframe tbody tr th:only-of-type {\n",
       "        vertical-align: middle;\n",
       "    }\n",
       "\n",
       "    .dataframe tbody tr th {\n",
       "        vertical-align: top;\n",
       "    }\n",
       "\n",
       "    .dataframe thead th {\n",
       "        text-align: right;\n",
       "    }\n",
       "</style>\n",
       "<table border=\"1\" class=\"dataframe\">\n",
       "  <thead>\n",
       "    <tr style=\"text-align: right;\">\n",
       "      <th></th>\n",
       "      <th>sum</th>\n",
       "      <th>mean</th>\n",
       "    </tr>\n",
       "    <tr>\n",
       "      <th>day</th>\n",
       "      <th></th>\n",
       "      <th></th>\n",
       "    </tr>\n",
       "  </thead>\n",
       "  <tbody>\n",
       "    <tr>\n",
       "      <th>Fri</th>\n",
       "      <td>51.96</td>\n",
       "      <td>2.734737</td>\n",
       "    </tr>\n",
       "    <tr>\n",
       "      <th>Sat</th>\n",
       "      <td>260.40</td>\n",
       "      <td>2.993103</td>\n",
       "    </tr>\n",
       "    <tr>\n",
       "      <th>Sun</th>\n",
       "      <td>247.39</td>\n",
       "      <td>3.255132</td>\n",
       "    </tr>\n",
       "    <tr>\n",
       "      <th>Thur</th>\n",
       "      <td>171.83</td>\n",
       "      <td>2.771452</td>\n",
       "    </tr>\n",
       "  </tbody>\n",
       "</table>\n",
       "</div>"
      ],
      "text/plain": [
       "         sum      mean\n",
       "day                   \n",
       "Fri    51.96  2.734737\n",
       "Sat   260.40  2.993103\n",
       "Sun   247.39  3.255132\n",
       "Thur  171.83  2.771452"
      ]
     },
     "execution_count": 82,
     "metadata": {},
     "output_type": "execute_result"
    }
   ],
   "source": [
    "tips.groupby(\"day\")[\"tip\"].agg([\"sum\", \"mean\"])"
   ]
  },
  {
   "cell_type": "code",
   "execution_count": 83,
   "metadata": {},
   "outputs": [
    {
     "data": {
      "text/plain": [
       "time\n",
       "Dinner    2.940000\n",
       "Lunch     2.382857\n",
       "Name: tip, dtype: float64"
      ]
     },
     "execution_count": 83,
     "metadata": {},
     "output_type": "execute_result"
    }
   ],
   "source": [
    "tips.loc[tips[\"day\"] == \"Fri\"].groupby(\"time\")[\"tip\"].mean()"
   ]
  },
  {
   "cell_type": "code",
   "execution_count": 84,
   "metadata": {},
   "outputs": [
    {
     "data": {
      "text/plain": [
       "total_bill\n",
       "False    2.383810\n",
       "True     3.929485\n",
       "Name: tip, dtype: float64"
      ]
     },
     "execution_count": 84,
     "metadata": {},
     "output_type": "execute_result"
    }
   ],
   "source": [
    "tips.groupby(tips[\"total_bill\"] >= 20)[\"tip\"].mean()"
   ]
  },
  {
   "cell_type": "markdown",
   "metadata": {
    "slideshow": {
     "slide_type": "slide"
    }
   },
   "source": [
    "## Pivoting\n",
    "\n",
    "- Le operazioni di _pivoting_ permettono di **riorganizzare i valori** contenuti in una serie o DataFrame **spostando i livelli degli indici**\n",
    "- Un livello presente nell'indice della serie o delle righe del DataFrame può essere spostato nelle colonne o viceversa\n",
    "- Sono definite due operazioni di base che si possono compiere su serie e DataFrame:\n",
    "  - `stack` sposta un livello **dalle colonne alle righe**, per cui dati che erano affiancati vengono **impilati**, messi uno sopra l'altro (\"stacked\")\n",
    "  - `unstack` compie l'operazione inversa, spostando un livello **dalle righe alle colonne** e rendendo **affiancati** dati che erano impilati"
   ]
  },
  {
   "cell_type": "markdown",
   "metadata": {
    "slideshow": {
     "slide_type": "slide"
    }
   },
   "source": [
    "- Ad esempio, presa la serie con indice a due livelli ottenuta sopra..."
   ]
  },
  {
   "cell_type": "code",
   "execution_count": 85,
   "metadata": {},
   "outputs": [
    {
     "data": {
      "text/plain": [
       "time    smoker\n",
       "Dinner  No        106\n",
       "        Yes        70\n",
       "Lunch   No         45\n",
       "        Yes        23\n",
       "dtype: int64"
      ]
     },
     "execution_count": 85,
     "metadata": {},
     "output_type": "execute_result"
    }
   ],
   "source": [
    "size_by_time_smoker = tips.groupby([\"time\", \"smoker\"]).size()\n",
    "size_by_time_smoker"
   ]
  },
  {
   "cell_type": "markdown",
   "metadata": {},
   "source": [
    "- ...posso usare `unstack` per ottenere un frame dove uno dei due livelli tra `time` e `smoker` rimane come indice delle righe e l'altro diventa indice delle colonne\n",
    "- Ad esempio, imposto `smoker` come indice delle colonne per ottenere una tabella dove ogni riga corrisponde ad un valore di `time` e ogni colonna ad uno di `smoker`\n",
    "- Il frame ha **gli stessi dati** della serie, ma **ridisposti in una tabella**"
   ]
  },
  {
   "cell_type": "code",
   "execution_count": 86,
   "metadata": {},
   "outputs": [
    {
     "data": {
      "text/html": [
       "<div>\n",
       "<style scoped>\n",
       "    .dataframe tbody tr th:only-of-type {\n",
       "        vertical-align: middle;\n",
       "    }\n",
       "\n",
       "    .dataframe tbody tr th {\n",
       "        vertical-align: top;\n",
       "    }\n",
       "\n",
       "    .dataframe thead th {\n",
       "        text-align: right;\n",
       "    }\n",
       "</style>\n",
       "<table border=\"1\" class=\"dataframe\">\n",
       "  <thead>\n",
       "    <tr style=\"text-align: right;\">\n",
       "      <th>smoker</th>\n",
       "      <th>No</th>\n",
       "      <th>Yes</th>\n",
       "    </tr>\n",
       "    <tr>\n",
       "      <th>time</th>\n",
       "      <th></th>\n",
       "      <th></th>\n",
       "    </tr>\n",
       "  </thead>\n",
       "  <tbody>\n",
       "    <tr>\n",
       "      <th>Dinner</th>\n",
       "      <td>106</td>\n",
       "      <td>70</td>\n",
       "    </tr>\n",
       "    <tr>\n",
       "      <th>Lunch</th>\n",
       "      <td>45</td>\n",
       "      <td>23</td>\n",
       "    </tr>\n",
       "  </tbody>\n",
       "</table>\n",
       "</div>"
      ],
      "text/plain": [
       "smoker   No  Yes\n",
       "time            \n",
       "Dinner  106   70\n",
       "Lunch    45   23"
      ]
     },
     "execution_count": 86,
     "metadata": {},
     "output_type": "execute_result"
    }
   ],
   "source": [
    "size_by_time_smoker.unstack(\"smoker\")"
   ]
  },
  {
   "cell_type": "markdown",
   "metadata": {},
   "source": [
    "- `stack` rappresenta l'operazione inversa: applicandola ottengo la serie originale"
   ]
  },
  {
   "cell_type": "code",
   "execution_count": 87,
   "metadata": {},
   "outputs": [
    {
     "data": {
      "text/plain": [
       "time    smoker\n",
       "Dinner  No        106\n",
       "        Yes        70\n",
       "Lunch   No         45\n",
       "        Yes        23\n",
       "dtype: int64"
      ]
     },
     "execution_count": 87,
     "metadata": {},
     "output_type": "execute_result"
    }
   ],
   "source": [
    "size_by_time_smoker.unstack(\"smoker\").stack()"
   ]
  },
  {
   "cell_type": "markdown",
   "metadata": {
    "slideshow": {
     "slide_type": "slide"
    }
   },
   "source": [
    "- Il metodo `unstack` può essere chiamato anche su un DataFrame, introducendo più livelli di colonne\n",
    "- Ad esempio, calcolando le medie per gruppo otteniamo un DataFrame con due livelli di righe (gli stessi della serie sopra) e uno di colonne (le colonne del DataFrame originale)"
   ]
  },
  {
   "cell_type": "code",
   "execution_count": 88,
   "metadata": {},
   "outputs": [
    {
     "data": {
      "text/html": [
       "<div>\n",
       "<style scoped>\n",
       "    .dataframe tbody tr th:only-of-type {\n",
       "        vertical-align: middle;\n",
       "    }\n",
       "\n",
       "    .dataframe tbody tr th {\n",
       "        vertical-align: top;\n",
       "    }\n",
       "\n",
       "    .dataframe thead th {\n",
       "        text-align: right;\n",
       "    }\n",
       "</style>\n",
       "<table border=\"1\" class=\"dataframe\">\n",
       "  <thead>\n",
       "    <tr style=\"text-align: right;\">\n",
       "      <th></th>\n",
       "      <th></th>\n",
       "      <th>total_bill</th>\n",
       "      <th>tip</th>\n",
       "      <th>size</th>\n",
       "    </tr>\n",
       "    <tr>\n",
       "      <th>time</th>\n",
       "      <th>smoker</th>\n",
       "      <th></th>\n",
       "      <th></th>\n",
       "      <th></th>\n",
       "    </tr>\n",
       "  </thead>\n",
       "  <tbody>\n",
       "    <tr>\n",
       "      <th rowspan=\"2\" valign=\"top\">Dinner</th>\n",
       "      <th>No</th>\n",
       "      <td>20.095660</td>\n",
       "      <td>3.126887</td>\n",
       "      <td>2.735849</td>\n",
       "    </tr>\n",
       "    <tr>\n",
       "      <th>Yes</th>\n",
       "      <td>21.859429</td>\n",
       "      <td>3.066000</td>\n",
       "      <td>2.471429</td>\n",
       "    </tr>\n",
       "    <tr>\n",
       "      <th rowspan=\"2\" valign=\"top\">Lunch</th>\n",
       "      <th>No</th>\n",
       "      <td>17.050889</td>\n",
       "      <td>2.673778</td>\n",
       "      <td>2.511111</td>\n",
       "    </tr>\n",
       "    <tr>\n",
       "      <th>Yes</th>\n",
       "      <td>17.399130</td>\n",
       "      <td>2.834348</td>\n",
       "      <td>2.217391</td>\n",
       "    </tr>\n",
       "  </tbody>\n",
       "</table>\n",
       "</div>"
      ],
      "text/plain": [
       "               total_bill       tip      size\n",
       "time   smoker                                \n",
       "Dinner No       20.095660  3.126887  2.735849\n",
       "       Yes      21.859429  3.066000  2.471429\n",
       "Lunch  No       17.050889  2.673778  2.511111\n",
       "       Yes      17.399130  2.834348  2.217391"
      ]
     },
     "execution_count": 88,
     "metadata": {},
     "output_type": "execute_result"
    }
   ],
   "source": [
    "means_by_time_smoker = tips.groupby([\"time\", \"smoker\"]).mean()\n",
    "means_by_time_smoker"
   ]
  },
  {
   "cell_type": "markdown",
   "metadata": {},
   "source": [
    "- Chiamando `unstack` possiamo far diventare ad es. `time` un livello di colonne"
   ]
  },
  {
   "cell_type": "code",
   "execution_count": 89,
   "metadata": {},
   "outputs": [
    {
     "data": {
      "text/html": [
       "<div>\n",
       "<style scoped>\n",
       "    .dataframe tbody tr th:only-of-type {\n",
       "        vertical-align: middle;\n",
       "    }\n",
       "\n",
       "    .dataframe tbody tr th {\n",
       "        vertical-align: top;\n",
       "    }\n",
       "\n",
       "    .dataframe thead tr th {\n",
       "        text-align: left;\n",
       "    }\n",
       "\n",
       "    .dataframe thead tr:last-of-type th {\n",
       "        text-align: right;\n",
       "    }\n",
       "</style>\n",
       "<table border=\"1\" class=\"dataframe\">\n",
       "  <thead>\n",
       "    <tr>\n",
       "      <th></th>\n",
       "      <th colspan=\"2\" halign=\"left\">total_bill</th>\n",
       "      <th colspan=\"2\" halign=\"left\">tip</th>\n",
       "      <th colspan=\"2\" halign=\"left\">size</th>\n",
       "    </tr>\n",
       "    <tr>\n",
       "      <th>time</th>\n",
       "      <th>Dinner</th>\n",
       "      <th>Lunch</th>\n",
       "      <th>Dinner</th>\n",
       "      <th>Lunch</th>\n",
       "      <th>Dinner</th>\n",
       "      <th>Lunch</th>\n",
       "    </tr>\n",
       "    <tr>\n",
       "      <th>smoker</th>\n",
       "      <th></th>\n",
       "      <th></th>\n",
       "      <th></th>\n",
       "      <th></th>\n",
       "      <th></th>\n",
       "      <th></th>\n",
       "    </tr>\n",
       "  </thead>\n",
       "  <tbody>\n",
       "    <tr>\n",
       "      <th>No</th>\n",
       "      <td>20.095660</td>\n",
       "      <td>17.050889</td>\n",
       "      <td>3.126887</td>\n",
       "      <td>2.673778</td>\n",
       "      <td>2.735849</td>\n",
       "      <td>2.511111</td>\n",
       "    </tr>\n",
       "    <tr>\n",
       "      <th>Yes</th>\n",
       "      <td>21.859429</td>\n",
       "      <td>17.399130</td>\n",
       "      <td>3.066000</td>\n",
       "      <td>2.834348</td>\n",
       "      <td>2.471429</td>\n",
       "      <td>2.217391</td>\n",
       "    </tr>\n",
       "  </tbody>\n",
       "</table>\n",
       "</div>"
      ],
      "text/plain": [
       "       total_bill                  tip                size          \n",
       "time       Dinner      Lunch    Dinner     Lunch    Dinner     Lunch\n",
       "smoker                                                              \n",
       "No      20.095660  17.050889  3.126887  2.673778  2.735849  2.511111\n",
       "Yes     21.859429  17.399130  3.066000  2.834348  2.471429  2.217391"
      ]
     },
     "execution_count": 89,
     "metadata": {},
     "output_type": "execute_result"
    }
   ],
   "source": [
    "means_by_time_smoker.unstack(\"time\")"
   ]
  },
  {
   "cell_type": "markdown",
   "metadata": {
    "slideshow": {
     "slide_type": "slide"
    }
   },
   "source": [
    "- Con l'operazione inversa `stack` possiamo spostare un livello di colonne a livello di righe\n",
    "- Ad esempio, sul frame con le medie, spostando l'unico livello di colonne otteniamo una serie con indice a tre livelli\n",
    "  - si noti che il livello delle colonne non ha nome"
   ]
  },
  {
   "cell_type": "code",
   "execution_count": 90,
   "metadata": {},
   "outputs": [
    {
     "data": {
      "text/plain": [
       "time    smoker            \n",
       "Dinner  No      total_bill    20.095660\n",
       "                tip            3.126887\n",
       "                size           2.735849\n",
       "        Yes     total_bill    21.859429\n",
       "                tip            3.066000\n",
       "                size           2.471429\n",
       "Lunch   No      total_bill    17.050889\n",
       "                tip            2.673778\n",
       "                size           2.511111\n",
       "        Yes     total_bill    17.399130\n",
       "                tip            2.834348\n",
       "                size           2.217391\n",
       "dtype: float64"
      ]
     },
     "execution_count": 90,
     "metadata": {},
     "output_type": "execute_result"
    }
   ],
   "source": [
    "means_by_time_smoker.stack()"
   ]
  },
  {
   "cell_type": "markdown",
   "metadata": {
    "slideshow": {
     "slide_type": "slide"
    }
   },
   "source": [
    "- Il metodo `pivot_table` permette di creare rapidamente da un frame una tabella di valori aggregati specificando\n",
    "  - le colonne da usare come valori (`values`, default: tutte le colonne numeriche)\n",
    "  - le colonne da usare come livelli di righe (`index`) e di colonne (`columns`)\n",
    "  - una o più funzioni con cui aggregare i dati (`aggfunc`, default: \"mean\", media), sono valide le stesse viste in \"agg\"\n",
    "- Ad esempio, per ottenere la tabella delle medie sopra con `smoker` = No/Yes sulle righe invece di..."
   ]
  },
  {
   "cell_type": "code",
   "execution_count": 91,
   "metadata": {},
   "outputs": [
    {
     "data": {
      "text/html": [
       "<div>\n",
       "<style scoped>\n",
       "    .dataframe tbody tr th:only-of-type {\n",
       "        vertical-align: middle;\n",
       "    }\n",
       "\n",
       "    .dataframe tbody tr th {\n",
       "        vertical-align: top;\n",
       "    }\n",
       "\n",
       "    .dataframe thead tr th {\n",
       "        text-align: left;\n",
       "    }\n",
       "\n",
       "    .dataframe thead tr:last-of-type th {\n",
       "        text-align: right;\n",
       "    }\n",
       "</style>\n",
       "<table border=\"1\" class=\"dataframe\">\n",
       "  <thead>\n",
       "    <tr>\n",
       "      <th></th>\n",
       "      <th colspan=\"2\" halign=\"left\">total_bill</th>\n",
       "      <th colspan=\"2\" halign=\"left\">tip</th>\n",
       "      <th colspan=\"2\" halign=\"left\">size</th>\n",
       "    </tr>\n",
       "    <tr>\n",
       "      <th>time</th>\n",
       "      <th>Dinner</th>\n",
       "      <th>Lunch</th>\n",
       "      <th>Dinner</th>\n",
       "      <th>Lunch</th>\n",
       "      <th>Dinner</th>\n",
       "      <th>Lunch</th>\n",
       "    </tr>\n",
       "    <tr>\n",
       "      <th>smoker</th>\n",
       "      <th></th>\n",
       "      <th></th>\n",
       "      <th></th>\n",
       "      <th></th>\n",
       "      <th></th>\n",
       "      <th></th>\n",
       "    </tr>\n",
       "  </thead>\n",
       "  <tbody>\n",
       "    <tr>\n",
       "      <th>No</th>\n",
       "      <td>20.095660</td>\n",
       "      <td>17.050889</td>\n",
       "      <td>3.126887</td>\n",
       "      <td>2.673778</td>\n",
       "      <td>2.735849</td>\n",
       "      <td>2.511111</td>\n",
       "    </tr>\n",
       "    <tr>\n",
       "      <th>Yes</th>\n",
       "      <td>21.859429</td>\n",
       "      <td>17.399130</td>\n",
       "      <td>3.066000</td>\n",
       "      <td>2.834348</td>\n",
       "      <td>2.471429</td>\n",
       "      <td>2.217391</td>\n",
       "    </tr>\n",
       "  </tbody>\n",
       "</table>\n",
       "</div>"
      ],
      "text/plain": [
       "       total_bill                  tip                size          \n",
       "time       Dinner      Lunch    Dinner     Lunch    Dinner     Lunch\n",
       "smoker                                                              \n",
       "No      20.095660  17.050889  3.126887  2.673778  2.735849  2.511111\n",
       "Yes     21.859429  17.399130  3.066000  2.834348  2.471429  2.217391"
      ]
     },
     "execution_count": 91,
     "metadata": {},
     "output_type": "execute_result"
    }
   ],
   "source": [
    "tips.groupby([\"time\", \"smoker\"]).mean().unstack(\"time\")"
   ]
  },
  {
   "cell_type": "markdown",
   "metadata": {},
   "source": [
    "- ...possiamo scrivere"
   ]
  },
  {
   "cell_type": "code",
   "execution_count": 92,
   "metadata": {},
   "outputs": [
    {
     "data": {
      "text/html": [
       "<div>\n",
       "<style scoped>\n",
       "    .dataframe tbody tr th:only-of-type {\n",
       "        vertical-align: middle;\n",
       "    }\n",
       "\n",
       "    .dataframe tbody tr th {\n",
       "        vertical-align: top;\n",
       "    }\n",
       "\n",
       "    .dataframe thead tr th {\n",
       "        text-align: left;\n",
       "    }\n",
       "\n",
       "    .dataframe thead tr:last-of-type th {\n",
       "        text-align: right;\n",
       "    }\n",
       "</style>\n",
       "<table border=\"1\" class=\"dataframe\">\n",
       "  <thead>\n",
       "    <tr>\n",
       "      <th></th>\n",
       "      <th colspan=\"2\" halign=\"left\">size</th>\n",
       "      <th colspan=\"2\" halign=\"left\">tip</th>\n",
       "      <th colspan=\"2\" halign=\"left\">total_bill</th>\n",
       "    </tr>\n",
       "    <tr>\n",
       "      <th>time</th>\n",
       "      <th>Dinner</th>\n",
       "      <th>Lunch</th>\n",
       "      <th>Dinner</th>\n",
       "      <th>Lunch</th>\n",
       "      <th>Dinner</th>\n",
       "      <th>Lunch</th>\n",
       "    </tr>\n",
       "    <tr>\n",
       "      <th>smoker</th>\n",
       "      <th></th>\n",
       "      <th></th>\n",
       "      <th></th>\n",
       "      <th></th>\n",
       "      <th></th>\n",
       "      <th></th>\n",
       "    </tr>\n",
       "  </thead>\n",
       "  <tbody>\n",
       "    <tr>\n",
       "      <th>No</th>\n",
       "      <td>2.735849</td>\n",
       "      <td>2.511111</td>\n",
       "      <td>3.126887</td>\n",
       "      <td>2.673778</td>\n",
       "      <td>20.095660</td>\n",
       "      <td>17.050889</td>\n",
       "    </tr>\n",
       "    <tr>\n",
       "      <th>Yes</th>\n",
       "      <td>2.471429</td>\n",
       "      <td>2.217391</td>\n",
       "      <td>3.066000</td>\n",
       "      <td>2.834348</td>\n",
       "      <td>21.859429</td>\n",
       "      <td>17.399130</td>\n",
       "    </tr>\n",
       "  </tbody>\n",
       "</table>\n",
       "</div>"
      ],
      "text/plain": [
       "            size                 tip           total_bill           \n",
       "time      Dinner     Lunch    Dinner     Lunch     Dinner      Lunch\n",
       "smoker                                                              \n",
       "No      2.735849  2.511111  3.126887  2.673778  20.095660  17.050889\n",
       "Yes     2.471429  2.217391  3.066000  2.834348  21.859429  17.399130"
      ]
     },
     "execution_count": 92,
     "metadata": {},
     "output_type": "execute_result"
    }
   ],
   "source": [
    "tips.pivot_table(index=\"smoker\", columns=\"time\")   # default: aggfunc=\"mean\""
   ]
  },
  {
   "cell_type": "markdown",
   "metadata": {
    "slideshow": {
     "slide_type": "slide"
    }
   },
   "source": [
    "- Possiamo aggiungere l'opzione `margins=True` per visualizzare righe e colonne con aggregazioni parziali e totali\n",
    "  - l'etichetta \"All\" di default può essere cambiata col parametro `margins_name`"
   ]
  },
  {
   "cell_type": "code",
   "execution_count": 93,
   "metadata": {},
   "outputs": [
    {
     "data": {
      "text/html": [
       "<div>\n",
       "<style scoped>\n",
       "    .dataframe tbody tr th:only-of-type {\n",
       "        vertical-align: middle;\n",
       "    }\n",
       "\n",
       "    .dataframe tbody tr th {\n",
       "        vertical-align: top;\n",
       "    }\n",
       "\n",
       "    .dataframe thead tr th {\n",
       "        text-align: left;\n",
       "    }\n",
       "\n",
       "    .dataframe thead tr:last-of-type th {\n",
       "        text-align: right;\n",
       "    }\n",
       "</style>\n",
       "<table border=\"1\" class=\"dataframe\">\n",
       "  <thead>\n",
       "    <tr>\n",
       "      <th></th>\n",
       "      <th colspan=\"3\" halign=\"left\">size</th>\n",
       "      <th colspan=\"3\" halign=\"left\">tip</th>\n",
       "      <th colspan=\"3\" halign=\"left\">total_bill</th>\n",
       "    </tr>\n",
       "    <tr>\n",
       "      <th>time</th>\n",
       "      <th>Dinner</th>\n",
       "      <th>Lunch</th>\n",
       "      <th>All</th>\n",
       "      <th>Dinner</th>\n",
       "      <th>Lunch</th>\n",
       "      <th>All</th>\n",
       "      <th>Dinner</th>\n",
       "      <th>Lunch</th>\n",
       "      <th>All</th>\n",
       "    </tr>\n",
       "    <tr>\n",
       "      <th>smoker</th>\n",
       "      <th></th>\n",
       "      <th></th>\n",
       "      <th></th>\n",
       "      <th></th>\n",
       "      <th></th>\n",
       "      <th></th>\n",
       "      <th></th>\n",
       "      <th></th>\n",
       "      <th></th>\n",
       "    </tr>\n",
       "  </thead>\n",
       "  <tbody>\n",
       "    <tr>\n",
       "      <th>No</th>\n",
       "      <td>2.735849</td>\n",
       "      <td>2.511111</td>\n",
       "      <td>2.668874</td>\n",
       "      <td>3.126887</td>\n",
       "      <td>2.673778</td>\n",
       "      <td>2.991854</td>\n",
       "      <td>20.095660</td>\n",
       "      <td>17.050889</td>\n",
       "      <td>19.188278</td>\n",
       "    </tr>\n",
       "    <tr>\n",
       "      <th>Yes</th>\n",
       "      <td>2.471429</td>\n",
       "      <td>2.217391</td>\n",
       "      <td>2.408602</td>\n",
       "      <td>3.066000</td>\n",
       "      <td>2.834348</td>\n",
       "      <td>3.008710</td>\n",
       "      <td>21.859429</td>\n",
       "      <td>17.399130</td>\n",
       "      <td>20.756344</td>\n",
       "    </tr>\n",
       "    <tr>\n",
       "      <th>All</th>\n",
       "      <td>2.630682</td>\n",
       "      <td>2.411765</td>\n",
       "      <td>2.569672</td>\n",
       "      <td>3.102670</td>\n",
       "      <td>2.728088</td>\n",
       "      <td>2.998279</td>\n",
       "      <td>20.797159</td>\n",
       "      <td>17.168676</td>\n",
       "      <td>19.785943</td>\n",
       "    </tr>\n",
       "  </tbody>\n",
       "</table>\n",
       "</div>"
      ],
      "text/plain": [
       "            size                           tip                     total_bill  \\\n",
       "time      Dinner     Lunch       All    Dinner     Lunch       All     Dinner   \n",
       "smoker                                                                          \n",
       "No      2.735849  2.511111  2.668874  3.126887  2.673778  2.991854  20.095660   \n",
       "Yes     2.471429  2.217391  2.408602  3.066000  2.834348  3.008710  21.859429   \n",
       "All     2.630682  2.411765  2.569672  3.102670  2.728088  2.998279  20.797159   \n",
       "\n",
       "                              \n",
       "time        Lunch        All  \n",
       "smoker                        \n",
       "No      17.050889  19.188278  \n",
       "Yes     17.399130  20.756344  \n",
       "All     17.168676  19.785943  "
      ]
     },
     "execution_count": 93,
     "metadata": {},
     "output_type": "execute_result"
    }
   ],
   "source": [
    "tips.pivot_table(index=\"smoker\", columns=\"time\", margins=True)"
   ]
  },
  {
   "cell_type": "markdown",
   "metadata": {},
   "source": [
    "- Ad esempio il 3°, 6° e 9° valore dell'ultima riga corrispondono alle medie complessive sulle tre colonne che abbiamo estratto all'inizio con `describe`"
   ]
  },
  {
   "cell_type": "markdown",
   "metadata": {
    "slideshow": {
     "slide_type": "slide"
    }
   },
   "source": [
    "- Altro esempio: una tabella con le medie delle sole mance, raggruppate per giorno (righe) e per distinzione tra tavoli con più di 4 persone e non (colonne)\n",
    "  - col metodo `rename` è possibile assegnare un nome significativo (\"is large\") ad una serie e di conseguenza al livello delle colonne"
   ]
  },
  {
   "cell_type": "code",
   "execution_count": 94,
   "metadata": {},
   "outputs": [
    {
     "data": {
      "text/html": [
       "<div>\n",
       "<style scoped>\n",
       "    .dataframe tbody tr th:only-of-type {\n",
       "        vertical-align: middle;\n",
       "    }\n",
       "\n",
       "    .dataframe tbody tr th {\n",
       "        vertical-align: top;\n",
       "    }\n",
       "\n",
       "    .dataframe thead th {\n",
       "        text-align: right;\n",
       "    }\n",
       "</style>\n",
       "<table border=\"1\" class=\"dataframe\">\n",
       "  <thead>\n",
       "    <tr style=\"text-align: right;\">\n",
       "      <th>is large</th>\n",
       "      <th>False</th>\n",
       "      <th>True</th>\n",
       "    </tr>\n",
       "    <tr>\n",
       "      <th>day</th>\n",
       "      <th></th>\n",
       "      <th></th>\n",
       "    </tr>\n",
       "  </thead>\n",
       "  <tbody>\n",
       "    <tr>\n",
       "      <th>Fri</th>\n",
       "      <td>2.734737</td>\n",
       "      <td>NaN</td>\n",
       "    </tr>\n",
       "    <tr>\n",
       "      <th>Sat</th>\n",
       "      <td>2.993023</td>\n",
       "      <td>3.000</td>\n",
       "    </tr>\n",
       "    <tr>\n",
       "      <th>Sun</th>\n",
       "      <td>3.197917</td>\n",
       "      <td>4.285</td>\n",
       "    </tr>\n",
       "    <tr>\n",
       "      <th>Thur</th>\n",
       "      <td>2.602241</td>\n",
       "      <td>5.225</td>\n",
       "    </tr>\n",
       "  </tbody>\n",
       "</table>\n",
       "</div>"
      ],
      "text/plain": [
       "is large     False   True\n",
       "day                      \n",
       "Fri       2.734737    NaN\n",
       "Sat       2.993023  3.000\n",
       "Sun       3.197917  4.285\n",
       "Thur      2.602241  5.225"
      ]
     },
     "execution_count": 94,
     "metadata": {},
     "output_type": "execute_result"
    }
   ],
   "source": [
    "tips.pivot_table(\n",
    "    values=\"tip\",\n",
    "    index=\"day\",\n",
    "    columns=(tips[\"size\"] > 4).rename(\"is large\"),\n",
    "    aggfunc=\"mean\",\n",
    ")"
   ]
  },
  {
   "cell_type": "markdown",
   "metadata": {},
   "source": [
    "- Nei dati non c'è alcun esempio di tavoli grandi (colonna `True`) di venerdì (riga `Fri`): nella cella corrispondente abbiamo un valore mancante (NaN)\n",
    "- In `stack`, `unstack` e `pivot_table` si può specificare `fill_value=X` per inserire un valore X (es. 0) al posto dei NaN"
   ]
  },
  {
   "cell_type": "code",
   "execution_count": 95,
   "metadata": {},
   "outputs": [
    {
     "data": {
      "text/html": [
       "<div>\n",
       "<style scoped>\n",
       "    .dataframe tbody tr th:only-of-type {\n",
       "        vertical-align: middle;\n",
       "    }\n",
       "\n",
       "    .dataframe tbody tr th {\n",
       "        vertical-align: top;\n",
       "    }\n",
       "\n",
       "    .dataframe thead th {\n",
       "        text-align: right;\n",
       "    }\n",
       "</style>\n",
       "<table border=\"1\" class=\"dataframe\">\n",
       "  <thead>\n",
       "    <tr style=\"text-align: right;\">\n",
       "      <th>is large</th>\n",
       "      <th>False</th>\n",
       "      <th>True</th>\n",
       "    </tr>\n",
       "    <tr>\n",
       "      <th>day</th>\n",
       "      <th></th>\n",
       "      <th></th>\n",
       "    </tr>\n",
       "  </thead>\n",
       "  <tbody>\n",
       "    <tr>\n",
       "      <th>Fri</th>\n",
       "      <td>2.734737</td>\n",
       "      <td>0.000</td>\n",
       "    </tr>\n",
       "    <tr>\n",
       "      <th>Sat</th>\n",
       "      <td>2.993023</td>\n",
       "      <td>3.000</td>\n",
       "    </tr>\n",
       "    <tr>\n",
       "      <th>Sun</th>\n",
       "      <td>3.197917</td>\n",
       "      <td>4.285</td>\n",
       "    </tr>\n",
       "    <tr>\n",
       "      <th>Thur</th>\n",
       "      <td>2.602241</td>\n",
       "      <td>5.225</td>\n",
       "    </tr>\n",
       "  </tbody>\n",
       "</table>\n",
       "</div>"
      ],
      "text/plain": [
       "is large     False   True\n",
       "day                      \n",
       "Fri       2.734737  0.000\n",
       "Sat       2.993023  3.000\n",
       "Sun       3.197917  4.285\n",
       "Thur      2.602241  5.225"
      ]
     },
     "execution_count": 95,
     "metadata": {},
     "output_type": "execute_result"
    }
   ],
   "source": [
    "tips.pivot_table(\n",
    "    values=\"tip\",\n",
    "    index=\"day\",\n",
    "    columns=(tips[\"size\"] > 4).rename(\"is large\"),\n",
    "    aggfunc=\"mean\",\n",
    "    fill_value=0,\n",
    ")"
   ]
  },
  {
   "cell_type": "markdown",
   "metadata": {
    "slideshow": {
     "slide_type": "slide"
    }
   },
   "source": [
    "- Altro esempio: una tabella con le medie e deviazioni standard delle mance, raggruppate per giorno e pasto (righe) e presenza o no di fumatori (colonne)"
   ]
  },
  {
   "cell_type": "code",
   "execution_count": 96,
   "metadata": {},
   "outputs": [
    {
     "data": {
      "text/html": [
       "<div>\n",
       "<style scoped>\n",
       "    .dataframe tbody tr th:only-of-type {\n",
       "        vertical-align: middle;\n",
       "    }\n",
       "\n",
       "    .dataframe tbody tr th {\n",
       "        vertical-align: top;\n",
       "    }\n",
       "\n",
       "    .dataframe thead tr th {\n",
       "        text-align: left;\n",
       "    }\n",
       "\n",
       "    .dataframe thead tr:last-of-type th {\n",
       "        text-align: right;\n",
       "    }\n",
       "</style>\n",
       "<table border=\"1\" class=\"dataframe\">\n",
       "  <thead>\n",
       "    <tr>\n",
       "      <th></th>\n",
       "      <th></th>\n",
       "      <th colspan=\"2\" halign=\"left\">mean</th>\n",
       "      <th colspan=\"2\" halign=\"left\">std</th>\n",
       "    </tr>\n",
       "    <tr>\n",
       "      <th></th>\n",
       "      <th>smoker</th>\n",
       "      <th>No</th>\n",
       "      <th>Yes</th>\n",
       "      <th>No</th>\n",
       "      <th>Yes</th>\n",
       "    </tr>\n",
       "    <tr>\n",
       "      <th>day</th>\n",
       "      <th>time</th>\n",
       "      <th></th>\n",
       "      <th></th>\n",
       "      <th></th>\n",
       "      <th></th>\n",
       "    </tr>\n",
       "  </thead>\n",
       "  <tbody>\n",
       "    <tr>\n",
       "      <th rowspan=\"2\" valign=\"top\">Fri</th>\n",
       "      <th>Dinner</th>\n",
       "      <td>2.750000</td>\n",
       "      <td>3.003333</td>\n",
       "      <td>1.089725</td>\n",
       "      <td>1.234038</td>\n",
       "    </tr>\n",
       "    <tr>\n",
       "      <th>Lunch</th>\n",
       "      <td>3.000000</td>\n",
       "      <td>2.280000</td>\n",
       "      <td>NaN</td>\n",
       "      <td>0.662239</td>\n",
       "    </tr>\n",
       "    <tr>\n",
       "      <th>Sat</th>\n",
       "      <th>Dinner</th>\n",
       "      <td>3.102889</td>\n",
       "      <td>2.875476</td>\n",
       "      <td>1.642088</td>\n",
       "      <td>1.630580</td>\n",
       "    </tr>\n",
       "    <tr>\n",
       "      <th>Sun</th>\n",
       "      <th>Dinner</th>\n",
       "      <td>3.167895</td>\n",
       "      <td>3.516842</td>\n",
       "      <td>1.224785</td>\n",
       "      <td>1.261151</td>\n",
       "    </tr>\n",
       "    <tr>\n",
       "      <th rowspan=\"2\" valign=\"top\">Thur</th>\n",
       "      <th>Dinner</th>\n",
       "      <td>3.000000</td>\n",
       "      <td>NaN</td>\n",
       "      <td>NaN</td>\n",
       "      <td>NaN</td>\n",
       "    </tr>\n",
       "    <tr>\n",
       "      <th>Lunch</th>\n",
       "      <td>2.666364</td>\n",
       "      <td>3.030000</td>\n",
       "      <td>1.296821</td>\n",
       "      <td>1.113491</td>\n",
       "    </tr>\n",
       "  </tbody>\n",
       "</table>\n",
       "</div>"
      ],
      "text/plain": [
       "                 mean                 std          \n",
       "smoker             No       Yes        No       Yes\n",
       "day  time                                          \n",
       "Fri  Dinner  2.750000  3.003333  1.089725  1.234038\n",
       "     Lunch   3.000000  2.280000       NaN  0.662239\n",
       "Sat  Dinner  3.102889  2.875476  1.642088  1.630580\n",
       "Sun  Dinner  3.167895  3.516842  1.224785  1.261151\n",
       "Thur Dinner  3.000000       NaN       NaN       NaN\n",
       "     Lunch   2.666364  3.030000  1.296821  1.113491"
      ]
     },
     "execution_count": 96,
     "metadata": {},
     "output_type": "execute_result"
    }
   ],
   "source": [
    "tips.pivot_table(\n",
    "    values=\"tip\",\n",
    "    index=[\"day\", \"time\"],\n",
    "    columns=\"smoker\",\n",
    "    aggfunc=[\"mean\", \"std\"],\n",
    ")"
   ]
  },
  {
   "cell_type": "markdown",
   "metadata": {},
   "source": [
    "- Se in intere righe o colonne risulterebbero valori mancanti, queste sono omesse dal frame\n",
    "  - qui ad es. mancano le righe dei pranzi di sabato e domenica"
   ]
  },
  {
   "cell_type": "markdown",
   "metadata": {
    "slideshow": {
     "slide_type": "slide"
    }
   },
   "source": [
    "### Esercizio 5: Pivoting\n",
    "\n",
    "- **(5a)** Ottenere tramite `groupby` un frame col numero di conti per ogni giorno della settimana lungo le righe e ogni pasto lungo le colonne\n",
    "- **(5b)** Ottenere tramite `pivot_table` un frame col totale di mance ottenute per ogni giorno della settimana lungo le righe e ogni pasto lungo le colonne\n",
    "- **(5c)** Dividere i totali dei conti in tre fasce di uguale ampiezza ed ottenere un frame con una riga per ciascuna fascia che riporti la media di totali e mance divise per pranzi e cene"
   ]
  },
  {
   "cell_type": "code",
   "execution_count": 98,
   "metadata": {},
   "outputs": [
    {
     "data": {
      "text/html": [
       "<div>\n",
       "<style scoped>\n",
       "    .dataframe tbody tr th:only-of-type {\n",
       "        vertical-align: middle;\n",
       "    }\n",
       "\n",
       "    .dataframe tbody tr th {\n",
       "        vertical-align: top;\n",
       "    }\n",
       "\n",
       "    .dataframe thead th {\n",
       "        text-align: right;\n",
       "    }\n",
       "</style>\n",
       "<table border=\"1\" class=\"dataframe\">\n",
       "  <thead>\n",
       "    <tr style=\"text-align: right;\">\n",
       "      <th>time</th>\n",
       "      <th>Dinner</th>\n",
       "      <th>Lunch</th>\n",
       "    </tr>\n",
       "    <tr>\n",
       "      <th>day</th>\n",
       "      <th></th>\n",
       "      <th></th>\n",
       "    </tr>\n",
       "  </thead>\n",
       "  <tbody>\n",
       "    <tr>\n",
       "      <th>Fri</th>\n",
       "      <td>12</td>\n",
       "      <td>7</td>\n",
       "    </tr>\n",
       "    <tr>\n",
       "      <th>Sat</th>\n",
       "      <td>87</td>\n",
       "      <td>0</td>\n",
       "    </tr>\n",
       "    <tr>\n",
       "      <th>Sun</th>\n",
       "      <td>76</td>\n",
       "      <td>0</td>\n",
       "    </tr>\n",
       "    <tr>\n",
       "      <th>Thur</th>\n",
       "      <td>1</td>\n",
       "      <td>61</td>\n",
       "    </tr>\n",
       "  </tbody>\n",
       "</table>\n",
       "</div>"
      ],
      "text/plain": [
       "time  Dinner  Lunch\n",
       "day                \n",
       "Fri       12      7\n",
       "Sat       87      0\n",
       "Sun       76      0\n",
       "Thur       1     61"
      ]
     },
     "execution_count": 98,
     "metadata": {},
     "output_type": "execute_result"
    }
   ],
   "source": [
    "tips.groupby([\"day\", \"time\"]).size().unstack(fill_value=0)"
   ]
  },
  {
   "cell_type": "code",
   "execution_count": 99,
   "metadata": {},
   "outputs": [
    {
     "data": {
      "text/html": [
       "<div>\n",
       "<style scoped>\n",
       "    .dataframe tbody tr th:only-of-type {\n",
       "        vertical-align: middle;\n",
       "    }\n",
       "\n",
       "    .dataframe tbody tr th {\n",
       "        vertical-align: top;\n",
       "    }\n",
       "\n",
       "    .dataframe thead th {\n",
       "        text-align: right;\n",
       "    }\n",
       "</style>\n",
       "<table border=\"1\" class=\"dataframe\">\n",
       "  <thead>\n",
       "    <tr style=\"text-align: right;\">\n",
       "      <th>time</th>\n",
       "      <th>Dinner</th>\n",
       "      <th>Lunch</th>\n",
       "    </tr>\n",
       "    <tr>\n",
       "      <th>day</th>\n",
       "      <th></th>\n",
       "      <th></th>\n",
       "    </tr>\n",
       "  </thead>\n",
       "  <tbody>\n",
       "    <tr>\n",
       "      <th>Fri</th>\n",
       "      <td>35.28</td>\n",
       "      <td>16.68</td>\n",
       "    </tr>\n",
       "    <tr>\n",
       "      <th>Sat</th>\n",
       "      <td>260.40</td>\n",
       "      <td>0.00</td>\n",
       "    </tr>\n",
       "    <tr>\n",
       "      <th>Sun</th>\n",
       "      <td>247.39</td>\n",
       "      <td>0.00</td>\n",
       "    </tr>\n",
       "    <tr>\n",
       "      <th>Thur</th>\n",
       "      <td>3.00</td>\n",
       "      <td>168.83</td>\n",
       "    </tr>\n",
       "  </tbody>\n",
       "</table>\n",
       "</div>"
      ],
      "text/plain": [
       "time  Dinner   Lunch\n",
       "day                 \n",
       "Fri    35.28   16.68\n",
       "Sat   260.40    0.00\n",
       "Sun   247.39    0.00\n",
       "Thur    3.00  168.83"
      ]
     },
     "execution_count": 99,
     "metadata": {},
     "output_type": "execute_result"
    }
   ],
   "source": [
    "tips.pivot_table(\n",
    "    values=\"tip\",\n",
    "    index=\"day\",\n",
    "    columns=\"time\",\n",
    "    aggfunc=\"sum\",\n",
    "    fill_value=0,\n",
    ")"
   ]
  },
  {
   "cell_type": "code",
   "execution_count": 100,
   "metadata": {},
   "outputs": [
    {
     "data": {
      "text/html": [
       "<div>\n",
       "<style scoped>\n",
       "    .dataframe tbody tr th:only-of-type {\n",
       "        vertical-align: middle;\n",
       "    }\n",
       "\n",
       "    .dataframe tbody tr th {\n",
       "        vertical-align: top;\n",
       "    }\n",
       "\n",
       "    .dataframe thead tr th {\n",
       "        text-align: left;\n",
       "    }\n",
       "\n",
       "    .dataframe thead tr:last-of-type th {\n",
       "        text-align: right;\n",
       "    }\n",
       "</style>\n",
       "<table border=\"1\" class=\"dataframe\">\n",
       "  <thead>\n",
       "    <tr>\n",
       "      <th></th>\n",
       "      <th colspan=\"2\" halign=\"left\">tip</th>\n",
       "      <th colspan=\"2\" halign=\"left\">total_bill</th>\n",
       "    </tr>\n",
       "    <tr>\n",
       "      <th>time</th>\n",
       "      <th>Dinner</th>\n",
       "      <th>Lunch</th>\n",
       "      <th>Dinner</th>\n",
       "      <th>Lunch</th>\n",
       "    </tr>\n",
       "    <tr>\n",
       "      <th>total_bill</th>\n",
       "      <th></th>\n",
       "      <th></th>\n",
       "      <th></th>\n",
       "      <th></th>\n",
       "    </tr>\n",
       "  </thead>\n",
       "  <tbody>\n",
       "    <tr>\n",
       "      <th>(3.022, 18.983]</th>\n",
       "      <td>2.413516</td>\n",
       "      <td>2.253265</td>\n",
       "      <td>14.057692</td>\n",
       "      <td>13.351224</td>\n",
       "    </tr>\n",
       "    <tr>\n",
       "      <th>(18.983, 34.897]</th>\n",
       "      <td>3.587746</td>\n",
       "      <td>3.829412</td>\n",
       "      <td>25.208169</td>\n",
       "      <td>25.232941</td>\n",
       "    </tr>\n",
       "    <tr>\n",
       "      <th>(34.897, 50.81]</th>\n",
       "      <td>5.122143</td>\n",
       "      <td>5.000000</td>\n",
       "      <td>42.233571</td>\n",
       "      <td>42.150000</td>\n",
       "    </tr>\n",
       "  </tbody>\n",
       "</table>\n",
       "</div>"
      ],
      "text/plain": [
       "                       tip           total_bill           \n",
       "time                Dinner     Lunch     Dinner      Lunch\n",
       "total_bill                                                \n",
       "(3.022, 18.983]   2.413516  2.253265  14.057692  13.351224\n",
       "(18.983, 34.897]  3.587746  3.829412  25.208169  25.232941\n",
       "(34.897, 50.81]   5.122143  5.000000  42.233571  42.150000"
      ]
     },
     "execution_count": 100,
     "metadata": {},
     "output_type": "execute_result"
    }
   ],
   "source": [
    "tips.pivot_table(\n",
    "    values=[\"total_bill\", \"tip\"],\n",
    "    index=pd.cut(tips[\"total_bill\"], 3),\n",
    "    columns=\"time\",\n",
    ")"
   ]
  }
 ],
 "metadata": {
  "kernelspec": {
   "display_name": "Python 3 (ipykernel)",
   "language": "python",
   "name": "python3"
  },
  "language_info": {
   "codemirror_mode": {
    "name": "ipython",
    "version": 3
   },
   "file_extension": ".py",
   "mimetype": "text/x-python",
   "name": "python",
   "nbconvert_exporter": "python",
   "pygments_lexer": "ipython3",
   "version": "3.9.7"
  }
 },
 "nbformat": 4,
 "nbformat_minor": 4
}
